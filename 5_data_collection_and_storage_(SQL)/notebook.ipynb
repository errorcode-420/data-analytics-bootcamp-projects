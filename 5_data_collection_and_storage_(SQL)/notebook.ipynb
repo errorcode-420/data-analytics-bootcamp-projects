{
 "cells": [
  {
   "cell_type": "markdown",
   "metadata": {},
   "source": [
    "**Hello Ferdinand!**\n",
    "    \n",
    "My name is Alex, and I will review your project! I have added all my comments to new cells with different coloring. If the project contains one or more red comments, it will be rejected for fixing. Please, do not move or delete my comments - it helps us move faster.\n",
    "\n",
    "<div class=\"alert alert-success\">\n",
    "<b>Reviewer's comment v.1</b> \n",
    "    \n",
    "I am using green color for my comment if everything is done successfully.\n",
    "</div>\n",
    "<div class=\"alert alert-warning\">\n",
    "<b>Reviewer's comment v.1</b> \n",
    "    \n",
    "I will use yellow color for my comment if I can give you a recommendation or think that something can be improved. This is an optional recommendation, but it will be perfect if you work with them.\n",
    "</div>\n",
    "<div class=\"alert alert-danger\">\n",
    "<b>Reviewer's comment v.1</b> \n",
    "    \n",
    "I am using red color for my comment if the block requires some extra work or corrections. The project couldn’t be accepted with red comments.\n",
    "</div>\n",
    "  \n",
    "To make a dialog, let’s use this style for your remarks:\n",
    "<div class=\"alert alert-info\"> \n",
    "<b>Student's comment</b> \n",
    "    \n",
    "Just like this. To make a similar block - double click on the block , copy and edit it in places you are changing.\n",
    "</div>\n",
    "\n",
    "Now, let’s go to data analysis!\n",
    "\n",
    "---\n",
    "\n",
    "<div class=\"alert alert-danger\">\n",
    "<b>General feedback v.1</b>\n",
    "    \n",
    "Ferdinand, thank you for sending your project. \n",
    "\n",
    "You have made a lot of correct steps! Your code is right, and in general, you got the right results. However, I would suggest that there are minor issues. You can find them in the red boxes. Also, please pay attention to yellow boxes. I believe you can quickly fix it!\n",
    "    \n",
    "<br>\n",
    "Keep up the good work, and come back soon!   <br>\n",
    "Alex\n",
    "</div>\n",
    "   \n",
    "---\n",
    "\n",
    "<div class=\"alert alert-success\">\n",
    "<b>General feedback v.2</b>\n",
    "    \n",
    "Ferdinand, thank you for your work with the second version of the project. \n",
    "\n",
    "Your corrections look great and now your project is a true \"A\". Congratulations! I am glad to say that your project has been accepted. \n",
    "    \n",
    "<br>\n",
    "Keep up the good work, and good luck on the next sprint!<br>\n",
    "Alex\n",
    "</div>\n",
    "   \n",
    "---      "
   ]
  },
  {
   "cell_type": "markdown",
   "metadata": {},
   "source": [
    "# Passenger preferences and the impact of external factors on rides"
   ]
  },
  {
   "cell_type": "markdown",
   "metadata": {},
   "source": [
    "In this study, the preferences of cab company customers are to be determined. More precisely, the cab companies with the most trips as well as the districts that are most frequently chosen as destinations are to be found out.\n",
    "Furthermore, it will be investigated whether weather conditions as an external factor affect the average length of cab trips from the Loop to O'Hare Airport and thus the profit. \n",
    "The results of this study will provide a solid basis for choosing a suitable location for a new branch. It can also be used to find out to what extent the weather forecast should be included in future profit estimation.\n",
    "For this project we have 3 data sets at our disposal:\n",
    "\n",
    "    -datasets/project_sql_result_01.csv:\n",
    "        It contains data on companies and their amount of rides.\n",
    "        \n",
    "    -datasets/project_sql_result_04.csv:\n",
    "        It contains data about neighborhoods and the number of times they have been targeted.\n",
    "        \n",
    "    -datasets/project_sql_result_07.csv:\n",
    "        It contains data on weather conditions and the length of rides from the Loop to O'Hare International Airport\n",
    "        \n",
    "First, the Available Data Sets are checked for errors and preprocessed if necessary. For example, there may be incorrect data types, missing values, or duplicates. In the next step, the cab companies with the most trips are identified, revealing the largest competitors.\n",
    "Afterwards, the city districts that are most frequently chosen as destinations are found out. In these two steps a graphical analysis will be done.\n",
    "Finally, by means of a hypothesis test, it will be investigated whether trips from the Loop to O'Hare Airport in good weather conditions have the same mean value in trip length as trips in bad weather conditions."
   ]
  },
  {
   "cell_type": "markdown",
   "metadata": {},
   "source": [
    "<div class=\"alert alert-block alert-success\">\n",
    "<b>Reviewer's comment v.2</b> \n",
    "    \n",
    "Excellent introduction! Thanks.\n",
    "</div>"
   ]
  },
  {
   "cell_type": "markdown",
   "metadata": {},
   "source": [
    "## Read data"
   ]
  },
  {
   "cell_type": "markdown",
   "metadata": {},
   "source": [
    "<div class=\"alert alert-danger\" role=\"alert\">\n",
    "<b>Reviewer's comment v.1</b> \n",
    "    \n",
    "It is common practice to start a project with a title and a short description. We should consider this project as a real data analysis or scientistic report for business, in our case for Zuber company. It means that someone from Zuber, for example, a product manager, would read our report and consider our recommendations and insights. The manager probably does not know python and cannot read the code (otherwise, there would be no need for our work). However, this manager wants to know what we are doing, why, and what the results mean.\n",
    "\n",
    "It is good when a code contains short comments, and the project contains a brief introduction. In our case, we could make the next introduction, including:\n",
    "- a project title;\n",
    "- a brief description of the project;\n",
    "- the main goal of the analysis;\n",
    "- some additional information;\n",
    "- the main steps of the analysis with hyperlinks in Markdown cells.\n",
    "\n",
    "At the links below, you can find information about how to create the content plan with hyperlinks in Markdown cells:\n",
    "- https://sebastianraschka.com/Articles/2014_ipython_internal_links.html\n",
    "- https://medium.com/analytics-vidhya/the-ultimate-markdown-guide-for-jupyter-notebook-d5e5abf728fd\n",
    "    \n",
    "Your future colleagues will appreciate it! \n",
    "     \n",
    "Could you please add this information? You could use the brief information block.\n",
    "</div>"
   ]
  },
  {
   "cell_type": "code",
   "execution_count": 1,
   "metadata": {},
   "outputs": [],
   "source": [
    "import pandas as pd\n",
    "import numpy as np\n",
    "from matplotlib import pyplot as plt    \n",
    "from scipy import stats as st\n",
    "import math"
   ]
  },
  {
   "cell_type": "markdown",
   "metadata": {},
   "source": [
    "<div class=\"alert alert-block alert-success\">\n",
    "<b>Reviewer's comment v.1</b> \n",
    "    \n",
    "It's a good practice to make all imports in 1st cell, well done.\n",
    "</div>"
   ]
  },
  {
   "cell_type": "code",
   "execution_count": 2,
   "metadata": {},
   "outputs": [],
   "source": [
    "companies = pd.read_csv(\"/datasets/project_sql_result_01.csv\")\n",
    "locations = pd.read_csv(\"/datasets/project_sql_result_04.csv\")\n",
    "rides = pd.read_csv(\"/datasets/project_sql_result_07.csv\") "
   ]
  },
  {
   "cell_type": "markdown",
   "metadata": {},
   "source": [
    "<div class=\"alert alert-block alert-success\">\n",
    "<b>Reviewer's comment v.1</b> \n",
    "    \n",
    "Well done! The data were opened.</div>"
   ]
  },
  {
   "cell_type": "markdown",
   "metadata": {},
   "source": [
    "## Study general informations about the data"
   ]
  },
  {
   "cell_type": "markdown",
   "metadata": {},
   "source": [
    "### Printing of the avaible tables"
   ]
  },
  {
   "cell_type": "markdown",
   "metadata": {},
   "source": [
    "In this step, random rows of the records are to be output. This will give a first impression about the data. The sample() method is used for this."
   ]
  },
  {
   "cell_type": "markdown",
   "metadata": {},
   "source": [
    "#### Companies"
   ]
  },
  {
   "cell_type": "code",
   "execution_count": 3,
   "metadata": {},
   "outputs": [
    {
     "data": {
      "text/html": [
       "<div>\n",
       "<style scoped>\n",
       "    .dataframe tbody tr th:only-of-type {\n",
       "        vertical-align: middle;\n",
       "    }\n",
       "\n",
       "    .dataframe tbody tr th {\n",
       "        vertical-align: top;\n",
       "    }\n",
       "\n",
       "    .dataframe thead th {\n",
       "        text-align: right;\n",
       "    }\n",
       "</style>\n",
       "<table border=\"1\" class=\"dataframe\">\n",
       "  <thead>\n",
       "    <tr style=\"text-align: right;\">\n",
       "      <th></th>\n",
       "      <th>company_name</th>\n",
       "      <th>trips_amount</th>\n",
       "    </tr>\n",
       "  </thead>\n",
       "  <tbody>\n",
       "    <tr>\n",
       "      <td>43</td>\n",
       "      <td>2809 - 95474 C &amp; D Cab Co Inc.</td>\n",
       "      <td>29</td>\n",
       "    </tr>\n",
       "    <tr>\n",
       "      <td>30</td>\n",
       "      <td>Setare Inc</td>\n",
       "      <td>230</td>\n",
       "    </tr>\n",
       "    <tr>\n",
       "      <td>18</td>\n",
       "      <td>24 Seven Taxi</td>\n",
       "      <td>1775</td>\n",
       "    </tr>\n",
       "    <tr>\n",
       "      <td>8</td>\n",
       "      <td>Star North Management LLC</td>\n",
       "      <td>7455</td>\n",
       "    </tr>\n",
       "    <tr>\n",
       "      <td>11</td>\n",
       "      <td>Globe Taxi</td>\n",
       "      <td>4383</td>\n",
       "    </tr>\n",
       "    <tr>\n",
       "      <td>29</td>\n",
       "      <td>303 Taxi</td>\n",
       "      <td>250</td>\n",
       "    </tr>\n",
       "    <tr>\n",
       "      <td>44</td>\n",
       "      <td>2092 - 61288 Sbeih Company</td>\n",
       "      <td>27</td>\n",
       "    </tr>\n",
       "    <tr>\n",
       "      <td>37</td>\n",
       "      <td>1469 - 64126 Omar Jada</td>\n",
       "      <td>36</td>\n",
       "    </tr>\n",
       "    <tr>\n",
       "      <td>4</td>\n",
       "      <td>Taxi Affiliation Service Yellow</td>\n",
       "      <td>9299</td>\n",
       "    </tr>\n",
       "    <tr>\n",
       "      <td>41</td>\n",
       "      <td>Chicago Star Taxicab</td>\n",
       "      <td>29</td>\n",
       "    </tr>\n",
       "  </tbody>\n",
       "</table>\n",
       "</div>"
      ],
      "text/plain": [
       "                       company_name  trips_amount\n",
       "43   2809 - 95474 C & D Cab Co Inc.            29\n",
       "30                       Setare Inc           230\n",
       "18                    24 Seven Taxi          1775\n",
       "8         Star North Management LLC          7455\n",
       "11                       Globe Taxi          4383\n",
       "29                         303 Taxi           250\n",
       "44       2092 - 61288 Sbeih Company            27\n",
       "37           1469 - 64126 Omar Jada            36\n",
       "4   Taxi Affiliation Service Yellow          9299\n",
       "41             Chicago Star Taxicab            29"
      ]
     },
     "execution_count": 3,
     "metadata": {},
     "output_type": "execute_result"
    }
   ],
   "source": [
    "companies.sample(10)"
   ]
  },
  {
   "cell_type": "markdown",
   "metadata": {},
   "source": [
    "#### Locations"
   ]
  },
  {
   "cell_type": "code",
   "execution_count": 4,
   "metadata": {},
   "outputs": [
    {
     "data": {
      "text/html": [
       "<div>\n",
       "<style scoped>\n",
       "    .dataframe tbody tr th:only-of-type {\n",
       "        vertical-align: middle;\n",
       "    }\n",
       "\n",
       "    .dataframe tbody tr th {\n",
       "        vertical-align: top;\n",
       "    }\n",
       "\n",
       "    .dataframe thead th {\n",
       "        text-align: right;\n",
       "    }\n",
       "</style>\n",
       "<table border=\"1\" class=\"dataframe\">\n",
       "  <thead>\n",
       "    <tr style=\"text-align: right;\">\n",
       "      <th></th>\n",
       "      <th>dropoff_location_name</th>\n",
       "      <th>average_trips</th>\n",
       "    </tr>\n",
       "  </thead>\n",
       "  <tbody>\n",
       "    <tr>\n",
       "      <td>33</td>\n",
       "      <td>Portage Park</td>\n",
       "      <td>119.733333</td>\n",
       "    </tr>\n",
       "    <tr>\n",
       "      <td>93</td>\n",
       "      <td>Riverdale</td>\n",
       "      <td>1.800000</td>\n",
       "    </tr>\n",
       "    <tr>\n",
       "      <td>41</td>\n",
       "      <td>North Park</td>\n",
       "      <td>67.833333</td>\n",
       "    </tr>\n",
       "    <tr>\n",
       "      <td>59</td>\n",
       "      <td>Chatham</td>\n",
       "      <td>23.200000</td>\n",
       "    </tr>\n",
       "    <tr>\n",
       "      <td>42</td>\n",
       "      <td>Garfield Park</td>\n",
       "      <td>65.766667</td>\n",
       "    </tr>\n",
       "    <tr>\n",
       "      <td>8</td>\n",
       "      <td>Gold Coast</td>\n",
       "      <td>1364.233333</td>\n",
       "    </tr>\n",
       "    <tr>\n",
       "      <td>76</td>\n",
       "      <td>Washington Heights</td>\n",
       "      <td>9.133333</td>\n",
       "    </tr>\n",
       "    <tr>\n",
       "      <td>20</td>\n",
       "      <td>Rush &amp; Division</td>\n",
       "      <td>395.533333</td>\n",
       "    </tr>\n",
       "    <tr>\n",
       "      <td>43</td>\n",
       "      <td>Mckinley Park</td>\n",
       "      <td>64.033333</td>\n",
       "    </tr>\n",
       "    <tr>\n",
       "      <td>24</td>\n",
       "      <td>West Ridge</td>\n",
       "      <td>298.333333</td>\n",
       "    </tr>\n",
       "  </tbody>\n",
       "</table>\n",
       "</div>"
      ],
      "text/plain": [
       "   dropoff_location_name  average_trips\n",
       "33          Portage Park     119.733333\n",
       "93             Riverdale       1.800000\n",
       "41            North Park      67.833333\n",
       "59               Chatham      23.200000\n",
       "42         Garfield Park      65.766667\n",
       "8             Gold Coast    1364.233333\n",
       "76    Washington Heights       9.133333\n",
       "20       Rush & Division     395.533333\n",
       "43         Mckinley Park      64.033333\n",
       "24            West Ridge     298.333333"
      ]
     },
     "execution_count": 4,
     "metadata": {},
     "output_type": "execute_result"
    }
   ],
   "source": [
    "locations.sample(10)"
   ]
  },
  {
   "cell_type": "code",
   "execution_count": 5,
   "metadata": {},
   "outputs": [],
   "source": [
    "#### Rides"
   ]
  },
  {
   "cell_type": "code",
   "execution_count": 6,
   "metadata": {},
   "outputs": [
    {
     "data": {
      "text/html": [
       "<div>\n",
       "<style scoped>\n",
       "    .dataframe tbody tr th:only-of-type {\n",
       "        vertical-align: middle;\n",
       "    }\n",
       "\n",
       "    .dataframe tbody tr th {\n",
       "        vertical-align: top;\n",
       "    }\n",
       "\n",
       "    .dataframe thead th {\n",
       "        text-align: right;\n",
       "    }\n",
       "</style>\n",
       "<table border=\"1\" class=\"dataframe\">\n",
       "  <thead>\n",
       "    <tr style=\"text-align: right;\">\n",
       "      <th></th>\n",
       "      <th>start_ts</th>\n",
       "      <th>weather_conditions</th>\n",
       "      <th>duration_seconds</th>\n",
       "    </tr>\n",
       "  </thead>\n",
       "  <tbody>\n",
       "    <tr>\n",
       "      <td>902</td>\n",
       "      <td>2017-11-11 12:00:00</td>\n",
       "      <td>Good</td>\n",
       "      <td>1975.0</td>\n",
       "    </tr>\n",
       "    <tr>\n",
       "      <td>121</td>\n",
       "      <td>2017-11-04 19:00:00</td>\n",
       "      <td>Good</td>\n",
       "      <td>1869.0</td>\n",
       "    </tr>\n",
       "    <tr>\n",
       "      <td>791</td>\n",
       "      <td>2017-11-04 04:00:00</td>\n",
       "      <td>Good</td>\n",
       "      <td>1260.0</td>\n",
       "    </tr>\n",
       "    <tr>\n",
       "      <td>83</td>\n",
       "      <td>2017-11-11 10:00:00</td>\n",
       "      <td>Good</td>\n",
       "      <td>1435.0</td>\n",
       "    </tr>\n",
       "    <tr>\n",
       "      <td>246</td>\n",
       "      <td>2017-11-04 06:00:00</td>\n",
       "      <td>Good</td>\n",
       "      <td>1439.0</td>\n",
       "    </tr>\n",
       "    <tr>\n",
       "      <td>116</td>\n",
       "      <td>2017-11-11 08:00:00</td>\n",
       "      <td>Good</td>\n",
       "      <td>1260.0</td>\n",
       "    </tr>\n",
       "    <tr>\n",
       "      <td>526</td>\n",
       "      <td>2017-11-11 06:00:00</td>\n",
       "      <td>Good</td>\n",
       "      <td>1395.0</td>\n",
       "    </tr>\n",
       "    <tr>\n",
       "      <td>1035</td>\n",
       "      <td>2017-11-11 11:00:00</td>\n",
       "      <td>Good</td>\n",
       "      <td>1740.0</td>\n",
       "    </tr>\n",
       "    <tr>\n",
       "      <td>857</td>\n",
       "      <td>2017-11-25 17:00:00</td>\n",
       "      <td>Good</td>\n",
       "      <td>2580.0</td>\n",
       "    </tr>\n",
       "    <tr>\n",
       "      <td>440</td>\n",
       "      <td>2017-11-11 08:00:00</td>\n",
       "      <td>Good</td>\n",
       "      <td>1380.0</td>\n",
       "    </tr>\n",
       "  </tbody>\n",
       "</table>\n",
       "</div>"
      ],
      "text/plain": [
       "                 start_ts weather_conditions  duration_seconds\n",
       "902   2017-11-11 12:00:00               Good            1975.0\n",
       "121   2017-11-04 19:00:00               Good            1869.0\n",
       "791   2017-11-04 04:00:00               Good            1260.0\n",
       "83    2017-11-11 10:00:00               Good            1435.0\n",
       "246   2017-11-04 06:00:00               Good            1439.0\n",
       "116   2017-11-11 08:00:00               Good            1260.0\n",
       "526   2017-11-11 06:00:00               Good            1395.0\n",
       "1035  2017-11-11 11:00:00               Good            1740.0\n",
       "857   2017-11-25 17:00:00               Good            2580.0\n",
       "440   2017-11-11 08:00:00               Good            1380.0"
      ]
     },
     "execution_count": 6,
     "metadata": {},
     "output_type": "execute_result"
    }
   ],
   "source": [
    "rides.sample(10)"
   ]
  },
  {
   "cell_type": "markdown",
   "metadata": {},
   "source": [
    "There are 2 tables (companies & locations) with 2 columns each, one containing categorical values and the other numerical values. The third table (rides) has 3 columns containing information about the date and time, weather conditions and the duration of a ride."
   ]
  },
  {
   "cell_type": "markdown",
   "metadata": {},
   "source": [
    "<div class=\"alert alert-block alert-success\">\n",
    "<b>Reviewer's comment v.2</b> \n",
    "    \n",
    "Well done! Thank you that you have studied the third dataframe.\n",
    "\n",
    "</div>"
   ]
  },
  {
   "cell_type": "markdown",
   "metadata": {},
   "source": [
    "### Search for wrong data types"
   ]
  },
  {
   "cell_type": "markdown",
   "metadata": {},
   "source": [
    "In this step it is to be found out whether for the columns of the two data sets incorrect data types exist, whereby a further analysis would not function. Here the info() method is used, which returns the data types."
   ]
  },
  {
   "cell_type": "markdown",
   "metadata": {},
   "source": [
    "#### Companies"
   ]
  },
  {
   "cell_type": "code",
   "execution_count": 7,
   "metadata": {},
   "outputs": [
    {
     "name": "stdout",
     "output_type": "stream",
     "text": [
      "<class 'pandas.core.frame.DataFrame'>\n",
      "RangeIndex: 64 entries, 0 to 63\n",
      "Data columns (total 2 columns):\n",
      "company_name    64 non-null object\n",
      "trips_amount    64 non-null int64\n",
      "dtypes: int64(1), object(1)\n",
      "memory usage: 1.1+ KB\n"
     ]
    }
   ],
   "source": [
    "companies.info()"
   ]
  },
  {
   "cell_type": "markdown",
   "metadata": {},
   "source": [
    "#### Locations"
   ]
  },
  {
   "cell_type": "code",
   "execution_count": 8,
   "metadata": {},
   "outputs": [
    {
     "name": "stdout",
     "output_type": "stream",
     "text": [
      "<class 'pandas.core.frame.DataFrame'>\n",
      "RangeIndex: 94 entries, 0 to 93\n",
      "Data columns (total 2 columns):\n",
      "dropoff_location_name    94 non-null object\n",
      "average_trips            94 non-null float64\n",
      "dtypes: float64(1), object(1)\n",
      "memory usage: 1.6+ KB\n"
     ]
    }
   ],
   "source": [
    "locations.info()"
   ]
  },
  {
   "cell_type": "markdown",
   "metadata": {},
   "source": [
    "#### Rides"
   ]
  },
  {
   "cell_type": "code",
   "execution_count": 9,
   "metadata": {},
   "outputs": [
    {
     "name": "stdout",
     "output_type": "stream",
     "text": [
      "<class 'pandas.core.frame.DataFrame'>\n",
      "RangeIndex: 1068 entries, 0 to 1067\n",
      "Data columns (total 3 columns):\n",
      "start_ts              1068 non-null object\n",
      "weather_conditions    1068 non-null object\n",
      "duration_seconds      1068 non-null float64\n",
      "dtypes: float64(1), object(2)\n",
      "memory usage: 25.2+ KB\n"
     ]
    }
   ],
   "source": [
    "rides.info()"
   ]
  },
  {
   "cell_type": "markdown",
   "metadata": {},
   "source": [
    "There are no wrong data types in either table. In the \"locations\" table there is a float data type in the average_trips column. Since this is an average value, the float makes sense.\n",
    "\n",
    "For data optimization, there are still a few changes that can be made, so the memory of the table can be reduced:\n",
    "\n",
    "    -companies.trips_amount: int64 --> int16\n",
    "    -locations.average_trips: float64 --> float16\n",
    "    -rides.duration_seconds: float64 --> int16   \n",
    "\n",
    "Furthermore there is a object type in the \"start_ts\" column in the \"rides\" table. Even though the date is not that important for the following analyses, I will change it to a date type."
   ]
  },
  {
   "cell_type": "markdown",
   "metadata": {},
   "source": [
    "<div class=\"alert alert-block alert-success\">\n",
    "<b>Reviewer's comment v.2</b> \n",
    "    \n",
    "Good!\n",
    "</div>"
   ]
  },
  {
   "cell_type": "markdown",
   "metadata": {},
   "source": [
    "#### Optimizing datatypes"
   ]
  },
  {
   "cell_type": "code",
   "execution_count": 10,
   "metadata": {},
   "outputs": [],
   "source": [
    "companies.trips_amount = companies.trips_amount.astype(np.int16)\n",
    "locations.average_trips = locations.average_trips.astype(np.float16)\n",
    "rides.duration_seconds = rides.duration_seconds.astype(np.int16)\n",
    "rides.start_ts = pd.to_datetime(rides.start_ts).dt.date"
   ]
  },
  {
   "cell_type": "markdown",
   "metadata": {},
   "source": [
    "<div class=\"alert alert-block alert-success\">\n",
    "<b>Reviewer's comment v.1</b> \n",
    "    \n",
    "Correct! \n",
    "    \n",
    "As a recommendation: we have the range of the `trips_amount` from `2` to 19558. The range of storage capacity of the `int32` is from `2147483648` to `+2147483647`, and the one for `int16` is from `-32768` to `+32768`. So, in our case, we could change the datatype to `int16`. That provides data optimization.\n",
    "    \n",
    "</div>"
   ]
  },
  {
   "cell_type": "markdown",
   "metadata": {},
   "source": [
    "### Search for missing values"
   ]
  },
  {
   "cell_type": "markdown",
   "metadata": {},
   "source": [
    "In this step the number of missing values in both data sets is determined. For this the method missing_data() is defined and applied. This counts the number of missing values for each column and outputs a result table."
   ]
  },
  {
   "cell_type": "markdown",
   "metadata": {},
   "source": [
    "#### Defining a missing value-searching function"
   ]
  },
  {
   "cell_type": "code",
   "execution_count": 11,
   "metadata": {},
   "outputs": [],
   "source": [
    "# Function to count missing values for each columns in a DataFrame\n",
    "def missing_data(data):\n",
    "    # Count number of missing value in a column\n",
    "    total = data.isnull().sum()           \n",
    "    \n",
    "    # Get Percentage of missing values\n",
    "    percent = (data.isnull().sum()/data.isnull().count()*100)   \n",
    "    temp = pd.concat([total, percent], axis=1, keys=['Total', 'Percent(%)'])\n",
    "\n",
    "    # Create a Type column, that indicates the data-type of the column.\n",
    "    types = []\n",
    "    for col in data.columns:\n",
    "        dtype = str(data[col].dtype)\n",
    "        types.append(dtype)\n",
    "    temp['Types'] = types\n",
    "\n",
    "    return(np.transpose(temp))"
   ]
  },
  {
   "cell_type": "markdown",
   "metadata": {},
   "source": [
    "#### Companies"
   ]
  },
  {
   "cell_type": "code",
   "execution_count": 12,
   "metadata": {},
   "outputs": [
    {
     "data": {
      "text/html": [
       "<div>\n",
       "<style scoped>\n",
       "    .dataframe tbody tr th:only-of-type {\n",
       "        vertical-align: middle;\n",
       "    }\n",
       "\n",
       "    .dataframe tbody tr th {\n",
       "        vertical-align: top;\n",
       "    }\n",
       "\n",
       "    .dataframe thead th {\n",
       "        text-align: right;\n",
       "    }\n",
       "</style>\n",
       "<table border=\"1\" class=\"dataframe\">\n",
       "  <thead>\n",
       "    <tr style=\"text-align: right;\">\n",
       "      <th></th>\n",
       "      <th>company_name</th>\n",
       "      <th>trips_amount</th>\n",
       "    </tr>\n",
       "  </thead>\n",
       "  <tbody>\n",
       "    <tr>\n",
       "      <td>Total</td>\n",
       "      <td>0</td>\n",
       "      <td>0</td>\n",
       "    </tr>\n",
       "    <tr>\n",
       "      <td>Percent(%)</td>\n",
       "      <td>0</td>\n",
       "      <td>0</td>\n",
       "    </tr>\n",
       "    <tr>\n",
       "      <td>Types</td>\n",
       "      <td>object</td>\n",
       "      <td>int16</td>\n",
       "    </tr>\n",
       "  </tbody>\n",
       "</table>\n",
       "</div>"
      ],
      "text/plain": [
       "           company_name trips_amount\n",
       "Total                 0            0\n",
       "Percent(%)            0            0\n",
       "Types            object        int16"
      ]
     },
     "execution_count": 12,
     "metadata": {},
     "output_type": "execute_result"
    }
   ],
   "source": [
    "missing_data(companies)"
   ]
  },
  {
   "cell_type": "markdown",
   "metadata": {},
   "source": [
    "#### Locations"
   ]
  },
  {
   "cell_type": "code",
   "execution_count": 13,
   "metadata": {},
   "outputs": [
    {
     "data": {
      "text/html": [
       "<div>\n",
       "<style scoped>\n",
       "    .dataframe tbody tr th:only-of-type {\n",
       "        vertical-align: middle;\n",
       "    }\n",
       "\n",
       "    .dataframe tbody tr th {\n",
       "        vertical-align: top;\n",
       "    }\n",
       "\n",
       "    .dataframe thead th {\n",
       "        text-align: right;\n",
       "    }\n",
       "</style>\n",
       "<table border=\"1\" class=\"dataframe\">\n",
       "  <thead>\n",
       "    <tr style=\"text-align: right;\">\n",
       "      <th></th>\n",
       "      <th>dropoff_location_name</th>\n",
       "      <th>average_trips</th>\n",
       "    </tr>\n",
       "  </thead>\n",
       "  <tbody>\n",
       "    <tr>\n",
       "      <td>Total</td>\n",
       "      <td>0</td>\n",
       "      <td>0</td>\n",
       "    </tr>\n",
       "    <tr>\n",
       "      <td>Percent(%)</td>\n",
       "      <td>0</td>\n",
       "      <td>0</td>\n",
       "    </tr>\n",
       "    <tr>\n",
       "      <td>Types</td>\n",
       "      <td>object</td>\n",
       "      <td>float16</td>\n",
       "    </tr>\n",
       "  </tbody>\n",
       "</table>\n",
       "</div>"
      ],
      "text/plain": [
       "           dropoff_location_name average_trips\n",
       "Total                          0             0\n",
       "Percent(%)                     0             0\n",
       "Types                     object       float16"
      ]
     },
     "execution_count": 13,
     "metadata": {},
     "output_type": "execute_result"
    }
   ],
   "source": [
    "missing_data(locations)"
   ]
  },
  {
   "cell_type": "markdown",
   "metadata": {},
   "source": [
    "#### Rides"
   ]
  },
  {
   "cell_type": "code",
   "execution_count": 14,
   "metadata": {},
   "outputs": [
    {
     "data": {
      "text/html": [
       "<div>\n",
       "<style scoped>\n",
       "    .dataframe tbody tr th:only-of-type {\n",
       "        vertical-align: middle;\n",
       "    }\n",
       "\n",
       "    .dataframe tbody tr th {\n",
       "        vertical-align: top;\n",
       "    }\n",
       "\n",
       "    .dataframe thead th {\n",
       "        text-align: right;\n",
       "    }\n",
       "</style>\n",
       "<table border=\"1\" class=\"dataframe\">\n",
       "  <thead>\n",
       "    <tr style=\"text-align: right;\">\n",
       "      <th></th>\n",
       "      <th>start_ts</th>\n",
       "      <th>weather_conditions</th>\n",
       "      <th>duration_seconds</th>\n",
       "    </tr>\n",
       "  </thead>\n",
       "  <tbody>\n",
       "    <tr>\n",
       "      <td>Total</td>\n",
       "      <td>0</td>\n",
       "      <td>0</td>\n",
       "      <td>0</td>\n",
       "    </tr>\n",
       "    <tr>\n",
       "      <td>Percent(%)</td>\n",
       "      <td>0</td>\n",
       "      <td>0</td>\n",
       "      <td>0</td>\n",
       "    </tr>\n",
       "    <tr>\n",
       "      <td>Types</td>\n",
       "      <td>object</td>\n",
       "      <td>object</td>\n",
       "      <td>int16</td>\n",
       "    </tr>\n",
       "  </tbody>\n",
       "</table>\n",
       "</div>"
      ],
      "text/plain": [
       "           start_ts weather_conditions duration_seconds\n",
       "Total             0                  0                0\n",
       "Percent(%)        0                  0                0\n",
       "Types        object             object            int16"
      ]
     },
     "execution_count": 14,
     "metadata": {},
     "output_type": "execute_result"
    }
   ],
   "source": [
    "missing_data(rides)"
   ]
  },
  {
   "cell_type": "markdown",
   "metadata": {},
   "source": [
    "As we can see in the cells above, there are no missing values to all the tables."
   ]
  },
  {
   "cell_type": "markdown",
   "metadata": {},
   "source": [
    "<div class=\"alert alert-block alert-success\">\n",
    "<b>Reviewer's comment v.1</b> \n",
    "    \n",
    "Well done! \n",
    "    \n",
    "I like your function for detecting the missing values. However, please note that we also could estimate the number of missing values after the `info()` method. \n",
    "</div>"
   ]
  },
  {
   "cell_type": "markdown",
   "metadata": {},
   "source": [
    "### Search for wrong values"
   ]
  },
  {
   "cell_type": "markdown",
   "metadata": {},
   "source": [
    "In this step, histograms are output using the hist() method. In this way, the range of numerical values becomes graphically visible. This way unrealistically high / low values can be detected, which were measured or entered incorrectly. If such erroneous values are present, it can negatively influence the quality of the analysis."
   ]
  },
  {
   "cell_type": "markdown",
   "metadata": {},
   "source": [
    "#### Companies"
   ]
  },
  {
   "cell_type": "code",
   "execution_count": 15,
   "metadata": {},
   "outputs": [
    {
     "data": {
      "image/png": "[encoded data removed]",
      "text/plain": [
       "<Figure size 432x288 with 1 Axes>"
      ]
     },
     "metadata": {
      "needs_background": "light"
     },
     "output_type": "display_data"
    }
   ],
   "source": [
    "pl = companies[\"trips_amount\"].hist(bins=50)\n",
    "pl.set_xlabel(\"Average trips\")\n",
    "pl.set_ylabel(\"Count\")\n",
    "pl.set_title('Distribution of average trips')\n",
    "plt.show()  "
   ]
  },
  {
   "cell_type": "markdown",
   "metadata": {},
   "source": [
    "It looks like there are many companies with an average trip amount of 0. This should be investigated in more detail."
   ]
  },
  {
   "cell_type": "code",
   "execution_count": 16,
   "metadata": {},
   "outputs": [
    {
     "name": "stdout",
     "output_type": "stream",
     "text": [
      "Percentage of 0-values: 0.00%\n"
     ]
    }
   ],
   "source": [
    "amount_0 = len(companies.loc[companies.trips_amount == 0]) / len(companies)\n",
    "print(\"Percentage of 0-values: {:.2%}\".format(amount_0))"
   ]
  },
  {
   "cell_type": "code",
   "execution_count": 17,
   "metadata": {},
   "outputs": [
    {
     "data": {
      "text/html": [
       "<div>\n",
       "<style scoped>\n",
       "    .dataframe tbody tr th:only-of-type {\n",
       "        vertical-align: middle;\n",
       "    }\n",
       "\n",
       "    .dataframe tbody tr th {\n",
       "        vertical-align: top;\n",
       "    }\n",
       "\n",
       "    .dataframe thead th {\n",
       "        text-align: right;\n",
       "    }\n",
       "</style>\n",
       "<table border=\"1\" class=\"dataframe\">\n",
       "  <thead>\n",
       "    <tr style=\"text-align: right;\">\n",
       "      <th></th>\n",
       "      <th>company_name</th>\n",
       "      <th>trips_amount</th>\n",
       "    </tr>\n",
       "  </thead>\n",
       "  <tbody>\n",
       "    <tr>\n",
       "      <td>58</td>\n",
       "      <td>5062 - 34841 Sam Mestas</td>\n",
       "      <td>8</td>\n",
       "    </tr>\n",
       "    <tr>\n",
       "      <td>59</td>\n",
       "      <td>4053 - 40193 Adwar H. Nikola</td>\n",
       "      <td>7</td>\n",
       "    </tr>\n",
       "    <tr>\n",
       "      <td>60</td>\n",
       "      <td>2733 - 74600 Benny Jona</td>\n",
       "      <td>7</td>\n",
       "    </tr>\n",
       "    <tr>\n",
       "      <td>61</td>\n",
       "      <td>5874 - 73628 Sergey Cab Corp.</td>\n",
       "      <td>5</td>\n",
       "    </tr>\n",
       "    <tr>\n",
       "      <td>62</td>\n",
       "      <td>2241 - 44667 - Felman Corp</td>\n",
       "      <td>3</td>\n",
       "    </tr>\n",
       "    <tr>\n",
       "      <td>63</td>\n",
       "      <td>3556 - 36214 RC Andrews Cab</td>\n",
       "      <td>2</td>\n",
       "    </tr>\n",
       "  </tbody>\n",
       "</table>\n",
       "</div>"
      ],
      "text/plain": [
       "                     company_name  trips_amount\n",
       "58        5062 - 34841 Sam Mestas             8\n",
       "59   4053 - 40193 Adwar H. Nikola             7\n",
       "60        2733 - 74600 Benny Jona             7\n",
       "61  5874 - 73628 Sergey Cab Corp.             5\n",
       "62     2241 - 44667 - Felman Corp             3\n",
       "63    3556 - 36214 RC Andrews Cab             2"
      ]
     },
     "execution_count": 17,
     "metadata": {},
     "output_type": "execute_result"
    }
   ],
   "source": [
    "companies.loc[companies.trips_amount < 10]"
   ]
  },
  {
   "cell_type": "markdown",
   "metadata": {},
   "source": [
    "As we see in the 2 cells above, there are no companies with 0 average trips. Some just have less than 10 trips in average, but we can't find wrong values here."
   ]
  },
  {
   "cell_type": "markdown",
   "metadata": {},
   "source": [
    "#### Locations"
   ]
  },
  {
   "cell_type": "code",
   "execution_count": 18,
   "metadata": {},
   "outputs": [
    {
     "data": {
      "image/png": "[encoded data removed]",
      "text/plain": [
       "<Figure size 432x288 with 1 Axes>"
      ]
     },
     "metadata": {
      "needs_background": "light"
     },
     "output_type": "display_data"
    }
   ],
   "source": [
    "pl = locations[\"average_trips\"].hist(bins=50)\n",
    "pl.set_xlabel(\"Trips amount\")\n",
    "pl.set_ylabel(\"Count\")\n",
    "pl.set_title('Distribution of amount of trips')\n",
    "plt.show()  "
   ]
  },
  {
   "cell_type": "markdown",
   "metadata": {},
   "source": [
    "Just as in the company table, there is also the suspicion that there are areas with 0 trips."
   ]
  },
  {
   "cell_type": "code",
   "execution_count": 19,
   "metadata": {},
   "outputs": [
    {
     "name": "stdout",
     "output_type": "stream",
     "text": [
      "Percentage of 0-values: 0.00%\n"
     ]
    }
   ],
   "source": [
    "trips_0 = len(locations.loc[locations.average_trips == 0]) / len(locations)\n",
    "print(\"Percentage of 0-values: {:.2%}\".format(trips_0))"
   ]
  },
  {
   "cell_type": "code",
   "execution_count": 20,
   "metadata": {},
   "outputs": [
    {
     "data": {
      "text/html": [
       "<div>\n",
       "<style scoped>\n",
       "    .dataframe tbody tr th:only-of-type {\n",
       "        vertical-align: middle;\n",
       "    }\n",
       "\n",
       "    .dataframe tbody tr th {\n",
       "        vertical-align: top;\n",
       "    }\n",
       "\n",
       "    .dataframe thead th {\n",
       "        text-align: right;\n",
       "    }\n",
       "</style>\n",
       "<table border=\"1\" class=\"dataframe\">\n",
       "  <thead>\n",
       "    <tr style=\"text-align: right;\">\n",
       "      <th></th>\n",
       "      <th>dropoff_location_name</th>\n",
       "      <th>average_trips</th>\n",
       "    </tr>\n",
       "  </thead>\n",
       "  <tbody>\n",
       "    <tr>\n",
       "      <td>75</td>\n",
       "      <td>Calumet Heights</td>\n",
       "      <td>9.570312</td>\n",
       "    </tr>\n",
       "    <tr>\n",
       "      <td>76</td>\n",
       "      <td>Washington Heights</td>\n",
       "      <td>9.132812</td>\n",
       "    </tr>\n",
       "    <tr>\n",
       "      <td>77</td>\n",
       "      <td>Archer Heights</td>\n",
       "      <td>8.367188</td>\n",
       "    </tr>\n",
       "    <tr>\n",
       "      <td>78</td>\n",
       "      <td>Gage Park</td>\n",
       "      <td>8.234375</td>\n",
       "    </tr>\n",
       "    <tr>\n",
       "      <td>79</td>\n",
       "      <td>Fuller Park</td>\n",
       "      <td>8.164062</td>\n",
       "    </tr>\n",
       "    <tr>\n",
       "      <td>80</td>\n",
       "      <td>West Lawn</td>\n",
       "      <td>7.734375</td>\n",
       "    </tr>\n",
       "    <tr>\n",
       "      <td>81</td>\n",
       "      <td>Morgan Park</td>\n",
       "      <td>7.699219</td>\n",
       "    </tr>\n",
       "    <tr>\n",
       "      <td>82</td>\n",
       "      <td>South Deering</td>\n",
       "      <td>7.500000</td>\n",
       "    </tr>\n",
       "    <tr>\n",
       "      <td>83</td>\n",
       "      <td>Avalon Park</td>\n",
       "      <td>6.964844</td>\n",
       "    </tr>\n",
       "    <tr>\n",
       "      <td>84</td>\n",
       "      <td>West Pullman</td>\n",
       "      <td>6.464844</td>\n",
       "    </tr>\n",
       "    <tr>\n",
       "      <td>85</td>\n",
       "      <td>Montclare</td>\n",
       "      <td>5.765625</td>\n",
       "    </tr>\n",
       "    <tr>\n",
       "      <td>86</td>\n",
       "      <td>West Elsdon</td>\n",
       "      <td>5.667969</td>\n",
       "    </tr>\n",
       "    <tr>\n",
       "      <td>87</td>\n",
       "      <td>Pullman</td>\n",
       "      <td>3.896484</td>\n",
       "    </tr>\n",
       "    <tr>\n",
       "      <td>88</td>\n",
       "      <td>Undef</td>\n",
       "      <td>3.800781</td>\n",
       "    </tr>\n",
       "    <tr>\n",
       "      <td>89</td>\n",
       "      <td>Mount Greenwood</td>\n",
       "      <td>3.138672</td>\n",
       "    </tr>\n",
       "    <tr>\n",
       "      <td>90</td>\n",
       "      <td>Hegewisch</td>\n",
       "      <td>3.117188</td>\n",
       "    </tr>\n",
       "    <tr>\n",
       "      <td>91</td>\n",
       "      <td>Burnside</td>\n",
       "      <td>2.333984</td>\n",
       "    </tr>\n",
       "    <tr>\n",
       "      <td>92</td>\n",
       "      <td>East Side</td>\n",
       "      <td>1.961914</td>\n",
       "    </tr>\n",
       "    <tr>\n",
       "      <td>93</td>\n",
       "      <td>Riverdale</td>\n",
       "      <td>1.799805</td>\n",
       "    </tr>\n",
       "  </tbody>\n",
       "</table>\n",
       "</div>"
      ],
      "text/plain": [
       "   dropoff_location_name  average_trips\n",
       "75       Calumet Heights       9.570312\n",
       "76    Washington Heights       9.132812\n",
       "77        Archer Heights       8.367188\n",
       "78             Gage Park       8.234375\n",
       "79           Fuller Park       8.164062\n",
       "80             West Lawn       7.734375\n",
       "81           Morgan Park       7.699219\n",
       "82         South Deering       7.500000\n",
       "83           Avalon Park       6.964844\n",
       "84          West Pullman       6.464844\n",
       "85             Montclare       5.765625\n",
       "86           West Elsdon       5.667969\n",
       "87               Pullman       3.896484\n",
       "88                 Undef       3.800781\n",
       "89       Mount Greenwood       3.138672\n",
       "90             Hegewisch       3.117188\n",
       "91              Burnside       2.333984\n",
       "92             East Side       1.961914\n",
       "93             Riverdale       1.799805"
      ]
     },
     "execution_count": 20,
     "metadata": {},
     "output_type": "execute_result"
    }
   ],
   "source": [
    "locations.loc[locations.average_trips < 10]"
   ]
  },
  {
   "cell_type": "markdown",
   "metadata": {},
   "source": [
    "Again, these are only areas with very few trips. However, there are no incorrect values here either."
   ]
  },
  {
   "cell_type": "markdown",
   "metadata": {},
   "source": [
    "#### Rides"
   ]
  },
  {
   "cell_type": "code",
   "execution_count": 21,
   "metadata": {
    "scrolled": true
   },
   "outputs": [
    {
     "data": {
      "image/png": "[encoded data removed]",
      "text/plain": [
       "<Figure size 432x288 with 1 Axes>"
      ]
     },
     "metadata": {
      "needs_background": "light"
     },
     "output_type": "display_data"
    }
   ],
   "source": [
    "pl = rides[\"duration_seconds\"].hist(bins=50)\n",
    "pl.set_xlabel(\"Duration [seconds]\")\n",
    "pl.set_ylabel(\"Count\")\n",
    "pl.set_title('Distribution of trip duration')\n",
    "plt.show()  "
   ]
  },
  {
   "cell_type": "markdown",
   "metadata": {},
   "source": [
    "As we can see, there are some rides which have a duration close to 0 seconds and there are rides, which are longer than one hour. In this case it would make sense to delete these outliers because later we will do a hypothesis test of equal means with this table."
   ]
  },
  {
   "cell_type": "markdown",
   "metadata": {},
   "source": [
    "#### Deleting outliers"
   ]
  },
  {
   "cell_type": "markdown",
   "metadata": {},
   "source": [
    "To do this, I create a function that calculates Q1, Q3 and IQR for a given column. This way I can determine the threshold values for the outliers with Q1 - 1.5 * IQR and Q3 + 1.5 *IQR and delete them."
   ]
  },
  {
   "cell_type": "code",
   "execution_count": 22,
   "metadata": {},
   "outputs": [],
   "source": [
    "def IQR(data, col):\n",
    "    q1 = data[col].quantile(0.25)\n",
    "    q3 = data[col].quantile(0.75)\n",
    "    iqr = q3 - q1\n",
    "    fence_low = q1 - 1.5 * iqr\n",
    "    fence_high = q3 + 1.5 * iqr\n",
    "    cleaned_data = data.loc[(data[col] > fence_low) & (data[col] < fence_high)]\n",
    "    return cleaned_data"
   ]
  },
  {
   "cell_type": "code",
   "execution_count": 23,
   "metadata": {},
   "outputs": [
    {
     "name": "stdout",
     "output_type": "stream",
     "text": [
      "Rows before deleting outliers: 1068\n",
      "Rows after deleting outliers: 1062\n"
     ]
    }
   ],
   "source": [
    "print(\"Rows before deleting outliers: {}\".format(len(rides)))\n",
    "rides = IQR(rides, \"duration_seconds\")\n",
    "print(\"Rows after deleting outliers: {}\".format(len(rides)))"
   ]
  },
  {
   "cell_type": "markdown",
   "metadata": {},
   "source": [
    "<div class=\"alert alert-block alert-success\">\n",
    "<b>Reviewer's comment v.1</b> \n",
    "    \n",
    "Excellent! You have done an additional study of the source data for any mistakes! The data seem good.</div>"
   ]
  },
  {
   "cell_type": "markdown",
   "metadata": {},
   "source": [
    "### Search for duplicates"
   ]
  },
  {
   "cell_type": "markdown",
   "metadata": {},
   "source": [
    "In this step, the length of the data set is determined before the removal and after the duplicates are removed. If there are fewer rows after than before, then there were duplicates. The drop_duplicates() method is used for this purpose."
   ]
  },
  {
   "cell_type": "markdown",
   "metadata": {},
   "source": [
    "#### Companies"
   ]
  },
  {
   "cell_type": "code",
   "execution_count": 24,
   "metadata": {},
   "outputs": [
    {
     "name": "stdout",
     "output_type": "stream",
     "text": [
      "Length of the companies table with duplicates: 64\n",
      "Length of the companies table without duplicates: 64\n"
     ]
    }
   ],
   "source": [
    "companies_with_duplicates = len(companies)\n",
    "companies_without_duplicates = len(companies.drop_duplicates())\n",
    "print(\"Length of the companies table with duplicates: {}\".format(companies_with_duplicates))\n",
    "print(\"Length of the companies table without duplicates: {}\".format(companies_without_duplicates))"
   ]
  },
  {
   "cell_type": "markdown",
   "metadata": {},
   "source": [
    "#### Locations"
   ]
  },
  {
   "cell_type": "code",
   "execution_count": 25,
   "metadata": {},
   "outputs": [
    {
     "name": "stdout",
     "output_type": "stream",
     "text": [
      "Length of the locations table with duplicates: 94\n",
      "Length of the locations table without duplicates: 94\n"
     ]
    }
   ],
   "source": [
    "locations_with_duplicates = len(locations)\n",
    "locations_without_duplicates = len(locations.drop_duplicates())\n",
    "print(\"Length of the locations table with duplicates: {}\".format(locations_with_duplicates))\n",
    "print(\"Length of the locations table without duplicates: {}\".format(locations_without_duplicates))"
   ]
  },
  {
   "cell_type": "markdown",
   "metadata": {},
   "source": [
    "In both tables, there are no duplicates as we can see in the cells above."
   ]
  },
  {
   "cell_type": "markdown",
   "metadata": {},
   "source": [
    "### Conclusion"
   ]
  },
  {
   "cell_type": "markdown",
   "metadata": {},
   "source": [
    "The three tables were checked for incorrect data types, missing values, incorrect values and duplicates. Only small changes had to be done. Some data types were changed to optimize the storage and some outliers in the \"rides\" table were removed."
   ]
  },
  {
   "cell_type": "markdown",
   "metadata": {},
   "source": [
    "<div class=\"alert alert-block alert-success\">\n",
    "<b>Reviewer's comment v.1</b> \n",
    "    \n",
    "Good work! Now we can start the analysis of these data.\n",
    "\n",
    "</div>"
   ]
  },
  {
   "cell_type": "markdown",
   "metadata": {},
   "source": [
    "<div class=\"alert alert-block alert-success\">\n",
    "<b>Reviewer's comment v.2</b> \n",
    "    \n",
    "Well done! Thank you for your additional work with data at this stage. \n",
    "</div>"
   ]
  },
  {
   "cell_type": "markdown",
   "metadata": {},
   "source": [
    "## Get the number of rides for each company"
   ]
  },
  {
   "cell_type": "markdown",
   "metadata": {},
   "source": [
    "In this step, graphical analysis of the data is used to find out which company makes the most trips. The bar() method is used to create a bar chart. To keep the chart clear, only the companies with more than 1000 trips are included."
   ]
  },
  {
   "cell_type": "markdown",
   "metadata": {},
   "source": [
    "### Creation of a graph for the amount of trips"
   ]
  },
  {
   "cell_type": "code",
   "execution_count": 26,
   "metadata": {},
   "outputs": [
    {
     "data": {
      "image/png": "[encoded data removed]",
      "text/plain": [
       "<Figure size 576x360 with 1 Axes>"
      ]
     },
     "metadata": {
      "needs_background": "light"
     },
     "output_type": "display_data"
    }
   ],
   "source": [
    "companies_filtered = companies.loc[companies.trips_amount > 1000].sort_values(by='trips_amount', ascending = False)\n",
    "plt.figure(figsize = (8,5))\n",
    "x = companies_filtered.company_name\n",
    "y = companies_filtered.trips_amount\n",
    "plt.bar(x, y )\n",
    "plt.xticks(rotation=90)\n",
    "plt.xlabel('Company names')\n",
    "plt.ylabel('Trips amount')\n",
    "plt.show()"
   ]
  },
  {
   "cell_type": "markdown",
   "metadata": {},
   "source": [
    "### Conclusion"
   ]
  },
  {
   "cell_type": "markdown",
   "metadata": {},
   "source": [
    "As we can see in the graph, the companies \"FC\", \"TAS\" and \"ML\" are the most successful in terms of number of trips. \"FC\" stands out in particular and has about 50% more trips than second place \"TA\"."
   ]
  },
  {
   "cell_type": "markdown",
   "metadata": {},
   "source": [
    "## Get the top 10 neighborhoods by number of dropoffs"
   ]
  },
  {
   "cell_type": "markdown",
   "metadata": {},
   "source": [
    "In this step, the city districts that are most important as destinations are identified. Here, a bar chart is also output using the bar() method, whereby only the 10 most important are included."
   ]
  },
  {
   "cell_type": "markdown",
   "metadata": {},
   "source": [
    "### Creation of a graph for the amount of dropoffs"
   ]
  },
  {
   "cell_type": "code",
   "execution_count": 27,
   "metadata": {},
   "outputs": [
    {
     "data": {
      "image/png": "[encoded data removed]",
      "text/plain": [
       "<Figure size 576x360 with 1 Axes>"
      ]
     },
     "metadata": {
      "needs_background": "light"
     },
     "output_type": "display_data"
    }
   ],
   "source": [
    "locations_filtered = locations.sort_values(by='average_trips', ascending = False).head(10)\n",
    "plt.figure(figsize = (8,5))\n",
    "x = locations_filtered.dropoff_location_name\n",
    "y = locations_filtered.average_trips\n",
    "plt.bar(x, y)\n",
    "plt.xticks(rotation=90)\n",
    "plt.xlabel('Dropoff location names')\n",
    "plt.ylabel('Average trips amount')\n",
    "plt.show()\n"
   ]
  },
  {
   "cell_type": "markdown",
   "metadata": {},
   "source": [
    "### Conclusion"
   ]
  },
  {
   "cell_type": "markdown",
   "metadata": {},
   "source": [
    "The chart above lists the top 10 of all districts in terms of frequency as a destination. The top 4 perform significantly better than the respective rank behind them. The \"Loop\" district was named as a destination about 10000 times, followed by \"River North\" with 8000 and \"Streetville\" with 7000. The Top 3 locations are very close to each other(~2km), so this area is very attractive as a choice of location"
   ]
  },
  {
   "cell_type": "markdown",
   "metadata": {},
   "source": [
    "<div class=\"alert alert-block alert-success\">\n",
    "<b>Reviewer's comment v.1</b> \n",
    "    \n",
    "Well done! We have detected the most popular taxi companies as well as the most popular neighborhoods. \n",
    "</div>"
   ]
  },
  {
   "cell_type": "markdown",
   "metadata": {},
   "source": [
    "<div class=\"alert alert-warning\" role=\"alert\">\n",
    "<b>Reviewer's comment v.1</b> \n",
    "    \n",
    "It will be better if we make some additional analysis why these places are so popular. For example, I have not been to Chicago, but as I know, the first four top neighborhoods (Loop, River North, Streeterville, West Loop) are located close to each other and are the most popular places in Chicago. People are more likely to transfer between these places. It explains the high amount of average trips for them.  http://www.thechicago77.com/chicago-neighborhoods/\n",
    "</div>"
   ]
  },
  {
   "cell_type": "markdown",
   "metadata": {},
   "source": [
    "<div class=\"alert alert-danger\" role=\"alert\">\n",
    "<b>Reviewer's comment v.1</b> \n",
    "    \n",
    "I would suggest that minor issues here: the results above, according to the code, show entries without any sorting. Yes. it works for this data because it was sorted at the previous stages. But if we change the data our code will not work correctly. \n",
    "\n",
    "Could you please check that and add the sorting of the data by the `average_trips` and `trips_amount` columns? Probably, it is better to use `.sort_values()` method or the `.nlargest()` method. \n",
    "</div>"
   ]
  },
  {
   "cell_type": "markdown",
   "metadata": {},
   "source": [
    "<div class=\"alert alert-block alert-success\">\n",
    "<b>Reviewer's comment v.2</b> \n",
    "    \n",
    "Ok! We have sorted the data before analysis - it makes the code more universal.</div>"
   ]
  },
  {
   "cell_type": "markdown",
   "metadata": {},
   "source": [
    "## Testing of the hypthesis \"The average duration of rides from the Loop to O'Hare International Airport changes on rainy Saturdays.\""
   ]
  },
  {
   "cell_type": "markdown",
   "metadata": {},
   "source": [
    "<div class=\"alert alert-danger\">\n",
    "<b>Reviewer's comment v.1</b> \n",
    "    \n",
    "I would suggest that here we should describe the source data in detail before testing. Could you please describe the data, check it for duplicates, some mistakes as very low durations and outliers, check the data types?\n",
    "</div>"
   ]
  },
  {
   "cell_type": "markdown",
   "metadata": {},
   "source": [
    "<div class=\"alert alert-block alert-success\">\n",
    "<b>Reviewer's comment v.2</b> \n",
    "    \n",
    "Thank you that you have studied the data in the first part of the project before the test. Also, you have checked the data for outliers - it is good because the t-test could be affected by outliers. \n",
    "</div>"
   ]
  },
  {
   "cell_type": "markdown",
   "metadata": {},
   "source": [
    "### Calculation of the p-value"
   ]
  },
  {
   "cell_type": "markdown",
   "metadata": {},
   "source": [
    "We have 2 statistical populations in this study: Trips that occurred in good weather and trips that occurred in bad weather. We want to test whether The average duration of trips from the Loop to O'Hare International Airport changes on rainy Saturdays. Therefore, we conduct the hypothesis test for equality of means.\n",
    "\n",
    "The null hypothesis is: \"The average durations of trips from the Loop to O'Hare International Airport are equal.\"\n",
    "\n",
    "The alternative hypothesis is \"The average durations of trips from the Loop to O'Hare International Airport are different.\""
   ]
  },
  {
   "cell_type": "markdown",
   "metadata": {},
   "source": [
    "<div class=\"alert alert-block alert-success\">\n",
    "<b>Reviewer's comment v.1</b> \n",
    "    \n",
    "Well done! We formulated the hypothesis before the test.\n",
    "    \n",
    "</div>"
   ]
  },
  {
   "cell_type": "code",
   "execution_count": 28,
   "metadata": {},
   "outputs": [],
   "source": [
    "### Formulation of the hypotheses"
   ]
  },
  {
   "cell_type": "code",
   "execution_count": 29,
   "metadata": {},
   "outputs": [
    {
     "name": "stdout",
     "output_type": "stream",
     "text": [
      "Duration average - Good weather conditions: 1979.27s\n",
      "Duration average - Bad weather conditions: 2412.94s\n"
     ]
    }
   ],
   "source": [
    "duration_good = rides.loc[rides.weather_conditions == \"Good\"].duration_seconds\n",
    "duration_bad = rides.loc[rides.weather_conditions == \"Bad\"].duration_seconds\n",
    "\n",
    "average_duration_good = duration_good.mean().round(2)\n",
    "average_duration_bad = duration_bad.mean().round(2)\n",
    "\n",
    "print(\"Duration average - Good weather conditions: {}s\".format(average_duration_good))\n",
    "print(\"Duration average - Bad weather conditions: {}s\".format(average_duration_bad))"
   ]
  },
  {
   "cell_type": "code",
   "execution_count": 30,
   "metadata": {},
   "outputs": [
    {
     "name": "stdout",
     "output_type": "stream",
     "text": [
      "p-value:  1.2430038032744411e-13\n",
      "P-value < alpha --> We reject the null hypothesis.\n"
     ]
    }
   ],
   "source": [
    "results = st.ttest_ind(duration_good, duration_bad)\n",
    "\n",
    "alpha = .05\n",
    "\n",
    "print('p-value: ', results.pvalue)\n",
    "\n",
    "if (results.pvalue < alpha):\n",
    "        print(\"P-value < alpha --> We reject the null hypothesis.\")\n",
    "else:\n",
    "        print(\"P-value > alpha --> We can't reject the null hypothesis.\") "
   ]
  },
  {
   "cell_type": "markdown",
   "metadata": {},
   "source": [
    "### Conclusion"
   ]
  },
  {
   "cell_type": "markdown",
   "metadata": {},
   "source": [
    "In the cell above, the T-test had the result that the null hypothesis can be rejected because the p-values is higher than the significance level alpha. We can assume that the average duration of rides on days with bad weather conditions is longer than on days with good weather conditions.\n",
    "One possible reason for this could be that more people go on trips or are generally out and about when the weather is good, which worsens the traffic situation. As a result, more time is taken for the same route."
   ]
  },
  {
   "cell_type": "markdown",
   "metadata": {},
   "source": [
    "<div class=\"alert alert-block alert-success\">\n",
    "<b>Reviewer's comment v.1</b> \n",
    "    \n",
    "Excellent! You have mastered the test!    \n",
    "</div>"
   ]
  },
  {
   "cell_type": "markdown",
   "metadata": {},
   "source": [
    "## Overall conclusion and recommendation"
   ]
  },
  {
   "cell_type": "markdown",
   "metadata": {},
   "source": [
    "This project aimed to find out the cab companies with the most trips, the main destinations for cab companies, and the impact of weather conditions on business. The top 3 companies from the number of trips are \"Flash Cab\", \"Taxi Affiliation Services\" and \"Medallion Leasing\". \"Flash Cab\" is by far the most successful company with 50% more trips than its main competitor \"Taxi Affiliation Services\". Since the length of the trips from the table \"locations\" could not be assigned to the trips, the success of the company could only be determined by the variable \"trip length\".\n",
    "The neighborhoods \"Loop\", \"River North\" and \"Streetville\" are particularly important for the cab companies. These are the most frequent destinations for cab trips with over 6000 - 1000 trips. These 3 locations are also very close to each other.\n",
    "Finally, by applying the hypothesis test for equality of means, it has been found that trips from the Loop to the airport O'Hare take significantly longer in bad weather conditions than trips in good weather conditions. On average, trips took 2427 seconds in good weather and 1999 seconds in bad weather.\n",
    "Summarizing the results, we can see that the site selection between the \"Loop\", \"River North\" and \"Streetville\" districts would make a lot of sense from an order perspective.\n",
    "Also crucial is that for future profit planning, the weather forecast should be taken into account, as it affects the length of the booked trips from Loop to the airport. Significantly more time is taken up in good weather, which could mean more drivers are needed on those days."
   ]
  },
  {
   "cell_type": "markdown",
   "metadata": {},
   "source": [
    "<div class=\"alert alert-block alert-success\">\n",
    "<b>Reviewer's comment v.1</b> \n",
    "    \n",
    "Well done! We have summarized the main results here. Good work!</div>"
   ]
  },
  {
   "cell_type": "markdown",
   "metadata": {},
   "source": [
    "<div class=\"alert alert-block alert-danger\">\n",
    "<b>Reviewer's comment v.1</b>\n",
    "    \n",
    "I would suggest that there is a minor issue: you’ve made a lot of correct steps with the exception of testing part! Your code sometimes looks professional. By the way, to be an analyst we have to make data-based conclusions. Some of them - are a description of data and our findings, others - about technical problems with data, but the most important ones - insights useful for business. It is hard and interesting.\n",
    "\n",
    "Could you please suggest some improvements for Zuber company based on explored data in detail? It may be where to open rental points? What is the strategy to choose for a trip to the airport? Maybe something about the rain? Maybe something else?\n",
    "</div>\n"
   ]
  },
  {
   "cell_type": "markdown",
   "metadata": {},
   "source": [
    "<div class=\"alert alert-block alert-success\">\n",
    "<b>Reviewer's comment v.2</b> \n",
    "    \n",
    "Well done! The basic recommendations for Zuber have been formulated. \n",
    "\n",
    "</div>"
   ]
  }
 ],
 "metadata": {
  "kernelspec": {
   "display_name": "Python 3 (ipykernel)",
   "language": "python",
   "name": "python3"
  },
  "language_info": {
   "codemirror_mode": {
    "name": "ipython",
    "version": 3
   },
   "file_extension": ".py",
   "mimetype": "text/x-python",
   "name": "python",
   "nbconvert_exporter": "python",
   "pygments_lexer": "ipython3",
   "version": "3.9.5"
  },
  "toc": {
   "base_numbering": 1,
   "nav_menu": {},
   "number_sections": true,
   "sideBar": true,
   "skip_h1_title": true,
   "title_cell": "Table of Contents",
   "title_sidebar": "Contents",
   "toc_cell": false,
   "toc_position": {
    "height": "calc(100% - 180px)",
    "left": "10px",
    "top": "150px",
    "width": "221.107px"
   },
   "toc_section_display": true,
   "toc_window_display": true
  }
 },
 "nbformat": 4,
 "nbformat_minor": 2
}
