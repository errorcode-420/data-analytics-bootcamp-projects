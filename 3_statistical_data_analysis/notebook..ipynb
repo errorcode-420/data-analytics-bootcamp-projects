{
 "cells": [
  {
   "cell_type": "markdown",
   "metadata": {},
   "source": [
    "Hi Ferdinand. I'm Svetlana and will review your project. I've added all my comments to new cells with different coloring. Please don't delete my comments.\n",
    "\n",
    "\n",
    "The first time I see a mistake, I'll just point it out and let you find it and fix it yourself. In a real job, your boss will do the same, and I'm trying to prepare you to work as an Data Analyst. But if you can't handle this task yet, I'll give you a more accurate hint at the next check.\n",
    "\n",
    "<div class=\"alert alert-success\" role=\"alert\">\n",
    "Reviewer's comment v. 1:\n",
    "    \n",
    "If you did something great I'm using green color for my comment\n",
    "</div>\n",
    "\n",
    "<div class=\"alert alert-warning\" role=\"alert\">\n",
    "Reviewer's comment v. 1:\n",
    "    \n",
    "If I want to give you advice or think that something can be improved, then I'll use yellow. This is an optional recommendation.\n",
    "</div>\n",
    "\n",
    "<div class=\"alert alert-danger\" role=\"alert\">\n",
    "Reviewer's comment v. 1:\n",
    "    \n",
    "If the topic requires some extra work so I can accept it then the color will be red\n",
    "</div>\n",
    "\n",
    "## Review v. 1 <a class=\"tocSkip\">\n",
    "\n",
    "Thank you for sending your project. You've done a really good job on it! While there's room for improvement, on the whole, your project is looking good. I've found some tiny mistakes in your project. They'll be easy to fix. There are also some comments for improvement. They don’t mean that you’ve done anything wrong, but they’re things we wanted to point out that can help you further develop your skills. I believe you can easily fix it!\n",
    "    \n",
    "## Review v. 2 <a class=\"tocSkip\">\n",
    "    \n",
    "Your corrections look great, you've improved your work significantly! I'm glad to say that your project has been accepted. Keep up the good work."
   ]
  },
  {
   "cell_type": "markdown",
   "metadata": {},
   "source": [
    "# Project 3: Telecom operator"
   ]
  },
  {
   "cell_type": "markdown",
   "metadata": {},
   "source": [
    "Task: \n",
    "You work as an analyst for the telecom operator Megaline. The company offers its clients two prepaid plans, Surf and Ultimate. The commercial department wants to know which of the plans brings in more revenue in order to adjust the advertising budget.\n",
    "You are going to carry out a preliminary analysis of the plans based on a relatively small client selection. You'll have the data on 500 Megaline clients: who the clients are, where they're from, which plan they use, and the number of calls they made and text messages they sent in 2018. Your job is to analyze clients' behavior and determine which prepaid plan brings in more revenue.\n",
    "\n",
    "Steps:\n",
    "\n",
    "1. Read data\n",
    "\n",
    "2. Study general informations about the data:\n",
    "    In this step, I will try to find errors in the given dataframes. This can be missing values, wrong data types or wrong values.\n",
    "    \n",
    "3. Preprocessing:\n",
    "    Depending on the results from step 2, i will fix these errors by chanhing datatypes, etc..\n",
    "\n",
    "4. Merging dataframes on id\n",
    "    In this step I will create a big dataframe, which includes all the relevant and preprocessed data for the following steps\n",
    "    \n",
    "5. Calculate Costs for each user and month:\n",
    "    In this step, a function will be created, which uses the merged data, to calculate the costs for all the users for evry month.\n",
    "    \n",
    "6. Analysis of the data:\n",
    "    In this step the users of the 2 plan types will be examined in the consumption behavior and the results will be compared.\n",
    "    \n",
    "7. Testing of null- hypotheses:\n",
    "    Two null- hypotheses will be tested:\n",
    "    The average revenue from users of Ultimate and Surf calling plans are equal.\n",
    "    The average revenue from users in NY-NJ area don't different from that of the users from other regions.\n",
    "\n",
    "8: Overall conclusion"
   ]
  },
  {
   "cell_type": "markdown",
   "metadata": {},
   "source": [
    "<div class=\"alert alert-success\" role=\"alert\">\n",
    "Reviewer's comment v. 1:\n",
    "    \n",
    "It’s great that you described the project :)\n",
    "</div>"
   ]
  },
  {
   "cell_type": "markdown",
   "metadata": {},
   "source": [
    "## Read data"
   ]
  },
  {
   "cell_type": "code",
   "execution_count": 1,
   "metadata": {},
   "outputs": [
    {
     "name": "stdout",
     "output_type": "stream",
     "text": [
      "id            1077_1077\n",
      "user_id            1077\n",
      "call_date    2018-12-17\n",
      "duration           5.33\n",
      "Name: 21110, dtype: object\n"
     ]
    }
   ],
   "source": [
    "import pandas as pd\n",
    "import numpy as np\n",
    "from matplotlib import pyplot as plt    \n",
    "from scipy import stats as st\n",
    "import math\n",
    "\n",
    "calls = pd.read_csv(\"/datasets/megaline_calls.csv\")\n",
    "internet = pd.read_csv(\"/datasets/megaline_internet.csv\")\n",
    "messages = pd.read_csv(\"/datasets/megaline_messages.csv\")\n",
    "plans = pd.read_csv(\"/datasets/megaline_plans.csv\")\n",
    "users = pd.read_csv(\"/datasets/megaline_users.csv\")\n",
    "\n",
    "print(calls.loc[21110])\n"
   ]
  },
  {
   "cell_type": "markdown",
   "metadata": {},
   "source": [
    "## Study general informations about the data"
   ]
  },
  {
   "cell_type": "markdown",
   "metadata": {},
   "source": [
    "### Search for wrong data types"
   ]
  },
  {
   "cell_type": "code",
   "execution_count": 2,
   "metadata": {
    "scrolled": true
   },
   "outputs": [
    {
     "name": "stdout",
     "output_type": "stream",
     "text": [
      "<class 'pandas.core.frame.DataFrame'>\n",
      "RangeIndex: 137735 entries, 0 to 137734\n",
      "Data columns (total 4 columns):\n",
      "id           137735 non-null object\n",
      "user_id      137735 non-null int64\n",
      "call_date    137735 non-null object\n",
      "duration     137735 non-null float64\n",
      "dtypes: float64(1), int64(1), object(2)\n",
      "memory usage: 4.2+ MB\n",
      "-----------\n",
      "<class 'pandas.core.frame.DataFrame'>\n",
      "RangeIndex: 104825 entries, 0 to 104824\n",
      "Data columns (total 4 columns):\n",
      "id              104825 non-null object\n",
      "user_id         104825 non-null int64\n",
      "session_date    104825 non-null object\n",
      "mb_used         104825 non-null float64\n",
      "dtypes: float64(1), int64(1), object(2)\n",
      "memory usage: 3.2+ MB\n",
      "-----------\n",
      "<class 'pandas.core.frame.DataFrame'>\n",
      "RangeIndex: 76051 entries, 0 to 76050\n",
      "Data columns (total 3 columns):\n",
      "id              76051 non-null object\n",
      "user_id         76051 non-null int64\n",
      "message_date    76051 non-null object\n",
      "dtypes: int64(1), object(2)\n",
      "memory usage: 1.7+ MB\n",
      "-----------\n",
      "<class 'pandas.core.frame.DataFrame'>\n",
      "RangeIndex: 2 entries, 0 to 1\n",
      "Data columns (total 8 columns):\n",
      "messages_included        2 non-null int64\n",
      "mb_per_month_included    2 non-null int64\n",
      "minutes_included         2 non-null int64\n",
      "usd_monthly_pay          2 non-null int64\n",
      "usd_per_gb               2 non-null int64\n",
      "usd_per_message          2 non-null float64\n",
      "usd_per_minute           2 non-null float64\n",
      "plan_name                2 non-null object\n",
      "dtypes: float64(2), int64(5), object(1)\n",
      "memory usage: 256.0+ bytes\n",
      "-----------\n",
      "<class 'pandas.core.frame.DataFrame'>\n",
      "RangeIndex: 500 entries, 0 to 499\n",
      "Data columns (total 8 columns):\n",
      "user_id       500 non-null int64\n",
      "first_name    500 non-null object\n",
      "last_name     500 non-null object\n",
      "age           500 non-null int64\n",
      "city          500 non-null object\n",
      "reg_date      500 non-null object\n",
      "plan          500 non-null object\n",
      "churn_date    34 non-null object\n",
      "dtypes: int64(2), object(6)\n",
      "memory usage: 31.4+ KB\n"
     ]
    }
   ],
   "source": [
    "calls.info()\n",
    "print(\"-----------\")\n",
    "internet.info()\n",
    "print(\"-----------\")\n",
    "messages.info()\n",
    "print(\"-----------\")\n",
    "plans.info()\n",
    "print(\"-----------\")\n",
    "users.info()\n"
   ]
  },
  {
   "cell_type": "code",
   "execution_count": 3,
   "metadata": {},
   "outputs": [
    {
     "name": "stdout",
     "output_type": "stream",
     "text": [
      "         id  user_id   call_date  duration\n",
      "0   1000_93     1000  2018-12-27      8.52\n",
      "1  1000_145     1000  2018-12-27     13.66\n",
      "2  1000_247     1000  2018-12-27     14.48\n",
      "3  1000_309     1000  2018-12-28      5.76\n",
      "4  1000_380     1000  2018-12-30      4.22\n",
      "-----------\n",
      "         id  user_id session_date  mb_used\n",
      "0   1000_13     1000   2018-12-29    89.86\n",
      "1  1000_204     1000   2018-12-31     0.00\n",
      "2  1000_379     1000   2018-12-28   660.40\n",
      "3  1000_413     1000   2018-12-26   270.99\n",
      "4  1000_442     1000   2018-12-27   880.22\n",
      "-----------\n",
      "         id  user_id message_date\n",
      "0  1000_125     1000   2018-12-27\n",
      "1  1000_160     1000   2018-12-31\n",
      "2  1000_223     1000   2018-12-31\n",
      "3  1000_251     1000   2018-12-27\n",
      "4  1000_255     1000   2018-12-26\n",
      "-----------\n",
      "   messages_included  mb_per_month_included  minutes_included  \\\n",
      "0                 50                  15360               500   \n",
      "1               1000                  30720              3000   \n",
      "\n",
      "   usd_monthly_pay  usd_per_gb  usd_per_message  usd_per_minute plan_name  \n",
      "0               20          10             0.03            0.03      surf  \n",
      "1               70           7             0.01            0.01  ultimate  \n",
      "-----------\n",
      "   user_id first_name  last_name  age                                   city  \\\n",
      "0     1000   Anamaria      Bauer   45  Atlanta-Sandy Springs-Roswell, GA MSA   \n",
      "1     1001     Mickey  Wilkerson   28        Seattle-Tacoma-Bellevue, WA MSA   \n",
      "2     1002     Carlee    Hoffman   36   Las Vegas-Henderson-Paradise, NV MSA   \n",
      "3     1003   Reynaldo    Jenkins   52                          Tulsa, OK MSA   \n",
      "4     1004    Leonila   Thompson   40        Seattle-Tacoma-Bellevue, WA MSA   \n",
      "\n",
      "     reg_date      plan churn_date  \n",
      "0  2018-12-24  ultimate        NaN  \n",
      "1  2018-08-13      surf        NaN  \n",
      "2  2018-10-21      surf        NaN  \n",
      "3  2018-01-28      surf        NaN  \n",
      "4  2018-05-23      surf        NaN  \n"
     ]
    }
   ],
   "source": [
    "print(calls.head())\n",
    "print(\"-----------\")\n",
    "print(internet.head())\n",
    "print(\"-----------\")\n",
    "print(messages.head())\n",
    "print(\"-----------\")\n",
    "print(plans.head())\n",
    "print(\"-----------\")\n",
    "print(users.head())\n"
   ]
  },
  {
   "cell_type": "markdown",
   "metadata": {},
   "source": [
    "Wrong data types found:\n",
    "\n",
    "\n",
    "calls:\n",
    "\n",
    "- id: string (1000_23) --> int (23)\n",
    "- call_date: string --> date_time\n",
    "\n",
    "\n",
    "internet:\n",
    "\n",
    "- id: string (1000_23) --> int (23)\n",
    "- session_date: string --> date_time\n",
    "\n",
    "\n",
    "messages:\n",
    "\n",
    "- id: string (1000_23) --> int (23)\n",
    "- message_date: string --> date_time\n",
    "\n",
    "\n",
    "users:\n",
    "\n",
    "...\n",
    "\n",
    "\n",
    "plans:\n",
    "\n",
    "- reg_date: string --> date_time     "
   ]
  },
  {
   "cell_type": "markdown",
   "metadata": {},
   "source": [
    "<div class=\"alert alert-success\" role=\"alert\">\n",
    "Reviewer's comment v. 1:\n",
    "    \n",
    "Yes, it's necessary to change data types.\n",
    "</div>"
   ]
  },
  {
   "cell_type": "markdown",
   "metadata": {},
   "source": [
    "### Search for missing values"
   ]
  },
  {
   "cell_type": "code",
   "execution_count": 4,
   "metadata": {},
   "outputs": [],
   "source": [
    "# Function to count missing values for each columns in a DataFrame\n",
    "def missing_data(data):\n",
    "    # Count number of missing value in a column\n",
    "    total = data.isnull().sum()           \n",
    "    \n",
    "    # Get Percentage of missing values\n",
    "    percent = (data.isnull().sum()/data.isnull().count()*100)   \n",
    "    temp = pd.concat([total, percent], axis=1, keys=['Total', 'Percent(%)'])\n",
    "\n",
    "    # Create a Type column, that indicates the data-type of the column.\n",
    "    types = []\n",
    "    for col in data.columns:\n",
    "        dtype = str(data[col].dtype)\n",
    "        types.append(dtype)\n",
    "    temp['Types'] = types\n",
    "\n",
    "    return(np.transpose(temp))\n"
   ]
  },
  {
   "cell_type": "code",
   "execution_count": 5,
   "metadata": {},
   "outputs": [
    {
     "data": {
      "text/html": [
       "<div>\n",
       "<style scoped>\n",
       "    .dataframe tbody tr th:only-of-type {\n",
       "        vertical-align: middle;\n",
       "    }\n",
       "\n",
       "    .dataframe tbody tr th {\n",
       "        vertical-align: top;\n",
       "    }\n",
       "\n",
       "    .dataframe thead th {\n",
       "        text-align: right;\n",
       "    }\n",
       "</style>\n",
       "<table border=\"1\" class=\"dataframe\">\n",
       "  <thead>\n",
       "    <tr style=\"text-align: right;\">\n",
       "      <th></th>\n",
       "      <th>id</th>\n",
       "      <th>user_id</th>\n",
       "      <th>call_date</th>\n",
       "      <th>duration</th>\n",
       "    </tr>\n",
       "  </thead>\n",
       "  <tbody>\n",
       "    <tr>\n",
       "      <td>Total</td>\n",
       "      <td>0</td>\n",
       "      <td>0</td>\n",
       "      <td>0</td>\n",
       "      <td>0</td>\n",
       "    </tr>\n",
       "    <tr>\n",
       "      <td>Percent(%)</td>\n",
       "      <td>0</td>\n",
       "      <td>0</td>\n",
       "      <td>0</td>\n",
       "      <td>0</td>\n",
       "    </tr>\n",
       "    <tr>\n",
       "      <td>Types</td>\n",
       "      <td>object</td>\n",
       "      <td>int64</td>\n",
       "      <td>object</td>\n",
       "      <td>float64</td>\n",
       "    </tr>\n",
       "  </tbody>\n",
       "</table>\n",
       "</div>"
      ],
      "text/plain": [
       "                id user_id call_date duration\n",
       "Total            0       0         0        0\n",
       "Percent(%)       0       0         0        0\n",
       "Types       object   int64    object  float64"
      ]
     },
     "execution_count": 5,
     "metadata": {},
     "output_type": "execute_result"
    }
   ],
   "source": [
    "missing_data(calls)"
   ]
  },
  {
   "cell_type": "code",
   "execution_count": 6,
   "metadata": {},
   "outputs": [
    {
     "data": {
      "text/html": [
       "<div>\n",
       "<style scoped>\n",
       "    .dataframe tbody tr th:only-of-type {\n",
       "        vertical-align: middle;\n",
       "    }\n",
       "\n",
       "    .dataframe tbody tr th {\n",
       "        vertical-align: top;\n",
       "    }\n",
       "\n",
       "    .dataframe thead th {\n",
       "        text-align: right;\n",
       "    }\n",
       "</style>\n",
       "<table border=\"1\" class=\"dataframe\">\n",
       "  <thead>\n",
       "    <tr style=\"text-align: right;\">\n",
       "      <th></th>\n",
       "      <th>id</th>\n",
       "      <th>user_id</th>\n",
       "      <th>session_date</th>\n",
       "      <th>mb_used</th>\n",
       "    </tr>\n",
       "  </thead>\n",
       "  <tbody>\n",
       "    <tr>\n",
       "      <td>Total</td>\n",
       "      <td>0</td>\n",
       "      <td>0</td>\n",
       "      <td>0</td>\n",
       "      <td>0</td>\n",
       "    </tr>\n",
       "    <tr>\n",
       "      <td>Percent(%)</td>\n",
       "      <td>0</td>\n",
       "      <td>0</td>\n",
       "      <td>0</td>\n",
       "      <td>0</td>\n",
       "    </tr>\n",
       "    <tr>\n",
       "      <td>Types</td>\n",
       "      <td>object</td>\n",
       "      <td>int64</td>\n",
       "      <td>object</td>\n",
       "      <td>float64</td>\n",
       "    </tr>\n",
       "  </tbody>\n",
       "</table>\n",
       "</div>"
      ],
      "text/plain": [
       "                id user_id session_date  mb_used\n",
       "Total            0       0            0        0\n",
       "Percent(%)       0       0            0        0\n",
       "Types       object   int64       object  float64"
      ]
     },
     "execution_count": 6,
     "metadata": {},
     "output_type": "execute_result"
    }
   ],
   "source": [
    "missing_data(internet)"
   ]
  },
  {
   "cell_type": "code",
   "execution_count": 7,
   "metadata": {},
   "outputs": [
    {
     "data": {
      "text/html": [
       "<div>\n",
       "<style scoped>\n",
       "    .dataframe tbody tr th:only-of-type {\n",
       "        vertical-align: middle;\n",
       "    }\n",
       "\n",
       "    .dataframe tbody tr th {\n",
       "        vertical-align: top;\n",
       "    }\n",
       "\n",
       "    .dataframe thead th {\n",
       "        text-align: right;\n",
       "    }\n",
       "</style>\n",
       "<table border=\"1\" class=\"dataframe\">\n",
       "  <thead>\n",
       "    <tr style=\"text-align: right;\">\n",
       "      <th></th>\n",
       "      <th>id</th>\n",
       "      <th>user_id</th>\n",
       "      <th>message_date</th>\n",
       "    </tr>\n",
       "  </thead>\n",
       "  <tbody>\n",
       "    <tr>\n",
       "      <td>Total</td>\n",
       "      <td>0</td>\n",
       "      <td>0</td>\n",
       "      <td>0</td>\n",
       "    </tr>\n",
       "    <tr>\n",
       "      <td>Percent(%)</td>\n",
       "      <td>0</td>\n",
       "      <td>0</td>\n",
       "      <td>0</td>\n",
       "    </tr>\n",
       "    <tr>\n",
       "      <td>Types</td>\n",
       "      <td>object</td>\n",
       "      <td>int64</td>\n",
       "      <td>object</td>\n",
       "    </tr>\n",
       "  </tbody>\n",
       "</table>\n",
       "</div>"
      ],
      "text/plain": [
       "                id user_id message_date\n",
       "Total            0       0            0\n",
       "Percent(%)       0       0            0\n",
       "Types       object   int64       object"
      ]
     },
     "execution_count": 7,
     "metadata": {},
     "output_type": "execute_result"
    }
   ],
   "source": [
    "missing_data(messages)"
   ]
  },
  {
   "cell_type": "code",
   "execution_count": 8,
   "metadata": {},
   "outputs": [
    {
     "data": {
      "text/html": [
       "<div>\n",
       "<style scoped>\n",
       "    .dataframe tbody tr th:only-of-type {\n",
       "        vertical-align: middle;\n",
       "    }\n",
       "\n",
       "    .dataframe tbody tr th {\n",
       "        vertical-align: top;\n",
       "    }\n",
       "\n",
       "    .dataframe thead th {\n",
       "        text-align: right;\n",
       "    }\n",
       "</style>\n",
       "<table border=\"1\" class=\"dataframe\">\n",
       "  <thead>\n",
       "    <tr style=\"text-align: right;\">\n",
       "      <th></th>\n",
       "      <th>user_id</th>\n",
       "      <th>first_name</th>\n",
       "      <th>last_name</th>\n",
       "      <th>age</th>\n",
       "      <th>city</th>\n",
       "      <th>reg_date</th>\n",
       "      <th>plan</th>\n",
       "      <th>churn_date</th>\n",
       "    </tr>\n",
       "  </thead>\n",
       "  <tbody>\n",
       "    <tr>\n",
       "      <td>Total</td>\n",
       "      <td>0</td>\n",
       "      <td>0</td>\n",
       "      <td>0</td>\n",
       "      <td>0</td>\n",
       "      <td>0</td>\n",
       "      <td>0</td>\n",
       "      <td>0</td>\n",
       "      <td>466</td>\n",
       "    </tr>\n",
       "    <tr>\n",
       "      <td>Percent(%)</td>\n",
       "      <td>0</td>\n",
       "      <td>0</td>\n",
       "      <td>0</td>\n",
       "      <td>0</td>\n",
       "      <td>0</td>\n",
       "      <td>0</td>\n",
       "      <td>0</td>\n",
       "      <td>93.2</td>\n",
       "    </tr>\n",
       "    <tr>\n",
       "      <td>Types</td>\n",
       "      <td>int64</td>\n",
       "      <td>object</td>\n",
       "      <td>object</td>\n",
       "      <td>int64</td>\n",
       "      <td>object</td>\n",
       "      <td>object</td>\n",
       "      <td>object</td>\n",
       "      <td>object</td>\n",
       "    </tr>\n",
       "  </tbody>\n",
       "</table>\n",
       "</div>"
      ],
      "text/plain": [
       "           user_id first_name last_name    age    city reg_date    plan  \\\n",
       "Total            0          0         0      0       0        0       0   \n",
       "Percent(%)       0          0         0      0       0        0       0   \n",
       "Types        int64     object    object  int64  object   object  object   \n",
       "\n",
       "           churn_date  \n",
       "Total             466  \n",
       "Percent(%)       93.2  \n",
       "Types          object  "
      ]
     },
     "execution_count": 8,
     "metadata": {},
     "output_type": "execute_result"
    }
   ],
   "source": [
    "missing_data(users)"
   ]
  },
  {
   "cell_type": "code",
   "execution_count": 9,
   "metadata": {},
   "outputs": [
    {
     "data": {
      "text/html": [
       "<div>\n",
       "<style scoped>\n",
       "    .dataframe tbody tr th:only-of-type {\n",
       "        vertical-align: middle;\n",
       "    }\n",
       "\n",
       "    .dataframe tbody tr th {\n",
       "        vertical-align: top;\n",
       "    }\n",
       "\n",
       "    .dataframe thead th {\n",
       "        text-align: right;\n",
       "    }\n",
       "</style>\n",
       "<table border=\"1\" class=\"dataframe\">\n",
       "  <thead>\n",
       "    <tr style=\"text-align: right;\">\n",
       "      <th></th>\n",
       "      <th>messages_included</th>\n",
       "      <th>mb_per_month_included</th>\n",
       "      <th>minutes_included</th>\n",
       "      <th>usd_monthly_pay</th>\n",
       "      <th>usd_per_gb</th>\n",
       "      <th>usd_per_message</th>\n",
       "      <th>usd_per_minute</th>\n",
       "      <th>plan_name</th>\n",
       "    </tr>\n",
       "  </thead>\n",
       "  <tbody>\n",
       "    <tr>\n",
       "      <td>Total</td>\n",
       "      <td>0</td>\n",
       "      <td>0</td>\n",
       "      <td>0</td>\n",
       "      <td>0</td>\n",
       "      <td>0</td>\n",
       "      <td>0</td>\n",
       "      <td>0</td>\n",
       "      <td>0</td>\n",
       "    </tr>\n",
       "    <tr>\n",
       "      <td>Percent(%)</td>\n",
       "      <td>0</td>\n",
       "      <td>0</td>\n",
       "      <td>0</td>\n",
       "      <td>0</td>\n",
       "      <td>0</td>\n",
       "      <td>0</td>\n",
       "      <td>0</td>\n",
       "      <td>0</td>\n",
       "    </tr>\n",
       "    <tr>\n",
       "      <td>Types</td>\n",
       "      <td>int64</td>\n",
       "      <td>int64</td>\n",
       "      <td>int64</td>\n",
       "      <td>int64</td>\n",
       "      <td>int64</td>\n",
       "      <td>float64</td>\n",
       "      <td>float64</td>\n",
       "      <td>object</td>\n",
       "    </tr>\n",
       "  </tbody>\n",
       "</table>\n",
       "</div>"
      ],
      "text/plain": [
       "           messages_included mb_per_month_included minutes_included  \\\n",
       "Total                      0                     0                0   \n",
       "Percent(%)                 0                     0                0   \n",
       "Types                  int64                 int64            int64   \n",
       "\n",
       "           usd_monthly_pay usd_per_gb usd_per_message usd_per_minute plan_name  \n",
       "Total                    0          0               0              0         0  \n",
       "Percent(%)               0          0               0              0         0  \n",
       "Types                int64      int64         float64        float64    object  "
      ]
     },
     "execution_count": 9,
     "metadata": {},
     "output_type": "execute_result"
    }
   ],
   "source": [
    "missing_data(plans)"
   ]
  },
  {
   "cell_type": "markdown",
   "metadata": {},
   "source": [
    "### Search for wrong values"
   ]
  },
  {
   "cell_type": "code",
   "execution_count": 10,
   "metadata": {},
   "outputs": [
    {
     "data": {
      "image/png": "[encoded data removed]",
      "text/plain": [
       "<Figure size 432x288 with 1 Axes>"
      ]
     },
     "metadata": {
      "needs_background": "light"
     },
     "output_type": "display_data"
    }
   ],
   "source": [
    "calls[\"duration\"].hist(bins=100)\n",
    "plt.show()"
   ]
  },
  {
   "cell_type": "markdown",
   "metadata": {},
   "source": [
    "<div class=\"alert alert-warning\" role=\"alert\">\n",
    "Reviewer's comment v. 2:\n",
    "    \n",
    "Please add the axis labels and the title to the graph.\n",
    "This applies to all other graphs too.\n",
    "</div>"
   ]
  },
  {
   "cell_type": "code",
   "execution_count": 11,
   "metadata": {},
   "outputs": [
    {
     "name": "stdout",
     "output_type": "stream",
     "text": [
      "0.1948233927469416\n"
     ]
    }
   ],
   "source": [
    "dur_0 = len(calls.loc[calls[\"duration\"] == 0]) / len(calls)\n",
    "print(dur_0)"
   ]
  },
  {
   "cell_type": "markdown",
   "metadata": {},
   "source": [
    "19.5% of the calls sessions have a duration of 0 minutes."
   ]
  },
  {
   "cell_type": "code",
   "execution_count": 12,
   "metadata": {},
   "outputs": [
    {
     "data": {
      "image/png": "[encoded data removed]",
      "text/plain": [
       "<Figure size 432x288 with 1 Axes>"
      ]
     },
     "metadata": {
      "needs_background": "light"
     },
     "output_type": "display_data"
    }
   ],
   "source": [
    "internet[\"mb_used\"].hist(bins=100)\n",
    "plt.show()"
   ]
  },
  {
   "cell_type": "code",
   "execution_count": 13,
   "metadata": {},
   "outputs": [
    {
     "name": "stdout",
     "output_type": "stream",
     "text": [
      "Pecentage of phone calls with a duruation of 0: 13.1%\n"
     ]
    }
   ],
   "source": [
    "mb_0 = len(internet.loc[internet[\"mb_used\"] == 0]) / len(internet)\n",
    "print(\"Pecentage of phone calls with a duruation of 0: {:.1%}\".format(mb_0))\n"
   ]
  },
  {
   "cell_type": "markdown",
   "metadata": {},
   "source": [
    "<div class=\"alert alert-success\" role=\"alert\">\n",
    "Reviewer's comment v. 1:\n",
    "    \n",
    "Please note that you can use .format to output only required number of decimal places (https://pyformat.info/).\n",
    "</div>"
   ]
  },
  {
   "cell_type": "markdown",
   "metadata": {},
   "source": [
    "13.1% of the Internet sessions have a data consumption of 0 MB."
   ]
  },
  {
   "cell_type": "markdown",
   "metadata": {},
   "source": [
    "In the two histograms above, we can see that there are calls with a duration of 0 minutes and Internet sessions with 0 MB used. Because they don't affect the costs for the consumer, I decided to delete them, in the next step. A possible reason for the 0 calls is that a call was rejected or the call recipient missed it. Internet sessions where no mb is consumed could be because the user was either surfing over a wifi network, or the browser was opened briefly and closed again."
   ]
  },
  {
   "cell_type": "markdown",
   "metadata": {},
   "source": [
    "<div class=\"alert alert-danger\" role=\"alert\">\n",
    "Reviewer's comment v. 1:\n",
    "    \n",
    "Could you please explain a possible reason of a zero duration calls?\n",
    "</div>"
   ]
  },
  {
   "cell_type": "markdown",
   "metadata": {},
   "source": [
    "<div class=\"alert alert-success\" role=\"alert\">\n",
    "Reviewer's comment v. 2:\n",
    "    \n",
    "Yes, a reasonable explanation of a zero duration calls and interner usage.\n",
    "</div>"
   ]
  },
  {
   "cell_type": "markdown",
   "metadata": {},
   "source": [
    "### Conclusion"
   ]
  },
  {
   "cell_type": "markdown",
   "metadata": {},
   "source": [
    "We have 5 records that can be classified into 3 different categories. The records \"Call\", \"Inernet\" and \"Messages\" are one category because they have a very similar structure. Here we can find the data about the consumption volume of the respective area. Each call, message and internet session is listed with its own ID in this record. The \"plans\" and \"users\" datasets are a unit by themselves. In the \"plans\" data we can find the data about the 2 products. There is information about the prices and the possible consumption quantities of the different areas. In the \"users\" data set we can find information about the users themselves. All these data are connected through the \"id\" column.\n",
    "\n",
    "There are no missing values in the 5 records, except in the \"churn_date\" column of the \"user\" record. From this column we know that if the value is missing, the call plan was used when this data was retrieved.\n",
    "\n",
    "Some of the data types should be changed for later processing. All date columns are strings. I change their type to \"date_time\". Also, there is a problem with the ids from the columns where the calls / messages / internet sessions get their own id. There we find a combination of the user id and the specific id. For example:\n",
    "1000_93 (USER ID_SPECIFIC ID).\n",
    "I'll remove the \"_\" and the user id, since it's already listed in the \"id\" column. After that I can convert the values in this column to integer."
   ]
  },
  {
   "cell_type": "markdown",
   "metadata": {},
   "source": [
    "<div class=\"alert alert-success\" role=\"alert\">\n",
    "Reviewer's comment v. 1:\n",
    "    \n",
    "Ok, data is downloaded and ready for the further preparation and analysis.\n",
    "</div>"
   ]
  },
  {
   "cell_type": "markdown",
   "metadata": {},
   "source": [
    "## Preprocessing"
   ]
  },
  {
   "cell_type": "markdown",
   "metadata": {},
   "source": [
    "Here I will do the steps I mentioned in the conclusion above."
   ]
  },
  {
   "cell_type": "markdown",
   "metadata": {},
   "source": [
    "### Change wrong data types"
   ]
  },
  {
   "cell_type": "markdown",
   "metadata": {},
   "source": [
    "#### Date- columns"
   ]
  },
  {
   "cell_type": "code",
   "execution_count": 14,
   "metadata": {},
   "outputs": [
    {
     "name": "stdout",
     "output_type": "stream",
     "text": [
      "<class 'pandas.core.frame.DataFrame'>\n",
      "RangeIndex: 137735 entries, 0 to 137734\n",
      "Data columns (total 4 columns):\n",
      "id           137735 non-null object\n",
      "user_id      137735 non-null int64\n",
      "call_date    137735 non-null object\n",
      "duration     137735 non-null float64\n",
      "dtypes: float64(1), int64(1), object(2)\n",
      "memory usage: 4.2+ MB\n",
      "\n",
      "<class 'pandas.core.frame.DataFrame'>\n",
      "RangeIndex: 76051 entries, 0 to 76050\n",
      "Data columns (total 3 columns):\n",
      "id              76051 non-null object\n",
      "user_id         76051 non-null int64\n",
      "message_date    76051 non-null object\n",
      "dtypes: int64(1), object(2)\n",
      "memory usage: 1.7+ MB\n",
      "\n",
      "<class 'pandas.core.frame.DataFrame'>\n",
      "RangeIndex: 104825 entries, 0 to 104824\n",
      "Data columns (total 4 columns):\n",
      "id              104825 non-null object\n",
      "user_id         104825 non-null int64\n",
      "session_date    104825 non-null object\n",
      "mb_used         104825 non-null float64\n",
      "dtypes: float64(1), int64(1), object(2)\n",
      "memory usage: 3.2+ MB\n",
      "\n",
      "<class 'pandas.core.frame.DataFrame'>\n",
      "RangeIndex: 500 entries, 0 to 499\n",
      "Data columns (total 8 columns):\n",
      "user_id       500 non-null int64\n",
      "first_name    500 non-null object\n",
      "last_name     500 non-null object\n",
      "age           500 non-null int64\n",
      "city          500 non-null object\n",
      "reg_date      500 non-null object\n",
      "plan          500 non-null object\n",
      "churn_date    34 non-null object\n",
      "dtypes: int64(2), object(6)\n",
      "memory usage: 31.4+ KB\n"
     ]
    }
   ],
   "source": [
    "calls.info()\n",
    "print()\n",
    "messages.info()\n",
    "print()\n",
    "internet.info()\n",
    "print()\n",
    "users.info()"
   ]
  },
  {
   "cell_type": "code",
   "execution_count": 15,
   "metadata": {},
   "outputs": [],
   "source": [
    "calls[\"call_date\"]= pd.to_datetime(calls[\"call_date\"])\n",
    "messages[\"message_date\"]= pd.to_datetime(messages[\"message_date\"]) \n",
    "internet[\"session_date\"]= pd.to_datetime(internet[\"session_date\"]) \n",
    "users[\"churn_date\"] = pd.to_datetime(users[\"churn_date\"]) "
   ]
  },
  {
   "cell_type": "markdown",
   "metadata": {},
   "source": [
    "<div class=\"alert alert-success\" role=\"alert\">\n",
    "Reviewer's comment v. 1:\n",
    "    \n",
    "It's great that you brought the data to the desired formats.\n",
    "</div>"
   ]
  },
  {
   "cell_type": "code",
   "execution_count": 16,
   "metadata": {},
   "outputs": [
    {
     "name": "stdout",
     "output_type": "stream",
     "text": [
      "<class 'pandas.core.frame.DataFrame'>\n",
      "RangeIndex: 137735 entries, 0 to 137734\n",
      "Data columns (total 4 columns):\n",
      "id           137735 non-null object\n",
      "user_id      137735 non-null int64\n",
      "call_date    137735 non-null datetime64[ns]\n",
      "duration     137735 non-null float64\n",
      "dtypes: datetime64[ns](1), float64(1), int64(1), object(1)\n",
      "memory usage: 4.2+ MB\n",
      "\n",
      "<class 'pandas.core.frame.DataFrame'>\n",
      "RangeIndex: 76051 entries, 0 to 76050\n",
      "Data columns (total 3 columns):\n",
      "id              76051 non-null object\n",
      "user_id         76051 non-null int64\n",
      "message_date    76051 non-null datetime64[ns]\n",
      "dtypes: datetime64[ns](1), int64(1), object(1)\n",
      "memory usage: 1.7+ MB\n",
      "\n",
      "<class 'pandas.core.frame.DataFrame'>\n",
      "RangeIndex: 104825 entries, 0 to 104824\n",
      "Data columns (total 4 columns):\n",
      "id              104825 non-null object\n",
      "user_id         104825 non-null int64\n",
      "session_date    104825 non-null datetime64[ns]\n",
      "mb_used         104825 non-null float64\n",
      "dtypes: datetime64[ns](1), float64(1), int64(1), object(1)\n",
      "memory usage: 3.2+ MB\n",
      "\n",
      "<class 'pandas.core.frame.DataFrame'>\n",
      "RangeIndex: 500 entries, 0 to 499\n",
      "Data columns (total 8 columns):\n",
      "user_id       500 non-null int64\n",
      "first_name    500 non-null object\n",
      "last_name     500 non-null object\n",
      "age           500 non-null int64\n",
      "city          500 non-null object\n",
      "reg_date      500 non-null object\n",
      "plan          500 non-null object\n",
      "churn_date    34 non-null datetime64[ns]\n",
      "dtypes: datetime64[ns](1), int64(2), object(5)\n",
      "memory usage: 31.4+ KB\n"
     ]
    }
   ],
   "source": [
    "calls.info()\n",
    "print()\n",
    "messages.info()\n",
    "print()\n",
    "internet.info()\n",
    "print()\n",
    "users.info()"
   ]
  },
  {
   "cell_type": "markdown",
   "metadata": {},
   "source": [
    "#### Id- columns"
   ]
  },
  {
   "cell_type": "markdown",
   "metadata": {},
   "source": [
    "To get integer values in the \"id\" column that do not contain the user ID, 3 steps are necessary: First, the user id is removed. For this I define the function \"remove_user_id\" which eliminates the user ID from the \"id\" column. For the second step I define another function \"remove_character\" which removes the \"_\" separator. After applying these 2 functions, only the id of the call/message/session remains, which I can convert to an integer in the last step. Because a loop function takes a lot of time to apply, if it itterates through a large data set, I defined \"test_data\", which just contains the first 3 rows of the \"call\"- data. The definition of the 2 methods needed ceveral trys, so testing it on a small data set saved a lot of time."
   ]
  },
  {
   "cell_type": "markdown",
   "metadata": {},
   "source": [
    "<div class=\"alert alert-success\" role=\"alert\">\n",
    "Reviewer's comment v. 1:\n",
    "    \n",
    "It's great that wrote additional function for processing of user ID. Well done that you optimized testing of your function :)\n",
    "</div>"
   ]
  },
  {
   "cell_type": "code",
   "execution_count": 17,
   "metadata": {},
   "outputs": [],
   "source": [
    "test_data = calls.head(3)\n",
    "\n",
    "\n",
    "def remove_user_id(data):\n",
    "    data_new = data\n",
    "    row_new =[]\n",
    "    \n",
    "    for index, row in data_new.iterrows():\n",
    "        user_id = str(row[\"user_id\"])\n",
    "        new_id = row[\"id\"].replace(user_id, '')\n",
    "        #One problem has come up. If the id has the same value as the user_id, \n",
    "        #for example: 1070_1070, then the function eliminated both numbers\n",
    "        #and all that is left is the value \"_\" in the \"id\" column. \n",
    "        #To fix this, there had to be an if condition that adds the user_id in these cases.\n",
    "        if new_id ==\"_\":\n",
    "            new_id = user_id\n",
    "        row_new.append(new_id)\n",
    "        \n",
    "    data_new[\"id\"] = row_new\n",
    "    return data_new\n",
    "\n",
    "\n",
    "\n",
    "def remove_character(data, char):\n",
    "    data_new = data\n",
    "    row_new =[]\n",
    "    \n",
    "    for index, row in data_new.iterrows():\n",
    "        row_new.append(row[\"id\"].replace(char, ''))\n",
    "        \n",
    "    data_new[\"id\"] = row_new\n",
    "    return data_new"
   ]
  },
  {
   "cell_type": "markdown",
   "metadata": {},
   "source": [
    "<div class=\"alert alert-success\" role=\"alert\">\n",
    "Reviewer's comment v. 1:\n",
    "    \n",
    "Please note that you can avoid warnings (if necessary) by using the code below.\n",
    "</div>"
   ]
  },
  {
   "cell_type": "code",
   "execution_count": 18,
   "metadata": {},
   "outputs": [],
   "source": [
    "import sys\n",
    "import warnings\n",
    "if not sys.warnoptions:\n",
    "       warnings.simplefilter(\"ignore\")"
   ]
  },
  {
   "cell_type": "code",
   "execution_count": 19,
   "metadata": {},
   "outputs": [
    {
     "name": "stdout",
     "output_type": "stream",
     "text": [
      "         id  user_id  call_date  duration\n",
      "0   1000_93     1000 2018-12-27      8.52\n",
      "1  1000_145     1000 2018-12-27     13.66\n",
      "2  1000_247     1000 2018-12-27     14.48\n",
      "\n",
      "     id  user_id  call_date  duration\n",
      "0   _93     1000 2018-12-27      8.52\n",
      "1  _145     1000 2018-12-27     13.66\n",
      "2  _247     1000 2018-12-27     14.48\n",
      "\n",
      "    id  user_id  call_date  duration\n",
      "0   93     1000 2018-12-27      8.52\n",
      "1  145     1000 2018-12-27     13.66\n",
      "2  247     1000 2018-12-27     14.48\n"
     ]
    }
   ],
   "source": [
    "print(test_data)\n",
    "print()\n",
    "test_data = remove_user_id(test_data)\n",
    "print(test_data)\n",
    "print()\n",
    "test_data = remove_character(test_data, \"_\")\n",
    "print(test_data)"
   ]
  },
  {
   "cell_type": "markdown",
   "metadata": {},
   "source": [
    "Afer testing the functions, the real procession can begin. Applying the created function 3 times, can take a lot of time ~2 minutes."
   ]
  },
  {
   "cell_type": "code",
   "execution_count": 20,
   "metadata": {},
   "outputs": [],
   "source": [
    "calls = remove_user_id(calls)\n",
    "calls = remove_character(calls, \"_\")\n",
    "\n",
    "messages = remove_user_id(messages)\n",
    "messages = remove_character(messages, \"_\")\n",
    "\n",
    "internet = remove_user_id(internet)\n",
    "internet = remove_character(internet, \"_\")"
   ]
  },
  {
   "cell_type": "code",
   "execution_count": 21,
   "metadata": {},
   "outputs": [
    {
     "name": "stdout",
     "output_type": "stream",
     "text": [
      "<class 'pandas.core.frame.DataFrame'>\n",
      "RangeIndex: 137735 entries, 0 to 137734\n",
      "Data columns (total 4 columns):\n",
      "id           137735 non-null object\n",
      "user_id      137735 non-null int64\n",
      "call_date    137735 non-null datetime64[ns]\n",
      "duration     137735 non-null float64\n",
      "dtypes: datetime64[ns](1), float64(1), int64(1), object(1)\n",
      "memory usage: 4.2+ MB\n",
      "    id  user_id  call_date  duration\n",
      "0   93     1000 2018-12-27      8.52\n",
      "1  145     1000 2018-12-27     13.66\n",
      "2  247     1000 2018-12-27     14.48\n",
      "3  309     1000 2018-12-28      5.76\n",
      "4  380     1000 2018-12-30      4.22\n"
     ]
    }
   ],
   "source": [
    "calls.info()\n",
    "print (calls.head())"
   ]
  },
  {
   "cell_type": "markdown",
   "metadata": {},
   "source": [
    "### Delete 0-calls and 0-sessions"
   ]
  },
  {
   "cell_type": "markdown",
   "metadata": {},
   "source": [
    "#### Delete 0-calls"
   ]
  },
  {
   "cell_type": "code",
   "execution_count": 22,
   "metadata": {},
   "outputs": [
    {
     "name": "stdout",
     "output_type": "stream",
     "text": [
      "137735\n"
     ]
    }
   ],
   "source": [
    "print(len(calls))"
   ]
  },
  {
   "cell_type": "code",
   "execution_count": 23,
   "metadata": {},
   "outputs": [],
   "source": [
    "calls = calls.loc[calls[\"duration\"]>0]"
   ]
  },
  {
   "cell_type": "code",
   "execution_count": 24,
   "metadata": {},
   "outputs": [
    {
     "name": "stdout",
     "output_type": "stream",
     "text": [
      "110901\n"
     ]
    }
   ],
   "source": [
    "print(len(calls))"
   ]
  },
  {
   "cell_type": "markdown",
   "metadata": {},
   "source": [
    "#### Delete 0-sessions"
   ]
  },
  {
   "cell_type": "code",
   "execution_count": 25,
   "metadata": {},
   "outputs": [
    {
     "name": "stdout",
     "output_type": "stream",
     "text": [
      "104825\n"
     ]
    }
   ],
   "source": [
    "print(len(internet))"
   ]
  },
  {
   "cell_type": "code",
   "execution_count": 26,
   "metadata": {},
   "outputs": [],
   "source": [
    "internet = internet.loc[internet[\"mb_used\"]>0]"
   ]
  },
  {
   "cell_type": "code",
   "execution_count": 27,
   "metadata": {},
   "outputs": [
    {
     "name": "stdout",
     "output_type": "stream",
     "text": [
      "91078\n"
     ]
    }
   ],
   "source": [
    "print(len(internet))"
   ]
  },
  {
   "cell_type": "markdown",
   "metadata": {},
   "source": [
    "## Merging dataframes on id"
   ]
  },
  {
   "cell_type": "markdown",
   "metadata": {},
   "source": [
    "Since we have the consumption data split into 3 different datasets, we need to create one dataset that contains all the relevant data for the following steps. Each of the datasets will be grouped by \"user_id\" and \"month\" so that the combined dataset contains the total consumption data of each user for each month.\n",
    "Since rounded up data is used in the calculation of phone and internet charges, adjustments still need to be made to the data. The telephone minutes are rounded up for each call. This step must therefore be done before aggregation. The data consumption is rounded up to whole GB only at the end of the month. This must therefore be done after aggregation.\n"
   ]
  },
  {
   "cell_type": "code",
   "execution_count": 28,
   "metadata": {},
   "outputs": [],
   "source": [
    "#add the \"month\"- column\n",
    "calls[\"month\"] = pd.DatetimeIndex(calls[\"call_date\"]).month \n",
    "messages[\"month\"] = pd.DatetimeIndex(messages[\"message_date\"]).month \n",
    "internet[\"month\"] = pd.DatetimeIndex(internet[\"session_date\"]).month "
   ]
  },
  {
   "cell_type": "code",
   "execution_count": 29,
   "metadata": {},
   "outputs": [
    {
     "name": "stdout",
     "output_type": "stream",
     "text": [
      "    id  user_id  call_date  duration  month\n",
      "0   93     1000 2018-12-27      8.52     12\n",
      "1  145     1000 2018-12-27     13.66     12\n",
      "2  247     1000 2018-12-27     14.48     12\n",
      "3  309     1000 2018-12-28      5.76     12\n",
      "4  380     1000 2018-12-30      4.22     12\n"
     ]
    }
   ],
   "source": [
    "print(calls.head())"
   ]
  },
  {
   "cell_type": "code",
   "execution_count": 30,
   "metadata": {},
   "outputs": [],
   "source": [
    "calls[\"duration\"] = np.ceil(calls[\"duration\"])"
   ]
  },
  {
   "cell_type": "code",
   "execution_count": 31,
   "metadata": {},
   "outputs": [
    {
     "name": "stdout",
     "output_type": "stream",
     "text": [
      "    id  user_id  call_date  duration  month\n",
      "0   93     1000 2018-12-27       9.0     12\n",
      "1  145     1000 2018-12-27      14.0     12\n",
      "2  247     1000 2018-12-27      15.0     12\n",
      "3  309     1000 2018-12-28       6.0     12\n",
      "4  380     1000 2018-12-30       5.0     12\n"
     ]
    }
   ],
   "source": [
    "print(calls.head())"
   ]
  },
  {
   "cell_type": "code",
   "execution_count": 32,
   "metadata": {},
   "outputs": [],
   "source": [
    "calls_grouped = calls.groupby(['user_id', 'month']).agg({'duration': ['sum', \"count\"]}).reset_index()\n"
   ]
  },
  {
   "cell_type": "code",
   "execution_count": 33,
   "metadata": {},
   "outputs": [],
   "source": [
    "messages_grouped = messages.groupby(['user_id', 'month']).agg({'id': [\"count\"]}).reset_index()\n"
   ]
  },
  {
   "cell_type": "code",
   "execution_count": 34,
   "metadata": {},
   "outputs": [],
   "source": [
    "internet_grouped = internet.groupby(['user_id', 'month']).agg({'mb_used': ['sum']}).reset_index()\n"
   ]
  },
  {
   "cell_type": "code",
   "execution_count": 35,
   "metadata": {},
   "outputs": [
    {
     "name": "stdout",
     "output_type": "stream",
     "text": [
      "   user_id  month  duration_call  count_call\n",
      "0     1000     12          124.0          16\n",
      "1     1001      8          182.0          22\n",
      "2     1001      9          315.0          38\n",
      "3     1001     10          393.0          47\n",
      "4     1001     11          426.0          49\n",
      "   user_id  month  messages_count\n",
      "0     1000     12              11\n",
      "1     1001      8              30\n",
      "2     1001      9              44\n",
      "3     1001     10              53\n",
      "4     1001     11              36\n",
      "   user_id  month   mb_used\n",
      "0     1000     12   1901.47\n",
      "1     1001      8   6919.15\n",
      "2     1001      9  13314.82\n",
      "3     1001     10  22330.49\n",
      "4     1001     11  18504.30\n"
     ]
    }
   ],
   "source": [
    "calls_grouped.columns=[\"user_id\", \"month\", \"duration_call\", \"count_call\"]\n",
    "messages_grouped.columns=[\"user_id\", \"month\", \"messages_count\"]\n",
    "internet_grouped.columns=[\"user_id\", \"month\", \"mb_used\"]\n",
    "print(calls_grouped.head())\n",
    "print(messages_grouped.head())\n",
    "print(internet_grouped.head())"
   ]
  },
  {
   "cell_type": "code",
   "execution_count": 36,
   "metadata": {},
   "outputs": [],
   "source": [
    "total1= pd.merge(left = calls_grouped , \n",
    "                right = messages_grouped, how='outer',on=['user_id', 'month']).fillna(0)\n",
    "total2=pd.merge(left = total1 , \n",
    "                right = internet_grouped, how='outer',on=['user_id', 'month']).fillna(0)"
   ]
  },
  {
   "cell_type": "code",
   "execution_count": 37,
   "metadata": {},
   "outputs": [
    {
     "name": "stdout",
     "output_type": "stream",
     "text": [
      "   user_id  month  duration_call  count_call  messages_count   mb_used\n",
      "0     1000     12          124.0        16.0            11.0   1901.47\n",
      "1     1001      8          182.0        22.0            30.0   6919.15\n",
      "2     1001      9          315.0        38.0            44.0  13314.82\n",
      "3     1001     10          393.0        47.0            53.0  22330.49\n",
      "4     1001     11          426.0        49.0            36.0  18504.30\n"
     ]
    }
   ],
   "source": [
    "total=total2\n",
    "print(total.head())"
   ]
  },
  {
   "cell_type": "code",
   "execution_count": 38,
   "metadata": {},
   "outputs": [
    {
     "name": "stdout",
     "output_type": "stream",
     "text": [
      "   user_id first_name  last_name  age                                   city  \\\n",
      "0     1000   Anamaria      Bauer   45  Atlanta-Sandy Springs-Roswell, GA MSA   \n",
      "1     1001     Mickey  Wilkerson   28        Seattle-Tacoma-Bellevue, WA MSA   \n",
      "2     1002     Carlee    Hoffman   36   Las Vegas-Henderson-Paradise, NV MSA   \n",
      "3     1003   Reynaldo    Jenkins   52                          Tulsa, OK MSA   \n",
      "4     1004    Leonila   Thompson   40        Seattle-Tacoma-Bellevue, WA MSA   \n",
      "\n",
      "     reg_date      plan churn_date  \n",
      "0  2018-12-24  ultimate        NaT  \n",
      "1  2018-08-13      surf        NaT  \n",
      "2  2018-10-21      surf        NaT  \n",
      "3  2018-01-28      surf        NaT  \n",
      "4  2018-05-23      surf        NaT  \n"
     ]
    }
   ],
   "source": [
    "print(users.head())"
   ]
  },
  {
   "cell_type": "code",
   "execution_count": 39,
   "metadata": {},
   "outputs": [],
   "source": [
    "users_cons = total.merge(users, on=\"user_id\").drop([\"first_name\", \"last_name\", \"age\", \"reg_date\", \"churn_date\"], axis=1)"
   ]
  },
  {
   "cell_type": "markdown",
   "metadata": {},
   "source": [
    "Before starting to calculate the costs for the user, the data volume must be rounded up to whole GB. The rounded-up number is then divided by 1024 again so that the calculations can continue with the unit MB."
   ]
  },
  {
   "cell_type": "code",
   "execution_count": 40,
   "metadata": {},
   "outputs": [],
   "source": [
    "import math\n",
    "users_cons[\"mb_used\"] = np.ceil(users_cons[\"mb_used\"]/1024)*1024"
   ]
  },
  {
   "cell_type": "markdown",
   "metadata": {},
   "source": [
    "With the new table \"user_cons\", we can calculate the costs for each user per month. The values in the \"duration\" and \"mb_used\" columns were rounded up with the np.ceil() function."
   ]
  },
  {
   "cell_type": "markdown",
   "metadata": {},
   "source": [
    "<div class=\"alert alert-danger\" role=\"alert\">\n",
    "Reviewer's comment v. 1:\n",
    "    \n",
    "It will be more convenient to use .ceil to round up data.\n",
    "</div>"
   ]
  },
  {
   "cell_type": "markdown",
   "metadata": {},
   "source": [
    "<div class=\"alert alert-success\" role=\"alert\">\n",
    "Reviewer's comment v. 2:\n",
    "    \n",
    "Yes, a reasonable explanation of a zero duration calls and internet usage.\n",
    "</div>"
   ]
  },
  {
   "cell_type": "markdown",
   "metadata": {},
   "source": [
    "## Calculate Costs for each user and month"
   ]
  },
  {
   "cell_type": "markdown",
   "metadata": {},
   "source": [
    "In the new dataframe \"user_cons\", we created in the last step, we have the necessary data for calculating the costs. The dataframe \"plans\" contains the specific costs for the consumption categories. We will use the values of it and multiply them with the values from the \"user_cons\" dataframe. This step will be done by the function \"calculate_costs\"."
   ]
  },
  {
   "cell_type": "code",
   "execution_count": 41,
   "metadata": {},
   "outputs": [
    {
     "name": "stdout",
     "output_type": "stream",
     "text": [
      "   user_id  month  duration_call  count_call  messages_count  mb_used  \\\n",
      "0     1000     12          124.0        16.0            11.0   2048.0   \n",
      "1     1001      8          182.0        22.0            30.0   7168.0   \n",
      "2     1001      9          315.0        38.0            44.0  14336.0   \n",
      "\n",
      "                                    city      plan  \n",
      "0  Atlanta-Sandy Springs-Roswell, GA MSA  ultimate  \n",
      "1        Seattle-Tacoma-Bellevue, WA MSA      surf  \n",
      "2        Seattle-Tacoma-Bellevue, WA MSA      surf  \n"
     ]
    }
   ],
   "source": [
    "print(users_cons.head(3))"
   ]
  },
  {
   "cell_type": "code",
   "execution_count": 42,
   "metadata": {
    "scrolled": true
   },
   "outputs": [
    {
     "name": "stdout",
     "output_type": "stream",
     "text": [
      "   messages_included  mb_per_month_included  minutes_included  \\\n",
      "0                 50                  15360               500   \n",
      "1               1000                  30720              3000   \n",
      "\n",
      "   usd_monthly_pay  usd_per_gb  usd_per_message  usd_per_minute plan_name  \n",
      "0               20          10             0.03            0.03      surf  \n",
      "1               70           7             0.01            0.01  ultimate  \n"
     ]
    }
   ],
   "source": [
    "print(plans)"
   ]
  },
  {
   "cell_type": "code",
   "execution_count": 43,
   "metadata": {},
   "outputs": [],
   "source": [
    "def calculate_costs(data):\n",
    "    costs =[]\n",
    "    for index, row in data.iterrows():\n",
    "        \n",
    "        if row[\"plan\"] == \"surf\":\n",
    "            \n",
    "                          \n",
    "            minutes_included = 500 \n",
    "            messages_included  = 50\n",
    "            mb_per_month_included = 15360 \n",
    "            usd_monthly_pay = 20  \n",
    "            usd_per_minute = 0.03  \n",
    "            usd_per_message = 0.03            \n",
    "            usd_per_gb = 10             \n",
    "                \n",
    "            \n",
    "        elif row[\"plan\"] == \"ultimate\":\n",
    "            minutes_included = 3000   \n",
    "            messages_included  = 1000    \n",
    "            mb_per_month_included = 30720              \n",
    "            usd_monthly_pay = 70  \n",
    "            usd_per_minute = 0.01 \n",
    "            usd_per_message = 0.01  \n",
    "            usd_per_gb = 7             \n",
    "                      \n",
    "             \n",
    "            \n",
    "        exc_calls = row[\"duration_call\"]-minutes_included\n",
    "        exc_messages = row[\"messages_count\"]-messages_included\n",
    "        exc_internet = row[\"mb_used\"]-mb_per_month_included\n",
    "        \n",
    "        \n",
    "        costs_calls = max(0, exc_calls) * usd_per_minute\n",
    "        costs_messages = max(0, exc_messages) * usd_per_message\n",
    "        costs_internet = max(exc_internet, 0) * usd_per_gb / 1024\n",
    "        costs_total = costs_calls + costs_messages + costs_internet + usd_monthly_pay\n",
    "        \n",
    "        costs.append(costs_total)\n",
    "\n",
    "    data[\"costs\"] = costs"
   ]
  },
  {
   "cell_type": "code",
   "execution_count": 44,
   "metadata": {},
   "outputs": [
    {
     "name": "stdout",
     "output_type": "stream",
     "text": [
      "      user_id  month  duration_call  count_call  messages_count  mb_used  \\\n",
      "1351     1297     11           94.0        11.0             0.0  12288.0   \n",
      "510      1110      5           71.0        11.0            12.0   8192.0   \n",
      "509      1109     12          467.0        50.0             0.0  13312.0   \n",
      "508      1109     11          465.0        56.0             0.0  11264.0   \n",
      "502      1109      5          437.0        49.0             0.0  13312.0   \n",
      "...       ...    ...            ...         ...             ...      ...   \n",
      "1101     1240      8         1095.0       118.0            15.0  50176.0   \n",
      "1334     1292     12          144.0        21.0             0.0  52224.0   \n",
      "1330     1292      8          323.0        35.0             0.0  52224.0   \n",
      "2270     1121     12            0.0         0.0            97.0  67584.0   \n",
      "1726     1379     12         1103.0       114.0           126.0  71680.0   \n",
      "\n",
      "                                                  city  plan   costs  \n",
      "1351            Los Angeles-Long Beach-Anaheim, CA MSA  surf   20.00  \n",
      "510   Washington-Arlington-Alexandria, DC-VA-MD-WV MSA  surf   20.00  \n",
      "509          New York-Newark-Jersey City, NY-NJ-PA MSA  surf   20.00  \n",
      "508          New York-Newark-Jersey City, NY-NJ-PA MSA  surf   20.00  \n",
      "502          New York-Newark-Jersey City, NY-NJ-PA MSA  surf   20.00  \n",
      "...                                                ...   ...     ...  \n",
      "1101                               Baton Rouge, LA MSA  surf  377.85  \n",
      "1334               Dallas-Fort Worth-Arlington, TX MSA  surf  380.00  \n",
      "1330               Dallas-Fort Worth-Arlington, TX MSA  surf  380.00  \n",
      "2270     Miami-Fort Lauderdale-West Palm Beach, FL MSA  surf  531.41  \n",
      "1726                     Grand Rapids-Kentwood, MI MSA  surf  590.37  \n",
      "\n",
      "[2293 rows x 9 columns]\n",
      "0.12690798081116442\n"
     ]
    }
   ],
   "source": [
    "calculate_costs(users_cons)\n",
    "print(users_cons.sort_values(\"costs\"))\n",
    "\n",
    "print(len(users_cons.loc[users_cons[\"costs\"]>100])/len(users_cons))"
   ]
  },
  {
   "cell_type": "markdown",
   "metadata": {},
   "source": [
    "With the function \"calculate_costs\" a new column \"costs\" was defined and calculated. Now we have the costs for evry user and month, which we can use for answering the questions in the following steps."
   ]
  },
  {
   "cell_type": "markdown",
   "metadata": {},
   "source": [
    "<div class=\"alert alert-danger\" role=\"alert\">\n",
    "Reviewer's comment v. 1:\n",
    "    \n",
    "Please note that it’s necessary to add a conclusion for each part of the project. Please take it into account for the future. \n",
    "</div>"
   ]
  },
  {
   "cell_type": "markdown",
   "metadata": {},
   "source": [
    "<div class=\"alert alert-success\" role=\"alert\">\n",
    "Reviewer's comment v. 2:\n",
    "    \n",
    "Ok :)\n",
    "</div>"
   ]
  },
  {
   "cell_type": "markdown",
   "metadata": {},
   "source": [
    "## Analysis of the data"
   ]
  },
  {
   "cell_type": "markdown",
   "metadata": {},
   "source": [
    "In this step I will create 2 data slices: surf_slice and ultimate_slice, which only contain the data of people with the considered calling plan. This allows me to describe and compare the consumption behavior of the 2 groups of people."
   ]
  },
  {
   "cell_type": "code",
   "execution_count": 45,
   "metadata": {},
   "outputs": [],
   "source": [
    "surf_slice = users_cons.loc[users_cons[\"plan\"]==\"surf\"]\n",
    "ultimate_slice = users_cons.loc[users_cons[\"plan\"]==\"ultimate\"]"
   ]
  },
  {
   "cell_type": "markdown",
   "metadata": {},
   "source": [
    "### Users with surf calling plan"
   ]
  },
  {
   "cell_type": "code",
   "execution_count": 46,
   "metadata": {},
   "outputs": [
    {
     "data": {
      "text/html": [
       "<div>\n",
       "<style scoped>\n",
       "    .dataframe tbody tr th:only-of-type {\n",
       "        vertical-align: middle;\n",
       "    }\n",
       "\n",
       "    .dataframe tbody tr th {\n",
       "        vertical-align: top;\n",
       "    }\n",
       "\n",
       "    .dataframe thead th {\n",
       "        text-align: right;\n",
       "    }\n",
       "</style>\n",
       "<table border=\"1\" class=\"dataframe\">\n",
       "  <thead>\n",
       "    <tr style=\"text-align: right;\">\n",
       "      <th></th>\n",
       "      <th>duration_call</th>\n",
       "      <th>messages_count</th>\n",
       "      <th>mb_used</th>\n",
       "    </tr>\n",
       "  </thead>\n",
       "  <tbody>\n",
       "    <tr>\n",
       "      <td>count</td>\n",
       "      <td>1573.000000</td>\n",
       "      <td>1573.000000</td>\n",
       "      <td>1573.000000</td>\n",
       "    </tr>\n",
       "    <tr>\n",
       "      <td>mean</td>\n",
       "      <td>428.749523</td>\n",
       "      <td>31.159568</td>\n",
       "      <td>17070.789574</td>\n",
       "    </tr>\n",
       "    <tr>\n",
       "      <td>std</td>\n",
       "      <td>234.453150</td>\n",
       "      <td>33.566717</td>\n",
       "      <td>8035.862417</td>\n",
       "    </tr>\n",
       "    <tr>\n",
       "      <td>min</td>\n",
       "      <td>0.000000</td>\n",
       "      <td>0.000000</td>\n",
       "      <td>0.000000</td>\n",
       "    </tr>\n",
       "    <tr>\n",
       "      <td>25%</td>\n",
       "      <td>272.000000</td>\n",
       "      <td>3.000000</td>\n",
       "      <td>12288.000000</td>\n",
       "    </tr>\n",
       "    <tr>\n",
       "      <td>50%</td>\n",
       "      <td>425.000000</td>\n",
       "      <td>24.000000</td>\n",
       "      <td>17408.000000</td>\n",
       "    </tr>\n",
       "    <tr>\n",
       "      <td>75%</td>\n",
       "      <td>576.000000</td>\n",
       "      <td>47.000000</td>\n",
       "      <td>21504.000000</td>\n",
       "    </tr>\n",
       "    <tr>\n",
       "      <td>max</td>\n",
       "      <td>1510.000000</td>\n",
       "      <td>266.000000</td>\n",
       "      <td>71680.000000</td>\n",
       "    </tr>\n",
       "  </tbody>\n",
       "</table>\n",
       "</div>"
      ],
      "text/plain": [
       "       duration_call  messages_count       mb_used\n",
       "count    1573.000000     1573.000000   1573.000000\n",
       "mean      428.749523       31.159568  17070.789574\n",
       "std       234.453150       33.566717   8035.862417\n",
       "min         0.000000        0.000000      0.000000\n",
       "25%       272.000000        3.000000  12288.000000\n",
       "50%       425.000000       24.000000  17408.000000\n",
       "75%       576.000000       47.000000  21504.000000\n",
       "max      1510.000000      266.000000  71680.000000"
      ]
     },
     "execution_count": 46,
     "metadata": {},
     "output_type": "execute_result"
    }
   ],
   "source": [
    "surf_slice.drop([\"user_id\", \"month\", \"count_call\", \"costs\"], axis=1).describe()"
   ]
  },
  {
   "cell_type": "code",
   "execution_count": 47,
   "metadata": {},
   "outputs": [
    {
     "data": {
      "image/png": "[encoded data removed]",
      "text/plain": [
       "<Figure size 432x288 with 1 Axes>"
      ]
     },
     "metadata": {
      "needs_background": "light"
     },
     "output_type": "display_data"
    }
   ],
   "source": [
    "fig = plt.figure()\n",
    "ax = fig.add_subplot(111)\n",
    "ax.boxplot(surf_slice[\"duration_call\"])\n",
    "\n",
    "ax.set_title('duration_call - surf')\n",
    "ax.set_ylabel('duration [min]')\n",
    "plt.show()"
   ]
  },
  {
   "cell_type": "markdown",
   "metadata": {},
   "source": [
    "Most people with the Surf plan have a total call duration between 255-545 minutes with a median of 400 minutes per month. Only a few people have a total call duration of up to 1000 minutes per month."
   ]
  },
  {
   "cell_type": "markdown",
   "metadata": {},
   "source": [
    "<div class=\"alert alert-success\" role=\"alert\">\n",
    "Reviewer's comment v. 1:\n",
    "    \n",
    "Well done that you plotted boxplot and described an outliers in details.\n",
    "</div>"
   ]
  },
  {
   "cell_type": "code",
   "execution_count": 48,
   "metadata": {},
   "outputs": [
    {
     "data": {
      "image/png": "[encoded data removed]",
      "text/plain": [
       "<Figure size 432x288 with 1 Axes>"
      ]
     },
     "metadata": {
      "needs_background": "light"
     },
     "output_type": "display_data"
    }
   ],
   "source": [
    "fig = plt.figure()\n",
    "ax = fig.add_subplot(111)\n",
    "ax.boxplot(surf_slice[\"messages_count\"])\n",
    "\n",
    "ax.set_title('messages_count - surf')\n",
    "ax.set_ylabel('count')\n",
    "plt.show()"
   ]
  },
  {
   "cell_type": "markdown",
   "metadata": {},
   "source": [
    "Most people with the Surf plan have a total message count between 0-50 minutes with a median of 25 per month. Only a few people write up to 120 messages per month."
   ]
  },
  {
   "cell_type": "code",
   "execution_count": 49,
   "metadata": {},
   "outputs": [
    {
     "data": {
      "image/png": "[encoded data removed]",
      "text/plain": [
       "<Figure size 432x288 with 1 Axes>"
      ]
     },
     "metadata": {
      "needs_background": "light"
     },
     "output_type": "display_data"
    }
   ],
   "source": [
    "fig = plt.figure()\n",
    "ax = fig.add_subplot(111)\n",
    "ax.boxplot(surf_slice[\"mb_used\"])\n",
    "\n",
    "ax.set_title('mb_used - surf')\n",
    "ax.set_ylabel('data volume [mb]')\n",
    "plt.show()"
   ]
  },
  {
   "cell_type": "markdown",
   "metadata": {},
   "source": [
    "Most people with the Surf plan have a total data consumption between 12.3-21.5 GB with a median of 16.4 GB per month. Only a few people consume up to 35 GB per month."
   ]
  },
  {
   "cell_type": "code",
   "execution_count": 50,
   "metadata": {},
   "outputs": [
    {
     "name": "stdout",
     "output_type": "stream",
     "text": [
      "Average - minutes of phone calls per month: 428.75\n",
      "Standard deviation - minutes of phone calls per month: 234.38\n",
      "Variance - minutes of phone calls per month: 54968.28\n",
      "\n",
      "Average - messsages per month: 31.16\n",
      "Standard deviation - messages per month: 33.56\n",
      "Variance - messages per month: 1126.72\n",
      "\n",
      "Average - MB consumed per month: 17070.79\n",
      "Standard deviation - MB consumed per month: 8033.31\n",
      "Variance - MB consumed per month: 64575084.78\n",
      "\n"
     ]
    }
   ],
   "source": [
    "av_minutes_surf = surf_slice[\"duration_call\"].mean()\n",
    "av_messages_surf = surf_slice[\"messages_count\"].mean()\n",
    "av_mb_surf = surf_slice[\"mb_used\"].mean()\n",
    "\n",
    "sd_minutes_surf = np.std(surf_slice[\"duration_call\"])\n",
    "sd_messages_surf = np.std(surf_slice[\"messages_count\"])\n",
    "sd_mb_surf = np.std(surf_slice[\"mb_used\"])\n",
    "\n",
    "var_minutes_surf = surf_slice[\"duration_call\"].var()\n",
    "var_messages_surf = surf_slice[\"messages_count\"].var()\n",
    "var_mb_surf = surf_slice[\"mb_used\"].var()\n",
    "\n",
    "\n",
    "print(\"Average - minutes of phone calls per month: {:.2f}\".format(av_minutes_surf)) \n",
    "print(\"Standard deviation - minutes of phone calls per month: {:.2f}\".format(sd_minutes_surf))\n",
    "print(\"Variance - minutes of phone calls per month: {:.2f}\".format(var_minutes_surf))\n",
    "\n",
    "print()\n",
    "print(\"Average - messsages per month: {:.2f}\".format(av_messages_surf))\n",
    "print(\"Standard deviation - messages per month: {:.2f}\".format(sd_messages_surf))\n",
    "print(\"Variance - messages per month: {:.2f}\".format(var_messages_surf))\n",
    "\n",
    "print()\n",
    "print(\"Average - MB consumed per month: {:.2f}\".format(av_mb_surf))\n",
    "print(\"Standard deviation - MB consumed per month: {:.2f}\".format(sd_mb_surf))\n",
    "print(\"Variance - MB consumed per month: {:.2f}\".format(var_mb_surf))\n",
    "\n",
    "print()\n"
   ]
  },
  {
   "cell_type": "markdown",
   "metadata": {},
   "source": [
    "In the cell above, we can see the means, standard deviations and variances of the consumption of the surf users. For the \"duration_call\" and the \"mb_used\" column we have a standard deviation half as high as the mean. For the \"messages_count\" column it is  even higher than the mean. That means that the users as individuals differ a lot in their consumption. "
   ]
  },
  {
   "cell_type": "markdown",
   "metadata": {},
   "source": [
    "<div class=\"alert alert-danger\" role=\"alert\">\n",
    "Reviewer's comment v. 1:\n",
    "    \n",
    "Well done that you calculated mean and standard deviation, but please add variance. Could you please analyse these values and make a corresponding conclusions?\n",
    "</div>"
   ]
  },
  {
   "cell_type": "markdown",
   "metadata": {},
   "source": [
    "<div class=\"alert alert-success\" role=\"alert\">\n",
    "Reviewer's comment v. 2:\n",
    "    \n",
    "An excellent analysis :)\n",
    "</div>"
   ]
  },
  {
   "cell_type": "code",
   "execution_count": 51,
   "metadata": {},
   "outputs": [
    {
     "data": {
      "image/png": "[encoded data removed]",
      "text/plain": [
       "<Figure size 432x288 with 1 Axes>"
      ]
     },
     "metadata": {
      "needs_background": "light"
     },
     "output_type": "display_data"
    }
   ],
   "source": [
    "pl = surf_slice[\"duration_call\"].hist(bins=100)\n",
    "pl.set_xlabel(\"phone calls minutes per month\")\n",
    "pl.set_ylabel(\"count\")\n",
    "pl.set_xlim(0, 1400)\n",
    "pl.set_ylim(0, 60)\n",
    "pl.set_title('duration_call - surf')\n",
    "plt.show()  \n"
   ]
  },
  {
   "cell_type": "markdown",
   "metadata": {},
   "source": [
    "As we already saw in the boxplot of this column, most people with the Surf plan have a total call duration between 255-545 minutes with a median of 400 minutes per month. Only a few people have a total call duration of up to 1000 minutes per month. Additionally we can see here, that many users have less than 100 call minutes per month. The graph increases close to x=0."
   ]
  },
  {
   "cell_type": "markdown",
   "metadata": {},
   "source": [
    "<div class=\"alert alert-danger\" role=\"alert\">\n",
    "Reviewer's comment v. 1:\n",
    "    \n",
    "It's great that you didn't forget the axis labels and the title to the graph. But could you please analyse graph? Please note that after each of the graphds should be description/conclusions.\n",
    "</div>"
   ]
  },
  {
   "cell_type": "markdown",
   "metadata": {},
   "source": [
    "<div class=\"alert alert-success\" role=\"alert\">\n",
    "Reviewer's comment v. 2:\n",
    "    \n",
    "Ok, now graph looks better :)\n",
    "    \n",
    "Well done that you analyzed the graph in details.\n",
    "</div>"
   ]
  },
  {
   "cell_type": "code",
   "execution_count": 52,
   "metadata": {},
   "outputs": [
    {
     "data": {
      "image/png": "[encoded data removed]",
      "text/plain": [
       "<Figure size 432x288 with 1 Axes>"
      ]
     },
     "metadata": {
      "needs_background": "light"
     },
     "output_type": "display_data"
    }
   ],
   "source": [
    "pl = surf_slice[\"messages_count\"].hist(bins=100)\n",
    "pl.set_xlabel(\"messages per month\")\n",
    "pl.set_ylabel(\"count\")\n",
    "pl.set_xlim(0, 200)\n",
    "pl.set_ylim(0, 400)\n",
    "pl.set_title('messages_count - surf')\n",
    "plt.show()  \n"
   ]
  },
  {
   "cell_type": "markdown",
   "metadata": {},
   "source": [
    "As we already saw in the boxplot of this column, most people with the Surf plan have a total message count between 0-50 minutes with a median of 25 per month. Only a few people write up to 120 messages per month. Additionally we can see here, that the graph is increasing a lot close to x=0. That means, that many people don't write messages at all."
   ]
  },
  {
   "cell_type": "markdown",
   "metadata": {},
   "source": [
    "<div class=\"alert alert-success\" role=\"alert\">\n",
    "Reviewer's comment v. 2:\n",
    "    \n",
    "An excellent analysis :) But could you please why many people don't write messages?\n",
    "</div>"
   ]
  },
  {
   "cell_type": "code",
   "execution_count": 53,
   "metadata": {},
   "outputs": [
    {
     "data": {
      "image/png": "[encoded data removed]",
      "text/plain": [
       "<Figure size 432x288 with 1 Axes>"
      ]
     },
     "metadata": {
      "needs_background": "light"
     },
     "output_type": "display_data"
    }
   ],
   "source": [
    "pl = surf_slice[\"mb_used\"].hist(bins=100)\n",
    "pl.set_xlabel(\"mb used per month\")\n",
    "pl.set_ylabel(\"count\")\n",
    "pl.set_xlim(0, 50000)\n",
    "pl.set_ylim(0, 150)\n",
    "pl.set_title('mb_used - surf')\n",
    "plt.show()  \n"
   ]
  },
  {
   "cell_type": "markdown",
   "metadata": {},
   "source": [
    "As we already saw in the boxplot of this column, most people with the Surf plan have a total data consumption between 12.3-21.5 GB with a median of 16.4 GB per month. Only a few people consume up to 35 GB per month. Since the monthly totals of data consumption were rounded, it looks like the graph has gaps"
   ]
  },
  {
   "cell_type": "markdown",
   "metadata": {},
   "source": [
    "<div class=\"alert alert-danger\" role=\"alert\">\n",
    "Reviewer's comment v. 1:\n",
    "    \n",
    "Could you please increase range for the y axis to see all data on the graph?\n",
    "</div>"
   ]
  },
  {
   "cell_type": "markdown",
   "metadata": {},
   "source": [
    "<div class=\"alert alert-success\" role=\"alert\">\n",
    "Reviewer's comment v. 2:\n",
    "    \n",
    "An excellent graph and analysis :)\n",
    "</div>"
   ]
  },
  {
   "cell_type": "markdown",
   "metadata": {},
   "source": [
    "### Users with ultimate calling plan"
   ]
  },
  {
   "cell_type": "code",
   "execution_count": 54,
   "metadata": {},
   "outputs": [
    {
     "data": {
      "text/html": [
       "<div>\n",
       "<style scoped>\n",
       "    .dataframe tbody tr th:only-of-type {\n",
       "        vertical-align: middle;\n",
       "    }\n",
       "\n",
       "    .dataframe tbody tr th {\n",
       "        vertical-align: top;\n",
       "    }\n",
       "\n",
       "    .dataframe thead th {\n",
       "        text-align: right;\n",
       "    }\n",
       "</style>\n",
       "<table border=\"1\" class=\"dataframe\">\n",
       "  <thead>\n",
       "    <tr style=\"text-align: right;\">\n",
       "      <th></th>\n",
       "      <th>duration_call</th>\n",
       "      <th>messages_count</th>\n",
       "      <th>mb_used</th>\n",
       "    </tr>\n",
       "  </thead>\n",
       "  <tbody>\n",
       "    <tr>\n",
       "      <td>count</td>\n",
       "      <td>720.000000</td>\n",
       "      <td>720.000000</td>\n",
       "      <td>720.000000</td>\n",
       "    </tr>\n",
       "    <tr>\n",
       "      <td>mean</td>\n",
       "      <td>430.450000</td>\n",
       "      <td>37.551389</td>\n",
       "      <td>17722.311111</td>\n",
       "    </tr>\n",
       "    <tr>\n",
       "      <td>std</td>\n",
       "      <td>240.508762</td>\n",
       "      <td>34.767179</td>\n",
       "      <td>7854.190127</td>\n",
       "    </tr>\n",
       "    <tr>\n",
       "      <td>min</td>\n",
       "      <td>0.000000</td>\n",
       "      <td>0.000000</td>\n",
       "      <td>0.000000</td>\n",
       "    </tr>\n",
       "    <tr>\n",
       "      <td>25%</td>\n",
       "      <td>260.000000</td>\n",
       "      <td>7.000000</td>\n",
       "      <td>13312.000000</td>\n",
       "    </tr>\n",
       "    <tr>\n",
       "      <td>50%</td>\n",
       "      <td>424.000000</td>\n",
       "      <td>30.000000</td>\n",
       "      <td>17408.000000</td>\n",
       "    </tr>\n",
       "    <tr>\n",
       "      <td>75%</td>\n",
       "      <td>565.250000</td>\n",
       "      <td>61.000000</td>\n",
       "      <td>21504.000000</td>\n",
       "    </tr>\n",
       "    <tr>\n",
       "      <td>max</td>\n",
       "      <td>1369.000000</td>\n",
       "      <td>166.000000</td>\n",
       "      <td>47104.000000</td>\n",
       "    </tr>\n",
       "  </tbody>\n",
       "</table>\n",
       "</div>"
      ],
      "text/plain": [
       "       duration_call  messages_count       mb_used\n",
       "count     720.000000      720.000000    720.000000\n",
       "mean      430.450000       37.551389  17722.311111\n",
       "std       240.508762       34.767179   7854.190127\n",
       "min         0.000000        0.000000      0.000000\n",
       "25%       260.000000        7.000000  13312.000000\n",
       "50%       424.000000       30.000000  17408.000000\n",
       "75%       565.250000       61.000000  21504.000000\n",
       "max      1369.000000      166.000000  47104.000000"
      ]
     },
     "execution_count": 54,
     "metadata": {},
     "output_type": "execute_result"
    }
   ],
   "source": [
    "ultimate_slice.drop([\"user_id\", \"month\", \"count_call\", \"costs\"], axis=1).describe()"
   ]
  },
  {
   "cell_type": "code",
   "execution_count": 55,
   "metadata": {},
   "outputs": [
    {
     "data": {
      "image/png": "[encoded data removed]",
      "text/plain": [
       "<Figure size 432x288 with 1 Axes>"
      ]
     },
     "metadata": {
      "needs_background": "light"
     },
     "output_type": "display_data"
    }
   ],
   "source": [
    "fig = plt.figure()\n",
    "ax = fig.add_subplot(111)\n",
    "ax.boxplot(ultimate_slice[\"duration_call\"])\n",
    "\n",
    "ax.set_title('duration_call - ultimate')\n",
    "ax.set_ylabel('duration [min]')\n",
    "plt.show()\n"
   ]
  },
  {
   "cell_type": "markdown",
   "metadata": {},
   "source": [
    "Most people with the Ultimate plan have a total call duration between 245-535 minutes with a median of 400 minutes per month. Only a few people have a total call duration of up to 1000 minutes per month."
   ]
  },
  {
   "cell_type": "code",
   "execution_count": 56,
   "metadata": {},
   "outputs": [
    {
     "data": {
      "image/png": "[encoded data removed]",
      "text/plain": [
       "<Figure size 432x288 with 1 Axes>"
      ]
     },
     "metadata": {
      "needs_background": "light"
     },
     "output_type": "display_data"
    }
   ],
   "source": [
    "fig = plt.figure()\n",
    "ax = fig.add_subplot(111)\n",
    "ax.boxplot(ultimate_slice[\"messages_count\"])\n",
    "\n",
    "ax.set_title('messages_count - ultimate')\n",
    "ax.set_ylabel('count')\n",
    "plt.show()"
   ]
  },
  {
   "cell_type": "markdown",
   "metadata": {},
   "source": [
    "Most people with the Ultimate plan have a total message count between 7-60 minutes with a median of 30 per month. Only a few people write up to 140 messages per month."
   ]
  },
  {
   "cell_type": "code",
   "execution_count": 57,
   "metadata": {},
   "outputs": [
    {
     "data": {
      "image/png": "[encoded data removed]",
      "text/plain": [
       "<Figure size 432x288 with 1 Axes>"
      ]
     },
     "metadata": {
      "needs_background": "light"
     },
     "output_type": "display_data"
    }
   ],
   "source": [
    "fig = plt.figure()\n",
    "ax = fig.add_subplot(111)\n",
    "ax.boxplot(ultimate_slice[\"mb_used\"])\n",
    "\n",
    "ax.set_title('mb_used - ultimate')\n",
    "ax.set_ylabel('data volume [mb]')\n",
    "plt.show()"
   ]
  },
  {
   "cell_type": "markdown",
   "metadata": {},
   "source": [
    "Most people with the Surf plan have a total data consumption between 12.3-21 GB with a median of 16.4 GB per month. Only a few people consume up to 35 GB per month."
   ]
  },
  {
   "cell_type": "markdown",
   "metadata": {},
   "source": [
    "<div class=\"alert alert-success\" role=\"alert\">\n",
    "Reviewer's comment v. 1:\n",
    "    \n",
    "I see you analysed boxplots clearly, well done.\n",
    "    \n",
    "Please see additional link for an outliers analysis: https://towardsdatascience.com/ways-to-detect-and-remove-the-outliers-404d16608dba \n",
    "</div>"
   ]
  },
  {
   "cell_type": "code",
   "execution_count": 58,
   "metadata": {},
   "outputs": [
    {
     "name": "stdout",
     "output_type": "stream",
     "text": [
      "Average minutes of phone calls per month: 430.45\n",
      "Standard deviation minutes of phone calls per month: 240.34\n",
      "Variance - minutes of phone calls per month: 57844.46\n",
      "\n",
      "Average messsages per month: 37.55\n",
      "Standard deviation messsages per month: 34.74\n",
      "Variance - messages per month: 1208.76\n",
      "\n",
      "Average MB consumed per month: 17722.31\n",
      "Standard MB consumed per month: 7848.73\n",
      "Variance - MB consumed per month: 61688302.55\n",
      "\n"
     ]
    }
   ],
   "source": [
    "av_minutes_ultimate = ultimate_slice[\"duration_call\"].mean()\n",
    "av_messages_ultimate = ultimate_slice[\"messages_count\"].mean()\n",
    "av_mb_ultimate = ultimate_slice[\"mb_used\"].mean()\n",
    "\n",
    "sd_minutes_ultimate = np.std(ultimate_slice[\"duration_call\"])\n",
    "sd_messages_ultimate = np.std(ultimate_slice[\"messages_count\"])\n",
    "sd_mb_ultimate = np.std(ultimate_slice[\"mb_used\"])\n",
    "\n",
    "var_minutes_ultimate = ultimate_slice[\"duration_call\"].var()\n",
    "var_messages_ultimate = ultimate_slice[\"messages_count\"].var()\n",
    "var_mb_ultimate = ultimate_slice[\"mb_used\"].var()\n",
    " \n",
    "print(\"Average minutes of phone calls per month: {:.2f}\".format(av_minutes_ultimate)) \n",
    "print(\"Standard deviation minutes of phone calls per month: {:.2f}\".format(sd_minutes_ultimate))\n",
    "print(\"Variance - minutes of phone calls per month: {:.2f}\".format(var_minutes_ultimate))\n",
    "print()\n",
    "print(\"Average messsages per month: {:.2f}\".format(av_messages_ultimate)) \n",
    "print(\"Standard deviation messsages per month: {:.2f}\".format(sd_messages_ultimate))\n",
    "print(\"Variance - messages per month: {:.2f}\".format(var_messages_ultimate))\n",
    "print()\n",
    "print(\"Average MB consumed per month: {:.2f}\".format(av_mb_ultimate))\n",
    "print(\"Standard MB consumed per month: {:.2f}\".format(sd_mb_ultimate))\n",
    "print(\"Variance - MB consumed per month: {:.2f}\".format(var_mb_ultimate))\n",
    "print()\n"
   ]
  },
  {
   "cell_type": "markdown",
   "metadata": {},
   "source": [
    "In the cell above, we can see the means, standard deviations and variances of the consumption of the ultimate users. For the \"duration_call\" and the \"mb_used\" column we have a standard deviation half as high as the mean. For the \"messages_count\" column it is almost equal to the mean. That means that the users as individuals differ a lot in their consumption. We had a similar result for the surf users."
   ]
  },
  {
   "cell_type": "code",
   "execution_count": 59,
   "metadata": {},
   "outputs": [
    {
     "data": {
      "image/png": "[encoded data removed]",
      "text/plain": [
       "<Figure size 432x288 with 1 Axes>"
      ]
     },
     "metadata": {
      "needs_background": "light"
     },
     "output_type": "display_data"
    }
   ],
   "source": [
    "pl = ultimate_slice[\"duration_call\"].hist(bins=100)\n",
    "pl.set_xlabel(\"phone calls minutes per month\")\n",
    "pl.set_ylabel(\"count\")\n",
    "pl.set_xlim(0, 1400)\n",
    "pl.set_ylim(0, 60)\n",
    "pl.set_title('duration_call - ultimate')\n",
    "plt.show()  \n"
   ]
  },
  {
   "cell_type": "markdown",
   "metadata": {},
   "source": [
    "As we already saw in the boxplot of this column, most people with the Ultimate plan have a total call duration between 245-535 minutes with a median of 400 minutes per month. Only a few people have a total call duration of up to 1000 and more minutes per month. It is interesting to note here that the proportion of people who have a total call duration close to 0 is lower than for Surf users."
   ]
  },
  {
   "cell_type": "markdown",
   "metadata": {},
   "source": [
    "<div class=\"alert alert-success\" role=\"alert\">\n",
    "Reviewer's comment v. 2:\n",
    "    \n",
    "Well done that you correctly described the yusers behaviour.\n",
    "</div>"
   ]
  },
  {
   "cell_type": "code",
   "execution_count": 60,
   "metadata": {},
   "outputs": [
    {
     "data": {
      "image/png": "[encoded data removed]",
      "text/plain": [
       "<Figure size 432x288 with 1 Axes>"
      ]
     },
     "metadata": {
      "needs_background": "light"
     },
     "output_type": "display_data"
    }
   ],
   "source": [
    "pl = ultimate_slice[\"messages_count\"].hist(bins=100)\n",
    "pl.set_xlabel(\"messages per month\")\n",
    "pl.set_ylabel(\"count\")\n",
    "pl.set_xlim(0, 200)\n",
    "pl.set_ylim(0, 400)\n",
    "pl.set_title('messages_count - ultimate')\n",
    "plt.show()  \n"
   ]
  },
  {
   "cell_type": "markdown",
   "metadata": {},
   "source": [
    "As we already saw in the boxplot of this column, most people with the Ultimate plan have a total message count between 7-60 minutes with a median of 30 per month. Only a few people write up to 140 messages per month. Additionally we can see here, that the graph is increasing a lot close to x=0. That means, that many people don't write messages at all. "
   ]
  },
  {
   "cell_type": "code",
   "execution_count": 61,
   "metadata": {
    "scrolled": true
   },
   "outputs": [
    {
     "data": {
      "image/png": "[encoded data removed]",
      "text/plain": [
       "<Figure size 432x288 with 1 Axes>"
      ]
     },
     "metadata": {
      "needs_background": "light"
     },
     "output_type": "display_data"
    }
   ],
   "source": [
    "pl = ultimate_slice[\"mb_used\"].hist(bins=100)\n",
    "pl.set_xlabel(\"mb used per month\")\n",
    "pl.set_ylabel(\"count\")\n",
    "pl.set_xlim(0, 50000)\n",
    "pl.set_ylim(0, 150)\n",
    "pl.set_title('mb_used - ultimate')\n",
    "plt.show()  \n"
   ]
  },
  {
   "cell_type": "markdown",
   "metadata": {},
   "source": [
    "Most people with the Surf plan have a total data consumption between 12.3-21 GB with a median of 16.4 GB per month. Only a few people consume up to 35 GB per month. Since the monthly totals of data consumption were rounded, it looks like the graph has gaps"
   ]
  },
  {
   "cell_type": "markdown",
   "metadata": {},
   "source": [
    "### Comparison and conclusion"
   ]
  },
  {
   "cell_type": "markdown",
   "metadata": {},
   "source": [
    "If we compare the customers with the Surf tariff with the customers with the Ultimate tariff, we see that there is not much difference in consumption. In all 3 categories, customers with the Ultimate tariff have a higher consumption. The biggest difference is in message writing: Ultimate users write 20.51% more messages. The total duration of phone calls are almost identical and the data consumption of Ultimate- users ist a bit higher (~4%). Also the standard deviation is very similar for the two user types. "
   ]
  },
  {
   "cell_type": "code",
   "execution_count": 62,
   "metadata": {},
   "outputs": [
    {
     "name": "stdout",
     "output_type": "stream",
     "text": [
      "Ultimate users have 0.40% more phone call minutes.\n",
      "Ultimate users write 20.51% more messages.\n",
      "Ultimate users consume 3.82% more data volume.\n"
     ]
    }
   ],
   "source": [
    "print(\"Ultimate users have {:.2%} more phone call minutes.\".format(av_minutes_ultimate/av_minutes_surf-1))\n",
    "print(\"Ultimate users write {:.2%} more messages.\".format(av_messages_ultimate/av_messages_surf-1))\n",
    "print(\"Ultimate users consume {:.2%} more data volume.\".format(av_mb_ultimate/av_mb_surf-1))"
   ]
  },
  {
   "cell_type": "markdown",
   "metadata": {},
   "source": [
    "<div class=\"alert alert-success\" role=\"alert\">\n",
    "Reviewer's comment v. 1:\n",
    "    \n",
    "It's good that you compared the plans.\n",
    "</div>"
   ]
  },
  {
   "cell_type": "markdown",
   "metadata": {},
   "source": [
    "## Testing of the null-hypothesis"
   ]
  },
  {
   "cell_type": "markdown",
   "metadata": {},
   "source": [
    "### Ultimate and Surf calling plans"
   ]
  },
  {
   "cell_type": "code",
   "execution_count": 63,
   "metadata": {},
   "outputs": [],
   "source": [
    "revenues_surf = users_cons.loc[users_cons[\"plan\"]==\"surf\"][\"costs\"]\n",
    "revenues_ultimate = users_cons.loc[users_cons[\"plan\"]==\"ultimate\"][\"costs\"]"
   ]
  },
  {
   "cell_type": "markdown",
   "metadata": {},
   "source": [
    "We have 2 statistical populations in this study: consumers who have the Surf plan and consumers who have the Ultimate plan. We want to test if the average revenues of the calling plans differ. Therefore we do the Equality of means hypothesis test.\n",
    "\n",
    "The Null Hypothesis is: The average revenue from users of Ultimate and Surf calling plans are equal.\n",
    "\n",
    "The Alternative Hypothesis is: The average revenue from users of Ultimate and Surf calling plans differ."
   ]
  },
  {
   "cell_type": "markdown",
   "metadata": {},
   "source": [
    "<div class=\"alert alert-success\" role=\"alert\">\n",
    "Reviewer's comment v. 1:\n",
    "    \n",
    "It's great that you formulated the null and alternative hypotheses explicitly.\n",
    "</div>"
   ]
  },
  {
   "cell_type": "code",
   "execution_count": 64,
   "metadata": {},
   "outputs": [
    {
     "name": "stdout",
     "output_type": "stream",
     "text": [
      "revenue average - surf: 60.71$\n",
      "revenue average - ultimate: 72.31$\n"
     ]
    }
   ],
   "source": [
    "average_revenues_surf=revenues_surf.mean().round(2)\n",
    "average_revenues_ultimate=revenues_ultimate.mean().round(2)\n",
    "print(\"revenue average - surf: {}$\".format(average_revenues_surf))\n",
    "print(\"revenue average - ultimate: {}$\".format(average_revenues_ultimate))"
   ]
  },
  {
   "cell_type": "markdown",
   "metadata": {},
   "source": [
    "The average of revenues from our data sample shows the picture that ultimate revenues are higher than surf revenues."
   ]
  },
  {
   "cell_type": "code",
   "execution_count": 65,
   "metadata": {},
   "outputs": [
    {
     "name": "stdout",
     "output_type": "stream",
     "text": [
      "p-value:  2.862674510698644e-08\n",
      "We reject the null hypothesis\n"
     ]
    }
   ],
   "source": [
    "results = st.ttest_ind(revenues_surf, revenues_ultimate)\n",
    "\n",
    "alpha = .05\n",
    "\n",
    "print('p-value: ', results.pvalue)\n",
    "\n",
    "if (results.pvalue < alpha):\n",
    "        print(\"We reject the null hypothesis\")\n",
    "else:\n",
    "        print(\"We can't reject the null hypothesis\") "
   ]
  },
  {
   "cell_type": "markdown",
   "metadata": {},
   "source": [
    "<div class=\"alert alert-success\" role=\"alert\">\n",
    "Reviewer's comment v. 1:\n",
    "    \n",
    "Maybe this link will be interesting for you: https://www.analyticsvidhya.com/blog/2019/09/everything-know-about-p-value-from-scratch-data-science/\n",
    "</div>"
   ]
  },
  {
   "cell_type": "markdown",
   "metadata": {},
   "source": [
    "<div class=\"alert alert-danger\" role=\"alert\">\n",
    "Reviewer's comment v. 1:\n",
    "    \n",
    "Could you please describe results of the statistical test?\n",
    "</div>"
   ]
  },
  {
   "cell_type": "markdown",
   "metadata": {},
   "source": [
    "<div class=\"alert alert-success\" role=\"alert\">\n",
    "Reviewer's comment v. 2:\n",
    "    \n",
    "Yes, you right. We have a statistically significant differences in the average revenue from users of Ultimate and Surf plans.\n",
    "</div>"
   ]
  },
  {
   "cell_type": "code",
   "execution_count": null,
   "metadata": {},
   "outputs": [],
   "source": []
  },
  {
   "cell_type": "markdown",
   "metadata": {},
   "source": [
    "### Consumers from NY-NJ"
   ]
  },
  {
   "cell_type": "code",
   "execution_count": 66,
   "metadata": {},
   "outputs": [
    {
     "name": "stdout",
     "output_type": "stream",
     "text": [
      "0.16441343218491059\n",
      "0.8355865678150894\n"
     ]
    }
   ],
   "source": [
    "ny_nj = users_cons.loc[users_cons[\"city\"].str.contains(\"NY-NJ\")][\"costs\"]\n",
    "other_regions = users_cons.loc[~users_cons[\"city\"].str.contains(\"NY-NJ\")][\"costs\"]\n",
    "print(len(ny_nj)/len(users_cons))\n",
    "print(len(other_regions)/len(users_cons))\n"
   ]
  },
  {
   "cell_type": "markdown",
   "metadata": {},
   "source": [
    "Consumers from the NJ-NY area make up 16.4% of the population.\n",
    "\n",
    "Again we have 2 statistical populations: Consumers from NJ-NY and consumers who are not from NJ-NY. We want to test if the the average revenue from users in NY-NJ area is different from that of the users from other regions. Therefore we do the Equality of means hypothesis test.\n",
    "\n",
    "The Null Hypothesis is: The average revenue from users in NY-NJ area and users from other regions are equal.\n",
    "\n",
    "The Alternative Hypothesis is: The average revenue from users in NY-NJ area and users from other regions differ.\n"
   ]
  },
  {
   "cell_type": "markdown",
   "metadata": {},
   "source": [
    "<div class=\"alert alert-success\" role=\"alert\">\n",
    "Reviewer's comment v. 1:\n",
    "    \n",
    "Yes, a correct hypotheses formulation :)\n",
    "</div>"
   ]
  },
  {
   "cell_type": "code",
   "execution_count": 67,
   "metadata": {},
   "outputs": [
    {
     "name": "stdout",
     "output_type": "stream",
     "text": [
      "average revenues from people from NJ-NY: 59.92$\n",
      "average revenues from people from other regions: 65.22$\n"
     ]
    }
   ],
   "source": [
    "average_ny_nj = ny_nj.mean().round(2)\n",
    "average_other_regions = other_regions.mean().round(2)\n",
    "print(\"average revenues from people from NJ-NY: {}$\".format(average_ny_nj))\n",
    "print(\"average revenues from people from other regions: {}$\".format(average_other_regions))"
   ]
  },
  {
   "cell_type": "markdown",
   "metadata": {},
   "source": [
    "The mean values from our data samples depend on whether an individual is from NJ-NY area or not.In average, people from NY-NJ area bring less revenues than people from other regions in our data sample."
   ]
  },
  {
   "cell_type": "code",
   "execution_count": 68,
   "metadata": {},
   "outputs": [
    {
     "name": "stdout",
     "output_type": "stream",
     "text": [
      "p-value:  0.043557431621342436\n",
      "We reject the null hypothesis\n"
     ]
    }
   ],
   "source": [
    "results = st.ttest_ind(ny_nj, other_regions)\n",
    "\n",
    "alpha = .05\n",
    "\n",
    "print('p-value: ', results.pvalue)\n",
    "\n",
    "if (results.pvalue < alpha):\n",
    "        print(\"We reject the null hypothesis\")\n",
    "else:\n",
    "        print(\"We can't reject the null hypothesis\") "
   ]
  },
  {
   "cell_type": "markdown",
   "metadata": {},
   "source": [
    "<div class=\"alert alert-danger\" role=\"alert\">\n",
    "Reviewer's comment v. 1:\n",
    "    \n",
    "Could you please check this result?\n",
    "</div>"
   ]
  },
  {
   "cell_type": "markdown",
   "metadata": {},
   "source": [
    "<div class=\"alert alert-warning\" role=\"alert\">\n",
    "Reviewer's comment v. 2:\n",
    "    \n",
    "Please note that there is no a statistically significant differences in the average revenue from users in NY-NJ area and users from other regions.\n",
    "    \n",
    "I suppose that differences are due to data preparation (removing zero call sand so on).\n",
    "</div>"
   ]
  },
  {
   "cell_type": "markdown",
   "metadata": {},
   "source": [
    "### Conclusion"
   ]
  },
  {
   "cell_type": "markdown",
   "metadata": {},
   "source": [
    "In both tests, the null hypotheses that the statistical populations are equal in their average revenues were rejected. This means that the alternative hypotheses that the average revenues in the 2 populations differ are significant.\n",
    "\n",
    "It's significant, that average revenues from users in NY-NJ area are less htan revenues from users in other regions and it's significant, that the average revenues from users of Ultimate are higher than the revenues from users of the Surf calling plan."
   ]
  },
  {
   "cell_type": "markdown",
   "metadata": {},
   "source": [
    "## Overall conclusion"
   ]
  },
  {
   "cell_type": "markdown",
   "metadata": {},
   "source": [
    "In summary, customers generally do not differ much in their consumption behavior. Additional tests could be carried out to check this for significance, but this would go beyond the scope of this project. More important was the question of which tariff type generates greater sales on average. It can be said significantly that the Ultimate tariff is more profitable and should therefore be marketed better. In our sample, Surf customers brought in an average of 57.18 $ and Ultimate customers brought in an average of 72.11 $ per month. Customers from the NJ-NY area brought in less revenue on average than customers from other regions, which may be due to denser WLAN networks in metropolitan areas."
   ]
  },
  {
   "cell_type": "markdown",
   "metadata": {},
   "source": [
    "<div class=\"alert alert-warning\" role=\"alert\">\n",
    "Reviewer's comment v. 1:\n",
    "    \n",
    "The Smart tariff will be more profitable for the operator. Could you please explain why? It will be nice to describe all main results of the project (data, anomalies, trends and so on).\n",
    "</div>"
   ]
  },
  {
   "cell_type": "code",
   "execution_count": null,
   "metadata": {},
   "outputs": [],
   "source": []
  }
 ],
 "metadata": {
  "kernelspec": {
   "display_name": "Python 3 (ipykernel)",
   "language": "python",
   "name": "python3"
  },
  "language_info": {
   "codemirror_mode": {
    "name": "ipython",
    "version": 3
   },
   "file_extension": ".py",
   "mimetype": "text/x-python",
   "name": "python",
   "nbconvert_exporter": "python",
   "pygments_lexer": "ipython3",
   "version": "3.9.5"
  },
  "toc": {
   "base_numbering": 1,
   "nav_menu": {},
   "number_sections": true,
   "sideBar": true,
   "skip_h1_title": true,
   "title_cell": "Table of Contents",
   "title_sidebar": "Contents",
   "toc_cell": false,
   "toc_position": {
    "height": "calc(100% - 180px)",
    "left": "10px",
    "top": "150px",
    "width": "276.632px"
   },
   "toc_section_display": true,
   "toc_window_display": true
  }
 },
 "nbformat": 4,
 "nbformat_minor": 2
}
