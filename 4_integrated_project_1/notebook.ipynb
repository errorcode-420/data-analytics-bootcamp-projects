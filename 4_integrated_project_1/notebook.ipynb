{
 "cells": [
  {
   "cell_type": "markdown",
   "metadata": {},
   "source": [
    "Hey! My name is Alan! I'm going to review your project!\n",
    "\n",
    "You can see my comments in colored markdown cells, so please don't delete them. Each color means the following:\n",
    "\n",
    "<div class=\"alert alert-block alert-success\">\n",
    "<b>Success:</b> Everything is done succesfully.\n",
    "</div>\n",
    "<div class=\"alert alert-block alert-warning\">\n",
    "<b>Can be improved:</b> If i can give some recommendations. If your work have more than 3 of these, it can't be accepted.\n",
    "</div>\n",
    "\n",
    "<div class=\"alert alert-block alert-danger\">\n",
    "<b>Needs fixing:</b> If the block requires some corrections. Work can't be accepted with red comments.\n",
    "</div>\n",
    "\n",
    "<div class=\"alert alert-info\"> \n",
    "    \n",
    "<b>Student's comment:</b> Can be placed like this as an example.</div>\n",
    "\n"
   ]
  },
  {
   "cell_type": "markdown",
   "metadata": {},
   "source": [
    "<div class=\"alert alert-danger\">\n",
    "\n",
    "**Conclusion:** Thank you so much for submitting your project!  I like the way you've done analysis and reasoning in your project. There are few things that need to be corrected in your project. They're mostly minor issues that are easy to fix. One more time and you'll have it!\n",
    "* Add axis labels to graphs\n",
    "* Make column names lowercase\n",
    "</div>"
   ]
  },
  {
   "cell_type": "markdown",
   "metadata": {},
   "source": [
    "<div class=\"alert alert-success\">\n",
    "\n",
    "**Conclusion v2:** Now your project is a true \"A\". Congratulations! I'm glad to say that your project has been accepted.\n",
    "Keep up the good work, and good luck on the next sprint!\n",
    "</div>"
   ]
  },
  {
   "cell_type": "markdown",
   "metadata": {},
   "source": [
    "# Integrated Project:  Video game store"
   ]
  },
  {
   "cell_type": "code",
   "execution_count": 1,
   "metadata": {},
   "outputs": [
    {
     "name": "stdout",
     "output_type": "stream",
     "text": [
      "Defaulting to user installation because normal site-packages is not writeable\n",
      "Requirement already satisfied: squarify in /home/jovyan/.local/lib/python3.7/site-packages (0.4.3)\n"
     ]
    }
   ],
   "source": [
    "import pandas as pd\n",
    "import numpy as np\n",
    "import math\n",
    "import matplotlib as mpl\n",
    "import matplotlib.pyplot as plt\n",
    "import seaborn as sns\n",
    "!pip install squarify\n",
    "import squarify\n",
    "import matplotlib.cbook as cbook\n",
    "from scipy import stats as st\n"
   ]
  },
  {
   "cell_type": "code",
   "execution_count": 2,
   "metadata": {},
   "outputs": [],
   "source": [
    "df = pd.read_csv(\"/datasets/games.csv\")"
   ]
  },
  {
   "cell_type": "markdown",
   "metadata": {},
   "source": [
    "## Search for problems with the data set"
   ]
  },
  {
   "cell_type": "markdown",
   "metadata": {},
   "source": [
    "### Studying of the general information"
   ]
  },
  {
   "cell_type": "code",
   "execution_count": 3,
   "metadata": {},
   "outputs": [
    {
     "data": {
      "text/html": [
       "<div>\n",
       "<style scoped>\n",
       "    .dataframe tbody tr th:only-of-type {\n",
       "        vertical-align: middle;\n",
       "    }\n",
       "\n",
       "    .dataframe tbody tr th {\n",
       "        vertical-align: top;\n",
       "    }\n",
       "\n",
       "    .dataframe thead th {\n",
       "        text-align: right;\n",
       "    }\n",
       "</style>\n",
       "<table border=\"1\" class=\"dataframe\">\n",
       "  <thead>\n",
       "    <tr style=\"text-align: right;\">\n",
       "      <th></th>\n",
       "      <th>Name</th>\n",
       "      <th>Platform</th>\n",
       "      <th>Year_of_Release</th>\n",
       "      <th>Genre</th>\n",
       "      <th>NA_sales</th>\n",
       "      <th>EU_sales</th>\n",
       "      <th>JP_sales</th>\n",
       "      <th>Other_sales</th>\n",
       "      <th>Critic_Score</th>\n",
       "      <th>User_Score</th>\n",
       "      <th>Rating</th>\n",
       "    </tr>\n",
       "  </thead>\n",
       "  <tbody>\n",
       "    <tr>\n",
       "      <td>0</td>\n",
       "      <td>Wii Sports</td>\n",
       "      <td>Wii</td>\n",
       "      <td>2006.0</td>\n",
       "      <td>Sports</td>\n",
       "      <td>41.36</td>\n",
       "      <td>28.96</td>\n",
       "      <td>3.77</td>\n",
       "      <td>8.45</td>\n",
       "      <td>76.0</td>\n",
       "      <td>8</td>\n",
       "      <td>E</td>\n",
       "    </tr>\n",
       "    <tr>\n",
       "      <td>1</td>\n",
       "      <td>Super Mario Bros.</td>\n",
       "      <td>NES</td>\n",
       "      <td>1985.0</td>\n",
       "      <td>Platform</td>\n",
       "      <td>29.08</td>\n",
       "      <td>3.58</td>\n",
       "      <td>6.81</td>\n",
       "      <td>0.77</td>\n",
       "      <td>NaN</td>\n",
       "      <td>NaN</td>\n",
       "      <td>NaN</td>\n",
       "    </tr>\n",
       "    <tr>\n",
       "      <td>2</td>\n",
       "      <td>Mario Kart Wii</td>\n",
       "      <td>Wii</td>\n",
       "      <td>2008.0</td>\n",
       "      <td>Racing</td>\n",
       "      <td>15.68</td>\n",
       "      <td>12.76</td>\n",
       "      <td>3.79</td>\n",
       "      <td>3.29</td>\n",
       "      <td>82.0</td>\n",
       "      <td>8.3</td>\n",
       "      <td>E</td>\n",
       "    </tr>\n",
       "    <tr>\n",
       "      <td>3</td>\n",
       "      <td>Wii Sports Resort</td>\n",
       "      <td>Wii</td>\n",
       "      <td>2009.0</td>\n",
       "      <td>Sports</td>\n",
       "      <td>15.61</td>\n",
       "      <td>10.93</td>\n",
       "      <td>3.28</td>\n",
       "      <td>2.95</td>\n",
       "      <td>80.0</td>\n",
       "      <td>8</td>\n",
       "      <td>E</td>\n",
       "    </tr>\n",
       "    <tr>\n",
       "      <td>4</td>\n",
       "      <td>Pokemon Red/Pokemon Blue</td>\n",
       "      <td>GB</td>\n",
       "      <td>1996.0</td>\n",
       "      <td>Role-Playing</td>\n",
       "      <td>11.27</td>\n",
       "      <td>8.89</td>\n",
       "      <td>10.22</td>\n",
       "      <td>1.00</td>\n",
       "      <td>NaN</td>\n",
       "      <td>NaN</td>\n",
       "      <td>NaN</td>\n",
       "    </tr>\n",
       "    <tr>\n",
       "      <td>...</td>\n",
       "      <td>...</td>\n",
       "      <td>...</td>\n",
       "      <td>...</td>\n",
       "      <td>...</td>\n",
       "      <td>...</td>\n",
       "      <td>...</td>\n",
       "      <td>...</td>\n",
       "      <td>...</td>\n",
       "      <td>...</td>\n",
       "      <td>...</td>\n",
       "      <td>...</td>\n",
       "    </tr>\n",
       "    <tr>\n",
       "      <td>16710</td>\n",
       "      <td>Samurai Warriors: Sanada Maru</td>\n",
       "      <td>PS3</td>\n",
       "      <td>2016.0</td>\n",
       "      <td>Action</td>\n",
       "      <td>0.00</td>\n",
       "      <td>0.00</td>\n",
       "      <td>0.01</td>\n",
       "      <td>0.00</td>\n",
       "      <td>NaN</td>\n",
       "      <td>NaN</td>\n",
       "      <td>NaN</td>\n",
       "    </tr>\n",
       "    <tr>\n",
       "      <td>16711</td>\n",
       "      <td>LMA Manager 2007</td>\n",
       "      <td>X360</td>\n",
       "      <td>2006.0</td>\n",
       "      <td>Sports</td>\n",
       "      <td>0.00</td>\n",
       "      <td>0.01</td>\n",
       "      <td>0.00</td>\n",
       "      <td>0.00</td>\n",
       "      <td>NaN</td>\n",
       "      <td>NaN</td>\n",
       "      <td>NaN</td>\n",
       "    </tr>\n",
       "    <tr>\n",
       "      <td>16712</td>\n",
       "      <td>Haitaka no Psychedelica</td>\n",
       "      <td>PSV</td>\n",
       "      <td>2016.0</td>\n",
       "      <td>Adventure</td>\n",
       "      <td>0.00</td>\n",
       "      <td>0.00</td>\n",
       "      <td>0.01</td>\n",
       "      <td>0.00</td>\n",
       "      <td>NaN</td>\n",
       "      <td>NaN</td>\n",
       "      <td>NaN</td>\n",
       "    </tr>\n",
       "    <tr>\n",
       "      <td>16713</td>\n",
       "      <td>Spirits &amp; Spells</td>\n",
       "      <td>GBA</td>\n",
       "      <td>2003.0</td>\n",
       "      <td>Platform</td>\n",
       "      <td>0.01</td>\n",
       "      <td>0.00</td>\n",
       "      <td>0.00</td>\n",
       "      <td>0.00</td>\n",
       "      <td>NaN</td>\n",
       "      <td>NaN</td>\n",
       "      <td>NaN</td>\n",
       "    </tr>\n",
       "    <tr>\n",
       "      <td>16714</td>\n",
       "      <td>Winning Post 8 2016</td>\n",
       "      <td>PSV</td>\n",
       "      <td>2016.0</td>\n",
       "      <td>Simulation</td>\n",
       "      <td>0.00</td>\n",
       "      <td>0.00</td>\n",
       "      <td>0.01</td>\n",
       "      <td>0.00</td>\n",
       "      <td>NaN</td>\n",
       "      <td>NaN</td>\n",
       "      <td>NaN</td>\n",
       "    </tr>\n",
       "  </tbody>\n",
       "</table>\n",
       "<p>16715 rows × 11 columns</p>\n",
       "</div>"
      ],
      "text/plain": [
       "                                Name Platform  Year_of_Release         Genre  \\\n",
       "0                         Wii Sports      Wii           2006.0        Sports   \n",
       "1                  Super Mario Bros.      NES           1985.0      Platform   \n",
       "2                     Mario Kart Wii      Wii           2008.0        Racing   \n",
       "3                  Wii Sports Resort      Wii           2009.0        Sports   \n",
       "4           Pokemon Red/Pokemon Blue       GB           1996.0  Role-Playing   \n",
       "...                              ...      ...              ...           ...   \n",
       "16710  Samurai Warriors: Sanada Maru      PS3           2016.0        Action   \n",
       "16711               LMA Manager 2007     X360           2006.0        Sports   \n",
       "16712        Haitaka no Psychedelica      PSV           2016.0     Adventure   \n",
       "16713               Spirits & Spells      GBA           2003.0      Platform   \n",
       "16714            Winning Post 8 2016      PSV           2016.0    Simulation   \n",
       "\n",
       "       NA_sales  EU_sales  JP_sales  Other_sales  Critic_Score User_Score  \\\n",
       "0         41.36     28.96      3.77         8.45          76.0          8   \n",
       "1         29.08      3.58      6.81         0.77           NaN        NaN   \n",
       "2         15.68     12.76      3.79         3.29          82.0        8.3   \n",
       "3         15.61     10.93      3.28         2.95          80.0          8   \n",
       "4         11.27      8.89     10.22         1.00           NaN        NaN   \n",
       "...         ...       ...       ...          ...           ...        ...   \n",
       "16710      0.00      0.00      0.01         0.00           NaN        NaN   \n",
       "16711      0.00      0.01      0.00         0.00           NaN        NaN   \n",
       "16712      0.00      0.00      0.01         0.00           NaN        NaN   \n",
       "16713      0.01      0.00      0.00         0.00           NaN        NaN   \n",
       "16714      0.00      0.00      0.01         0.00           NaN        NaN   \n",
       "\n",
       "      Rating  \n",
       "0          E  \n",
       "1        NaN  \n",
       "2          E  \n",
       "3          E  \n",
       "4        NaN  \n",
       "...      ...  \n",
       "16710    NaN  \n",
       "16711    NaN  \n",
       "16712    NaN  \n",
       "16713    NaN  \n",
       "16714    NaN  \n",
       "\n",
       "[16715 rows x 11 columns]"
      ]
     },
     "metadata": {},
     "output_type": "display_data"
    }
   ],
   "source": [
    "display(df)"
   ]
  },
  {
   "cell_type": "markdown",
   "metadata": {},
   "source": [
    "<div class=\"alert alert-warning\">\n",
    "\n",
    "**Reviewer's comment:** You can you `display()` instead of `print()` to display tables in a more readable format.\n",
    "</div>"
   ]
  },
  {
   "cell_type": "code",
   "execution_count": 4,
   "metadata": {},
   "outputs": [
    {
     "name": "stdout",
     "output_type": "stream",
     "text": [
      "                                Name Platform  Year_of_Release       Genre  \\\n",
      "16710  Samurai Warriors: Sanada Maru      PS3           2016.0      Action   \n",
      "16711               LMA Manager 2007     X360           2006.0      Sports   \n",
      "16712        Haitaka no Psychedelica      PSV           2016.0   Adventure   \n",
      "16713               Spirits & Spells      GBA           2003.0    Platform   \n",
      "16714            Winning Post 8 2016      PSV           2016.0  Simulation   \n",
      "\n",
      "       NA_sales  EU_sales  JP_sales  Other_sales  Critic_Score User_Score  \\\n",
      "16710      0.00      0.00      0.01          0.0           NaN        NaN   \n",
      "16711      0.00      0.01      0.00          0.0           NaN        NaN   \n",
      "16712      0.00      0.00      0.01          0.0           NaN        NaN   \n",
      "16713      0.01      0.00      0.00          0.0           NaN        NaN   \n",
      "16714      0.00      0.00      0.01          0.0           NaN        NaN   \n",
      "\n",
      "      Rating  \n",
      "16710    NaN  \n",
      "16711    NaN  \n",
      "16712    NaN  \n",
      "16713    NaN  \n",
      "16714    NaN  \n"
     ]
    }
   ],
   "source": [
    "print(df.tail())"
   ]
  },
  {
   "cell_type": "code",
   "execution_count": 5,
   "metadata": {},
   "outputs": [
    {
     "name": "stdout",
     "output_type": "stream",
     "text": [
      "                       Name Platform  Year_of_Release   Genre  NA_sales  \\\n",
      "14929  Kawasaki Snowmobiles      Wii           2008.0  Racing      0.02   \n",
      "\n",
      "       EU_sales  JP_sales  Other_sales  Critic_Score User_Score Rating  \n",
      "14929       0.0       0.0          0.0           NaN          2      E  \n"
     ]
    }
   ],
   "source": [
    "print(df.sample())"
   ]
  },
  {
   "cell_type": "code",
   "execution_count": 6,
   "metadata": {},
   "outputs": [
    {
     "data": {
      "text/html": [
       "<div>\n",
       "<style scoped>\n",
       "    .dataframe tbody tr th:only-of-type {\n",
       "        vertical-align: middle;\n",
       "    }\n",
       "\n",
       "    .dataframe tbody tr th {\n",
       "        vertical-align: top;\n",
       "    }\n",
       "\n",
       "    .dataframe thead th {\n",
       "        text-align: right;\n",
       "    }\n",
       "</style>\n",
       "<table border=\"1\" class=\"dataframe\">\n",
       "  <thead>\n",
       "    <tr style=\"text-align: right;\">\n",
       "      <th></th>\n",
       "      <th>Name</th>\n",
       "      <th>Platform</th>\n",
       "      <th>Genre</th>\n",
       "      <th>User_Score</th>\n",
       "      <th>Rating</th>\n",
       "    </tr>\n",
       "  </thead>\n",
       "  <tbody>\n",
       "    <tr>\n",
       "      <td>count</td>\n",
       "      <td>16713</td>\n",
       "      <td>16715</td>\n",
       "      <td>16713</td>\n",
       "      <td>10014</td>\n",
       "      <td>9949</td>\n",
       "    </tr>\n",
       "    <tr>\n",
       "      <td>unique</td>\n",
       "      <td>11559</td>\n",
       "      <td>31</td>\n",
       "      <td>12</td>\n",
       "      <td>96</td>\n",
       "      <td>8</td>\n",
       "    </tr>\n",
       "    <tr>\n",
       "      <td>top</td>\n",
       "      <td>Need for Speed: Most Wanted</td>\n",
       "      <td>PS2</td>\n",
       "      <td>Action</td>\n",
       "      <td>tbd</td>\n",
       "      <td>E</td>\n",
       "    </tr>\n",
       "    <tr>\n",
       "      <td>freq</td>\n",
       "      <td>12</td>\n",
       "      <td>2161</td>\n",
       "      <td>3369</td>\n",
       "      <td>2424</td>\n",
       "      <td>3990</td>\n",
       "    </tr>\n",
       "  </tbody>\n",
       "</table>\n",
       "</div>"
      ],
      "text/plain": [
       "                               Name Platform   Genre User_Score Rating\n",
       "count                         16713    16715   16713      10014   9949\n",
       "unique                        11559       31      12         96      8\n",
       "top     Need for Speed: Most Wanted      PS2  Action        tbd      E\n",
       "freq                             12     2161    3369       2424   3990"
      ]
     },
     "execution_count": 6,
     "metadata": {},
     "output_type": "execute_result"
    }
   ],
   "source": [
    "df.describe(include=[\"object\"])"
   ]
  },
  {
   "cell_type": "markdown",
   "metadata": {},
   "source": [
    "The dataset contains the information about the sales figures of video games across various platforms in the regions of North America, Europe and Japan.\n",
    "When using methods that provide information about the general information about the data, it is already noticeable that some values are missing in several columns. This will be examined in more detail in point 1.4. "
   ]
  },
  {
   "cell_type": "markdown",
   "metadata": {},
   "source": [
    "### Search for wrong values"
   ]
  },
  {
   "cell_type": "markdown",
   "metadata": {},
   "source": [
    "In the following, incorrect values are to be found for all columns of the data set. For the numeric columns histograms are plotted to make extreme values visually recognizable and for the categorical columns the value_counts() metohde is used to display the occurring values."
   ]
  },
  {
   "cell_type": "code",
   "execution_count": 7,
   "metadata": {},
   "outputs": [
    {
     "data": {
      "text/plain": [
       "Text(0.5, 1.0, 'Game releases per year')"
      ]
     },
     "execution_count": 7,
     "metadata": {},
     "output_type": "execute_result"
    },
    {
     "data": {
      "image/png": "[encoded data removed]",
      "text/plain": [
       "<Figure size 432x288 with 1 Axes>"
      ]
     },
     "metadata": {
      "needs_background": "light"
     },
     "output_type": "display_data"
    }
   ],
   "source": [
    "pl = df[\"year_of_release\"].hist()\n",
    "pl.set_xlabel(\"Year\")\n",
    "pl.set_ylabel(\"Releases\")\n",
    "pl.set_title('Game releases per year')"
   ]
  },
  {
   "cell_type": "markdown",
   "metadata": {},
   "source": [
    "<div class=\"alert alert-danger\">\n",
    "\n",
    "**Reviewer's comment:** You did it right, but graphs should have axis text labels (not column names).\n",
    "</div>"
   ]
  },
  {
   "cell_type": "code",
   "execution_count": 8,
   "metadata": {},
   "outputs": [
    {
     "name": "stdout",
     "output_type": "stream",
     "text": [
      "                       Name Platform  Year_of_Release     Genre  NA_sales  \\\n",
      "9                 Duck Hunt      NES           1984.0   Shooter     26.93   \n",
      "89                  Pac-Man     2600           1982.0    Puzzle      7.28   \n",
      "240                Pitfall!     2600           1981.0  Platform      4.21   \n",
      "262               Asteroids     2600           1980.0   Shooter      4.00   \n",
      "281              Excitebike      NES           1984.0    Racing      2.04   \n",
      "...                     ...      ...              ...       ...       ...   \n",
      "8457             Death Trap     2600           1982.0    Action      0.15   \n",
      "8458           Armor Ambush     2600           1981.0    Action      0.15   \n",
      "8739        Pressure Cooker     2600           1982.0    Action      0.14   \n",
      "9095                  Krull     2600           1982.0    Action      0.13   \n",
      "9487  RealSports Volleyball     2600           1981.0    Sports      0.12   \n",
      "\n",
      "      EU_sales  JP_sales  Other_sales  Critic_Score User_Score Rating  \n",
      "9         0.63      0.28         0.47           NaN        NaN    NaN  \n",
      "89        0.45      0.00         0.08           NaN        NaN    NaN  \n",
      "240       0.24      0.00         0.05           NaN        NaN    NaN  \n",
      "262       0.26      0.00         0.05           NaN        NaN    NaN  \n",
      "281       0.48      1.57         0.07           NaN        NaN    NaN  \n",
      "...        ...       ...          ...           ...        ...    ...  \n",
      "8457      0.01      0.00         0.00           NaN        NaN    NaN  \n",
      "8458      0.01      0.00         0.00           NaN        NaN    NaN  \n",
      "8739      0.01      0.00         0.00           NaN        NaN    NaN  \n",
      "9095      0.01      0.00         0.00           NaN        NaN    NaN  \n",
      "9487      0.01      0.00         0.00           NaN        NaN    NaN  \n",
      "\n",
      "[122 rows x 11 columns]\n"
     ]
    }
   ],
   "source": [
    "print(df[df[\"year_of_release\"]<1985])"
   ]
  },
  {
   "cell_type": "code",
   "execution_count": 9,
   "metadata": {},
   "outputs": [
    {
     "name": "stdout",
     "output_type": "stream",
     "text": [
      "PS2     2161\n",
      "DS      2151\n",
      "PS3     1331\n",
      "Wii     1320\n",
      "X360    1262\n",
      "PSP     1209\n",
      "PS      1197\n",
      "PC       974\n",
      "XB       824\n",
      "GBA      822\n",
      "GC       556\n",
      "3DS      520\n",
      "PSV      430\n",
      "PS4      392\n",
      "N64      319\n",
      "XOne     247\n",
      "SNES     239\n",
      "SAT      173\n",
      "WiiU     147\n",
      "2600     133\n",
      "NES       98\n",
      "GB        98\n",
      "DC        52\n",
      "GEN       29\n",
      "NG        12\n",
      "WS         6\n",
      "SCD        6\n",
      "3DO        3\n",
      "TG16       2\n",
      "GG         1\n",
      "PCFX       1\n",
      "Name: Platform, dtype: int64\n"
     ]
    }
   ],
   "source": [
    "print(df[\"platform\"].value_counts())"
   ]
  },
  {
   "cell_type": "code",
   "execution_count": 10,
   "metadata": {},
   "outputs": [
    {
     "name": "stdout",
     "output_type": "stream",
     "text": [
      "Action          3369\n",
      "Sports          2348\n",
      "Misc            1750\n",
      "Role-Playing    1498\n",
      "Shooter         1323\n",
      "Adventure       1303\n",
      "Racing          1249\n",
      "Platform         888\n",
      "Simulation       873\n",
      "Fighting         849\n",
      "Strategy         683\n",
      "Puzzle           580\n",
      "Name: Genre, dtype: int64\n"
     ]
    }
   ],
   "source": [
    "print(df[\"genre\"].value_counts())"
   ]
  },
  {
   "cell_type": "code",
   "execution_count": 11,
   "metadata": {},
   "outputs": [
    {
     "name": "stdout",
     "output_type": "stream",
     "text": [
      "0.2696978761591385\n"
     ]
    },
    {
     "data": {
      "image/png": "[encoded data removed]",
      "text/plain": [
       "<Figure size 432x288 with 1 Axes>"
      ]
     },
     "metadata": {
      "needs_background": "light"
     },
     "output_type": "display_data"
    }
   ],
   "source": [
    "pl = df[\"na_sales\"].hist(bins=100)\n",
    "print(len(df[df[\"na_sales\"]==0])/len(df))\n",
    "\n",
    "pl.set_xlabel(\"Sales [million USD]\")\n",
    "pl.set_ylabel(\"Count\")\n",
    "pl.set_title('Distribution of sales in NA')\n",
    "plt.show()"
   ]
  },
  {
   "cell_type": "code",
   "execution_count": 12,
   "metadata": {},
   "outputs": [
    {
     "name": "stdout",
     "output_type": "stream",
     "text": [
      "0.3511815734370326\n"
     ]
    },
    {
     "data": {
      "image/png": "[encoded data removed]",
      "text/plain": [
       "<Figure size 432x288 with 1 Axes>"
      ]
     },
     "metadata": {
      "needs_background": "light"
     },
     "output_type": "display_data"
    }
   ],
   "source": [
    "pl = df[\"eu_sales\"].hist(bins=100)\n",
    "print(len(df[df[\"eu_sales\"]==0])/len(df))\n",
    "\n",
    "pl.set_xlabel(\"Sales [million USD]\")\n",
    "pl.set_ylabel(\"Count\")\n",
    "pl.set_title('Distribution of sales in EU')\n",
    "plt.show()"
   ]
  },
  {
   "cell_type": "code",
   "execution_count": 13,
   "metadata": {},
   "outputs": [
    {
     "name": "stdout",
     "output_type": "stream",
     "text": [
      "0.6290158540233324\n"
     ]
    },
    {
     "data": {
      "image/png": "[encoded data removed]",
      "text/plain": [
       "<Figure size 432x288 with 1 Axes>"
      ]
     },
     "metadata": {
      "needs_background": "light"
     },
     "output_type": "display_data"
    }
   ],
   "source": [
    "pl = df[\"jp_sales\"].hist(bins=100)\n",
    "print(len(df[df[\"jp_sales\"]==0])/len(df))\n",
    "\n",
    "\n",
    "pl.set_xlabel(\"Sales [million USD]\")\n",
    "pl.set_ylabel(\"Count\")\n",
    "pl.set_title('Distribution of sales in JP')\n",
    "plt.show()"
   ]
  },
  {
   "cell_type": "code",
   "execution_count": 14,
   "metadata": {},
   "outputs": [
    {
     "name": "stdout",
     "output_type": "stream",
     "text": [
      "0.3949147472330242\n"
     ]
    },
    {
     "data": {
      "image/png": "[encoded data removed]",
      "text/plain": [
       "<Figure size 432x288 with 1 Axes>"
      ]
     },
     "metadata": {
      "needs_background": "light"
     },
     "output_type": "display_data"
    }
   ],
   "source": [
    "pl = df[\"other_sales\"].hist(bins=200)\n",
    "print(len(df[df[\"other_sales\"]==0])/len(df))\n",
    "\n",
    "\n",
    "pl.set_xlabel(\"Sales [million USD]\")\n",
    "pl.set_ylabel(\"Count\")\n",
    "pl.set_title('Distribution of sales in other regions')\n",
    "plt.show()"
   ]
  },
  {
   "cell_type": "code",
   "execution_count": 15,
   "metadata": {},
   "outputs": [
    {
     "data": {
      "image/png": "[encoded data removed]",
      "text/plain": [
       "<Figure size 432x288 with 1 Axes>"
      ]
     },
     "metadata": {
      "needs_background": "light"
     },
     "output_type": "display_data"
    }
   ],
   "source": [
    "pl = df[\"critic_score\"].hist(bins=200)\n",
    "\n",
    "\n",
    "pl.set_xlabel(\"Critic Score\")\n",
    "pl.set_ylabel(\"Count\")\n",
    "pl.set_title('Distribution of na_sales')\n",
    "plt.show()"
   ]
  },
  {
   "cell_type": "code",
   "execution_count": 16,
   "metadata": {},
   "outputs": [
    {
     "data": {
      "text/plain": [
       "tbd    2424\n",
       "7.8     324\n",
       "8       290\n",
       "8.2     282\n",
       "8.3     254\n",
       "       ... \n",
       "0.6       2\n",
       "9.6       2\n",
       "2.3       2\n",
       "0         1\n",
       "9.7       1\n",
       "Name: User_Score, Length: 96, dtype: int64"
      ]
     },
     "execution_count": 16,
     "metadata": {},
     "output_type": "execute_result"
    }
   ],
   "source": [
    "df[\"user_score\"].value_counts()"
   ]
  },
  {
   "cell_type": "code",
   "execution_count": 17,
   "metadata": {},
   "outputs": [
    {
     "data": {
      "text/plain": [
       "E       3990\n",
       "T       2961\n",
       "M       1563\n",
       "E10+    1420\n",
       "EC         8\n",
       "K-A        3\n",
       "RP         3\n",
       "AO         1\n",
       "Name: Rating, dtype: int64"
      ]
     },
     "execution_count": 17,
     "metadata": {},
     "output_type": "execute_result"
    }
   ],
   "source": [
    "df[\"rating\"].value_counts()"
   ]
  },
  {
   "cell_type": "markdown",
   "metadata": {},
   "source": [
    "When plotting histograms for the numeric variables and using the value_counts() method for the categorical variables, I noticed that the string \"tbd\" appears in the \"user_score\" column. This will cause us problems later when we change the data type for this column. Therefore these values will be removed in point 2.1."
   ]
  },
  {
   "cell_type": "markdown",
   "metadata": {},
   "source": [
    "### Search for wrong data types"
   ]
  },
  {
   "cell_type": "code",
   "execution_count": 18,
   "metadata": {},
   "outputs": [
    {
     "name": "stdout",
     "output_type": "stream",
     "text": [
      "<class 'pandas.core.frame.DataFrame'>\n",
      "RangeIndex: 16715 entries, 0 to 16714\n",
      "Data columns (total 11 columns):\n",
      "Name               16713 non-null object\n",
      "Platform           16715 non-null object\n",
      "Year_of_Release    16446 non-null float64\n",
      "Genre              16713 non-null object\n",
      "NA_sales           16715 non-null float64\n",
      "EU_sales           16715 non-null float64\n",
      "JP_sales           16715 non-null float64\n",
      "Other_sales        16715 non-null float64\n",
      "Critic_Score       8137 non-null float64\n",
      "User_Score         10014 non-null object\n",
      "Rating             9949 non-null object\n",
      "dtypes: float64(6), object(5)\n",
      "memory usage: 1.4+ MB\n"
     ]
    }
   ],
   "source": [
    "df.info()"
   ]
  },
  {
   "cell_type": "markdown",
   "metadata": {},
   "source": [
    "There are wrong data types in the folowing columns:\n",
    "    \n",
    "    - year_of_release: float --> int\n",
    "    - user_score: string --> float"
   ]
  },
  {
   "cell_type": "markdown",
   "metadata": {},
   "source": [
    "### Search for missing values"
   ]
  },
  {
   "cell_type": "code",
   "execution_count": 19,
   "metadata": {},
   "outputs": [],
   "source": [
    "# Function to count missing values for each columns in a DataFrame\n",
    "def missing_data(data):\n",
    "    # Count number of missing value in a column\n",
    "    total = data.isnull().sum()           \n",
    "    \n",
    "    # Get Percentage of missing values\n",
    "    percent = (data.isnull().sum()/data.isnull().count()*100)   \n",
    "    temp = pd.concat([total, percent], axis=1, keys=['Total', 'Percent(%)'])\n",
    "\n",
    "    # Create a Type column, that indicates the data-type of the column.\n",
    "    types = []\n",
    "    for col in data.columns:\n",
    "        dtype = str(data[col].dtype)\n",
    "        types.append(dtype)\n",
    "    temp['Types'] = types\n",
    "\n",
    "    return(np.transpose(temp))\n"
   ]
  },
  {
   "cell_type": "code",
   "execution_count": 20,
   "metadata": {},
   "outputs": [
    {
     "data": {
      "text/html": [
       "<div>\n",
       "<style scoped>\n",
       "    .dataframe tbody tr th:only-of-type {\n",
       "        vertical-align: middle;\n",
       "    }\n",
       "\n",
       "    .dataframe tbody tr th {\n",
       "        vertical-align: top;\n",
       "    }\n",
       "\n",
       "    .dataframe thead th {\n",
       "        text-align: right;\n",
       "    }\n",
       "</style>\n",
       "<table border=\"1\" class=\"dataframe\">\n",
       "  <thead>\n",
       "    <tr style=\"text-align: right;\">\n",
       "      <th></th>\n",
       "      <th>Name</th>\n",
       "      <th>Platform</th>\n",
       "      <th>Year_of_Release</th>\n",
       "      <th>Genre</th>\n",
       "      <th>NA_sales</th>\n",
       "      <th>EU_sales</th>\n",
       "      <th>JP_sales</th>\n",
       "      <th>Other_sales</th>\n",
       "      <th>Critic_Score</th>\n",
       "      <th>User_Score</th>\n",
       "      <th>Rating</th>\n",
       "    </tr>\n",
       "  </thead>\n",
       "  <tbody>\n",
       "    <tr>\n",
       "      <td>Total</td>\n",
       "      <td>2</td>\n",
       "      <td>0</td>\n",
       "      <td>269</td>\n",
       "      <td>2</td>\n",
       "      <td>0</td>\n",
       "      <td>0</td>\n",
       "      <td>0</td>\n",
       "      <td>0</td>\n",
       "      <td>8578</td>\n",
       "      <td>6701</td>\n",
       "      <td>6766</td>\n",
       "    </tr>\n",
       "    <tr>\n",
       "      <td>Percent(%)</td>\n",
       "      <td>0.0119653</td>\n",
       "      <td>0</td>\n",
       "      <td>1.60933</td>\n",
       "      <td>0.0119653</td>\n",
       "      <td>0</td>\n",
       "      <td>0</td>\n",
       "      <td>0</td>\n",
       "      <td>0</td>\n",
       "      <td>51.3192</td>\n",
       "      <td>40.0897</td>\n",
       "      <td>40.4786</td>\n",
       "    </tr>\n",
       "    <tr>\n",
       "      <td>Types</td>\n",
       "      <td>object</td>\n",
       "      <td>object</td>\n",
       "      <td>float64</td>\n",
       "      <td>object</td>\n",
       "      <td>float64</td>\n",
       "      <td>float64</td>\n",
       "      <td>float64</td>\n",
       "      <td>float64</td>\n",
       "      <td>float64</td>\n",
       "      <td>object</td>\n",
       "      <td>object</td>\n",
       "    </tr>\n",
       "  </tbody>\n",
       "</table>\n",
       "</div>"
      ],
      "text/plain": [
       "                 Name Platform Year_of_Release      Genre NA_sales EU_sales  \\\n",
       "Total               2        0             269          2        0        0   \n",
       "Percent(%)  0.0119653        0         1.60933  0.0119653        0        0   \n",
       "Types          object   object         float64     object  float64  float64   \n",
       "\n",
       "           JP_sales Other_sales Critic_Score User_Score   Rating  \n",
       "Total             0           0         8578       6701     6766  \n",
       "Percent(%)        0           0      51.3192    40.0897  40.4786  \n",
       "Types       float64     float64      float64     object   object  "
      ]
     },
     "execution_count": 20,
     "metadata": {},
     "output_type": "execute_result"
    }
   ],
   "source": [
    "missing_data(df)"
   ]
  },
  {
   "cell_type": "markdown",
   "metadata": {},
   "source": [
    "There are missing values in the folowing columns:\n",
    "    \n",
    "    - name: 0.01% of the values are missing\n",
    "    - year_of_release: 1.61% of the values are missing\n",
    "    - genre: 1.2% of the values are missing\n",
    "    - critic_score: 51.32% of the values are missing\n",
    "    - user_score: 40.09% of the values are missing\n",
    "    - rating: 40.48% of the values are missing"
   ]
  },
  {
   "cell_type": "code",
   "execution_count": 21,
   "metadata": {},
   "outputs": [
    {
     "name": "stdout",
     "output_type": "stream",
     "text": [
      "      Name Platform  Year_of_Release Genre  NA_sales  EU_sales  JP_sales  \\\n",
      "659    NaN      GEN           1993.0   NaN      1.78      0.53      0.00   \n",
      "14244  NaN      GEN           1993.0   NaN      0.00      0.00      0.03   \n",
      "\n",
      "       Other_sales  Critic_Score User_Score Rating  \n",
      "659           0.08           NaN        NaN    NaN  \n",
      "14244         0.00           NaN        NaN    NaN  \n"
     ]
    }
   ],
   "source": [
    "print(df[df[\"name\"].isna()])"
   ]
  },
  {
   "cell_type": "markdown",
   "metadata": {},
   "source": [
    "In the few columns where the name is missing, many other values are also gone. Since there are only 2 rows with this problem, they will get deleted."
   ]
  },
  {
   "cell_type": "code",
   "execution_count": 22,
   "metadata": {},
   "outputs": [
    {
     "name": "stdout",
     "output_type": "stream",
     "text": [
      "                                            Name Platform  Year_of_Release  \\\n",
      "183                              Madden NFL 2004      PS2              NaN   \n",
      "377                             FIFA Soccer 2004      PS2              NaN   \n",
      "456                   LEGO Batman: The Videogame      Wii              NaN   \n",
      "475                   wwe Smackdown vs. Raw 2006      PS2              NaN   \n",
      "609                               Space Invaders     2600              NaN   \n",
      "627                                    Rock Band     X360              NaN   \n",
      "657     Frogger's Adventures: Temple of the Frog      GBA              NaN   \n",
      "678  LEGO Indiana Jones: The Original Adventures      Wii              NaN   \n",
      "719                               Call of Duty 3      Wii              NaN   \n",
      "805                                    Rock Band      Wii              NaN   \n",
      "\n",
      "         Genre  NA_sales  EU_sales  JP_sales  Other_sales  Critic_Score  \\\n",
      "183     Sports      4.26      0.26      0.01         0.71          94.0   \n",
      "377     Sports      0.59      2.36      0.04         0.51          84.0   \n",
      "456     Action      1.80      0.97      0.00         0.29          74.0   \n",
      "475   Fighting      1.57      1.02      0.00         0.41           NaN   \n",
      "609    Shooter      2.36      0.14      0.00         0.03           NaN   \n",
      "627       Misc      1.93      0.33      0.00         0.21          92.0   \n",
      "657  Adventure      2.15      0.18      0.00         0.07          73.0   \n",
      "678     Action      1.51      0.61      0.00         0.21          78.0   \n",
      "719    Shooter      1.17      0.84      0.00         0.23          69.0   \n",
      "805       Misc      1.33      0.56      0.00         0.20          80.0   \n",
      "\n",
      "    User_Score Rating  \n",
      "183        8.5      E  \n",
      "377        6.4      E  \n",
      "456        7.9   E10+  \n",
      "475        NaN    NaN  \n",
      "609        NaN    NaN  \n",
      "627        8.2      T  \n",
      "657        tbd      E  \n",
      "678        6.6   E10+  \n",
      "719        6.7      T  \n",
      "805        6.3      T  \n"
     ]
    }
   ],
   "source": [
    "print(df[df[\"year_of_release\"].isna()].head(10))"
   ]
  },
  {
   "cell_type": "markdown",
   "metadata": {},
   "source": [
    "The missing values in the \"year_of_release\"- column will be replaced by the median of the column. The games without year_of_release- value may have been caused by errors in data entry."
   ]
  },
  {
   "cell_type": "code",
   "execution_count": 23,
   "metadata": {},
   "outputs": [
    {
     "name": "stdout",
     "output_type": "stream",
     "text": [
      "      Name Platform  Year_of_Release Genre  NA_sales  EU_sales  JP_sales  \\\n",
      "659    NaN      GEN           1993.0   NaN      1.78      0.53      0.00   \n",
      "14244  NaN      GEN           1993.0   NaN      0.00      0.00      0.03   \n",
      "\n",
      "       Other_sales  Critic_Score User_Score Rating  \n",
      "659           0.08           NaN        NaN    NaN  \n",
      "14244         0.00           NaN        NaN    NaN  \n"
     ]
    }
   ],
   "source": [
    "print(df[df[\"genre\"].isna()].head())"
   ]
  },
  {
   "cell_type": "markdown",
   "metadata": {},
   "source": [
    "The rows with missing values in the \"genre\" column are the same rows where the \"name\" values are missing. As already mentioned, they will be deleted. These 2 games without names may have been caused by errors in data entry."
   ]
  },
  {
   "cell_type": "code",
   "execution_count": 24,
   "metadata": {},
   "outputs": [
    {
     "name": "stdout",
     "output_type": "stream",
     "text": [
      "                        Name Platform  Year_of_Release         Genre  \\\n",
      "1          Super Mario Bros.      NES           1985.0      Platform   \n",
      "4   Pokemon Red/Pokemon Blue       GB           1996.0  Role-Playing   \n",
      "5                     Tetris       GB           1989.0        Puzzle   \n",
      "9                  Duck Hunt      NES           1984.0       Shooter   \n",
      "10                Nintendogs       DS           2005.0    Simulation   \n",
      "\n",
      "    NA_sales  EU_sales  JP_sales  Other_sales  Critic_Score User_Score Rating  \n",
      "1      29.08      3.58      6.81         0.77           NaN        NaN    NaN  \n",
      "4      11.27      8.89     10.22         1.00           NaN        NaN    NaN  \n",
      "5      23.20      2.26      4.22         0.58           NaN        NaN    NaN  \n",
      "9      26.93      0.63      0.28         0.47           NaN        NaN    NaN  \n",
      "10      9.05     10.95      1.93         2.74           NaN        NaN    NaN  \n"
     ]
    }
   ],
   "source": [
    "print(df[df[\"critic_score\"].isna()].head())"
   ]
  },
  {
   "cell_type": "code",
   "execution_count": 25,
   "metadata": {},
   "outputs": [
    {
     "name": "stdout",
     "output_type": "stream",
     "text": [
      "Average sales in North America for all games without missing Critic_score- value: 0.35 USD million\n",
      "Average sales in North America for all games with missing Critic_score value: 0.18 USD million\n"
     ]
    }
   ],
   "source": [
    "av_a = df.loc[~df[\"critic_score\"].isna()][\"na_sales\"].mean()\n",
    "av_b = df.loc[df[\"critic_score\"].isna()][\"na_sales\"].mean()\n",
    "\n",
    "\n",
    "print(\"average sales in North America for all games without missing critic_score- value: {:.2} USD million\".format(av_a))\n",
    "print(\"average sales in North America for all games with missing critic_score value: {:.2} USD million\".format(av_b))\n"
   ]
  },
  {
   "cell_type": "markdown",
   "metadata": {},
   "source": [
    "As we can see in the cell above, there is a big difference in the average sales of games with and without a critic_score value. So one possible cause could be that professional critic scores were only done for games with high sales. It's just a guess and should be excluded in more detail, but it's beyond the scope of this project."
   ]
  },
  {
   "cell_type": "code",
   "execution_count": 26,
   "metadata": {},
   "outputs": [
    {
     "name": "stdout",
     "output_type": "stream",
     "text": [
      "                        Name Platform  Year_of_Release         Genre  \\\n",
      "1          Super Mario Bros.      NES           1985.0      Platform   \n",
      "4   Pokemon Red/Pokemon Blue       GB           1996.0  Role-Playing   \n",
      "5                     Tetris       GB           1989.0        Puzzle   \n",
      "9                  Duck Hunt      NES           1984.0       Shooter   \n",
      "10                Nintendogs       DS           2005.0    Simulation   \n",
      "\n",
      "    NA_sales  EU_sales  JP_sales  Other_sales  Critic_Score User_Score Rating  \n",
      "1      29.08      3.58      6.81         0.77           NaN        NaN    NaN  \n",
      "4      11.27      8.89     10.22         1.00           NaN        NaN    NaN  \n",
      "5      23.20      2.26      4.22         0.58           NaN        NaN    NaN  \n",
      "9      26.93      0.63      0.28         0.47           NaN        NaN    NaN  \n",
      "10      9.05     10.95      1.93         2.74           NaN        NaN    NaN  \n"
     ]
    }
   ],
   "source": [
    "print(df[df[\"user_score\"].isna()].head())"
   ]
  },
  {
   "cell_type": "code",
   "execution_count": 27,
   "metadata": {},
   "outputs": [],
   "source": [
    "test = df[(~df[\"user_score\"].isna())&(df[\"user_score\"]!=\"tbd\")]\n",
    "\n",
    "test = test[~test[\"critic_score\"].isna()]"
   ]
  },
  {
   "cell_type": "code",
   "execution_count": 28,
   "metadata": {},
   "outputs": [],
   "source": [
    "test[\"user_score\"] = pd.to_numeric(test[\"user_score\"])"
   ]
  },
  {
   "cell_type": "code",
   "execution_count": 29,
   "metadata": {},
   "outputs": [
    {
     "name": "stdout",
     "output_type": "stream",
     "text": [
      "<class 'pandas.core.frame.DataFrame'>\n",
      "Int64Index: 7017 entries, 0 to 16705\n",
      "Data columns (total 11 columns):\n",
      "Name               7017 non-null object\n",
      "Platform           7017 non-null object\n",
      "Year_of_Release    6894 non-null float64\n",
      "Genre              7017 non-null object\n",
      "NA_sales           7017 non-null float64\n",
      "EU_sales           7017 non-null float64\n",
      "JP_sales           7017 non-null float64\n",
      "Other_sales        7017 non-null float64\n",
      "Critic_Score       7017 non-null float64\n",
      "User_Score         7017 non-null float64\n",
      "Rating             6947 non-null object\n",
      "dtypes: float64(7), object(4)\n",
      "memory usage: 657.8+ KB\n"
     ]
    }
   ],
   "source": [
    "test.info()"
   ]
  },
  {
   "cell_type": "code",
   "execution_count": 30,
   "metadata": {},
   "outputs": [
    {
     "data": {
      "text/plain": [
       "0.5808778320767236"
      ]
     },
     "execution_count": 30,
     "metadata": {},
     "output_type": "execute_result"
    }
   ],
   "source": [
    "test['critic_score'].corr(test['user_score'])"
   ]
  },
  {
   "cell_type": "markdown",
   "metadata": {},
   "source": [
    "There is a moderate correlation between the \"user_score\" column and the \"critic_score\" column (0.58). Since these 2 columns are related, I will create a function that calculates a missing \"user_score\" value with the value of the \"critic_score\" column and vice versa.\n",
    "Since there are many game titles, where the critic and user rating miss completely (~50%), i won't replace them because it would change the results too much. Only the columns where just one values of the 2 rating columns is missing, will be edited."
   ]
  },
  {
   "cell_type": "code",
   "execution_count": 31,
   "metadata": {},
   "outputs": [
    {
     "data": {
      "text/plain": [
       "1980.0      9\n",
       "1981.0     46\n",
       "1982.0     36\n",
       "1983.0     17\n",
       "1984.0     14\n",
       "1985.0     13\n",
       "1986.0     21\n",
       "1987.0     16\n",
       "1988.0     14\n",
       "1989.0     17\n",
       "1990.0     16\n",
       "1991.0     41\n",
       "1992.0     42\n",
       "1993.0     62\n",
       "1994.0    120\n",
       "1995.0    219\n",
       "1996.0    255\n",
       "1997.0    270\n",
       "1998.0    348\n",
       "1999.0    299\n",
       "2000.0    200\n",
       "2001.0    143\n",
       "2002.0    173\n",
       "2003.0    164\n",
       "2004.0    166\n",
       "2005.0    235\n",
       "2006.0    330\n",
       "2007.0    376\n",
       "2008.0    440\n",
       "2009.0    407\n",
       "2010.0    457\n",
       "2011.0    418\n",
       "2012.0    290\n",
       "2013.0    225\n",
       "2014.0    231\n",
       "2015.0    271\n",
       "2016.0    206\n",
       "Name: Year_of_Release, dtype: int64"
      ]
     },
     "execution_count": 31,
     "metadata": {},
     "output_type": "execute_result"
    }
   ],
   "source": [
    "df.loc[df[\"user_score\"].isna()][\"year_of_release\"].value_counts().sort_index()"
   ]
  },
  {
   "cell_type": "markdown",
   "metadata": {},
   "source": [
    "As we can see in the column above, there are missing values in the user_score column for all games, regardless of their release year. This means that the main cause of the missing data is not the fact that the rating has yet to be done. So the scores must have been lost in some other way."
   ]
  },
  {
   "cell_type": "code",
   "execution_count": 32,
   "metadata": {},
   "outputs": [
    {
     "name": "stdout",
     "output_type": "stream",
     "text": [
      "                        Name Platform  Year_of_Release         Genre  \\\n",
      "1          Super Mario Bros.      NES           1985.0      Platform   \n",
      "4   Pokemon Red/Pokemon Blue       GB           1996.0  Role-Playing   \n",
      "5                     Tetris       GB           1989.0        Puzzle   \n",
      "9                  Duck Hunt      NES           1984.0       Shooter   \n",
      "10                Nintendogs       DS           2005.0    Simulation   \n",
      "\n",
      "    NA_sales  EU_sales  JP_sales  Other_sales  Critic_Score User_Score Rating  \n",
      "1      29.08      3.58      6.81         0.77           NaN        NaN    NaN  \n",
      "4      11.27      8.89     10.22         1.00           NaN        NaN    NaN  \n",
      "5      23.20      2.26      4.22         0.58           NaN        NaN    NaN  \n",
      "9      26.93      0.63      0.28         0.47           NaN        NaN    NaN  \n",
      "10      9.05     10.95      1.93         2.74           NaN        NaN    NaN  \n"
     ]
    }
   ],
   "source": [
    "print(df[df[\"rating\"].isna()].head())"
   ]
  },
  {
   "cell_type": "markdown",
   "metadata": {},
   "source": [
    "The missing values in the \"rating\"- column will be raplaced with \"unknown\"."
   ]
  },
  {
   "cell_type": "markdown",
   "metadata": {},
   "source": [
    "### Search for duplicates"
   ]
  },
  {
   "cell_type": "code",
   "execution_count": 33,
   "metadata": {},
   "outputs": [
    {
     "name": "stdout",
     "output_type": "stream",
     "text": [
      "Empty DataFrame\n",
      "Columns: [Name, Platform, Year_of_Release, Genre, NA_sales, EU_sales, JP_sales, Other_sales, Critic_Score, User_Score, Rating]\n",
      "Index: []\n"
     ]
    }
   ],
   "source": [
    "print(df[df.duplicated()])"
   ]
  },
  {
   "cell_type": "markdown",
   "metadata": {},
   "source": [
    "There are no duplicates in the data set. So no further preprocessing is necessary at this point."
   ]
  },
  {
   "cell_type": "markdown",
   "metadata": {},
   "source": [
    "### Conclusion"
   ]
  },
  {
   "cell_type": "markdown",
   "metadata": {},
   "source": [
    "The main problem with the dataset is the many missing values. In the user_score column there are almost 50% missing. For the questions where the user_score column plays a role, the results will be extremely inaccurate. A second problem are the \"tbd\"- values in the user_score- column. They are treated the same as the missing values and a function is created that calculates the user_score from the critic_score column.\n",
    "Also some data types must be changed, for example the year_of_release- column."
   ]
  },
  {
   "cell_type": "markdown",
   "metadata": {},
   "source": [
    "<div class=\"alert alert-success\">\n",
    "\n",
    "**Reviewer's comment:** Good analysis 👍\n",
    "</div>"
   ]
  },
  {
   "cell_type": "markdown",
   "metadata": {},
   "source": [
    "## Data preprocessing"
   ]
  },
  {
   "cell_type": "markdown",
   "metadata": {},
   "source": [
    "### Lowercasing the column names"
   ]
  },
  {
   "cell_type": "code",
   "execution_count": 34,
   "metadata": {},
   "outputs": [],
   "source": [
    "df.columns = map(str.lower, df.columns)"
   ]
  },
  {
   "cell_type": "markdown",
   "metadata": {},
   "source": [
    "### Change wrong values"
   ]
  },
  {
   "cell_type": "code",
   "execution_count": 41,
   "metadata": {},
   "outputs": [],
   "source": [
    "def fill_tbd(data):\n",
    "    data_new = data\n",
    "    user_score_new = []\n",
    "    for index, row in data_new.iterrows():\n",
    "        \n",
    "        if (row[\"user_score\"] == \"tbd\"):\n",
    "            user_score_new.append(row[\"critic_score\"]/10)\n",
    "        else:\n",
    "            user_score_new.append(pd.to_numeric(row[\"user_score\"]))\n",
    "    \n",
    "    data_new[\"user_score\"] = user_score_new\n",
    "    \n",
    "    return data_new   "
   ]
  },
  {
   "cell_type": "markdown",
   "metadata": {},
   "source": [
    "The method in the cell above, uses the critic_score value, divides it by 10 and replaces the \"tbd\" values with the calculated result."
   ]
  },
  {
   "cell_type": "code",
   "execution_count": 42,
   "metadata": {},
   "outputs": [],
   "source": [
    "df = fill_tbd(df)"
   ]
  },
  {
   "cell_type": "markdown",
   "metadata": {},
   "source": [
    "### Change wrong data types"
   ]
  },
  {
   "cell_type": "markdown",
   "metadata": {},
   "source": [
    "#### year_of_release"
   ]
  },
  {
   "cell_type": "code",
   "execution_count": 43,
   "metadata": {},
   "outputs": [
    {
     "name": "stdout",
     "output_type": "stream",
     "text": [
      "<class 'pandas.core.frame.DataFrame'>\n",
      "RangeIndex: 16715 entries, 0 to 16714\n",
      "Data columns (total 11 columns):\n",
      "name               16713 non-null object\n",
      "platform           16715 non-null object\n",
      "year_of_release    16446 non-null float64\n",
      "genre              16713 non-null object\n",
      "na_sales           16715 non-null float64\n",
      "eu_sales           16715 non-null float64\n",
      "jp_sales           16715 non-null float64\n",
      "other_sales        16715 non-null float64\n",
      "critic_score       8137 non-null float64\n",
      "user_score         8672 non-null float64\n",
      "rating             9949 non-null object\n",
      "dtypes: float64(7), object(4)\n",
      "memory usage: 1.4+ MB\n"
     ]
    }
   ],
   "source": [
    "df.info()"
   ]
  },
  {
   "cell_type": "code",
   "execution_count": 45,
   "metadata": {},
   "outputs": [],
   "source": [
    "df['year_of_release'] = df['year_of_release'].fillna(df['year_of_release'].median()).astype(int)"
   ]
  },
  {
   "cell_type": "markdown",
   "metadata": {},
   "source": [
    "#### user_score"
   ]
  },
  {
   "cell_type": "code",
   "execution_count": 46,
   "metadata": {},
   "outputs": [],
   "source": [
    "df[\"user_score\"] = df[\"user_score\"].astype(float)"
   ]
  },
  {
   "cell_type": "markdown",
   "metadata": {},
   "source": [
    "### Replace the missing values"
   ]
  },
  {
   "cell_type": "markdown",
   "metadata": {},
   "source": [
    "#### name"
   ]
  },
  {
   "cell_type": "code",
   "execution_count": 48,
   "metadata": {},
   "outputs": [],
   "source": [
    "df = df[~df[\"name\"].isna()]"
   ]
  },
  {
   "cell_type": "markdown",
   "metadata": {},
   "source": [
    "#### year_of_release"
   ]
  },
  {
   "cell_type": "code",
   "execution_count": 49,
   "metadata": {},
   "outputs": [
    {
     "name": "stdout",
     "output_type": "stream",
     "text": [
      "<class 'pandas.core.frame.DataFrame'>\n",
      "Int64Index: 16713 entries, 0 to 16714\n",
      "Data columns (total 11 columns):\n",
      "name               16713 non-null object\n",
      "platform           16713 non-null object\n",
      "year_of_release    16713 non-null int64\n",
      "genre              16713 non-null object\n",
      "na_sales           16713 non-null float64\n",
      "eu_sales           16713 non-null float64\n",
      "jp_sales           16713 non-null float64\n",
      "other_sales        16713 non-null float64\n",
      "critic_score       8137 non-null float64\n",
      "user_score         8672 non-null float64\n",
      "rating             9949 non-null object\n",
      "dtypes: float64(6), int64(1), object(4)\n",
      "memory usage: 1.5+ MB\n"
     ]
    },
    {
     "name": "stderr",
     "output_type": "stream",
     "text": [
      "/opt/conda/lib/python3.7/site-packages/pandas/core/indexing.py:494: SettingWithCopyWarning: \n",
      "A value is trying to be set on a copy of a slice from a DataFrame.\n",
      "Try using .loc[row_indexer,col_indexer] = value instead\n",
      "\n",
      "See the caveats in the documentation: http://pandas.pydata.org/pandas-docs/stable/user_guide/indexing.html#returning-a-view-versus-a-copy\n",
      "  self.obj[item] = s\n",
      "/opt/conda/lib/python3.7/site-packages/ipykernel_launcher.py:2: SettingWithCopyWarning: \n",
      "A value is trying to be set on a copy of a slice from a DataFrame.\n",
      "Try using .loc[row_indexer,col_indexer] = value instead\n",
      "\n",
      "See the caveats in the documentation: http://pandas.pydata.org/pandas-docs/stable/user_guide/indexing.html#returning-a-view-versus-a-copy\n",
      "  \n"
     ]
    }
   ],
   "source": [
    "df.loc[df[\"year_of_release\"].isna(), \"year_of_release\"] = df[\"year_of_release\"].median()\n",
    "df['year_of_release'] = df['year_of_release'].astype(int)\n",
    "df.info()"
   ]
  },
  {
   "cell_type": "markdown",
   "metadata": {},
   "source": [
    "#### critic_score and user_score"
   ]
  },
  {
   "cell_type": "code",
   "execution_count": 50,
   "metadata": {},
   "outputs": [
    {
     "name": "stdout",
     "output_type": "stream",
     "text": [
      "6.9935539667896665\n"
     ]
    }
   ],
   "source": [
    "print(df[\"user_score\"].mean())"
   ]
  },
  {
   "cell_type": "code",
   "execution_count": 51,
   "metadata": {},
   "outputs": [],
   "source": [
    "def calculate_rating(data):\n",
    "    data_new = data\n",
    "    user_score_new = []\n",
    "    critic_score_new = []\n",
    "\n",
    "    for index, row in data_new.iterrows():        \n",
    "        if ((pd.isnull(row[\"user_score\"]))&(pd.isnull(row[\"critic_score\"]))):\n",
    "            \n",
    "            critic_score_new.append(row[\"critic_score\"])\n",
    "            user_score_new.append(row[\"user_score\"])\n",
    "          \n",
    "            \n",
    "        elif pd.isnull(row[\"critic_score\"]):\n",
    "\n",
    "            \n",
    "            critic_score_new.append(row[\"user_score\"]*10)\n",
    "            user_score_new.append(row[\"user_score\"])\n",
    "\n",
    "        elif pd.isnull(row[\"user_score\"]):\n",
    "            critic_score_new.append(row[\"critic_score\"])\n",
    "            user_score_new.append(row[\"critic_score\"]/10)\n",
    "        else:\n",
    "            critic_score_new.append(row[\"critic_score\"])\n",
    "            user_score_new.append(row[\"user_score\"])\n",
    "            \n",
    "    data_new[\"user_score\"] = user_score_new\n",
    "    data_new[\"critic_score\"] = critic_score_new\n",
    "\n",
    "    \n",
    "    return data_new        "
   ]
  },
  {
   "cell_type": "code",
   "execution_count": 52,
   "metadata": {},
   "outputs": [
    {
     "name": "stderr",
     "output_type": "stream",
     "text": [
      "/opt/conda/lib/python3.7/site-packages/ipykernel_launcher.py:26: SettingWithCopyWarning: \n",
      "A value is trying to be set on a copy of a slice from a DataFrame.\n",
      "Try using .loc[row_indexer,col_indexer] = value instead\n",
      "\n",
      "See the caveats in the documentation: http://pandas.pydata.org/pandas-docs/stable/user_guide/indexing.html#returning-a-view-versus-a-copy\n",
      "/opt/conda/lib/python3.7/site-packages/ipykernel_launcher.py:27: SettingWithCopyWarning: \n",
      "A value is trying to be set on a copy of a slice from a DataFrame.\n",
      "Try using .loc[row_indexer,col_indexer] = value instead\n",
      "\n",
      "See the caveats in the documentation: http://pandas.pydata.org/pandas-docs/stable/user_guide/indexing.html#returning-a-view-versus-a-copy\n"
     ]
    }
   ],
   "source": [
    "df = calculate_rating(df)"
   ]
  },
  {
   "cell_type": "code",
   "execution_count": 54,
   "metadata": {},
   "outputs": [
    {
     "data": {
      "text/html": [
       "<div>\n",
       "<style scoped>\n",
       "    .dataframe tbody tr th:only-of-type {\n",
       "        vertical-align: middle;\n",
       "    }\n",
       "\n",
       "    .dataframe tbody tr th {\n",
       "        vertical-align: top;\n",
       "    }\n",
       "\n",
       "    .dataframe thead th {\n",
       "        text-align: right;\n",
       "    }\n",
       "</style>\n",
       "<table border=\"1\" class=\"dataframe\">\n",
       "  <thead>\n",
       "    <tr style=\"text-align: right;\">\n",
       "      <th></th>\n",
       "      <th>name</th>\n",
       "      <th>platform</th>\n",
       "      <th>year_of_release</th>\n",
       "      <th>genre</th>\n",
       "      <th>na_sales</th>\n",
       "      <th>eu_sales</th>\n",
       "      <th>jp_sales</th>\n",
       "      <th>other_sales</th>\n",
       "      <th>critic_score</th>\n",
       "      <th>user_score</th>\n",
       "      <th>rating</th>\n",
       "    </tr>\n",
       "  </thead>\n",
       "  <tbody>\n",
       "    <tr>\n",
       "      <td>Total</td>\n",
       "      <td>0</td>\n",
       "      <td>0</td>\n",
       "      <td>0</td>\n",
       "      <td>0</td>\n",
       "      <td>0</td>\n",
       "      <td>0</td>\n",
       "      <td>0</td>\n",
       "      <td>0</td>\n",
       "      <td>8003</td>\n",
       "      <td>8003</td>\n",
       "      <td>6764</td>\n",
       "    </tr>\n",
       "    <tr>\n",
       "      <td>Percent(%)</td>\n",
       "      <td>0</td>\n",
       "      <td>0</td>\n",
       "      <td>0</td>\n",
       "      <td>0</td>\n",
       "      <td>0</td>\n",
       "      <td>0</td>\n",
       "      <td>0</td>\n",
       "      <td>0</td>\n",
       "      <td>47.8849</td>\n",
       "      <td>47.8849</td>\n",
       "      <td>40.4715</td>\n",
       "    </tr>\n",
       "    <tr>\n",
       "      <td>Types</td>\n",
       "      <td>object</td>\n",
       "      <td>object</td>\n",
       "      <td>int64</td>\n",
       "      <td>object</td>\n",
       "      <td>float64</td>\n",
       "      <td>float64</td>\n",
       "      <td>float64</td>\n",
       "      <td>float64</td>\n",
       "      <td>float64</td>\n",
       "      <td>float64</td>\n",
       "      <td>object</td>\n",
       "    </tr>\n",
       "  </tbody>\n",
       "</table>\n",
       "</div>"
      ],
      "text/plain": [
       "              name platform year_of_release   genre na_sales eu_sales  \\\n",
       "Total            0        0               0       0        0        0   \n",
       "Percent(%)       0        0               0       0        0        0   \n",
       "Types       object   object           int64  object  float64  float64   \n",
       "\n",
       "           jp_sales other_sales critic_score user_score   rating  \n",
       "Total             0           0         8003       8003     6764  \n",
       "Percent(%)        0           0      47.8849    47.8849  40.4715  \n",
       "Types       float64     float64      float64    float64   object  "
      ]
     },
     "execution_count": 54,
     "metadata": {},
     "output_type": "execute_result"
    }
   ],
   "source": [
    "missing_data(df)\n"
   ]
  },
  {
   "cell_type": "markdown",
   "metadata": {},
   "source": []
  },
  {
   "cell_type": "markdown",
   "metadata": {},
   "source": [
    "#### rating"
   ]
  },
  {
   "cell_type": "code",
   "execution_count": 57,
   "metadata": {},
   "outputs": [
    {
     "name": "stderr",
     "output_type": "stream",
     "text": [
      "/opt/conda/lib/python3.7/site-packages/ipykernel_launcher.py:1: SettingWithCopyWarning: \n",
      "A value is trying to be set on a copy of a slice from a DataFrame.\n",
      "Try using .loc[row_indexer,col_indexer] = value instead\n",
      "\n",
      "See the caveats in the documentation: http://pandas.pydata.org/pandas-docs/stable/user_guide/indexing.html#returning-a-view-versus-a-copy\n",
      "  \"\"\"Entry point for launching an IPython kernel.\n"
     ]
    }
   ],
   "source": [
    "df[\"rating\"] = df[\"rating\"].fillna(\"unknown\")"
   ]
  },
  {
   "cell_type": "markdown",
   "metadata": {},
   "source": [
    "#### Conclusion"
   ]
  },
  {
   "cell_type": "markdown",
   "metadata": {},
   "source": [
    "Many missing values have now been replaced. The rows with missing name values have been removed, the rows with missing year_of_release values have been replaced by the median and the rows with missing critic_score or user_score values have been processed with a function that converts user_score to critic_score and vice versa. In many cases, both values (user_score and critic_score) were missing. In this caseses, substitution was not performed because it would change the result too much, since these are almost 50% of all rows.\n",
    "Also the wrong data types of the year_of_release and user_score columns were changed. In the user_score column, the \"tbd\" strings had to be removed first before the data type was changed to float, which is why the preprocessing steps are done in this order."
   ]
  },
  {
   "cell_type": "markdown",
   "metadata": {},
   "source": [
    "<div class=\"alert alert-danger\">\n",
    "\n",
    "**Reviewer's comment:** Interesting approach to filling missing values. I want to kindly remind you that we need to make column names lowercase at this step.\n",
    "</div>"
   ]
  },
  {
   "cell_type": "markdown",
   "metadata": {},
   "source": [
    "## The sum of sales in all regions for each game"
   ]
  },
  {
   "cell_type": "code",
   "execution_count": 58,
   "metadata": {},
   "outputs": [
    {
     "name": "stderr",
     "output_type": "stream",
     "text": [
      "/opt/conda/lib/python3.7/site-packages/ipykernel_launcher.py:1: SettingWithCopyWarning: \n",
      "A value is trying to be set on a copy of a slice from a DataFrame.\n",
      "Try using .loc[row_indexer,col_indexer] = value instead\n",
      "\n",
      "See the caveats in the documentation: http://pandas.pydata.org/pandas-docs/stable/user_guide/indexing.html#returning-a-view-versus-a-copy\n",
      "  \"\"\"Entry point for launching an IPython kernel.\n"
     ]
    }
   ],
   "source": [
    "df[\"total_sales\"] = df[\"na_sales\"] + df[\"eu_sales\"] + df[\"jp_sales\"] + df[\"other_sales\"] "
   ]
  },
  {
   "cell_type": "code",
   "execution_count": 59,
   "metadata": {},
   "outputs": [
    {
     "name": "stdout",
     "output_type": "stream",
     "text": [
      "                       name platform  year_of_release         genre  na_sales  \\\n",
      "0                Wii Sports      Wii             2006        Sports     41.36   \n",
      "1         Super Mario Bros.      NES             1985      Platform     29.08   \n",
      "2            Mario Kart Wii      Wii             2008        Racing     15.68   \n",
      "3         Wii Sports Resort      Wii             2009        Sports     15.61   \n",
      "4  Pokemon Red/Pokemon Blue       GB             1996  Role-Playing     11.27   \n",
      "\n",
      "   eu_sales  jp_sales  other_sales  critic_score  user_score   rating  \\\n",
      "0     28.96      3.77         8.45          76.0         8.0        E   \n",
      "1      3.58      6.81         0.77           NaN         NaN  unknown   \n",
      "2     12.76      3.79         3.29          82.0         8.3        E   \n",
      "3     10.93      3.28         2.95          80.0         8.0        E   \n",
      "4      8.89     10.22         1.00           NaN         NaN  unknown   \n",
      "\n",
      "   total_sales  \n",
      "0        82.54  \n",
      "1        40.24  \n",
      "2        35.52  \n",
      "3        32.77  \n",
      "4        31.38  \n"
     ]
    }
   ],
   "source": [
    "print(df.head())"
   ]
  },
  {
   "cell_type": "markdown",
   "metadata": {},
   "source": [
    "In this step a new column \"total_sales\" was created. It's the sum of all regions together."
   ]
  },
  {
   "cell_type": "markdown",
   "metadata": {},
   "source": [
    "## Analyze the data"
   ]
  },
  {
   "cell_type": "markdown",
   "metadata": {},
   "source": [
    "### Number of games released for each year"
   ]
  },
  {
   "cell_type": "code",
   "execution_count": 60,
   "metadata": {},
   "outputs": [],
   "source": [
    "dfp = df[[\"year_of_release\", \"name\"]].groupby([\"year_of_release\"]).count().sort_values(by=\"year_of_release\").reset_index()"
   ]
  },
  {
   "cell_type": "code",
   "execution_count": 61,
   "metadata": {},
   "outputs": [
    {
     "data": {
      "image/png": "[encoded data removed]",
      "text/plain": [
       "<Figure size 1224x720 with 1 Axes>"
      ]
     },
     "metadata": {
      "needs_background": "light"
     },
     "output_type": "display_data"
    }
   ],
   "source": [
    "fig,ax=plt.subplots(figsize=(17,10))\n",
    "ax.vlines(x=dfp.year_of_release, ymin=0, ymax=dfp.name, color=\"purple\", alpha=0.7, linewidth=2)\n",
    "ax.scatter(x=dfp.year_of_release, y=dfp.name, s = 75, color=\"black\", alpha = 0.7)\n",
    "\n",
    "ax.set_title(\"Lollypop Chart for Released Games\", fontdict={\"size\": 15})\n",
    "ax.set_ylabel(\"Number of Games\")\n",
    "ax.set_xticks(dfp.year_of_release)\n",
    "ax.set_xticklabels(dfp.year_of_release, rotation=90, fontdict={\"horizontalalignment\": \"right\", \"size\": 12})\n",
    "\n",
    "for row in dfp.itertuples():\n",
    "    ax.text(row.year_of_release, row.name+30, s = round(row.name,2))"
   ]
  },
  {
   "cell_type": "markdown",
   "metadata": {},
   "source": [
    "As we see in the graphic, the amount of releases in the year 1980 for the considered platforms was very low. There were only a few games. Until 1992, things didn't change a lot, but then the amount of releases increased rapidly until 2009. The amount desincreased year by year due to this graphic."
   ]
  },
  {
   "cell_type": "markdown",
   "metadata": {},
   "source": [
    "### Total Sales for each platform"
   ]
  },
  {
   "cell_type": "code",
   "execution_count": 64,
   "metadata": {},
   "outputs": [],
   "source": [
    "dfp=df[[\"platform\", \"total_sales\"]].groupby([\"platform\"]).sum().sort_values(by=\"total_sales\").reset_index()\n",
    "dfp[\"sales_z\"]= ((dfp[\"total_sales\"]-dfp[\"total_sales\"].mean())/dfp[\"total_sales\"].std())\n",
    "dfp[\"colors\"]=[\"red\" if x<0 else \"green\" for x in dfp[\"sales_z\"]]"
   ]
  },
  {
   "cell_type": "code",
   "execution_count": 113,
   "metadata": {},
   "outputs": [
    {
     "data": {
      "image/png": "[encoded data removed]",
      "text/plain": [
       "<Figure size 1008x720 with 1 Axes>"
      ]
     },
     "metadata": {
      "needs_background": "light"
     },
     "output_type": "display_data"
    }
   ],
   "source": [
    "plt.figure(figsize=(14,10))\n",
    "pl = plt.hlines(y=dfp.platform, xmax=dfp.sales_z, xmin=0, color=dfp.colors, alpha=0.4, linewidth=10)\n",
    "\n",
    "plt.show()"
   ]
  },
  {
   "cell_type": "code",
   "execution_count": 66,
   "metadata": {},
   "outputs": [],
   "source": [
    "df_tree=df[[\"platform\", \"total_sales\"]].groupby(\"platform\").sum().sort_values(by=\"total_sales\").reset_index()\n",
    "df_tree=df_tree[df_tree[\"total_sales\"]!=0]\n",
    "sizes=df_tree.total_sales.values\n",
    "labels=df_tree.apply(lambda x: str(x[0])+\"\\n\"+\"$\"+str(round(x[1])),axis=1)"
   ]
  },
  {
   "cell_type": "code",
   "execution_count": 67,
   "metadata": {},
   "outputs": [
    {
     "data": {
      "image/png": "[encoded data removed]",
      "text/plain": [
       "<Figure size 1080x648 with 1 Axes>"
      ]
     },
     "metadata": {
      "needs_background": "light"
     },
     "output_type": "display_data"
    }
   ],
   "source": [
    "plt.figure(figsize=(15,9))\n",
    "squarify.plot(sizes=sizes, label = labels)\n",
    "plt.show()"
   ]
  },
  {
   "cell_type": "markdown",
   "metadata": {},
   "source": [
    "Considering all platforms of all times, the PS2, X360 and PS3 had the most sales. As we see in the 2 graphs above, there are also many platforms, which had very low sales, for example the PCFX, GG or 3DO."
   ]
  },
  {
   "cell_type": "markdown",
   "metadata": {},
   "source": [
    "### Shrinking and growing platforms"
   ]
  },
  {
   "cell_type": "code",
   "execution_count": 68,
   "metadata": {},
   "outputs": [
    {
     "data": {
      "text/html": [
       "<div>\n",
       "<style scoped>\n",
       "    .dataframe tbody tr th:only-of-type {\n",
       "        vertical-align: middle;\n",
       "    }\n",
       "\n",
       "    .dataframe tbody tr th {\n",
       "        vertical-align: top;\n",
       "    }\n",
       "\n",
       "    .dataframe thead th {\n",
       "        text-align: right;\n",
       "    }\n",
       "</style>\n",
       "<table border=\"1\" class=\"dataframe\">\n",
       "  <thead>\n",
       "    <tr style=\"text-align: right;\">\n",
       "      <th>year_of_release</th>\n",
       "      <th>1980</th>\n",
       "      <th>1981</th>\n",
       "      <th>1982</th>\n",
       "      <th>1983</th>\n",
       "      <th>1984</th>\n",
       "      <th>1985</th>\n",
       "      <th>1986</th>\n",
       "      <th>1987</th>\n",
       "      <th>1988</th>\n",
       "      <th>1989</th>\n",
       "      <th>...</th>\n",
       "      <th>2007</th>\n",
       "      <th>2008</th>\n",
       "      <th>2009</th>\n",
       "      <th>2010</th>\n",
       "      <th>2011</th>\n",
       "      <th>2012</th>\n",
       "      <th>2013</th>\n",
       "      <th>2014</th>\n",
       "      <th>2015</th>\n",
       "      <th>2016</th>\n",
       "    </tr>\n",
       "    <tr>\n",
       "      <th>platform</th>\n",
       "      <th></th>\n",
       "      <th></th>\n",
       "      <th></th>\n",
       "      <th></th>\n",
       "      <th></th>\n",
       "      <th></th>\n",
       "      <th></th>\n",
       "      <th></th>\n",
       "      <th></th>\n",
       "      <th></th>\n",
       "      <th></th>\n",
       "      <th></th>\n",
       "      <th></th>\n",
       "      <th></th>\n",
       "      <th></th>\n",
       "      <th></th>\n",
       "      <th></th>\n",
       "      <th></th>\n",
       "      <th></th>\n",
       "      <th></th>\n",
       "      <th></th>\n",
       "    </tr>\n",
       "  </thead>\n",
       "  <tbody>\n",
       "    <tr>\n",
       "      <td>Wii</td>\n",
       "      <td>NaN</td>\n",
       "      <td>NaN</td>\n",
       "      <td>NaN</td>\n",
       "      <td>NaN</td>\n",
       "      <td>NaN</td>\n",
       "      <td>NaN</td>\n",
       "      <td>NaN</td>\n",
       "      <td>NaN</td>\n",
       "      <td>NaN</td>\n",
       "      <td>NaN</td>\n",
       "      <td>...</td>\n",
       "      <td>31.95</td>\n",
       "      <td>2.22</td>\n",
       "      <td>35.65</td>\n",
       "      <td>-79.02</td>\n",
       "      <td>-68.30</td>\n",
       "      <td>-37.94</td>\n",
       "      <td>-13.12</td>\n",
       "      <td>-4.84</td>\n",
       "      <td>-2.61</td>\n",
       "      <td>-0.96</td>\n",
       "    </tr>\n",
       "    <tr>\n",
       "      <td>WiiU</td>\n",
       "      <td>NaN</td>\n",
       "      <td>NaN</td>\n",
       "      <td>NaN</td>\n",
       "      <td>NaN</td>\n",
       "      <td>NaN</td>\n",
       "      <td>NaN</td>\n",
       "      <td>NaN</td>\n",
       "      <td>NaN</td>\n",
       "      <td>NaN</td>\n",
       "      <td>NaN</td>\n",
       "      <td>...</td>\n",
       "      <td>NaN</td>\n",
       "      <td>NaN</td>\n",
       "      <td>NaN</td>\n",
       "      <td>NaN</td>\n",
       "      <td>NaN</td>\n",
       "      <td>NaN</td>\n",
       "      <td>4.09</td>\n",
       "      <td>0.38</td>\n",
       "      <td>-5.68</td>\n",
       "      <td>-11.75</td>\n",
       "    </tr>\n",
       "    <tr>\n",
       "      <td>X360</td>\n",
       "      <td>NaN</td>\n",
       "      <td>NaN</td>\n",
       "      <td>NaN</td>\n",
       "      <td>NaN</td>\n",
       "      <td>NaN</td>\n",
       "      <td>NaN</td>\n",
       "      <td>NaN</td>\n",
       "      <td>NaN</td>\n",
       "      <td>NaN</td>\n",
       "      <td>NaN</td>\n",
       "      <td>...</td>\n",
       "      <td>53.97</td>\n",
       "      <td>29.67</td>\n",
       "      <td>-14.97</td>\n",
       "      <td>49.74</td>\n",
       "      <td>-26.19</td>\n",
       "      <td>-44.10</td>\n",
       "      <td>-11.16</td>\n",
       "      <td>-53.84</td>\n",
       "      <td>-22.78</td>\n",
       "      <td>-10.44</td>\n",
       "    </tr>\n",
       "    <tr>\n",
       "      <td>XB</td>\n",
       "      <td>NaN</td>\n",
       "      <td>NaN</td>\n",
       "      <td>NaN</td>\n",
       "      <td>NaN</td>\n",
       "      <td>NaN</td>\n",
       "      <td>NaN</td>\n",
       "      <td>NaN</td>\n",
       "      <td>NaN</td>\n",
       "      <td>NaN</td>\n",
       "      <td>NaN</td>\n",
       "      <td>...</td>\n",
       "      <td>-3.32</td>\n",
       "      <td>-6.54</td>\n",
       "      <td>NaN</td>\n",
       "      <td>NaN</td>\n",
       "      <td>NaN</td>\n",
       "      <td>NaN</td>\n",
       "      <td>NaN</td>\n",
       "      <td>NaN</td>\n",
       "      <td>NaN</td>\n",
       "      <td>NaN</td>\n",
       "    </tr>\n",
       "    <tr>\n",
       "      <td>XOne</td>\n",
       "      <td>NaN</td>\n",
       "      <td>NaN</td>\n",
       "      <td>NaN</td>\n",
       "      <td>NaN</td>\n",
       "      <td>NaN</td>\n",
       "      <td>NaN</td>\n",
       "      <td>NaN</td>\n",
       "      <td>NaN</td>\n",
       "      <td>NaN</td>\n",
       "      <td>NaN</td>\n",
       "      <td>...</td>\n",
       "      <td>NaN</td>\n",
       "      <td>NaN</td>\n",
       "      <td>NaN</td>\n",
       "      <td>NaN</td>\n",
       "      <td>NaN</td>\n",
       "      <td>NaN</td>\n",
       "      <td>NaN</td>\n",
       "      <td>35.11</td>\n",
       "      <td>6.07</td>\n",
       "      <td>-33.99</td>\n",
       "    </tr>\n",
       "  </tbody>\n",
       "</table>\n",
       "<p>5 rows × 37 columns</p>\n",
       "</div>"
      ],
      "text/plain": [
       "year_of_release  1980  1981  1982  1983  1984  1985  1986  1987  1988  1989  \\\n",
       "platform                                                                      \n",
       "Wii               NaN   NaN   NaN   NaN   NaN   NaN   NaN   NaN   NaN   NaN   \n",
       "WiiU              NaN   NaN   NaN   NaN   NaN   NaN   NaN   NaN   NaN   NaN   \n",
       "X360              NaN   NaN   NaN   NaN   NaN   NaN   NaN   NaN   NaN   NaN   \n",
       "XB                NaN   NaN   NaN   NaN   NaN   NaN   NaN   NaN   NaN   NaN   \n",
       "XOne              NaN   NaN   NaN   NaN   NaN   NaN   NaN   NaN   NaN   NaN   \n",
       "\n",
       "year_of_release  ...   2007   2008   2009   2010   2011   2012   2013   2014  \\\n",
       "platform         ...                                                           \n",
       "Wii              ...  31.95   2.22  35.65 -79.02 -68.30 -37.94 -13.12  -4.84   \n",
       "WiiU             ...    NaN    NaN    NaN    NaN    NaN    NaN   4.09   0.38   \n",
       "X360             ...  53.97  29.67 -14.97  49.74 -26.19 -44.10 -11.16 -53.84   \n",
       "XB               ...  -3.32  -6.54    NaN    NaN    NaN    NaN    NaN    NaN   \n",
       "XOne             ...    NaN    NaN    NaN    NaN    NaN    NaN    NaN  35.11   \n",
       "\n",
       "year_of_release   2015   2016  \n",
       "platform                       \n",
       "Wii              -2.61  -0.96  \n",
       "WiiU             -5.68 -11.75  \n",
       "X360            -22.78 -10.44  \n",
       "XB                 NaN    NaN  \n",
       "XOne              6.07 -33.99  \n",
       "\n",
       "[5 rows x 37 columns]"
      ]
     },
     "execution_count": 68,
     "metadata": {},
     "output_type": "execute_result"
    }
   ],
   "source": [
    "years_sales= df.pivot_table(index=\"year_of_release\", values=\"total_sales\", aggfunc=\"sum\", columns=\"platform\")\n",
    "dynamics = years_sales-years_sales.shift(+1)\n",
    "dynamics = dynamics.T\n",
    "dynamics.tail()"
   ]
  },
  {
   "cell_type": "code",
   "execution_count": 69,
   "metadata": {},
   "outputs": [
    {
     "data": {
      "image/png": "[encoded data removed]",
      "text/plain": [
       "<Figure size 936x648 with 2 Axes>"
      ]
     },
     "metadata": {
      "needs_background": "light"
     },
     "output_type": "display_data"
    }
   ],
   "source": [
    "plt.figure(figsize=(13,9))\n",
    "sns.heatmap(dynamics,cmap=\"RdBu_r\")\n",
    "plt.show()"
   ]
  },
  {
   "cell_type": "markdown",
   "metadata": {},
   "source": [
    "In the graph above, we can see how long it takes for a new platform to disappear. It takes about 2-12 years. The PC is an exception because it is not a game console in the true sense and stands for a variety of evolving standalone PCs and laptops.\n",
    "In the last years all platforms shrunk in their sales."
   ]
  },
  {
   "cell_type": "markdown",
   "metadata": {},
   "source": [
    "In the following steps, only the games released in 2010 and later will play a role, as the rest of the data are too old to paint a picture of today's user behavior."
   ]
  },
  {
   "cell_type": "code",
   "execution_count": 70,
   "metadata": {},
   "outputs": [],
   "source": [
    "df=df.loc[df[\"year_of_release\"]>=2010]"
   ]
  },
  {
   "cell_type": "markdown",
   "metadata": {},
   "source": [
    "### Plotting histograms for the total_sales"
   ]
  },
  {
   "cell_type": "code",
   "execution_count": 71,
   "metadata": {},
   "outputs": [],
   "source": [
    "grouped = df.groupby([\"platform\", \"year_of_release\"])[\"total_sales\"].sum().reset_index()"
   ]
  },
  {
   "cell_type": "code",
   "execution_count": 72,
   "metadata": {},
   "outputs": [],
   "source": [
    "ordered = grouped.groupby([\"platform\"])[\"total_sales\"].sum().sort_values().reset_index()[\"platform\"]"
   ]
  },
  {
   "cell_type": "code",
   "execution_count": 73,
   "metadata": {},
   "outputs": [
    {
     "data": {
      "image/png": "[encoded data removed]",
      "text/plain": [
       "<Figure size 936x720 with 1 Axes>"
      ]
     },
     "metadata": {
      "needs_background": "light"
     },
     "output_type": "display_data"
    }
   ],
   "source": [
    "plt.figure(figsize=(13,10))\n",
    "sns.boxplot(x=\"platform\", y=\"total_sales\", data = grouped, order = ordered)\n",
    "plt.show()"
   ]
  },
  {
   "cell_type": "markdown",
   "metadata": {},
   "source": [
    "In the graph above, the sum of all game sales for each console and year has been calculated and shown as a histogram. You can see that the total sales for games for the PS3 (-160 USD million), X360 (-170USD million) and PS4 consoles (-120 USD million) are the highest per year. X360 and PS3 game have a larger range in sales in different years than the PS4."
   ]
  },
  {
   "cell_type": "code",
   "execution_count": 74,
   "metadata": {},
   "outputs": [],
   "source": [
    "average_grouped = df.groupby([\"year_of_release\", \"platform\"])[\"total_sales\"].mean().reset_index()"
   ]
  },
  {
   "cell_type": "code",
   "execution_count": 75,
   "metadata": {},
   "outputs": [
    {
     "data": {
      "image/png": "[encoded data removed]",
      "text/plain": [
       "<Figure size 936x720 with 1 Axes>"
      ]
     },
     "metadata": {
      "needs_background": "light"
     },
     "output_type": "display_data"
    }
   ],
   "source": [
    "plt.figure(figsize=(13,10))\n",
    "sns.boxplot(x=\"platform\", y=\"total_sales\", data = average_grouped)\n",
    "plt.show()"
   ]
  },
  {
   "cell_type": "markdown",
   "metadata": {},
   "source": [
    "Considering the average sales of games per year, PS4 (0.4 - 1.6 USD million) and XOne (0.3 - 1.0 USD million) excel, but for the PS4 the variety is very big, eventhough it's 25- quantile is still bigger than the median of most of the other platforms. What\"s very interesting is, that the average sales per year are very static for the WiiU (~0.6 USD million)."
   ]
  },
  {
   "cell_type": "markdown",
   "metadata": {},
   "source": [
    "### Dependency of reviews and sales"
   ]
  },
  {
   "cell_type": "markdown",
   "metadata": {},
   "source": [
    "In the following, the DS is considered as a representative of all platforms in order to check whether there is a correlation between user_score / critic_score and total_sales."
   ]
  },
  {
   "cell_type": "code",
   "execution_count": 76,
   "metadata": {},
   "outputs": [
    {
     "data": {
      "text/html": [
       "<div>\n",
       "<style scoped>\n",
       "    .dataframe tbody tr th:only-of-type {\n",
       "        vertical-align: middle;\n",
       "    }\n",
       "\n",
       "    .dataframe tbody tr th {\n",
       "        vertical-align: top;\n",
       "    }\n",
       "\n",
       "    .dataframe thead th {\n",
       "        text-align: right;\n",
       "    }\n",
       "</style>\n",
       "<table border=\"1\" class=\"dataframe\">\n",
       "  <thead>\n",
       "    <tr style=\"text-align: right;\">\n",
       "      <th></th>\n",
       "      <th>name</th>\n",
       "      <th>platform</th>\n",
       "      <th>year_of_release</th>\n",
       "      <th>genre</th>\n",
       "      <th>na_sales</th>\n",
       "      <th>eu_sales</th>\n",
       "      <th>jp_sales</th>\n",
       "      <th>other_sales</th>\n",
       "      <th>critic_score</th>\n",
       "      <th>user_score</th>\n",
       "      <th>rating</th>\n",
       "      <th>total_sales</th>\n",
       "    </tr>\n",
       "  </thead>\n",
       "  <tbody>\n",
       "    <tr>\n",
       "      <td>14</td>\n",
       "      <td>Kinect Adventures!</td>\n",
       "      <td>X360</td>\n",
       "      <td>2010</td>\n",
       "      <td>Misc</td>\n",
       "      <td>15.00</td>\n",
       "      <td>4.89</td>\n",
       "      <td>0.24</td>\n",
       "      <td>1.69</td>\n",
       "      <td>61.0</td>\n",
       "      <td>6.3</td>\n",
       "      <td>E</td>\n",
       "      <td>21.82</td>\n",
       "    </tr>\n",
       "    <tr>\n",
       "      <td>16</td>\n",
       "      <td>Grand Theft Auto V</td>\n",
       "      <td>PS3</td>\n",
       "      <td>2013</td>\n",
       "      <td>Action</td>\n",
       "      <td>7.02</td>\n",
       "      <td>9.09</td>\n",
       "      <td>0.98</td>\n",
       "      <td>3.96</td>\n",
       "      <td>97.0</td>\n",
       "      <td>8.2</td>\n",
       "      <td>M</td>\n",
       "      <td>21.05</td>\n",
       "    </tr>\n",
       "    <tr>\n",
       "      <td>23</td>\n",
       "      <td>Grand Theft Auto V</td>\n",
       "      <td>X360</td>\n",
       "      <td>2013</td>\n",
       "      <td>Action</td>\n",
       "      <td>9.66</td>\n",
       "      <td>5.14</td>\n",
       "      <td>0.06</td>\n",
       "      <td>1.41</td>\n",
       "      <td>97.0</td>\n",
       "      <td>8.1</td>\n",
       "      <td>M</td>\n",
       "      <td>16.27</td>\n",
       "    </tr>\n",
       "    <tr>\n",
       "      <td>27</td>\n",
       "      <td>Pokemon Black/Pokemon White</td>\n",
       "      <td>DS</td>\n",
       "      <td>2010</td>\n",
       "      <td>Role-Playing</td>\n",
       "      <td>5.51</td>\n",
       "      <td>3.17</td>\n",
       "      <td>5.65</td>\n",
       "      <td>0.80</td>\n",
       "      <td>NaN</td>\n",
       "      <td>NaN</td>\n",
       "      <td>unknown</td>\n",
       "      <td>15.13</td>\n",
       "    </tr>\n",
       "    <tr>\n",
       "      <td>29</td>\n",
       "      <td>Call of Duty: Modern Warfare 3</td>\n",
       "      <td>X360</td>\n",
       "      <td>2011</td>\n",
       "      <td>Shooter</td>\n",
       "      <td>9.04</td>\n",
       "      <td>4.24</td>\n",
       "      <td>0.13</td>\n",
       "      <td>1.32</td>\n",
       "      <td>88.0</td>\n",
       "      <td>3.4</td>\n",
       "      <td>M</td>\n",
       "      <td>14.73</td>\n",
       "    </tr>\n",
       "  </tbody>\n",
       "</table>\n",
       "</div>"
      ],
      "text/plain": [
       "                              name platform  year_of_release         genre  \\\n",
       "14              Kinect Adventures!     X360             2010          Misc   \n",
       "16              Grand Theft Auto V      PS3             2013        Action   \n",
       "23              Grand Theft Auto V     X360             2013        Action   \n",
       "27     Pokemon Black/Pokemon White       DS             2010  Role-Playing   \n",
       "29  Call of Duty: Modern Warfare 3     X360             2011       Shooter   \n",
       "\n",
       "    na_sales  eu_sales  jp_sales  other_sales  critic_score  user_score  \\\n",
       "14     15.00      4.89      0.24         1.69          61.0         6.3   \n",
       "16      7.02      9.09      0.98         3.96          97.0         8.2   \n",
       "23      9.66      5.14      0.06         1.41          97.0         8.1   \n",
       "27      5.51      3.17      5.65         0.80           NaN         NaN   \n",
       "29      9.04      4.24      0.13         1.32          88.0         3.4   \n",
       "\n",
       "     rating  total_sales  \n",
       "14        E        21.82  \n",
       "16        M        21.05  \n",
       "23        M        16.27  \n",
       "27  unknown        15.13  \n",
       "29        M        14.73  "
      ]
     },
     "execution_count": 76,
     "metadata": {},
     "output_type": "execute_result"
    }
   ],
   "source": [
    "df.head()"
   ]
  },
  {
   "cell_type": "code",
   "execution_count": 77,
   "metadata": {},
   "outputs": [],
   "source": [
    "data_ds = df[df[\"platform\"]==\"DS\"]"
   ]
  },
  {
   "cell_type": "code",
   "execution_count": 78,
   "metadata": {},
   "outputs": [
    {
     "data": {
      "image/png": "[encoded data removed]",
      "text/plain": [
       "<Figure size 936x720 with 1 Axes>"
      ]
     },
     "metadata": {
      "needs_background": "light"
     },
     "output_type": "display_data"
    }
   ],
   "source": [
    "plt.figure(figsize=(13,10))\n",
    "sns.scatterplot(data=data_ds, x=\"user_score\", y=\"total_sales\", palette=\"winter_r\")\n",
    "plt.show()"
   ]
  },
  {
   "cell_type": "code",
   "execution_count": 79,
   "metadata": {},
   "outputs": [
    {
     "data": {
      "text/plain": [
       "<Figure size 936x720 with 0 Axes>"
      ]
     },
     "metadata": {},
     "output_type": "display_data"
    },
    {
     "data": {
      "text/plain": [
       "<matplotlib.axes._subplots.AxesSubplot at 0x7effedabe990>"
      ]
     },
     "execution_count": 79,
     "metadata": {},
     "output_type": "execute_result"
    },
    {
     "data": {
      "image/png": "[encoded data removed]",
      "text/plain": [
       "<Figure size 432x288 with 1 Axes>"
      ]
     },
     "metadata": {
      "needs_background": "light"
     },
     "output_type": "display_data"
    }
   ],
   "source": [
    "plt.figure(figsize=(13,10))\n",
    "#sns.boxplot(x=\"platform\", y=\"total_sales\", data = grouped, order = ordered)\n",
    "plt.show()\n",
    "\n",
    "sns.scatterplot(data=data_ds, x=\"critic_score\", y=\"total_sales\", palette=\"winter_r\")"
   ]
  },
  {
   "cell_type": "code",
   "execution_count": 80,
   "metadata": {},
   "outputs": [
    {
     "data": {
      "text/html": [
       "<div>\n",
       "<style scoped>\n",
       "    .dataframe tbody tr th:only-of-type {\n",
       "        vertical-align: middle;\n",
       "    }\n",
       "\n",
       "    .dataframe tbody tr th {\n",
       "        vertical-align: top;\n",
       "    }\n",
       "\n",
       "    .dataframe thead th {\n",
       "        text-align: right;\n",
       "    }\n",
       "</style>\n",
       "<table border=\"1\" class=\"dataframe\">\n",
       "  <thead>\n",
       "    <tr style=\"text-align: right;\">\n",
       "      <th></th>\n",
       "      <th>user_score</th>\n",
       "      <th>critic_score</th>\n",
       "      <th>total_sales</th>\n",
       "    </tr>\n",
       "  </thead>\n",
       "  <tbody>\n",
       "    <tr>\n",
       "      <td>user_score</td>\n",
       "      <td>1.000000</td>\n",
       "      <td>0.881645</td>\n",
       "      <td>0.317735</td>\n",
       "    </tr>\n",
       "    <tr>\n",
       "      <td>critic_score</td>\n",
       "      <td>0.881645</td>\n",
       "      <td>1.000000</td>\n",
       "      <td>0.290803</td>\n",
       "    </tr>\n",
       "    <tr>\n",
       "      <td>total_sales</td>\n",
       "      <td>0.317735</td>\n",
       "      <td>0.290803</td>\n",
       "      <td>1.000000</td>\n",
       "    </tr>\n",
       "  </tbody>\n",
       "</table>\n",
       "</div>"
      ],
      "text/plain": [
       "              user_score  critic_score  total_sales\n",
       "user_score      1.000000      0.881645     0.317735\n",
       "critic_score    0.881645      1.000000     0.290803\n",
       "total_sales     0.317735      0.290803     1.000000"
      ]
     },
     "execution_count": 80,
     "metadata": {},
     "output_type": "execute_result"
    }
   ],
   "source": [
    "data_ds[[\"user_score\", \"critic_score\", \"total_sales\"]].corr()"
   ]
  },
  {
   "cell_type": "markdown",
   "metadata": {},
   "source": [
    "In the 2 charts and the table above we can see that there is a small correlation between rating and total sales. The correlation index user_score - total_sales is about 0.32 and the correlation index critic_score - total_sales is about 0.29. In both cases, the correlation is relatively small."
   ]
  },
  {
   "cell_type": "code",
   "execution_count": 81,
   "metadata": {},
   "outputs": [
    {
     "data": {
      "text/html": [
       "<div>\n",
       "<style scoped>\n",
       "    .dataframe tbody tr th:only-of-type {\n",
       "        vertical-align: middle;\n",
       "    }\n",
       "\n",
       "    .dataframe tbody tr th {\n",
       "        vertical-align: top;\n",
       "    }\n",
       "\n",
       "    .dataframe thead th {\n",
       "        text-align: right;\n",
       "    }\n",
       "</style>\n",
       "<table border=\"1\" class=\"dataframe\">\n",
       "  <thead>\n",
       "    <tr style=\"text-align: right;\">\n",
       "      <th></th>\n",
       "      <th>name</th>\n",
       "      <th>platform</th>\n",
       "      <th>year_of_release</th>\n",
       "      <th>genre</th>\n",
       "      <th>na_sales</th>\n",
       "      <th>eu_sales</th>\n",
       "      <th>jp_sales</th>\n",
       "      <th>other_sales</th>\n",
       "      <th>critic_score</th>\n",
       "      <th>user_score</th>\n",
       "      <th>rating</th>\n",
       "      <th>total_sales</th>\n",
       "    </tr>\n",
       "  </thead>\n",
       "  <tbody>\n",
       "    <tr>\n",
       "      <td>27</td>\n",
       "      <td>Pokemon Black/Pokemon White</td>\n",
       "      <td>DS</td>\n",
       "      <td>2010</td>\n",
       "      <td>Role-Playing</td>\n",
       "      <td>5.51</td>\n",
       "      <td>3.17</td>\n",
       "      <td>5.65</td>\n",
       "      <td>0.80</td>\n",
       "      <td>NaN</td>\n",
       "      <td>NaN</td>\n",
       "      <td>unknown</td>\n",
       "      <td>15.13</td>\n",
       "    </tr>\n",
       "    <tr>\n",
       "      <td>83</td>\n",
       "      <td>Pokemon Black 2/Pokemon White 2</td>\n",
       "      <td>DS</td>\n",
       "      <td>2012</td>\n",
       "      <td>Role-Playing</td>\n",
       "      <td>2.79</td>\n",
       "      <td>1.72</td>\n",
       "      <td>3.14</td>\n",
       "      <td>0.41</td>\n",
       "      <td>NaN</td>\n",
       "      <td>NaN</td>\n",
       "      <td>unknown</td>\n",
       "      <td>8.06</td>\n",
       "    </tr>\n",
       "    <tr>\n",
       "      <td>565</td>\n",
       "      <td>Mario vs. Donkey Kong: Mini-Land Mayhem!</td>\n",
       "      <td>DS</td>\n",
       "      <td>2010</td>\n",
       "      <td>Puzzle</td>\n",
       "      <td>1.63</td>\n",
       "      <td>0.51</td>\n",
       "      <td>0.35</td>\n",
       "      <td>0.18</td>\n",
       "      <td>79.0</td>\n",
       "      <td>7.7</td>\n",
       "      <td>E</td>\n",
       "      <td>2.67</td>\n",
       "    </tr>\n",
       "    <tr>\n",
       "      <td>611</td>\n",
       "      <td>Art Academy</td>\n",
       "      <td>DS</td>\n",
       "      <td>2010</td>\n",
       "      <td>Misc</td>\n",
       "      <td>0.26</td>\n",
       "      <td>1.65</td>\n",
       "      <td>0.33</td>\n",
       "      <td>0.28</td>\n",
       "      <td>75.0</td>\n",
       "      <td>8.0</td>\n",
       "      <td>E</td>\n",
       "      <td>2.52</td>\n",
       "    </tr>\n",
       "    <tr>\n",
       "      <td>700</td>\n",
       "      <td>LEGO Harry Potter: Years 1-4</td>\n",
       "      <td>DS</td>\n",
       "      <td>2010</td>\n",
       "      <td>Action</td>\n",
       "      <td>1.07</td>\n",
       "      <td>0.99</td>\n",
       "      <td>0.00</td>\n",
       "      <td>0.22</td>\n",
       "      <td>72.0</td>\n",
       "      <td>7.2</td>\n",
       "      <td>E10+</td>\n",
       "      <td>2.28</td>\n",
       "    </tr>\n",
       "    <tr>\n",
       "      <td>...</td>\n",
       "      <td>...</td>\n",
       "      <td>...</td>\n",
       "      <td>...</td>\n",
       "      <td>...</td>\n",
       "      <td>...</td>\n",
       "      <td>...</td>\n",
       "      <td>...</td>\n",
       "      <td>...</td>\n",
       "      <td>...</td>\n",
       "      <td>...</td>\n",
       "      <td>...</td>\n",
       "      <td>...</td>\n",
       "    </tr>\n",
       "    <tr>\n",
       "      <td>16414</td>\n",
       "      <td>Gakuen Hetalia</td>\n",
       "      <td>DS</td>\n",
       "      <td>2012</td>\n",
       "      <td>Adventure</td>\n",
       "      <td>0.00</td>\n",
       "      <td>0.00</td>\n",
       "      <td>0.01</td>\n",
       "      <td>0.00</td>\n",
       "      <td>NaN</td>\n",
       "      <td>NaN</td>\n",
       "      <td>unknown</td>\n",
       "      <td>0.01</td>\n",
       "    </tr>\n",
       "    <tr>\n",
       "      <td>16494</td>\n",
       "      <td>thinkSMART: Chess for Kids</td>\n",
       "      <td>DS</td>\n",
       "      <td>2011</td>\n",
       "      <td>Misc</td>\n",
       "      <td>0.01</td>\n",
       "      <td>0.00</td>\n",
       "      <td>0.00</td>\n",
       "      <td>0.00</td>\n",
       "      <td>NaN</td>\n",
       "      <td>NaN</td>\n",
       "      <td>E</td>\n",
       "      <td>0.01</td>\n",
       "    </tr>\n",
       "    <tr>\n",
       "      <td>16579</td>\n",
       "      <td>Ishin no Arashi: Shippuu Ryuumeden</td>\n",
       "      <td>DS</td>\n",
       "      <td>2010</td>\n",
       "      <td>Strategy</td>\n",
       "      <td>0.00</td>\n",
       "      <td>0.00</td>\n",
       "      <td>0.01</td>\n",
       "      <td>0.00</td>\n",
       "      <td>NaN</td>\n",
       "      <td>NaN</td>\n",
       "      <td>unknown</td>\n",
       "      <td>0.01</td>\n",
       "    </tr>\n",
       "    <tr>\n",
       "      <td>16580</td>\n",
       "      <td>Dengeki Gakuen RPG: Cross of Venus Special</td>\n",
       "      <td>DS</td>\n",
       "      <td>2011</td>\n",
       "      <td>Role-Playing</td>\n",
       "      <td>0.00</td>\n",
       "      <td>0.00</td>\n",
       "      <td>0.01</td>\n",
       "      <td>0.00</td>\n",
       "      <td>NaN</td>\n",
       "      <td>NaN</td>\n",
       "      <td>unknown</td>\n",
       "      <td>0.01</td>\n",
       "    </tr>\n",
       "    <tr>\n",
       "      <td>16649</td>\n",
       "      <td>Real Crimes: The Unicorn Killer</td>\n",
       "      <td>DS</td>\n",
       "      <td>2011</td>\n",
       "      <td>Puzzle</td>\n",
       "      <td>0.00</td>\n",
       "      <td>0.01</td>\n",
       "      <td>0.00</td>\n",
       "      <td>0.00</td>\n",
       "      <td>NaN</td>\n",
       "      <td>NaN</td>\n",
       "      <td>unknown</td>\n",
       "      <td>0.01</td>\n",
       "    </tr>\n",
       "  </tbody>\n",
       "</table>\n",
       "<p>507 rows × 12 columns</p>\n",
       "</div>"
      ],
      "text/plain": [
       "                                             name platform  year_of_release  \\\n",
       "27                    Pokemon Black/Pokemon White       DS             2010   \n",
       "83                Pokemon Black 2/Pokemon White 2       DS             2012   \n",
       "565      Mario vs. Donkey Kong: Mini-Land Mayhem!       DS             2010   \n",
       "611                                   Art Academy       DS             2010   \n",
       "700                  LEGO Harry Potter: Years 1-4       DS             2010   \n",
       "...                                           ...      ...              ...   \n",
       "16414                              Gakuen Hetalia       DS             2012   \n",
       "16494                  thinkSMART: Chess for Kids       DS             2011   \n",
       "16579          Ishin no Arashi: Shippuu Ryuumeden       DS             2010   \n",
       "16580  Dengeki Gakuen RPG: Cross of Venus Special       DS             2011   \n",
       "16649             Real Crimes: The Unicorn Killer       DS             2011   \n",
       "\n",
       "              genre  na_sales  eu_sales  jp_sales  other_sales  critic_score  \\\n",
       "27     Role-Playing      5.51      3.17      5.65         0.80           NaN   \n",
       "83     Role-Playing      2.79      1.72      3.14         0.41           NaN   \n",
       "565          Puzzle      1.63      0.51      0.35         0.18          79.0   \n",
       "611            Misc      0.26      1.65      0.33         0.28          75.0   \n",
       "700          Action      1.07      0.99      0.00         0.22          72.0   \n",
       "...             ...       ...       ...       ...          ...           ...   \n",
       "16414     Adventure      0.00      0.00      0.01         0.00           NaN   \n",
       "16494          Misc      0.01      0.00      0.00         0.00           NaN   \n",
       "16579      Strategy      0.00      0.00      0.01         0.00           NaN   \n",
       "16580  Role-Playing      0.00      0.00      0.01         0.00           NaN   \n",
       "16649        Puzzle      0.00      0.01      0.00         0.00           NaN   \n",
       "\n",
       "       user_score   rating  total_sales  \n",
       "27            NaN  unknown        15.13  \n",
       "83            NaN  unknown         8.06  \n",
       "565           7.7        E         2.67  \n",
       "611           8.0        E         2.52  \n",
       "700           7.2     E10+         2.28  \n",
       "...           ...      ...          ...  \n",
       "16414         NaN  unknown         0.01  \n",
       "16494         NaN        E         0.01  \n",
       "16579         NaN  unknown         0.01  \n",
       "16580         NaN  unknown         0.01  \n",
       "16649         NaN  unknown         0.01  \n",
       "\n",
       "[507 rows x 12 columns]"
      ]
     },
     "execution_count": 81,
     "metadata": {},
     "output_type": "execute_result"
    }
   ],
   "source": [
    "data_ds"
   ]
  },
  {
   "cell_type": "markdown",
   "metadata": {},
   "source": [
    "### Comparison of the sales of the same games on other platforms"
   ]
  },
  {
   "cell_type": "markdown",
   "metadata": {},
   "source": [
    "So far, only the total sales of the platforms have been taken into account. In this point, the data set is filtered so that only games that have been released on at least 7 platforms remain. In this way, it should be determined which console performs best in the sale of the same games.\n",
    "This works as follows:\n",
    "\n",
    "1. Filtering the dataset so that only games released on multiple consoles are considered (multi_games).\n",
    "\n",
    "2. Determine the average sales of each game (sum of all games sold / number of platforms on which the game was released). For this purpose the function \"calculate_average_sales\" is defined.\n",
    "\n",
    "3. Creation of the column \"platform_factor\", which is calculated from the revenues of a game on a certain console divided by the average revenues of the game. The \"get_platform_factor\" function is defined for this purpose. For each console, the average of all platform_factor values from the sales of all games is calculated and used for comparison with other platforms.\n",
    "\n",
    "4. Creation of a comparative diagram.\n"
   ]
  },
  {
   "cell_type": "code",
   "execution_count": 82,
   "metadata": {},
   "outputs": [],
   "source": [
    "#### Filtering the dataset "
   ]
  },
  {
   "cell_type": "code",
   "execution_count": 83,
   "metadata": {},
   "outputs": [
    {
     "data": {
      "text/plain": [
       "LEGO Marvel Super Heroes                         9\n",
       "FIFA 14                                          9\n",
       "Lego Batman 3: Beyond Gotham                     8\n",
       "The LEGO Movie Videogame                         8\n",
       "FIFA Soccer 13                                   8\n",
       "LEGO The Hobbit                                  8\n",
       "FIFA 15                                          8\n",
       "LEGO Jurassic World                              8\n",
       "Angry Birds Star Wars                            8\n",
       "Terraria                                         8\n",
       "Major League Baseball 2K11                       7\n",
       "LEGO Star Wars III: The Clone Wars               7\n",
       "LEGO The Lord of the Rings                       7\n",
       "Skylanders: SuperChargers                        7\n",
       "Pro Evolution Soccer 2012                        7\n",
       "LEGO Batman 2: DC Super Heroes                   7\n",
       "LEGO Pirates of the Caribbean: The Video Game    7\n",
       "FIFA 12                                          7\n",
       "Skylanders SWAP Force                            7\n",
       "LEGO Marvel's Avengers                           7\n",
       "FIFA Soccer 11                                   7\n",
       "The Amazing Spider-Man 2 (2014)                  7\n",
       "Skylanders: Trap Team                            7\n",
       "Lego Star Wars: The Force Awakens                7\n",
       "Name: name, dtype: int64"
      ]
     },
     "execution_count": 83,
     "metadata": {},
     "output_type": "execute_result"
    }
   ],
   "source": [
    "df2 = df.name.value_counts()\n",
    "n=7\n",
    "\n",
    "multi_games = df2[df2>=n]\n",
    "multi_games"
   ]
  },
  {
   "cell_type": "markdown",
   "metadata": {},
   "source": [
    "#### Determine the average sales of each game"
   ]
  },
  {
   "cell_type": "code",
   "execution_count": 114,
   "metadata": {},
   "outputs": [
    {
     "data": {
      "text/plain": [
       "180"
      ]
     },
     "execution_count": 114,
     "metadata": {},
     "output_type": "execute_result"
    }
   ],
   "source": [
    "df_slice=df.copy()[df.name.isin(multi_games.index)]\n",
    "df_slice[\"average_sales\"] = 1\n",
    "len(df_slice)"
   ]
  },
  {
   "cell_type": "markdown",
   "metadata": {},
   "source": [
    "<div class=\"alert alert-warning\">\n",
    "\n",
    "**Reviewer's comment:** As you can see `pandas` shows the Warning because you want to make changes to the copy of original dataframe which may result in changes in original dataframe. Sometimes we can ignore some warnings, but not in that case. To avoid this problem when you make a copy of the original dataframe use `copy_df = original_df.copy()`, no your new dataframe will not depend from the original one.\n",
    "</div>"
   ]
  },
  {
   "cell_type": "code",
   "execution_count": 85,
   "metadata": {},
   "outputs": [],
   "source": [
    "def calculate_average_sales(data):\n",
    "    data_new = data\n",
    "    row_new = []\n",
    "    for name in multi_games.index:\n",
    "        mean = df.loc[df.name==name].total_sales.mean()\n",
    "        for index,row in df_slice.iterrows():\n",
    "            data_new.loc[data_new[\"name\"]==name, \"average_sales\"] = mean\n",
    "         \n",
    "    return data_new"
   ]
  },
  {
   "cell_type": "code",
   "execution_count": 86,
   "metadata": {
    "scrolled": true
   },
   "outputs": [
    {
     "name": "stderr",
     "output_type": "stream",
     "text": [
      "/opt/conda/lib/python3.7/site-packages/pandas/core/indexing.py:494: SettingWithCopyWarning: \n",
      "A value is trying to be set on a copy of a slice from a DataFrame.\n",
      "Try using .loc[row_indexer,col_indexer] = value instead\n",
      "\n",
      "See the caveats in the documentation: http://pandas.pydata.org/pandas-docs/stable/user_guide/indexing.html#returning-a-view-versus-a-copy\n",
      "  self.obj[item] = s\n"
     ]
    },
    {
     "data": {
      "text/html": [
       "<div>\n",
       "<style scoped>\n",
       "    .dataframe tbody tr th:only-of-type {\n",
       "        vertical-align: middle;\n",
       "    }\n",
       "\n",
       "    .dataframe tbody tr th {\n",
       "        vertical-align: top;\n",
       "    }\n",
       "\n",
       "    .dataframe thead th {\n",
       "        text-align: right;\n",
       "    }\n",
       "</style>\n",
       "<table border=\"1\" class=\"dataframe\">\n",
       "  <thead>\n",
       "    <tr style=\"text-align: right;\">\n",
       "      <th></th>\n",
       "      <th>name</th>\n",
       "      <th>platform</th>\n",
       "      <th>year_of_release</th>\n",
       "      <th>genre</th>\n",
       "      <th>na_sales</th>\n",
       "      <th>eu_sales</th>\n",
       "      <th>jp_sales</th>\n",
       "      <th>other_sales</th>\n",
       "      <th>critic_score</th>\n",
       "      <th>user_score</th>\n",
       "      <th>rating</th>\n",
       "      <th>total_sales</th>\n",
       "      <th>Average_sales</th>\n",
       "    </tr>\n",
       "  </thead>\n",
       "  <tbody>\n",
       "    <tr>\n",
       "      <td>81</td>\n",
       "      <td>FIFA Soccer 13</td>\n",
       "      <td>PS3</td>\n",
       "      <td>2012</td>\n",
       "      <td>Action</td>\n",
       "      <td>1.06</td>\n",
       "      <td>5.01</td>\n",
       "      <td>0.13</td>\n",
       "      <td>1.97</td>\n",
       "      <td>88.0</td>\n",
       "      <td>6.6</td>\n",
       "      <td>E</td>\n",
       "      <td>8.17</td>\n",
       "      <td>1.996250</td>\n",
       "    </tr>\n",
       "    <tr>\n",
       "      <td>122</td>\n",
       "      <td>FIFA 12</td>\n",
       "      <td>PS3</td>\n",
       "      <td>2011</td>\n",
       "      <td>Sports</td>\n",
       "      <td>0.84</td>\n",
       "      <td>4.30</td>\n",
       "      <td>0.11</td>\n",
       "      <td>1.39</td>\n",
       "      <td>NaN</td>\n",
       "      <td>NaN</td>\n",
       "      <td>unknown</td>\n",
       "      <td>6.64</td>\n",
       "      <td>1.861429</td>\n",
       "    </tr>\n",
       "    <tr>\n",
       "      <td>126</td>\n",
       "      <td>FIFA 14</td>\n",
       "      <td>PS3</td>\n",
       "      <td>2013</td>\n",
       "      <td>Sports</td>\n",
       "      <td>0.78</td>\n",
       "      <td>4.24</td>\n",
       "      <td>0.07</td>\n",
       "      <td>1.37</td>\n",
       "      <td>86.0</td>\n",
       "      <td>4.3</td>\n",
       "      <td>E</td>\n",
       "      <td>6.46</td>\n",
       "      <td>1.828889</td>\n",
       "    </tr>\n",
       "    <tr>\n",
       "      <td>143</td>\n",
       "      <td>FIFA 15</td>\n",
       "      <td>PS4</td>\n",
       "      <td>2014</td>\n",
       "      <td>Sports</td>\n",
       "      <td>0.80</td>\n",
       "      <td>4.33</td>\n",
       "      <td>0.05</td>\n",
       "      <td>0.90</td>\n",
       "      <td>82.0</td>\n",
       "      <td>5.7</td>\n",
       "      <td>E</td>\n",
       "      <td>6.08</td>\n",
       "      <td>2.171250</td>\n",
       "    </tr>\n",
       "    <tr>\n",
       "      <td>190</td>\n",
       "      <td>FIFA Soccer 13</td>\n",
       "      <td>X360</td>\n",
       "      <td>2012</td>\n",
       "      <td>Action</td>\n",
       "      <td>1.09</td>\n",
       "      <td>3.47</td>\n",
       "      <td>0.03</td>\n",
       "      <td>0.57</td>\n",
       "      <td>90.0</td>\n",
       "      <td>6.1</td>\n",
       "      <td>E</td>\n",
       "      <td>5.16</td>\n",
       "      <td>1.996250</td>\n",
       "    </tr>\n",
       "    <tr>\n",
       "      <td>...</td>\n",
       "      <td>...</td>\n",
       "      <td>...</td>\n",
       "      <td>...</td>\n",
       "      <td>...</td>\n",
       "      <td>...</td>\n",
       "      <td>...</td>\n",
       "      <td>...</td>\n",
       "      <td>...</td>\n",
       "      <td>...</td>\n",
       "      <td>...</td>\n",
       "      <td>...</td>\n",
       "      <td>...</td>\n",
       "      <td>...</td>\n",
       "    </tr>\n",
       "    <tr>\n",
       "      <td>13941</td>\n",
       "      <td>LEGO Jurassic World</td>\n",
       "      <td>PC</td>\n",
       "      <td>2015</td>\n",
       "      <td>Action</td>\n",
       "      <td>0.00</td>\n",
       "      <td>0.04</td>\n",
       "      <td>0.00</td>\n",
       "      <td>0.00</td>\n",
       "      <td>72.0</td>\n",
       "      <td>7.1</td>\n",
       "      <td>E10+</td>\n",
       "      <td>0.04</td>\n",
       "      <td>0.586250</td>\n",
       "    </tr>\n",
       "    <tr>\n",
       "      <td>14571</td>\n",
       "      <td>Terraria</td>\n",
       "      <td>WiiU</td>\n",
       "      <td>2016</td>\n",
       "      <td>Action</td>\n",
       "      <td>0.00</td>\n",
       "      <td>0.03</td>\n",
       "      <td>0.00</td>\n",
       "      <td>0.00</td>\n",
       "      <td>69.0</td>\n",
       "      <td>6.9</td>\n",
       "      <td>T</td>\n",
       "      <td>0.03</td>\n",
       "      <td>0.195000</td>\n",
       "    </tr>\n",
       "    <tr>\n",
       "      <td>14686</td>\n",
       "      <td>LEGO Pirates of the Caribbean: The Video Game</td>\n",
       "      <td>PC</td>\n",
       "      <td>2011</td>\n",
       "      <td>Action</td>\n",
       "      <td>0.03</td>\n",
       "      <td>0.00</td>\n",
       "      <td>0.00</td>\n",
       "      <td>0.00</td>\n",
       "      <td>73.0</td>\n",
       "      <td>6.6</td>\n",
       "      <td>E10+</td>\n",
       "      <td>0.03</td>\n",
       "      <td>0.771429</td>\n",
       "    </tr>\n",
       "    <tr>\n",
       "      <td>14792</td>\n",
       "      <td>Pro Evolution Soccer 2012</td>\n",
       "      <td>3DS</td>\n",
       "      <td>2011</td>\n",
       "      <td>Action</td>\n",
       "      <td>0.02</td>\n",
       "      <td>0.00</td>\n",
       "      <td>0.00</td>\n",
       "      <td>0.00</td>\n",
       "      <td>NaN</td>\n",
       "      <td>NaN</td>\n",
       "      <td>unknown</td>\n",
       "      <td>0.02</td>\n",
       "      <td>0.518571</td>\n",
       "    </tr>\n",
       "    <tr>\n",
       "      <td>16631</td>\n",
       "      <td>The Amazing Spider-Man 2 (2014)</td>\n",
       "      <td>PC</td>\n",
       "      <td>2014</td>\n",
       "      <td>Action</td>\n",
       "      <td>0.00</td>\n",
       "      <td>0.01</td>\n",
       "      <td>0.00</td>\n",
       "      <td>0.00</td>\n",
       "      <td>NaN</td>\n",
       "      <td>NaN</td>\n",
       "      <td>unknown</td>\n",
       "      <td>0.01</td>\n",
       "      <td>0.200000</td>\n",
       "    </tr>\n",
       "  </tbody>\n",
       "</table>\n",
       "<p>180 rows × 13 columns</p>\n",
       "</div>"
      ],
      "text/plain": [
       "                                                name platform  \\\n",
       "81                                    FIFA Soccer 13      PS3   \n",
       "122                                          FIFA 12      PS3   \n",
       "126                                          FIFA 14      PS3   \n",
       "143                                          FIFA 15      PS4   \n",
       "190                                   FIFA Soccer 13     X360   \n",
       "...                                              ...      ...   \n",
       "13941                            LEGO Jurassic World       PC   \n",
       "14571                                       Terraria     WiiU   \n",
       "14686  LEGO Pirates of the Caribbean: The Video Game       PC   \n",
       "14792                      Pro Evolution Soccer 2012      3DS   \n",
       "16631                The Amazing Spider-Man 2 (2014)       PC   \n",
       "\n",
       "       year_of_release   genre  na_sales  eu_sales  jp_sales  other_sales  \\\n",
       "81                2012  Action      1.06      5.01      0.13         1.97   \n",
       "122               2011  Sports      0.84      4.30      0.11         1.39   \n",
       "126               2013  Sports      0.78      4.24      0.07         1.37   \n",
       "143               2014  Sports      0.80      4.33      0.05         0.90   \n",
       "190               2012  Action      1.09      3.47      0.03         0.57   \n",
       "...                ...     ...       ...       ...       ...          ...   \n",
       "13941             2015  Action      0.00      0.04      0.00         0.00   \n",
       "14571             2016  Action      0.00      0.03      0.00         0.00   \n",
       "14686             2011  Action      0.03      0.00      0.00         0.00   \n",
       "14792             2011  Action      0.02      0.00      0.00         0.00   \n",
       "16631             2014  Action      0.00      0.01      0.00         0.00   \n",
       "\n",
       "       critic_score  user_score   rating  total_sales  Average_sales  \n",
       "81             88.0         6.6        E         8.17       1.996250  \n",
       "122             NaN         NaN  unknown         6.64       1.861429  \n",
       "126            86.0         4.3        E         6.46       1.828889  \n",
       "143            82.0         5.7        E         6.08       2.171250  \n",
       "190            90.0         6.1        E         5.16       1.996250  \n",
       "...             ...         ...      ...          ...            ...  \n",
       "13941          72.0         7.1     E10+         0.04       0.586250  \n",
       "14571          69.0         6.9        T         0.03       0.195000  \n",
       "14686          73.0         6.6     E10+         0.03       0.771429  \n",
       "14792           NaN         NaN  unknown         0.02       0.518571  \n",
       "16631           NaN         NaN  unknown         0.01       0.200000  \n",
       "\n",
       "[180 rows x 13 columns]"
      ]
     },
     "execution_count": 86,
     "metadata": {},
     "output_type": "execute_result"
    }
   ],
   "source": [
    "test = calculate_average_sales(df_slice)\n",
    "test"
   ]
  },
  {
   "cell_type": "markdown",
   "metadata": {},
   "source": [
    "#### Creation of the column \"platform_factor\""
   ]
  },
  {
   "cell_type": "code",
   "execution_count": 87,
   "metadata": {},
   "outputs": [],
   "source": [
    "def get_platform_comparison_factor(data):\n",
    "    data[\"platform_factor\"] = 0\n",
    "    row_new = []\n",
    "    for index,row in df_slice.iterrows():\n",
    "        factor = row[\"total_sales\"]/row[\"average_sales\"]\n",
    "        row[\"platform_factor\"] = factor\n",
    "        row_new.append(factor)\n",
    "    data[\"platform_factor\"] = row_new    \n",
    "    return data            \n",
    "      #  factor = data.total_sales/data.average"
   ]
  },
  {
   "cell_type": "code",
   "execution_count": 88,
   "metadata": {},
   "outputs": [
    {
     "name": "stderr",
     "output_type": "stream",
     "text": [
      "/opt/conda/lib/python3.7/site-packages/ipykernel_launcher.py:2: SettingWithCopyWarning: \n",
      "A value is trying to be set on a copy of a slice from a DataFrame.\n",
      "Try using .loc[row_indexer,col_indexer] = value instead\n",
      "\n",
      "See the caveats in the documentation: http://pandas.pydata.org/pandas-docs/stable/user_guide/indexing.html#returning-a-view-versus-a-copy\n",
      "  \n",
      "/opt/conda/lib/python3.7/site-packages/ipykernel_launcher.py:8: SettingWithCopyWarning: \n",
      "A value is trying to be set on a copy of a slice from a DataFrame.\n",
      "Try using .loc[row_indexer,col_indexer] = value instead\n",
      "\n",
      "See the caveats in the documentation: http://pandas.pydata.org/pandas-docs/stable/user_guide/indexing.html#returning-a-view-versus-a-copy\n",
      "  \n"
     ]
    }
   ],
   "source": [
    "test = get_platform_comparison_factor(df_slice)"
   ]
  },
  {
   "cell_type": "code",
   "execution_count": 89,
   "metadata": {},
   "outputs": [
    {
     "data": {
      "text/html": [
       "<div>\n",
       "<style scoped>\n",
       "    .dataframe tbody tr th:only-of-type {\n",
       "        vertical-align: middle;\n",
       "    }\n",
       "\n",
       "    .dataframe tbody tr th {\n",
       "        vertical-align: top;\n",
       "    }\n",
       "\n",
       "    .dataframe thead th {\n",
       "        text-align: right;\n",
       "    }\n",
       "</style>\n",
       "<table border=\"1\" class=\"dataframe\">\n",
       "  <thead>\n",
       "    <tr style=\"text-align: right;\">\n",
       "      <th></th>\n",
       "      <th>name</th>\n",
       "      <th>platform</th>\n",
       "      <th>year_of_release</th>\n",
       "      <th>genre</th>\n",
       "      <th>na_sales</th>\n",
       "      <th>eu_sales</th>\n",
       "      <th>jp_sales</th>\n",
       "      <th>other_sales</th>\n",
       "      <th>critic_score</th>\n",
       "      <th>user_score</th>\n",
       "      <th>rating</th>\n",
       "      <th>total_sales</th>\n",
       "      <th>Average_sales</th>\n",
       "      <th>platform_factor</th>\n",
       "    </tr>\n",
       "  </thead>\n",
       "  <tbody>\n",
       "    <tr>\n",
       "      <td>81</td>\n",
       "      <td>FIFA Soccer 13</td>\n",
       "      <td>PS3</td>\n",
       "      <td>2012</td>\n",
       "      <td>Action</td>\n",
       "      <td>1.06</td>\n",
       "      <td>5.01</td>\n",
       "      <td>0.13</td>\n",
       "      <td>1.97</td>\n",
       "      <td>88.0</td>\n",
       "      <td>6.6</td>\n",
       "      <td>E</td>\n",
       "      <td>8.17</td>\n",
       "      <td>1.996250</td>\n",
       "      <td>4.092674</td>\n",
       "    </tr>\n",
       "    <tr>\n",
       "      <td>122</td>\n",
       "      <td>FIFA 12</td>\n",
       "      <td>PS3</td>\n",
       "      <td>2011</td>\n",
       "      <td>Sports</td>\n",
       "      <td>0.84</td>\n",
       "      <td>4.30</td>\n",
       "      <td>0.11</td>\n",
       "      <td>1.39</td>\n",
       "      <td>NaN</td>\n",
       "      <td>NaN</td>\n",
       "      <td>unknown</td>\n",
       "      <td>6.64</td>\n",
       "      <td>1.861429</td>\n",
       "      <td>3.567153</td>\n",
       "    </tr>\n",
       "    <tr>\n",
       "      <td>126</td>\n",
       "      <td>FIFA 14</td>\n",
       "      <td>PS3</td>\n",
       "      <td>2013</td>\n",
       "      <td>Sports</td>\n",
       "      <td>0.78</td>\n",
       "      <td>4.24</td>\n",
       "      <td>0.07</td>\n",
       "      <td>1.37</td>\n",
       "      <td>86.0</td>\n",
       "      <td>4.3</td>\n",
       "      <td>E</td>\n",
       "      <td>6.46</td>\n",
       "      <td>1.828889</td>\n",
       "      <td>3.532199</td>\n",
       "    </tr>\n",
       "    <tr>\n",
       "      <td>143</td>\n",
       "      <td>FIFA 15</td>\n",
       "      <td>PS4</td>\n",
       "      <td>2014</td>\n",
       "      <td>Sports</td>\n",
       "      <td>0.80</td>\n",
       "      <td>4.33</td>\n",
       "      <td>0.05</td>\n",
       "      <td>0.90</td>\n",
       "      <td>82.0</td>\n",
       "      <td>5.7</td>\n",
       "      <td>E</td>\n",
       "      <td>6.08</td>\n",
       "      <td>2.171250</td>\n",
       "      <td>2.800230</td>\n",
       "    </tr>\n",
       "    <tr>\n",
       "      <td>190</td>\n",
       "      <td>FIFA Soccer 13</td>\n",
       "      <td>X360</td>\n",
       "      <td>2012</td>\n",
       "      <td>Action</td>\n",
       "      <td>1.09</td>\n",
       "      <td>3.47</td>\n",
       "      <td>0.03</td>\n",
       "      <td>0.57</td>\n",
       "      <td>90.0</td>\n",
       "      <td>6.1</td>\n",
       "      <td>E</td>\n",
       "      <td>5.16</td>\n",
       "      <td>1.996250</td>\n",
       "      <td>2.584847</td>\n",
       "    </tr>\n",
       "    <tr>\n",
       "      <td>...</td>\n",
       "      <td>...</td>\n",
       "      <td>...</td>\n",
       "      <td>...</td>\n",
       "      <td>...</td>\n",
       "      <td>...</td>\n",
       "      <td>...</td>\n",
       "      <td>...</td>\n",
       "      <td>...</td>\n",
       "      <td>...</td>\n",
       "      <td>...</td>\n",
       "      <td>...</td>\n",
       "      <td>...</td>\n",
       "      <td>...</td>\n",
       "      <td>...</td>\n",
       "    </tr>\n",
       "    <tr>\n",
       "      <td>13941</td>\n",
       "      <td>LEGO Jurassic World</td>\n",
       "      <td>PC</td>\n",
       "      <td>2015</td>\n",
       "      <td>Action</td>\n",
       "      <td>0.00</td>\n",
       "      <td>0.04</td>\n",
       "      <td>0.00</td>\n",
       "      <td>0.00</td>\n",
       "      <td>72.0</td>\n",
       "      <td>7.1</td>\n",
       "      <td>E10+</td>\n",
       "      <td>0.04</td>\n",
       "      <td>0.586250</td>\n",
       "      <td>0.068230</td>\n",
       "    </tr>\n",
       "    <tr>\n",
       "      <td>14571</td>\n",
       "      <td>Terraria</td>\n",
       "      <td>WiiU</td>\n",
       "      <td>2016</td>\n",
       "      <td>Action</td>\n",
       "      <td>0.00</td>\n",
       "      <td>0.03</td>\n",
       "      <td>0.00</td>\n",
       "      <td>0.00</td>\n",
       "      <td>69.0</td>\n",
       "      <td>6.9</td>\n",
       "      <td>T</td>\n",
       "      <td>0.03</td>\n",
       "      <td>0.195000</td>\n",
       "      <td>0.153846</td>\n",
       "    </tr>\n",
       "    <tr>\n",
       "      <td>14686</td>\n",
       "      <td>LEGO Pirates of the Caribbean: The Video Game</td>\n",
       "      <td>PC</td>\n",
       "      <td>2011</td>\n",
       "      <td>Action</td>\n",
       "      <td>0.03</td>\n",
       "      <td>0.00</td>\n",
       "      <td>0.00</td>\n",
       "      <td>0.00</td>\n",
       "      <td>73.0</td>\n",
       "      <td>6.6</td>\n",
       "      <td>E10+</td>\n",
       "      <td>0.03</td>\n",
       "      <td>0.771429</td>\n",
       "      <td>0.038889</td>\n",
       "    </tr>\n",
       "    <tr>\n",
       "      <td>14792</td>\n",
       "      <td>Pro Evolution Soccer 2012</td>\n",
       "      <td>3DS</td>\n",
       "      <td>2011</td>\n",
       "      <td>Action</td>\n",
       "      <td>0.02</td>\n",
       "      <td>0.00</td>\n",
       "      <td>0.00</td>\n",
       "      <td>0.00</td>\n",
       "      <td>NaN</td>\n",
       "      <td>NaN</td>\n",
       "      <td>unknown</td>\n",
       "      <td>0.02</td>\n",
       "      <td>0.518571</td>\n",
       "      <td>0.038567</td>\n",
       "    </tr>\n",
       "    <tr>\n",
       "      <td>16631</td>\n",
       "      <td>The Amazing Spider-Man 2 (2014)</td>\n",
       "      <td>PC</td>\n",
       "      <td>2014</td>\n",
       "      <td>Action</td>\n",
       "      <td>0.00</td>\n",
       "      <td>0.01</td>\n",
       "      <td>0.00</td>\n",
       "      <td>0.00</td>\n",
       "      <td>NaN</td>\n",
       "      <td>NaN</td>\n",
       "      <td>unknown</td>\n",
       "      <td>0.01</td>\n",
       "      <td>0.200000</td>\n",
       "      <td>0.050000</td>\n",
       "    </tr>\n",
       "  </tbody>\n",
       "</table>\n",
       "<p>180 rows × 14 columns</p>\n",
       "</div>"
      ],
      "text/plain": [
       "                                                name platform  \\\n",
       "81                                    FIFA Soccer 13      PS3   \n",
       "122                                          FIFA 12      PS3   \n",
       "126                                          FIFA 14      PS3   \n",
       "143                                          FIFA 15      PS4   \n",
       "190                                   FIFA Soccer 13     X360   \n",
       "...                                              ...      ...   \n",
       "13941                            LEGO Jurassic World       PC   \n",
       "14571                                       Terraria     WiiU   \n",
       "14686  LEGO Pirates of the Caribbean: The Video Game       PC   \n",
       "14792                      Pro Evolution Soccer 2012      3DS   \n",
       "16631                The Amazing Spider-Man 2 (2014)       PC   \n",
       "\n",
       "       year_of_release   genre  na_sales  eu_sales  jp_sales  other_sales  \\\n",
       "81                2012  Action      1.06      5.01      0.13         1.97   \n",
       "122               2011  Sports      0.84      4.30      0.11         1.39   \n",
       "126               2013  Sports      0.78      4.24      0.07         1.37   \n",
       "143               2014  Sports      0.80      4.33      0.05         0.90   \n",
       "190               2012  Action      1.09      3.47      0.03         0.57   \n",
       "...                ...     ...       ...       ...       ...          ...   \n",
       "13941             2015  Action      0.00      0.04      0.00         0.00   \n",
       "14571             2016  Action      0.00      0.03      0.00         0.00   \n",
       "14686             2011  Action      0.03      0.00      0.00         0.00   \n",
       "14792             2011  Action      0.02      0.00      0.00         0.00   \n",
       "16631             2014  Action      0.00      0.01      0.00         0.00   \n",
       "\n",
       "       critic_score  user_score   rating  total_sales  Average_sales  \\\n",
       "81             88.0         6.6        E         8.17       1.996250   \n",
       "122             NaN         NaN  unknown         6.64       1.861429   \n",
       "126            86.0         4.3        E         6.46       1.828889   \n",
       "143            82.0         5.7        E         6.08       2.171250   \n",
       "190            90.0         6.1        E         5.16       1.996250   \n",
       "...             ...         ...      ...          ...            ...   \n",
       "13941          72.0         7.1     E10+         0.04       0.586250   \n",
       "14571          69.0         6.9        T         0.03       0.195000   \n",
       "14686          73.0         6.6     E10+         0.03       0.771429   \n",
       "14792           NaN         NaN  unknown         0.02       0.518571   \n",
       "16631           NaN         NaN  unknown         0.01       0.200000   \n",
       "\n",
       "       platform_factor  \n",
       "81            4.092674  \n",
       "122           3.567153  \n",
       "126           3.532199  \n",
       "143           2.800230  \n",
       "190           2.584847  \n",
       "...                ...  \n",
       "13941         0.068230  \n",
       "14571         0.153846  \n",
       "14686         0.038889  \n",
       "14792         0.038567  \n",
       "16631         0.050000  \n",
       "\n",
       "[180 rows x 14 columns]"
      ]
     },
     "execution_count": 89,
     "metadata": {},
     "output_type": "execute_result"
    }
   ],
   "source": [
    "test"
   ]
  },
  {
   "cell_type": "markdown",
   "metadata": {},
   "source": [
    "#### Creation of a comparative diagram.\n"
   ]
  },
  {
   "cell_type": "code",
   "execution_count": 90,
   "metadata": {},
   "outputs": [
    {
     "data": {
      "image/png": "[encoded data removed]",
      "text/plain": [
       "<Figure size 1008x720 with 1 Axes>"
      ]
     },
     "metadata": {
      "needs_background": "light"
     },
     "output_type": "display_data"
    }
   ],
   "source": [
    "test_grouped = test[[\"platform\", \"platform_factor\"]].groupby([\"platform\"]).mean().sort_values(by=\"platform_factor\", ascending=True)\n",
    "test_grouped[\"platform_factor_percentage\"]= (test_grouped[\"platform_factor\"]-1)\n",
    "test_grouped[\"colors\"]=[\"red\" if x<0 else \"green\" for x in test_grouped[\"platform_factor_percentage\"]]\n",
    "\n",
    "plt.figure(figsize=(14,10))\n",
    "plt.hlines(y=test_grouped.index, xmax=test_grouped.platform_factor_percentage, xmin=0, color=test_grouped.colors, alpha=0.4, linewidth=10)\n",
    "plt.show()\n"
   ]
  },
  {
   "cell_type": "markdown",
   "metadata": {},
   "source": [
    "#### Conclusion "
   ]
  },
  {
   "cell_type": "markdown",
   "metadata": {},
   "source": [
    "The graph above shows that the PS3, X360 and PS4 are the platform of choice when offering the same games. The PS3 has an 80% higher average platform_factor, the X360 has a 70% higher average platform_factor, and the PS4 has a 60% higher average platform_factor than the average."
   ]
  },
  {
   "cell_type": "markdown",
   "metadata": {},
   "source": [
    "### Comparison of the sales of different game genres"
   ]
  },
  {
   "cell_type": "markdown",
   "metadata": {},
   "source": [
    "In the following, we will take a closer look at the genres. Similar to the last point, the average revenue is calculated for each genre and used for comparison."
   ]
  },
  {
   "cell_type": "code",
   "execution_count": 92,
   "metadata": {},
   "outputs": [
    {
     "data": {
      "text/html": [
       "<div>\n",
       "<style scoped>\n",
       "    .dataframe tbody tr th:only-of-type {\n",
       "        vertical-align: middle;\n",
       "    }\n",
       "\n",
       "    .dataframe tbody tr th {\n",
       "        vertical-align: top;\n",
       "    }\n",
       "\n",
       "    .dataframe thead th {\n",
       "        text-align: right;\n",
       "    }\n",
       "</style>\n",
       "<table border=\"1\" class=\"dataframe\">\n",
       "  <thead>\n",
       "    <tr style=\"text-align: right;\">\n",
       "      <th></th>\n",
       "      <th>total_sales</th>\n",
       "      <th>Count</th>\n",
       "      <th>average_sales</th>\n",
       "    </tr>\n",
       "    <tr>\n",
       "      <th>genre</th>\n",
       "      <th></th>\n",
       "      <th></th>\n",
       "      <th></th>\n",
       "    </tr>\n",
       "  </thead>\n",
       "  <tbody>\n",
       "    <tr>\n",
       "      <td>Puzzle</td>\n",
       "      <td>20.60</td>\n",
       "      <td>114</td>\n",
       "      <td>0.180702</td>\n",
       "    </tr>\n",
       "    <tr>\n",
       "      <td>Strategy</td>\n",
       "      <td>35.84</td>\n",
       "      <td>170</td>\n",
       "      <td>0.210824</td>\n",
       "    </tr>\n",
       "    <tr>\n",
       "      <td>Adventure</td>\n",
       "      <td>61.00</td>\n",
       "      <td>563</td>\n",
       "      <td>0.108348</td>\n",
       "    </tr>\n",
       "    <tr>\n",
       "      <td>Simulation</td>\n",
       "      <td>71.75</td>\n",
       "      <td>217</td>\n",
       "      <td>0.330645</td>\n",
       "    </tr>\n",
       "    <tr>\n",
       "      <td>Fighting</td>\n",
       "      <td>81.59</td>\n",
       "      <td>199</td>\n",
       "      <td>0.410000</td>\n",
       "    </tr>\n",
       "    <tr>\n",
       "      <td>Platform</td>\n",
       "      <td>119.72</td>\n",
       "      <td>153</td>\n",
       "      <td>0.782484</td>\n",
       "    </tr>\n",
       "    <tr>\n",
       "      <td>Racing</td>\n",
       "      <td>122.68</td>\n",
       "      <td>237</td>\n",
       "      <td>0.517637</td>\n",
       "    </tr>\n",
       "    <tr>\n",
       "      <td>Misc</td>\n",
       "      <td>234.56</td>\n",
       "      <td>576</td>\n",
       "      <td>0.407222</td>\n",
       "    </tr>\n",
       "    <tr>\n",
       "      <td>Role-Playing</td>\n",
       "      <td>315.28</td>\n",
       "      <td>568</td>\n",
       "      <td>0.555070</td>\n",
       "    </tr>\n",
       "    <tr>\n",
       "      <td>Sports</td>\n",
       "      <td>328.39</td>\n",
       "      <td>575</td>\n",
       "      <td>0.571113</td>\n",
       "    </tr>\n",
       "    <tr>\n",
       "      <td>Shooter</td>\n",
       "      <td>479.74</td>\n",
       "      <td>410</td>\n",
       "      <td>1.170098</td>\n",
       "    </tr>\n",
       "    <tr>\n",
       "      <td>Action</td>\n",
       "      <td>673.09</td>\n",
       "      <td>1495</td>\n",
       "      <td>0.450227</td>\n",
       "    </tr>\n",
       "  </tbody>\n",
       "</table>\n",
       "</div>"
      ],
      "text/plain": [
       "              total_sales  Count  average_sales\n",
       "genre                                          \n",
       "Puzzle              20.60    114       0.180702\n",
       "Strategy            35.84    170       0.210824\n",
       "Adventure           61.00    563       0.108348\n",
       "Simulation          71.75    217       0.330645\n",
       "Fighting            81.59    199       0.410000\n",
       "Platform           119.72    153       0.782484\n",
       "Racing             122.68    237       0.517637\n",
       "Misc               234.56    576       0.407222\n",
       "Role-Playing       315.28    568       0.555070\n",
       "Sports             328.39    575       0.571113\n",
       "Shooter            479.74    410       1.170098\n",
       "Action             673.09   1495       0.450227"
      ]
     },
     "execution_count": 92,
     "metadata": {},
     "output_type": "execute_result"
    }
   ],
   "source": [
    "genre = df[[\"genre\", \"total_sales\"]].groupby([\"genre\"]).sum().sort_values(by=\"total_sales\", ascending=True)\n",
    "\n",
    "genre[\"Count\"] = df[[\"genre\", \"total_sales\"]].groupby([\"genre\"]).count()\n",
    "\n",
    "genre[\"average_sales\"] = genre[\"total_sales\"] / genre[\"Count\"]\n",
    "\n",
    "genre"
   ]
  },
  {
   "cell_type": "code",
   "execution_count": 94,
   "metadata": {},
   "outputs": [
    {
     "data": {
      "image/png": "[encoded data removed]",
      "text/plain": [
       "<Figure size 1008x720 with 1 Axes>"
      ]
     },
     "metadata": {
      "needs_background": "light"
     },
     "output_type": "display_data"
    }
   ],
   "source": [
    "genre[\"average_difference\"]= ((genre[\"average_sales\"]-genre[\"average_sales\"].mean()) / genre[\"average_sales\"].mean())\n",
    "genre[\"colors\"]=[\"red\" if x<0 else \"green\" for x in genre[\"average_difference\"]]\n",
    "genre = genre.sort_values(\"average_difference\")\n",
    "\n",
    "plt.figure(figsize=(14,10))\n",
    "plt.hlines(y=genre.index, xmax=genre.average_difference, xmin=0, color=genre.colors, alpha=0.4, linewidth=10)\n",
    "plt.show()"
   ]
  },
  {
   "cell_type": "markdown",
   "metadata": {},
   "source": [
    "The graph above shows, that games with from the \"Shooter\"- genre are sold most. Shooter games sell 150% better than the avereage. Adventure games seem to be less attractive and sell 75% worse than the average."
   ]
  },
  {
   "cell_type": "markdown",
   "metadata": {},
   "source": [
    "<div class=\"alert alert-success\">\n",
    "\n",
    "**Reviewer's comment:** Well done, I like your informative graphs and analysis.\n",
    "</div>"
   ]
  },
  {
   "cell_type": "markdown",
   "metadata": {},
   "source": [
    "## Creating a user profile for each region"
   ]
  },
  {
   "cell_type": "markdown",
   "metadata": {},
   "source": [
    "In the following, a user profile is created for each region, determining the most popular platform, the most popular genre and the dependency on the ESRB rating. For each of the regions considered (NA, EU and JP), a filtered dataset is used, containing only the games that have generated more than 0 USD in revenue in the respective region."
   ]
  },
  {
   "cell_type": "markdown",
   "metadata": {},
   "source": [
    "### NA"
   ]
  },
  {
   "cell_type": "code",
   "execution_count": 95,
   "metadata": {},
   "outputs": [],
   "source": [
    "df_NA=df.loc[df[\"na_sales\"]>0]"
   ]
  },
  {
   "cell_type": "markdown",
   "metadata": {},
   "source": [
    "#### Top 5 platforms NA"
   ]
  },
  {
   "cell_type": "code",
   "execution_count": 96,
   "metadata": {},
   "outputs": [
    {
     "data": {
      "image/png": "[encoded data removed]",
      "text/plain": [
       "<Figure size 1080x648 with 1 Axes>"
      ]
     },
     "metadata": {
      "needs_background": "light"
     },
     "output_type": "display_data"
    }
   ],
   "source": [
    "df_tree=df_NA[[\"platform\", \"na_sales\"]].groupby(\"platform\").sum().sort_values(by=\"na_sales\").reset_index()\n",
    "sizes=df_tree.na_sales.values\n",
    "labels=df_tree.apply(lambda x: str(x[0])+\"\\n\"+\"$\"+str(round(x[1])),axis=1)\n",
    "labels\n",
    "\n",
    "plt.figure(figsize=(15,9))\n",
    "squarify.plot(sizes=sizes, label = labels)\n",
    "plt.show()"
   ]
  },
  {
   "cell_type": "markdown",
   "metadata": {},
   "source": [
    "The X360 has the highest sales in NA (334 million USD)."
   ]
  },
  {
   "cell_type": "markdown",
   "metadata": {},
   "source": [
    "#### Top 5 genres NA"
   ]
  },
  {
   "cell_type": "code",
   "execution_count": 97,
   "metadata": {},
   "outputs": [
    {
     "data": {
      "image/png": "[encoded data removed]",
      "text/plain": [
       "<Figure size 1008x720 with 1 Axes>"
      ]
     },
     "metadata": {
      "needs_background": "light"
     },
     "output_type": "display_data"
    }
   ],
   "source": [
    "genre_NA = df_NA[[\"genre\", \"na_sales\"]].groupby([\"genre\"]).sum().sort_values(by=\"na_sales\", ascending=True)\n",
    "\n",
    "genre_NA[\"Count\"] = df_NA[[\"genre\", \"na_sales\"]].groupby([\"genre\"]).count()\n",
    "\n",
    "genre_NA[\"average_sales\"] = genre_NA[\"na_sales\"] / genre_NA[\"Count\"]\n",
    "\n",
    "genre_NA[\"average_difference\"]= ((genre_NA[\"average_sales\"]-genre_NA[\"average_sales\"].mean()) / genre_NA[\"average_sales\"].mean())\n",
    "genre_NA[\"colors\"]=[\"red\" if x<0 else \"green\" for x in genre_NA[\"average_difference\"]]\n",
    "genre_NA = genre_NA.sort_values(\"average_difference\")\n",
    "\n",
    "plt.figure(figsize=(14,10))\n",
    "plt.hlines(y=genre_NA.index, xmax=genre_NA.average_difference, xmin=0, color=genre_NA.colors, alpha=0.4, linewidth=10)\n",
    "plt.show()"
   ]
  },
  {
   "cell_type": "markdown",
   "metadata": {},
   "source": [
    "Games from the genre Shooter sell best in NA. Their sales are 110% higher than the average."
   ]
  },
  {
   "cell_type": "markdown",
   "metadata": {},
   "source": [
    "#### Dependency of ESRB ratings NA"
   ]
  },
  {
   "cell_type": "code",
   "execution_count": 118,
   "metadata": {},
   "outputs": [
    {
     "data": {
      "image/png": "[encoded data removed]",
      "text/plain": [
       "<Figure size 1008x720 with 1 Axes>"
      ]
     },
     "metadata": {
      "needs_background": "light"
     },
     "output_type": "display_data"
    },
    {
     "ename": "AttributeError",
     "evalue": "'LineCollection' object has no attribute 'xlabel'",
     "output_type": "error",
     "traceback": [
      "\u001b[0;31m---------------------------------------------------------------------------\u001b[0m",
      "\u001b[0;31mAttributeError\u001b[0m                            Traceback (most recent call last)",
      "\u001b[0;32m<ipython-input-118-f9a7494d9ecc>\u001b[0m in \u001b[0;36m<module>\u001b[0;34m\u001b[0m\n\u001b[1;32m     13\u001b[0m \u001b[0mplt\u001b[0m\u001b[0;34m.\u001b[0m\u001b[0mshow\u001b[0m\u001b[0;34m(\u001b[0m\u001b[0;34m)\u001b[0m\u001b[0;34m\u001b[0m\u001b[0;34m\u001b[0m\u001b[0m\n\u001b[1;32m     14\u001b[0m \u001b[0;34m\u001b[0m\u001b[0m\n\u001b[0;32m---> 15\u001b[0;31m \u001b[0mpl\u001b[0m\u001b[0;34m.\u001b[0m\u001b[0mxlabel\u001b[0m\u001b[0;34m(\u001b[0m\u001b[0;34m\"fg\"\u001b[0m\u001b[0;34m)\u001b[0m\u001b[0;34m\u001b[0m\u001b[0;34m\u001b[0m\u001b[0m\n\u001b[0m",
      "\u001b[0;31mAttributeError\u001b[0m: 'LineCollection' object has no attribute 'xlabel'"
     ]
    }
   ],
   "source": [
    "rating_NA = df_NA.loc[~df_NA[\"rating\"].isna()][[\"rating\", \"na_sales\"]].groupby([\"rating\"]).sum().sort_values(by=\"na_sales\", ascending=True)\n",
    "\n",
    "rating_NA[\"Count\"] = df_NA[[\"rating\", \"na_sales\"]].groupby([\"rating\"]).count()\n",
    "\n",
    "rating_NA[\"average_sales\"] = rating_NA[\"na_sales\"] / rating_NA[\"Count\"]\n",
    "\n",
    "rating_NA[\"average_difference\"]= ((rating_NA[\"average_sales\"]-rating_NA[\"average_sales\"].mean()) / rating_NA[\"average_sales\"].mean())\n",
    "rating_NA[\"colors\"]=[\"red\" if x<0 else \"green\" for x in rating_NA[\"average_difference\"]]\n",
    "rating_NA = rating_NA.sort_values(\"average_difference\")\n",
    "\n",
    "plt.figure(figsize=(14,10))\n",
    "plt.hlines(y=rating_NA.index, xmax=rating_NA.average_difference, xmin=0, color=rating_NA.colors, alpha=0.4, linewidth=10)\n",
    "plt.show()\n",
    "\n"
   ]
  },
  {
   "cell_type": "markdown",
   "metadata": {},
   "source": [
    "In NA games with the ESRB- rating \"M\" (Mature) have 80% higher sales than the average."
   ]
  },
  {
   "cell_type": "markdown",
   "metadata": {},
   "source": [
    "### EU"
   ]
  },
  {
   "cell_type": "code",
   "execution_count": 99,
   "metadata": {},
   "outputs": [],
   "source": [
    "df_EU=df.loc[df[\"eu_sales\"]>0]"
   ]
  },
  {
   "cell_type": "markdown",
   "metadata": {},
   "source": [
    "#### Top 5 platforms EU"
   ]
  },
  {
   "cell_type": "code",
   "execution_count": 100,
   "metadata": {},
   "outputs": [
    {
     "data": {
      "image/png": "[encoded data removed]",
      "text/plain": [
       "<Figure size 1080x648 with 1 Axes>"
      ]
     },
     "metadata": {
      "needs_background": "light"
     },
     "output_type": "display_data"
    }
   ],
   "source": [
    "df_tree=df_EU[[\"platform\", \"eu_sales\"]].groupby(\"platform\").sum().sort_values(by=\"eu_sales\").reset_index()\n",
    "sizes=df_tree.eu_sales.values\n",
    "labels=df_tree.apply(lambda x: str(x[0])+\"\\n\"+\"$\"+str(round(x[1])),axis=1)\n",
    "labels\n",
    "\n",
    "plt.figure(figsize=(15,9))\n",
    "squarify.plot(sizes=sizes, label = labels)\n",
    "plt.show()"
   ]
  },
  {
   "cell_type": "markdown",
   "metadata": {},
   "source": [
    "The PS3 has the highest sales in EU (214 million USD)."
   ]
  },
  {
   "cell_type": "markdown",
   "metadata": {},
   "source": [
    "#### Top 5 genres"
   ]
  },
  {
   "cell_type": "code",
   "execution_count": 101,
   "metadata": {},
   "outputs": [
    {
     "data": {
      "image/png": "[encoded data removed]",
      "text/plain": [
       "<Figure size 1008x720 with 1 Axes>"
      ]
     },
     "metadata": {
      "needs_background": "light"
     },
     "output_type": "display_data"
    }
   ],
   "source": [
    "genre_EU = df_EU[[\"genre\", \"eu_sales\"]].groupby([\"genre\"]).sum().sort_values(by=\"eu_sales\", ascending=True)\n",
    "\n",
    "genre_EU[\"Count\"] = df_EU[[\"genre\", \"eu_sales\"]].groupby([\"genre\"]).count()\n",
    "\n",
    "genre_EU[\"average_sales\"] = genre_EU[\"eu_sales\"] / genre_EU[\"Count\"]\n",
    "\n",
    "genre_EU[\"average_difference\"]= ((genre_EU[\"average_sales\"]-genre_EU[\"average_sales\"].mean()) / genre_EU[\"average_sales\"].mean())\n",
    "genre_EU[\"colors\"]=[\"red\" if x<0 else \"green\" for x in genre_EU[\"average_difference\"]]\n",
    "genre_EU = genre_EU.sort_values(\"average_difference\")\n",
    "\n",
    "plt.figure(figsize=(14,10))\n",
    "plt.hlines(y=genre_EU.index, xmax=genre_EU.average_difference, xmin=0, color=genre_EU.colors, alpha=0.4, linewidth=10)\n",
    "plt.show()"
   ]
  },
  {
   "cell_type": "markdown",
   "metadata": {},
   "source": [
    "Games from the genre Shooter also sell best in EU. Their sales are also 110% higher than the average."
   ]
  },
  {
   "cell_type": "markdown",
   "metadata": {},
   "source": [
    "#### Dependency of ESRB ratings EU"
   ]
  },
  {
   "cell_type": "code",
   "execution_count": 102,
   "metadata": {},
   "outputs": [
    {
     "data": {
      "image/png": "[encoded data removed]",
      "text/plain": [
       "<Figure size 1008x720 with 1 Axes>"
      ]
     },
     "metadata": {
      "needs_background": "light"
     },
     "output_type": "display_data"
    }
   ],
   "source": [
    "rating_EU = df_EU.loc[~df_EU[\"rating\"].isna()][[\"rating\", \"eu_sales\"]].groupby([\"rating\"]).sum().sort_values(by=\"eu_sales\", ascending=True)\n",
    "\n",
    "rating_EU[\"Count\"] = df_EU[[\"rating\", \"eu_sales\"]].groupby([\"rating\"]).count()\n",
    "\n",
    "rating_EU[\"average_sales\"] = rating_EU[\"eu_sales\"] / rating_EU[\"Count\"]\n",
    "\n",
    "rating_EU[\"average_difference\"]= ((rating_EU[\"average_sales\"]-rating_EU[\"average_sales\"].mean()) / rating_EU[\"average_sales\"].mean())\n",
    "rating_EU[\"colors\"]=[\"red\" if x<0 else \"green\" for x in rating_EU[\"average_difference\"]]\n",
    "rating_EU = rating_EU.sort_values(\"average_difference\")\n",
    "\n",
    "plt.figure(figsize=(14,10))\n",
    "plt.hlines(y=rating_EU.index, xmax=rating_EU.average_difference, xmin=0, color=rating_EU.colors, alpha=0.4, linewidth=10)\n",
    "plt.show()"
   ]
  },
  {
   "cell_type": "markdown",
   "metadata": {},
   "source": [
    "In EU games with the ESRB- rating \"M\" (Mature) have 100% higher sales than the average."
   ]
  },
  {
   "cell_type": "markdown",
   "metadata": {},
   "source": [
    "### JP"
   ]
  },
  {
   "cell_type": "code",
   "execution_count": 103,
   "metadata": {},
   "outputs": [],
   "source": [
    "df_JP=df.loc[df[\"jp_sales\"]>0]"
   ]
  },
  {
   "cell_type": "markdown",
   "metadata": {},
   "source": [
    "#### Top 5 platforms JP"
   ]
  },
  {
   "cell_type": "code",
   "execution_count": 104,
   "metadata": {},
   "outputs": [
    {
     "data": {
      "image/png": "[encoded data removed]",
      "text/plain": [
       "<Figure size 1080x648 with 1 Axes>"
      ]
     },
     "metadata": {
      "needs_background": "light"
     },
     "output_type": "display_data"
    }
   ],
   "source": [
    "df_tree=df_JP[[\"platform\", \"jp_sales\"]].groupby(\"platform\").sum().sort_values(by=\"jp_sales\").reset_index()\n",
    "sizes=df_tree.jp_sales.values\n",
    "labels=df_tree.apply(lambda x: str(x[0])+\"\\n\"+\"$\"+str(round(x[1])),axis=1)\n",
    "labels\n",
    "\n",
    "plt.figure(figsize=(15,9))\n",
    "squarify.plot(sizes=sizes, label = labels)\n",
    "plt.show()"
   ]
  },
  {
   "cell_type": "markdown",
   "metadata": {},
   "source": [
    "The DS has the highest sales in JP (101 million USD)."
   ]
  },
  {
   "cell_type": "markdown",
   "metadata": {},
   "source": [
    "#### Top 5 genres JP"
   ]
  },
  {
   "cell_type": "code",
   "execution_count": 105,
   "metadata": {},
   "outputs": [
    {
     "data": {
      "image/png": "[encoded data removed]",
      "text/plain": [
       "<Figure size 1008x720 with 1 Axes>"
      ]
     },
     "metadata": {
      "needs_background": "light"
     },
     "output_type": "display_data"
    }
   ],
   "source": [
    "genre_JP = df_JP[[\"genre\", \"jp_sales\"]].groupby([\"genre\"]).sum().sort_values(by=\"jp_sales\", ascending=True)\n",
    "\n",
    "genre_JP[\"Count\"] = df_JP[[\"genre\", \"jp_sales\"]].groupby([\"genre\"]).count()\n",
    "\n",
    "genre_JP[\"average_sales\"] = genre_JP[\"jp_sales\"] / genre_JP[\"Count\"]\n",
    "\n",
    "genre_JP[\"average_difference\"]= ((genre_EU[\"average_sales\"]-genre_JP[\"average_sales\"].mean()) / genre_JP[\"average_sales\"].mean())\n",
    "genre_JP[\"colors\"]=[\"red\" if x<0 else \"green\" for x in genre_JP[\"average_difference\"]]\n",
    "genre_JP = genre_JP.sort_values(\"average_difference\")\n",
    "\n",
    "plt.figure(figsize=(14,10))\n",
    "plt.hlines(y=genre_JP.index, xmax=genre_JP.average_difference, xmin=0, color=genre_JP.colors, alpha=0.4, linewidth=10)\n",
    "plt.show()"
   ]
  },
  {
   "cell_type": "markdown",
   "metadata": {},
   "source": [
    "Also in JP Shooter- games have the highest sales. They sell 250% better than the average."
   ]
  },
  {
   "cell_type": "markdown",
   "metadata": {},
   "source": [
    "#### Dependency of ESRB ratings JP"
   ]
  },
  {
   "cell_type": "code",
   "execution_count": 106,
   "metadata": {},
   "outputs": [
    {
     "data": {
      "image/png": "[encoded data removed]",
      "text/plain": [
       "<Figure size 1008x720 with 1 Axes>"
      ]
     },
     "metadata": {
      "needs_background": "light"
     },
     "output_type": "display_data"
    }
   ],
   "source": [
    "rating_JP = df_JP.loc[~df_JP[\"rating\"].isna()][[\"rating\", \"jp_sales\"]].groupby([\"rating\"]).sum().sort_values(by=\"jp_sales\", ascending=True)\n",
    "\n",
    "rating_JP[\"Count\"] = df_JP[[\"rating\", \"jp_sales\"]].groupby([\"rating\"]).count()\n",
    "\n",
    "rating_JP[\"average_sales\"] = rating_JP[\"jp_sales\"] / rating_JP[\"Count\"]\n",
    "\n",
    "rating_JP[\"average_difference\"]= ((rating_JP[\"average_sales\"]-rating_JP[\"average_sales\"].mean()) / rating_JP[\"average_sales\"].mean())\n",
    "rating_JP[\"colors\"]=[\"red\" if x<0 else \"green\" for x in rating_JP[\"average_difference\"]]\n",
    "rating_JP = rating_JP.sort_values(\"average_difference\")\n",
    "\n",
    "plt.figure(figsize=(14,10))\n",
    "plt.hlines(y=rating_JP.index, xmax=rating_JP.average_difference, xmin=0, color=rating_JP.colors, alpha=0.4, linewidth=10)\n",
    "plt.show()"
   ]
  },
  {
   "cell_type": "markdown",
   "metadata": {},
   "source": [
    "In JP games with the ESRB- rating \"E\" (Evryone) have 90% higher sales than the average."
   ]
  },
  {
   "cell_type": "markdown",
   "metadata": {},
   "source": [
    "### Conclusion"
   ]
  },
  {
   "cell_type": "markdown",
   "metadata": {},
   "source": [
    "In summary, shooter games are the most popular in all 3 regions. In terms of consoles, each region has its own favorite: In NA it is the X360, in EU it is the PS3 and in JP it is the DS. In NA and EU, games with an ESRB rating of \"M\" are the most popular, and in Japan, games with an ESRB rating of \"E\" are the most popular."
   ]
  },
  {
   "cell_type": "markdown",
   "metadata": {},
   "source": [
    "<div class=\"alert alert-success\">\n",
    "\n",
    "**Reviewer's comment:** You did it right 👍\n",
    "</div>"
   ]
  },
  {
   "cell_type": "markdown",
   "metadata": {},
   "source": [
    "## Testing of null-hypotheses"
   ]
  },
  {
   "cell_type": "markdown",
   "metadata": {},
   "source": [
    "### Nullhypothesis: average user ratings of the Xbox One and PC platforms are the same"
   ]
  },
  {
   "cell_type": "markdown",
   "metadata": {},
   "source": [
    "We have 2 statistical populations in this study: These are ratings of XBox One- games and ratings of PC- games. We want to test if the average ratings of the 2 platforms differ. Therefore we do the Equality of means hypothesis test.\n",
    "\n",
    "The Null Hypothesis is: average user ratings of the Xbox One and PC platforms are the same.\n",
    "\n",
    "The Alternative Hypothesis is: average user ratings of the Xbox One and PC platforms differ."
   ]
  },
  {
   "cell_type": "code",
   "execution_count": 107,
   "metadata": {},
   "outputs": [
    {
     "name": "stdout",
     "output_type": "stream",
     "text": [
      "User rating average - XBox One : 6.51\n",
      "User rating average - PC: 6.52\n"
     ]
    }
   ],
   "source": [
    "XBox_ratingU = df.loc[~df[\"user_score\"].isna()].loc[df[\"platform\"]==\"XOne\"][\"user_score\"]\n",
    "PC_ratingU = df.loc[~df[\"user_score\"].isna()].loc[df[\"platform\"]==\"PC\"][\"user_score\"]\n",
    "\n",
    "XBox_ratingU_average = XBox_ratingU.mean().round(2)\n",
    "PC_ratingU_average = PC_ratingU.mean().round(2)\n",
    "\n",
    "print(\"User rating average - XBox One : {}\".format(XBox_ratingU_average))\n",
    "print(\"User rating average - PC: {}\".format(PC_ratingU_average))"
   ]
  },
  {
   "cell_type": "code",
   "execution_count": 108,
   "metadata": {},
   "outputs": [
    {
     "name": "stdout",
     "output_type": "stream",
     "text": [
      "p-value:  0.9426234697304985\n",
      "We can't reject the null hypothesis\n"
     ]
    }
   ],
   "source": [
    "results = st.ttest_ind(XBox_ratingU, PC_ratingU)\n",
    "\n",
    "alpha = .05\n",
    "\n",
    "print('p-value: ', results.pvalue)\n",
    "\n",
    "if (results.pvalue < alpha):\n",
    "        print(\"We reject the null hypothesis\")\n",
    "else:\n",
    "        print(\"We can't reject the null hypothesis\") "
   ]
  },
  {
   "cell_type": "markdown",
   "metadata": {},
   "source": [
    "In this study, the p- value is very high and shows that it is significant that the game ratings of the 2 platforms are the same. In our data set the average rating of XBox One- games is 6.51 and the average rating of PC- games is 6.52."
   ]
  },
  {
   "cell_type": "markdown",
   "metadata": {},
   "source": [
    "### Nullhypothesis: average user ratings for the Action and Sports genres are the same"
   ]
  },
  {
   "cell_type": "markdown",
   "metadata": {},
   "source": [
    "We have 2 statistical populations in this study: These are ratings of Action- games and ratings of Sports- games. We want to test if the average ratings of the 2 game- genres differ. Therefore we also do the Equality of means hypothesis test.\n",
    "\n",
    "The Null Hypothesis is: average user ratings for the Action and Sports genres are the same.\n",
    "\n",
    "The Alternative Hypothesis is: average user ratings for the Action and Sports genres differ."
   ]
  },
  {
   "cell_type": "code",
   "execution_count": 109,
   "metadata": {},
   "outputs": [
    {
     "data": {
      "text/plain": [
       "Action          1495\n",
       "Misc             576\n",
       "Sports           575\n",
       "Role-Playing     568\n",
       "Adventure        563\n",
       "Shooter          410\n",
       "Racing           237\n",
       "Simulation       217\n",
       "Fighting         199\n",
       "Strategy         170\n",
       "Platform         153\n",
       "Puzzle           114\n",
       "Name: genre, dtype: int64"
      ]
     },
     "execution_count": 109,
     "metadata": {},
     "output_type": "execute_result"
    }
   ],
   "source": [
    "df.genre.value_counts()"
   ]
  },
  {
   "cell_type": "code",
   "execution_count": 110,
   "metadata": {},
   "outputs": [
    {
     "name": "stdout",
     "output_type": "stream",
     "text": [
      "User rating average - Action : 6.72\n",
      "User rating average - Sports: 5.86\n"
     ]
    }
   ],
   "source": [
    "action_ratingU = df.loc[~df[\"user_score\"].isna()].loc[df[\"genre\"]==\"Action\"][\"user_score\"]\n",
    "sports_ratingU = df.loc[~df[\"user_score\"].isna()].loc[df[\"genre\"]==\"Sports\"][\"user_score\"]\n",
    "\n",
    "action_ratingU_average = action_ratingU.mean().round(2)\n",
    "sports_ratingU_average = sports_ratingU.mean().round(2)\n",
    "\n",
    "print(\"User rating average - Action : {}\".format(action_ratingU_average))\n",
    "print(\"User rating average - Sports: {}\".format(sports_ratingU_average))"
   ]
  },
  {
   "cell_type": "code",
   "execution_count": 111,
   "metadata": {},
   "outputs": [
    {
     "name": "stdout",
     "output_type": "stream",
     "text": [
      "p-value:  2.8567683685832565e-19\n",
      "We reject the null hypothesis\n"
     ]
    }
   ],
   "source": [
    "results = st.ttest_ind(action_ratingU, sports_ratingU)\n",
    "\n",
    "alpha = .05\n",
    "\n",
    "print('p-value: ', results.pvalue)\n",
    "\n",
    "if (results.pvalue < alpha):\n",
    "        print(\"We reject the null hypothesis\")\n",
    "else:\n",
    "        print(\"We can't reject the null hypothesis\") "
   ]
  },
  {
   "cell_type": "markdown",
   "metadata": {},
   "source": [
    "In this study, the p- value is very low and shows that it is significant that the game ratings of the 2 genres are not the same. In our data set the average rating of action- games is 6.72 and the average rating of sports- games is 5.86."
   ]
  },
  {
   "cell_type": "markdown",
   "metadata": {},
   "source": [
    "<div class=\"alert alert-success\">\n",
    "\n",
    "**Reviewer's comment:** It's clear that you know how to use all needed tools for this task.\n",
    "</div>"
   ]
  },
  {
   "cell_type": "markdown",
   "metadata": {},
   "source": [
    "## General Conclusion"
   ]
  },
  {
   "cell_type": "markdown",
   "metadata": {},
   "source": [
    "The results of the study of the data set can be summarized as follows:\n",
    "Video game sales have had their ups and downs. By 2008 or so, total sales increased to about 1466 million USD and decreased to 502 million USD by 2017. Throughout that time, the PS2, X360, and PS3 platforms remain the record holders with total sales of 1256 USD, 971 USD, and 940 USD, respectively. Over the last decade, the PS3, X30 and PS4 consoles have been the most successful platforms.\n",
    "Surprisingly, the correlation of professional and user ratings with game sales was relatively weak (0.27-0.32), although it should be noted again that very many values of the User_rating and Critic_rating columns are missing and the results are not very meaningful in this regard.\n",
    "If we look at the sales of the platforms for the same games, we see that PS3, X360 and PS4 also perform particularly well. So when comparing the platforms, these are particularly successful.\n",
    "The 3 best genres are, in order, Shooter, platform and Sports.\n",
    "Everything mentioned so far applies to the regions NA, EU and JP combined. If you look at the regions individually, certain differences become apparent. The shooter genre is the most popular in all 3 regions, although this is especially true for Japan. In NA and Eu, games with an ESRB rating of \"M\" are the most successful, and in Japan, games with an ESRB rating of \"E\". In terms of platforms, each region has its own favorite. In NA it is the X360, in EU the PS3 and in JP the DS. It is interesting that in NA and EU a home console and in JP a mobile console is the most popular plaform.\n",
    "Furthermore, 2 null hypotheses were investigated. Firstly, it was found that the ratings of PC and XBox One games are the same and secondly, that the popularity of action and sports games differs."
   ]
  },
  {
   "cell_type": "markdown",
   "metadata": {},
   "source": [
    "<div class=\"alert alert-success\">\n",
    "\n",
    "**Reviewer's comment:** Agree with you conclusion 👏 \n",
    "</div>"
   ]
  },
  {
   "cell_type": "code",
   "execution_count": null,
   "metadata": {},
   "outputs": [],
   "source": []
  }
 ],
 "metadata": {
  "kernelspec": {
   "display_name": "Python 3 (ipykernel)",
   "language": "python",
   "name": "python3"
  },
  "language_info": {
   "codemirror_mode": {
    "name": "ipython",
    "version": 3
   },
   "file_extension": ".py",
   "mimetype": "text/x-python",
   "name": "python",
   "nbconvert_exporter": "python",
   "pygments_lexer": "ipython3",
   "version": "3.9.5"
  },
  "toc": {
   "base_numbering": 1,
   "nav_menu": {},
   "number_sections": true,
   "sideBar": true,
   "skip_h1_title": true,
   "title_cell": "Table of Contents",
   "title_sidebar": "Contents",
   "toc_cell": false,
   "toc_position": {
    "height": "calc(100% - 180px)",
    "left": "10px",
    "top": "150px",
    "width": "446.438px"
   },
   "toc_section_display": true,
   "toc_window_display": false
  }
 },
 "nbformat": 4,
 "nbformat_minor": 2
}
