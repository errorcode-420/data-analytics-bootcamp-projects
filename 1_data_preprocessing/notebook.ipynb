{
 "cells": [
  {
   "cell_type": "markdown",
   "metadata": {},
   "source": [
    "Hi Ferdinand. I'm Svetlana and will review your project. I've added all my comments to new cells with different coloring. Please don't delete my comments.\n",
    "\n",
    "\n",
    "The first time I see a mistake, I'll just point it out and let you find it and fix it yourself. In a real job, your boss will do the same, and I'm trying to prepare you to work as an Data Analyst. But if you can't handle this task yet, I'll give you a more accurate hint at the next check.\n",
    "\n",
    "<div class=\"alert alert-success\" role=\"alert\">\n",
    "Reviewer's comment v. 1:\n",
    "    \n",
    "If you did something great I'm using green color for my comment\n",
    "</div>\n",
    "\n",
    "<div class=\"alert alert-warning\" role=\"alert\">\n",
    "Reviewer's comment v. 1:\n",
    "    \n",
    "If I want to give you advice or think that something can be improved, then I'll use yellow. This is an optional recommendation.\n",
    "</div>\n",
    "\n",
    "<div class=\"alert alert-danger\" role=\"alert\">\n",
    "Reviewer's comment v. 1:\n",
    "    \n",
    "If the topic requires some extra work so I can accept it then the color will be red\n",
    "</div>\n",
    "\n",
    "## Review\n",
    "\n",
    "Your project looks pretty good! Glad to say that your project has been accepted. I'm impressed with the syntax, code formatting and detailed data analysis in your project. There are some comments for further improvement. They don't mean that you did anything wrong, but they're things we wanted to point out that can help you further develop your skills. Good luck on the next sprint!"
   ]
  },
  {
   "cell_type": "markdown",
   "metadata": {},
   "source": [
    "## Analyzing borrowers’ risk of defaulting\n",
    "\n",
    "Your project is to prepare a report for a bank’s loan division. You’ll need to find out if a customer’s marital status and number of children has an impact on whether they will default on a loan. The bank already has some data on customers’ credit worthiness.\n",
    "\n",
    "Your report will be considered when building a **credit scoring** of a potential customer. A ** credit scoring ** is used to evaluate the ability of a potential borrower to repay their loan."
   ]
  },
  {
   "cell_type": "markdown",
   "metadata": {},
   "source": [
    "<div class=\"alert alert-warning\" role=\"alert\">\n",
    "Reviewer's comment v. 1:\n",
    "    \n",
    "It’s great that you described the project, but it will be nice to add a table of contents with links.\n",
    "    \n",
    "Please see for details: https://www.markdowntutorial.com/\n",
    "</div>"
   ]
  },
  {
   "cell_type": "markdown",
   "metadata": {},
   "source": [
    "### Step 1. Open the data file and have a look at the general information. "
   ]
  },
  {
   "cell_type": "markdown",
   "metadata": {},
   "source": [
    "After reading in the data, I will look at the occurring values from each column using the value_counts() function. This way I will find missing values, wrong values and duplicates."
   ]
  },
  {
   "cell_type": "code",
   "execution_count": 1,
   "metadata": {},
   "outputs": [
    {
     "name": "stdout",
     "output_type": "stream",
     "text": [
      "<class 'pandas.core.frame.DataFrame'>\n",
      "RangeIndex: 21525 entries, 0 to 21524\n",
      "Data columns (total 12 columns):\n",
      "children            21525 non-null int64\n",
      "days_employed       19351 non-null float64\n",
      "dob_years           21525 non-null int64\n",
      "education           21525 non-null object\n",
      "education_id        21525 non-null int64\n",
      "family_status       21525 non-null object\n",
      "family_status_id    21525 non-null int64\n",
      "gender              21525 non-null object\n",
      "income_type         21525 non-null object\n",
      "debt                21525 non-null int64\n",
      "total_income        19351 non-null float64\n",
      "purpose             21525 non-null object\n",
      "dtypes: float64(2), int64(5), object(5)\n",
      "memory usage: 2.0+ MB\n"
     ]
    },
    {
     "data": {
      "text/html": [
       "<div>\n",
       "<style scoped>\n",
       "    .dataframe tbody tr th:only-of-type {\n",
       "        vertical-align: middle;\n",
       "    }\n",
       "\n",
       "    .dataframe tbody tr th {\n",
       "        vertical-align: top;\n",
       "    }\n",
       "\n",
       "    .dataframe thead th {\n",
       "        text-align: right;\n",
       "    }\n",
       "</style>\n",
       "<table border=\"1\" class=\"dataframe\">\n",
       "  <thead>\n",
       "    <tr style=\"text-align: right;\">\n",
       "      <th></th>\n",
       "      <th>children</th>\n",
       "      <th>days_employed</th>\n",
       "      <th>dob_years</th>\n",
       "      <th>education</th>\n",
       "      <th>education_id</th>\n",
       "      <th>family_status</th>\n",
       "      <th>family_status_id</th>\n",
       "      <th>gender</th>\n",
       "      <th>income_type</th>\n",
       "      <th>debt</th>\n",
       "      <th>total_income</th>\n",
       "      <th>purpose</th>\n",
       "    </tr>\n",
       "  </thead>\n",
       "  <tbody>\n",
       "    <tr>\n",
       "      <td>0</td>\n",
       "      <td>1</td>\n",
       "      <td>-8437.673028</td>\n",
       "      <td>42</td>\n",
       "      <td>bachelor's degree</td>\n",
       "      <td>0</td>\n",
       "      <td>married</td>\n",
       "      <td>0</td>\n",
       "      <td>F</td>\n",
       "      <td>employee</td>\n",
       "      <td>0</td>\n",
       "      <td>40620.102</td>\n",
       "      <td>purchase of the house</td>\n",
       "    </tr>\n",
       "    <tr>\n",
       "      <td>1</td>\n",
       "      <td>1</td>\n",
       "      <td>-4024.803754</td>\n",
       "      <td>36</td>\n",
       "      <td>secondary education</td>\n",
       "      <td>1</td>\n",
       "      <td>married</td>\n",
       "      <td>0</td>\n",
       "      <td>F</td>\n",
       "      <td>employee</td>\n",
       "      <td>0</td>\n",
       "      <td>17932.802</td>\n",
       "      <td>car purchase</td>\n",
       "    </tr>\n",
       "    <tr>\n",
       "      <td>2</td>\n",
       "      <td>0</td>\n",
       "      <td>-5623.422610</td>\n",
       "      <td>33</td>\n",
       "      <td>Secondary Education</td>\n",
       "      <td>1</td>\n",
       "      <td>married</td>\n",
       "      <td>0</td>\n",
       "      <td>M</td>\n",
       "      <td>employee</td>\n",
       "      <td>0</td>\n",
       "      <td>23341.752</td>\n",
       "      <td>purchase of the house</td>\n",
       "    </tr>\n",
       "    <tr>\n",
       "      <td>3</td>\n",
       "      <td>3</td>\n",
       "      <td>-4124.747207</td>\n",
       "      <td>32</td>\n",
       "      <td>secondary education</td>\n",
       "      <td>1</td>\n",
       "      <td>married</td>\n",
       "      <td>0</td>\n",
       "      <td>M</td>\n",
       "      <td>employee</td>\n",
       "      <td>0</td>\n",
       "      <td>42820.568</td>\n",
       "      <td>supplementary education</td>\n",
       "    </tr>\n",
       "    <tr>\n",
       "      <td>4</td>\n",
       "      <td>0</td>\n",
       "      <td>340266.072047</td>\n",
       "      <td>53</td>\n",
       "      <td>secondary education</td>\n",
       "      <td>1</td>\n",
       "      <td>civil partnership</td>\n",
       "      <td>1</td>\n",
       "      <td>F</td>\n",
       "      <td>retiree</td>\n",
       "      <td>0</td>\n",
       "      <td>25378.572</td>\n",
       "      <td>to have a wedding</td>\n",
       "    </tr>\n",
       "    <tr>\n",
       "      <td>...</td>\n",
       "      <td>...</td>\n",
       "      <td>...</td>\n",
       "      <td>...</td>\n",
       "      <td>...</td>\n",
       "      <td>...</td>\n",
       "      <td>...</td>\n",
       "      <td>...</td>\n",
       "      <td>...</td>\n",
       "      <td>...</td>\n",
       "      <td>...</td>\n",
       "      <td>...</td>\n",
       "      <td>...</td>\n",
       "    </tr>\n",
       "    <tr>\n",
       "      <td>21520</td>\n",
       "      <td>1</td>\n",
       "      <td>-4529.316663</td>\n",
       "      <td>43</td>\n",
       "      <td>secondary education</td>\n",
       "      <td>1</td>\n",
       "      <td>civil partnership</td>\n",
       "      <td>1</td>\n",
       "      <td>F</td>\n",
       "      <td>business</td>\n",
       "      <td>0</td>\n",
       "      <td>35966.698</td>\n",
       "      <td>housing transactions</td>\n",
       "    </tr>\n",
       "    <tr>\n",
       "      <td>21521</td>\n",
       "      <td>0</td>\n",
       "      <td>343937.404131</td>\n",
       "      <td>67</td>\n",
       "      <td>secondary education</td>\n",
       "      <td>1</td>\n",
       "      <td>married</td>\n",
       "      <td>0</td>\n",
       "      <td>F</td>\n",
       "      <td>retiree</td>\n",
       "      <td>0</td>\n",
       "      <td>24959.969</td>\n",
       "      <td>purchase of a car</td>\n",
       "    </tr>\n",
       "    <tr>\n",
       "      <td>21522</td>\n",
       "      <td>1</td>\n",
       "      <td>-2113.346888</td>\n",
       "      <td>38</td>\n",
       "      <td>secondary education</td>\n",
       "      <td>1</td>\n",
       "      <td>civil partnership</td>\n",
       "      <td>1</td>\n",
       "      <td>M</td>\n",
       "      <td>employee</td>\n",
       "      <td>1</td>\n",
       "      <td>14347.610</td>\n",
       "      <td>property</td>\n",
       "    </tr>\n",
       "    <tr>\n",
       "      <td>21523</td>\n",
       "      <td>3</td>\n",
       "      <td>-3112.481705</td>\n",
       "      <td>38</td>\n",
       "      <td>secondary education</td>\n",
       "      <td>1</td>\n",
       "      <td>married</td>\n",
       "      <td>0</td>\n",
       "      <td>M</td>\n",
       "      <td>employee</td>\n",
       "      <td>1</td>\n",
       "      <td>39054.888</td>\n",
       "      <td>buying my own car</td>\n",
       "    </tr>\n",
       "    <tr>\n",
       "      <td>21524</td>\n",
       "      <td>2</td>\n",
       "      <td>-1984.507589</td>\n",
       "      <td>40</td>\n",
       "      <td>secondary education</td>\n",
       "      <td>1</td>\n",
       "      <td>married</td>\n",
       "      <td>0</td>\n",
       "      <td>F</td>\n",
       "      <td>employee</td>\n",
       "      <td>0</td>\n",
       "      <td>13127.587</td>\n",
       "      <td>to buy a car</td>\n",
       "    </tr>\n",
       "  </tbody>\n",
       "</table>\n",
       "<p>21525 rows × 12 columns</p>\n",
       "</div>"
      ],
      "text/plain": [
       "       children  days_employed  dob_years            education  education_id  \\\n",
       "0             1   -8437.673028         42    bachelor's degree             0   \n",
       "1             1   -4024.803754         36  secondary education             1   \n",
       "2             0   -5623.422610         33  Secondary Education             1   \n",
       "3             3   -4124.747207         32  secondary education             1   \n",
       "4             0  340266.072047         53  secondary education             1   \n",
       "...         ...            ...        ...                  ...           ...   \n",
       "21520         1   -4529.316663         43  secondary education             1   \n",
       "21521         0  343937.404131         67  secondary education             1   \n",
       "21522         1   -2113.346888         38  secondary education             1   \n",
       "21523         3   -3112.481705         38  secondary education             1   \n",
       "21524         2   -1984.507589         40  secondary education             1   \n",
       "\n",
       "           family_status  family_status_id gender income_type  debt  \\\n",
       "0                married                 0      F    employee     0   \n",
       "1                married                 0      F    employee     0   \n",
       "2                married                 0      M    employee     0   \n",
       "3                married                 0      M    employee     0   \n",
       "4      civil partnership                 1      F     retiree     0   \n",
       "...                  ...               ...    ...         ...   ...   \n",
       "21520  civil partnership                 1      F    business     0   \n",
       "21521            married                 0      F     retiree     0   \n",
       "21522  civil partnership                 1      M    employee     1   \n",
       "21523            married                 0      M    employee     1   \n",
       "21524            married                 0      F    employee     0   \n",
       "\n",
       "       total_income                  purpose  \n",
       "0         40620.102    purchase of the house  \n",
       "1         17932.802             car purchase  \n",
       "2         23341.752    purchase of the house  \n",
       "3         42820.568  supplementary education  \n",
       "4         25378.572        to have a wedding  \n",
       "...             ...                      ...  \n",
       "21520     35966.698     housing transactions  \n",
       "21521     24959.969        purchase of a car  \n",
       "21522     14347.610                 property  \n",
       "21523     39054.888        buying my own car  \n",
       "21524     13127.587             to buy a car  \n",
       "\n",
       "[21525 rows x 12 columns]"
      ]
     },
     "execution_count": 1,
     "metadata": {},
     "output_type": "execute_result"
    }
   ],
   "source": [
    "import pandas as pd \n",
    "import numpy as np\n",
    "\n",
    "    \n",
    "data = pd.read_csv(\"/datasets/credit_scoring_eng.csv\")\n",
    "data.info()\n",
    "data\n"
   ]
  },
  {
   "cell_type": "markdown",
   "metadata": {},
   "source": [
    "<div class=\"alert alert-success\" role=\"alert\">\n",
    "Reviewer's comment v. 1:\n",
    "    \n",
    "Hint: Please note that you can use data.head(N) to see N first rows of the data dataframe and data.tail(N) to see last N rows of the data dataframe.\n",
    "</div>"
   ]
  },
  {
   "cell_type": "code",
   "execution_count": 2,
   "metadata": {},
   "outputs": [
    {
     "data": {
      "text/plain": [
       "-1        47\n",
       " 0     14149\n",
       " 1      4818\n",
       " 2      2055\n",
       " 3       330\n",
       " 4        41\n",
       " 5         9\n",
       " 20       76\n",
       "Name: children, dtype: int64"
      ]
     },
     "execution_count": 2,
     "metadata": {},
     "output_type": "execute_result"
    }
   ],
   "source": [
    "data[\"children\"].value_counts().sort_index()"
   ]
  },
  {
   "cell_type": "code",
   "execution_count": 3,
   "metadata": {},
   "outputs": [
    {
     "name": "stdout",
     "output_type": "stream",
     "text": [
      "count of missing values in total_income and days employed:\n",
      "--------------\n",
      "children            2174\n",
      "days_employed          0\n",
      "dob_years           2174\n",
      "education           2174\n",
      "education_id        2174\n",
      "family_status       2174\n",
      "family_status_id    2174\n",
      "gender              2174\n",
      "income_type         2174\n",
      "debt                2174\n",
      "total_income           0\n",
      "purpose             2174\n",
      "dtype: int64\n",
      "\n",
      "mean of the column days_employed:\n",
      "--------------\n",
      "63046.49766147338\n",
      "\n",
      "income_type of the people with missing values in days_employed\n",
      "--------------\n",
      "\n",
      "Ages of the people, who are employed for more than 18.250 [days] (= 50 years!!!) due to the data:\n",
      "--------------\n",
      "0      17\n",
      "22      1\n",
      "26      2\n",
      "27      3\n",
      "28      1\n",
      "31      1\n",
      "32      3\n",
      "33      2\n",
      "34      3\n",
      "35      1\n",
      "36      3\n",
      "37      5\n",
      "38      8\n",
      "39      4\n",
      "40      7\n",
      "41      6\n",
      "42      9\n",
      "43      9\n",
      "44     10\n",
      "45     11\n",
      "46     13\n",
      "47     13\n",
      "48     20\n",
      "49     30\n",
      "50     61\n",
      "51     73\n",
      "52     95\n",
      "53    105\n",
      "54    145\n",
      "55    162\n",
      "56    184\n",
      "57    212\n",
      "58    208\n",
      "59    254\n",
      "60    243\n",
      "61    214\n",
      "62    235\n",
      "63    192\n",
      "64    179\n",
      "65    136\n",
      "66    139\n",
      "67    132\n",
      "68     80\n",
      "69     74\n",
      "70     54\n",
      "71     48\n",
      "72     28\n",
      "73      6\n",
      "74      4\n",
      "Name: dob_years, dtype: int64\n",
      "\n",
      "Sum of the people, who are employed for more than 18.250 [days] (= 50 years!!!) beyond the age of 66\n",
      "--------------\n",
      "2744\n",
      "\n",
      "employee         1105\n",
      "business          508\n",
      "retiree           413\n",
      "civil servant     147\n",
      "entrepreneur        1\n",
      "Name: income_type, dtype: int64\n"
     ]
    },
    {
     "data": {
      "text/plain": [
       "['income_type']"
      ]
     },
     "execution_count": 3,
     "metadata": {},
     "output_type": "execute_result"
    }
   ],
   "source": [
    "#as you see: all rows with missing values in the column \"days_employed\" also have missing values in the column \"total_income\"\n",
    "#but most of them still have values in the column \"income_type\" like \"employee\" or \"business\", so they should have an income\n",
    "#for civil servants it would be logical, if they have no income\n",
    "print(\"count of missing values in total_income and days employed:\")\n",
    "print(\"--------------\")\n",
    "print(data.loc[(data[\"days_employed\"].isna()) & (data[\"total_income\"].isna())].count())\n",
    "print()\n",
    "\n",
    "#many unrealitic values: people work about 50 years --> 50*365 = 18.250 [days]\n",
    "#mean in this coulmn: 66915 [days]... that is more than twice the life expectancy of a human being\n",
    "av_daysEmpl = data[\"days_employed\"].mean()\n",
    "print(\"mean of the column days_employed:\")\n",
    "print(\"--------------\")\n",
    "print(av_daysEmpl)\n",
    "print()\n",
    "print(\"income_type of the people with missing values in days_employed\")\n",
    "print(\"--------------\")\n",
    "print()\n",
    "\n",
    "#poeple, who are employed for more than 18.250 days (50 years) must be at least older than 65\n",
    "#as you see, the majority of these people are younger than 65\n",
    "#so i guess, that this table cant be processed without changing it completely\n",
    "print(\"Ages of the people, who are employed for more than 18.250 [days] (= 50 years!!!) due to the data:\")\n",
    "print(\"--------------\")\n",
    "print(data.loc[data[\"days_employed\"] > 18250][\"dob_years\"].value_counts().sort_index())\n",
    "print()\n",
    "#2745 people are younger than 65 but worked for more than 50 years due to this data\n",
    "sum = data.loc[(data[\"days_employed\"] > 18250) & (data[\"dob_years\"] < 65)][\"dob_years\"].value_counts().sum()\n",
    "print(\"Sum of the people, who are employed for more than 18.250 [days] (= 50 years!!!) beyond the age of 66\")\n",
    "print(\"--------------\")\n",
    "print(sum)\n",
    "print()\n",
    "print(data.loc[(data[\"days_employed\"].isna()) & (data[\"total_income\"].isna())][\"income_type\"].value_counts())\n",
    "[\"income_type\"]"
   ]
  },
  {
   "cell_type": "markdown",
   "metadata": {},
   "source": [
    "<div class=\"alert alert-success\" role=\"alert\">\n",
    "Reviewer's comment v. 1:\n",
    "    \n",
    "Well done that you printed the information about data.\n",
    "    \n",
    "Please note that you can use .format to output only required number of decimal places (https://pyformat.info/).\n",
    "</div>"
   ]
  },
  {
   "cell_type": "code",
   "execution_count": 4,
   "metadata": {
    "scrolled": true
   },
   "outputs": [
    {
     "data": {
      "text/plain": [
       "0     101\n",
       "19     14\n",
       "20     51\n",
       "21    111\n",
       "22    183\n",
       "23    254\n",
       "24    264\n",
       "25    357\n",
       "26    408\n",
       "27    493\n",
       "28    503\n",
       "29    545\n",
       "30    540\n",
       "31    560\n",
       "32    510\n",
       "33    581\n",
       "34    603\n",
       "35    617\n",
       "36    555\n",
       "37    537\n",
       "38    598\n",
       "39    573\n",
       "40    609\n",
       "41    607\n",
       "42    597\n",
       "43    513\n",
       "44    547\n",
       "45    497\n",
       "46    475\n",
       "47    480\n",
       "48    538\n",
       "49    508\n",
       "50    514\n",
       "51    448\n",
       "52    484\n",
       "53    459\n",
       "54    479\n",
       "55    443\n",
       "56    487\n",
       "57    460\n",
       "58    461\n",
       "59    444\n",
       "60    377\n",
       "61    355\n",
       "62    352\n",
       "63    269\n",
       "64    265\n",
       "65    194\n",
       "66    183\n",
       "67    167\n",
       "68     99\n",
       "69     85\n",
       "70     65\n",
       "71     58\n",
       "72     33\n",
       "73      8\n",
       "74      6\n",
       "75      1\n",
       "Name: dob_years, dtype: int64"
      ]
     },
     "execution_count": 4,
     "metadata": {},
     "output_type": "execute_result"
    }
   ],
   "source": [
    "data[\"dob_years\"].value_counts().sort_index()"
   ]
  },
  {
   "cell_type": "code",
   "execution_count": 5,
   "metadata": {},
   "outputs": [
    {
     "data": {
      "text/plain": [
       "BACHELOR'S DEGREE        274\n",
       "Bachelor's Degree        268\n",
       "GRADUATE DEGREE            1\n",
       "Graduate Degree            1\n",
       "PRIMARY EDUCATION         17\n",
       "Primary Education         15\n",
       "SECONDARY EDUCATION      772\n",
       "SOME COLLEGE              29\n",
       "Secondary Education      711\n",
       "Some College              47\n",
       "bachelor's degree       4718\n",
       "graduate degree            4\n",
       "primary education        250\n",
       "secondary education    13750\n",
       "some college             668\n",
       "Name: education, dtype: int64"
      ]
     },
     "execution_count": 5,
     "metadata": {},
     "output_type": "execute_result"
    }
   ],
   "source": [
    "data[\"education\"].value_counts().sort_index()"
   ]
  },
  {
   "cell_type": "code",
   "execution_count": 6,
   "metadata": {},
   "outputs": [
    {
     "data": {
      "text/plain": [
       "civil partnership     4177\n",
       "divorced              1195\n",
       "married              12380\n",
       "unmarried             2813\n",
       "widow / widower        960\n",
       "Name: family_status, dtype: int64"
      ]
     },
     "execution_count": 6,
     "metadata": {},
     "output_type": "execute_result"
    }
   ],
   "source": [
    "data[\"family_status\"].value_counts().sort_index()"
   ]
  },
  {
   "cell_type": "code",
   "execution_count": 7,
   "metadata": {},
   "outputs": [
    {
     "data": {
      "text/plain": [
       "F      14236\n",
       "M       7288\n",
       "XNA        1\n",
       "Name: gender, dtype: int64"
      ]
     },
     "execution_count": 7,
     "metadata": {},
     "output_type": "execute_result"
    }
   ],
   "source": [
    "data[\"gender\"].value_counts().sort_index()"
   ]
  },
  {
   "cell_type": "code",
   "execution_count": 8,
   "metadata": {},
   "outputs": [
    {
     "data": {
      "text/plain": [
       "business                        5085\n",
       "civil servant                   1459\n",
       "employee                       11119\n",
       "entrepreneur                       2\n",
       "paternity / maternity leave        1\n",
       "retiree                         3856\n",
       "student                            1\n",
       "unemployed                         2\n",
       "Name: income_type, dtype: int64"
      ]
     },
     "execution_count": 8,
     "metadata": {},
     "output_type": "execute_result"
    }
   ],
   "source": [
    "data[\"income_type\"].value_counts().sort_index()"
   ]
  },
  {
   "cell_type": "code",
   "execution_count": 9,
   "metadata": {},
   "outputs": [
    {
     "data": {
      "text/plain": [
       "0    19784\n",
       "1     1741\n",
       "Name: debt, dtype: int64"
      ]
     },
     "execution_count": 9,
     "metadata": {},
     "output_type": "execute_result"
    }
   ],
   "source": [
    "data[\"debt\"].value_counts().sort_index()"
   ]
  },
  {
   "cell_type": "code",
   "execution_count": 10,
   "metadata": {},
   "outputs": [
    {
     "data": {
      "text/plain": [
       "14585    3306.762\n",
       "13006    3392.845\n",
       "16174    3418.824\n",
       "1598     3471.216\n",
       "14276    3503.298\n",
       "           ...   \n",
       "21489         NaN\n",
       "21495         NaN\n",
       "21497         NaN\n",
       "21502         NaN\n",
       "21510         NaN\n",
       "Name: total_income, Length: 21525, dtype: float64"
      ]
     },
     "execution_count": 10,
     "metadata": {},
     "output_type": "execute_result"
    }
   ],
   "source": [
    "data[\"total_income\"].sort_values()"
   ]
  },
  {
   "cell_type": "code",
   "execution_count": 11,
   "metadata": {},
   "outputs": [
    {
     "data": {
      "text/plain": [
       "building a property                         620\n",
       "building a real estate                      626\n",
       "buy commercial real estate                  664\n",
       "buy real estate                             624\n",
       "buy residential real estate                 607\n",
       "buying a second-hand car                    479\n",
       "buying my own car                           505\n",
       "buying property for renting out             653\n",
       "car                                         495\n",
       "car purchase                                462\n",
       "cars                                        478\n",
       "construction of own property                635\n",
       "education                                   447\n",
       "getting an education                        443\n",
       "getting higher education                    426\n",
       "going to university                         496\n",
       "having a wedding                            777\n",
       "housing                                     647\n",
       "housing renovation                          612\n",
       "housing transactions                        653\n",
       "profile education                           436\n",
       "property                                    634\n",
       "purchase of a car                           455\n",
       "purchase of my own house                    620\n",
       "purchase of the house                       647\n",
       "purchase of the house for my family         641\n",
       "real estate transactions                    676\n",
       "second-hand car purchase                    489\n",
       "supplementary education                     462\n",
       "to become educated                          412\n",
       "to buy a car                                472\n",
       "to get a supplementary education            447\n",
       "to have a wedding                           774\n",
       "to own a car                                480\n",
       "transactions with commercial real estate    651\n",
       "transactions with my real estate            630\n",
       "university education                        453\n",
       "wedding ceremony                            797\n",
       "Name: purpose, dtype: int64"
      ]
     },
     "execution_count": 11,
     "metadata": {},
     "output_type": "execute_result"
    }
   ],
   "source": [
    "data[\"purpose\"].value_counts().sort_index()"
   ]
  },
  {
   "cell_type": "markdown",
   "metadata": {},
   "source": [
    "### Conclusion"
   ]
  },
  {
   "cell_type": "markdown",
   "metadata": {},
   "source": [
    "1. Datatypes: \n",
    "              -missing data in columns \"days_employed\" and \"total_income\" (both have 19351 entries)\n",
    "              -datatype of \"days_employed\" is float... int would make more sense\n",
    "2. Columns:\n",
    "    2.1 children: \n",
    "                -76x 20 children seems unrealistic (6-19 children never appears)\n",
    "                -negative value: -1 children\n",
    "    2.2 days_employed:\n",
    "                -theses data have to many unrealistic values to process them without changing them completely:\n",
    "                    -people work about 50 years --> 50*365 = 18.250 [days], but the mean value is 66915 [days]\n",
    "                    that is more than twice the life expectancy of a human being\n",
    "                    -2881 people in this data are younger than 65 but worked for more than 50 years (18.250 days)\n",
    "                -negative values\n",
    "                -float datatype\n",
    "                -missing values (people who also have missing values in column \"total_income\")   \n",
    "                    \n",
    "    2.3 dob_years:\n",
    "                -0 must be a mistake\n",
    "    2.4 education:\n",
    "                -evry variable appears 3 times\n",
    "    2.5 family_status:\n",
    "                -seems okay\n",
    "    2.6 gender:\n",
    "                -seems okay\n",
    "                -women are included twice as much in the data\n",
    "    2.7 income_type:\n",
    "                -seems okay\n",
    "    2.8 debt:\n",
    "                -seems okay\n",
    "    2.9 total_income:\n",
    "                -missing values (people who also have missing values in column \"days_employed\")\n",
    "    2.10 purpose:\n",
    "                -all variables appear more than one time"
   ]
  },
  {
   "cell_type": "markdown",
   "metadata": {},
   "source": [
    "<div class=\"alert alert-success\" role=\"alert\">\n",
    "Reviewer's comment v. 1:\n",
    "    \n",
    "You have made a really detailed analysis of the problems with data :)\n",
    "    \n",
    "Well done that you highlighted problems with \"days_employed\" column.\n",
    "</div>"
   ]
  },
  {
   "cell_type": "markdown",
   "metadata": {},
   "source": [
    "## 2. Preprocessing"
   ]
  },
  {
   "cell_type": "markdown",
   "metadata": {},
   "source": [
    "steps:\n",
    "    -replace negative values (children, days_employed)\n",
    "    -eliminate similar designations (education, purpose)\n",
    "    -eliminate duplicates\n",
    "    -replace missing values by mean (days_employed, total_income)\n",
    "    -replace wrong values by medians (children, dob_years)\n",
    "    -categorizing the data to answer the questions (children, family_status, total_income, purpose)"
   ]
  },
  {
   "cell_type": "markdown",
   "metadata": {},
   "source": [
    "### Replace negative values (children, days_employed)"
   ]
  },
  {
   "cell_type": "code",
   "execution_count": 12,
   "metadata": {},
   "outputs": [
    {
     "name": "stdout",
     "output_type": "stream",
     "text": [
      " 0     14149\n",
      " 1      4818\n",
      " 2      2055\n",
      " 3       330\n",
      " 20       76\n",
      "-1        47\n",
      " 4        41\n",
      " 5         9\n",
      "Name: children, dtype: int64\n"
     ]
    }
   ],
   "source": [
    "print(data[\"children\"].value_counts())"
   ]
  },
  {
   "cell_type": "code",
   "execution_count": 13,
   "metadata": {
    "scrolled": true
   },
   "outputs": [
    {
     "name": "stdout",
     "output_type": "stream",
     "text": [
      "0     14149\n",
      "1      4865\n",
      "2      2055\n",
      "3       330\n",
      "20       76\n",
      "4        41\n",
      "5         9\n",
      "Name: children, dtype: int64\n"
     ]
    }
   ],
   "source": [
    "data[\"children\"] = data[\"children\"].abs()\n",
    "print(data[\"children\"].value_counts())"
   ]
  },
  {
   "cell_type": "code",
   "execution_count": 14,
   "metadata": {},
   "outputs": [
    {
     "name": "stdout",
     "output_type": "stream",
     "text": [
      "6954     401755.400475\n",
      "10006    401715.811749\n",
      "7664     401675.093434\n",
      "2156     401674.466633\n",
      "7794     401663.850046\n",
      "             ...      \n",
      "16825    -16119.687737\n",
      "17838    -16264.699501\n",
      "7329     -16593.472817\n",
      "4299     -17615.563266\n",
      "16335    -18388.949901\n",
      "Name: days_employed, Length: 19351, dtype: float64\n"
     ]
    }
   ],
   "source": [
    "print(data.loc[data[\"days_employed\"].notna()][\"days_employed\"].sort_values(ascending= False))"
   ]
  },
  {
   "cell_type": "code",
   "execution_count": 15,
   "metadata": {},
   "outputs": [
    {
     "name": "stdout",
     "output_type": "stream",
     "text": [
      "6954     401755.400475\n",
      "10006    401715.811749\n",
      "7664     401675.093434\n",
      "2156     401674.466633\n",
      "7794     401663.850046\n",
      "             ...      \n",
      "2127         34.701045\n",
      "9683         33.520665\n",
      "6157         30.195337\n",
      "8336         24.240695\n",
      "17437        24.141633\n",
      "Name: days_employed, Length: 19351, dtype: float64\n"
     ]
    }
   ],
   "source": [
    "data[\"days_employed\"] = data[\"days_employed\"].abs()\n",
    "print(data.loc[data[\"days_employed\"].notna()][\"days_employed\"].sort_values(ascending= False))"
   ]
  },
  {
   "cell_type": "markdown",
   "metadata": {},
   "source": [
    "### Eliminate similar designations (education, purpose)"
   ]
  },
  {
   "cell_type": "markdown",
   "metadata": {},
   "source": [
    "The duplicates most likely occur because either different people were involved in the data collection. It is also possible that the data came from different sources, with each source having its own name for the variables."
   ]
  },
  {
   "cell_type": "code",
   "execution_count": 16,
   "metadata": {},
   "outputs": [
    {
     "name": "stdout",
     "output_type": "stream",
     "text": [
      "education values:\n",
      "--------------\n",
      "secondary education    13750\n",
      "bachelor's degree       4718\n",
      "SECONDARY EDUCATION      772\n",
      "Secondary Education      711\n",
      "some college             668\n",
      "BACHELOR'S DEGREE        274\n",
      "Bachelor's Degree        268\n",
      "primary education        250\n",
      "Some College              47\n",
      "SOME COLLEGE              29\n",
      "PRIMARY EDUCATION         17\n",
      "Primary Education         15\n",
      "graduate degree            4\n",
      "GRADUATE DEGREE            1\n",
      "Graduate Degree            1\n",
      "Name: education, dtype: int64\n"
     ]
    }
   ],
   "source": [
    "print(\"education values:\")\n",
    "print(\"--------------\")\n",
    "data[\"education\"].value_counts()\n",
    "print(data[\"education\"].value_counts())"
   ]
  },
  {
   "cell_type": "code",
   "execution_count": 17,
   "metadata": {},
   "outputs": [
    {
     "name": "stdout",
     "output_type": "stream",
     "text": [
      "education values:\n",
      "--------------\n",
      "secondary education    15233\n",
      "bachelor's degree       5260\n",
      "some college             744\n",
      "primary education        282\n",
      "graduate degree            6\n",
      "Name: education, dtype: int64\n"
     ]
    }
   ],
   "source": [
    "data.loc[(data[\"education\"] == \"BACHELOR'S DEGREE\") | (data[\"education\"] == \"Bachelor's Degree\") | (data[\"education\"] == \"bachelor's degree\"), \"education\"] = \"bachelor's degree\"\n",
    "data.loc[(data[\"education\"] == \"SECONDARY EDUCATION\") | (data[\"education\"] == \"Secondary Education\"), \"education\"] = \"secondary education\"\n",
    "data.loc[(data[\"education\"] == \"SOME COLLEGE\") | (data[\"education\"] == \"Some College\"), \"education\"] = \"some college\"\n",
    "data.loc[(data[\"education\"] == \"PRIMARY EDUCATION\") | (data[\"education\"] == \"Primary Education\"), \"education\"] = \"primary education\"\n",
    "data.loc[(data[\"education\"] == \"GRADUATE DEGREE\") | (data[\"education\"] == \"Graduate Degree\"), \"education\"] = \"graduate degree\"\n",
    "\n",
    "\n",
    "\n",
    "print(\"education values:\")\n",
    "print(\"--------------\")\n",
    "data[\"education\"].value_counts()\n",
    "print(data[\"education\"].value_counts())\n"
   ]
  },
  {
   "cell_type": "markdown",
   "metadata": {},
   "source": [
    "<div class=\"alert alert-success\" role=\"alert\">\n",
    "Reviewer's comment v. 1:\n",
    "    \n",
    "Great education values are prepared for the further analysis.\n",
    "</div>"
   ]
  },
  {
   "cell_type": "code",
   "execution_count": 18,
   "metadata": {},
   "outputs": [
    {
     "name": "stdout",
     "output_type": "stream",
     "text": [
      "wedding ceremony                            797\n",
      "having a wedding                            777\n",
      "to have a wedding                           774\n",
      "real estate transactions                    676\n",
      "buy commercial real estate                  664\n",
      "housing transactions                        653\n",
      "buying property for renting out             653\n",
      "transactions with commercial real estate    651\n",
      "purchase of the house                       647\n",
      "housing                                     647\n",
      "purchase of the house for my family         641\n",
      "construction of own property                635\n",
      "property                                    634\n",
      "transactions with my real estate            630\n",
      "building a real estate                      626\n",
      "buy real estate                             624\n",
      "purchase of my own house                    620\n",
      "building a property                         620\n",
      "housing renovation                          612\n",
      "buy residential real estate                 607\n",
      "buying my own car                           505\n",
      "going to university                         496\n",
      "car                                         495\n",
      "second-hand car purchase                    489\n",
      "to own a car                                480\n",
      "buying a second-hand car                    479\n",
      "cars                                        478\n",
      "to buy a car                                472\n",
      "car purchase                                462\n",
      "supplementary education                     462\n",
      "purchase of a car                           455\n",
      "university education                        453\n",
      "to get a supplementary education            447\n",
      "education                                   447\n",
      "getting an education                        443\n",
      "profile education                           436\n",
      "getting higher education                    426\n",
      "to become educated                          412\n",
      "Name: purpose, dtype: int64\n"
     ]
    }
   ],
   "source": [
    "print(data[\"purpose\"].value_counts())\n"
   ]
  },
  {
   "cell_type": "markdown",
   "metadata": {},
   "source": [
    "In this case I will use a loop for the list \"test_duplicates_list\", which contains words that appear more than once in the printed list above. The Loop will go through the data and replaces the duplicates with a more general description. This Function takes a lot of time because it consists of 3 loops."
   ]
  },
  {
   "cell_type": "code",
   "execution_count": 19,
   "metadata": {},
   "outputs": [],
   "source": [
    "from nltk.stem import SnowballStemmer \n",
    "english_stemmer = SnowballStemmer('english')\n",
    "\n",
    "purpose_list = data[\"purpose\"].to_list()\n",
    "test_duplicates_list = [\"house\", \"car\", \"education\", \"estate\", \"wedding\", \"property\"]\n",
    "\n",
    "for test_word in test_duplicates_list:\n",
    "\n",
    "    for purpose in purpose_list:\n",
    "        duplicate_purpose = False\n",
    "\n",
    "        for word in purpose.split(' '):\n",
    "            stemmed_word = english_stemmer.stem(word) \n",
    "            if stemmed_word == english_stemmer.stem(test_word):\n",
    "                duplicate_purpose = True\n",
    "        if duplicate_purpose == True:\n",
    "            data.loc[data[\"purpose\"] == purpose, \"purpose\"] = test_word\n",
    "              \n",
    "        \n"
   ]
  },
  {
   "cell_type": "markdown",
   "metadata": {},
   "source": [
    "<div class=\"alert alert-success\" role=\"alert\">\n",
    "Reviewer's comment v. 1:\n",
    "    \n",
    "It's great that you have used nltk. \n",
    "    \n",
    "Maybe this link will be interesting for you: https://stackabuse.com/python-for-nlp-tokenization-stemming-and-lemmatization-with-spacy-library/ \n",
    "</div>"
   ]
  },
  {
   "cell_type": "code",
   "execution_count": 20,
   "metadata": {},
   "outputs": [
    {
     "name": "stdout",
     "output_type": "stream",
     "text": [
      "estate                 4478\n",
      "car                    4315\n",
      "house                  3820\n",
      "education              3526\n",
      "property               2542\n",
      "wedding                2348\n",
      "going to university     496\n",
      "Name: purpose, dtype: int64\n"
     ]
    }
   ],
   "source": [
    "print(data[\"purpose\"].value_counts())   "
   ]
  },
  {
   "cell_type": "markdown",
   "metadata": {},
   "source": [
    "In the list are still values that are very similar in meaning. Therefore, I will modify them manually."
   ]
  },
  {
   "cell_type": "code",
   "execution_count": 21,
   "metadata": {},
   "outputs": [
    {
     "name": "stdout",
     "output_type": "stream",
     "text": [
      "house        10840\n",
      "car           4315\n",
      "education     4022\n",
      "wedding       2348\n",
      "Name: purpose, dtype: int64\n"
     ]
    }
   ],
   "source": [
    "data.loc[(data[\"purpose\"] == \"estate\") | (data[\"purpose\"] == \"property\"), \"purpose\"] = \"house\"\n",
    "data.loc[data[\"purpose\"] == \"going to university\", \"purpose\"] = \"education\"\n",
    "\n",
    "print(data[\"purpose\"].value_counts()) "
   ]
  },
  {
   "cell_type": "markdown",
   "metadata": {},
   "source": [
    "### Eliminate duplicates"
   ]
  },
  {
   "cell_type": "code",
   "execution_count": 22,
   "metadata": {},
   "outputs": [
    {
     "name": "stdout",
     "output_type": "stream",
     "text": [
      "21525\n"
     ]
    }
   ],
   "source": [
    "#there are still 21525 rows\n",
    "print(len(data))"
   ]
  },
  {
   "cell_type": "code",
   "execution_count": 23,
   "metadata": {},
   "outputs": [
    {
     "name": "stdout",
     "output_type": "stream",
     "text": [
      "21120\n"
     ]
    }
   ],
   "source": [
    "#I just use the drop_duplicates() function:\n",
    "\n",
    "data = data.drop_duplicates()\n",
    "print(len(data))"
   ]
  },
  {
   "cell_type": "code",
   "execution_count": 24,
   "metadata": {},
   "outputs": [
    {
     "name": "stdout",
     "output_type": "stream",
     "text": [
      "410 rows were removed!\n"
     ]
    }
   ],
   "source": [
    "print(\"{} rows were removed!\".format(21525-21115))"
   ]
  },
  {
   "cell_type": "markdown",
   "metadata": {},
   "source": [
    "<div class=\"alert alert-warning\" role=\"alert\">\n",
    "Reviewer's comment v. 1:\n",
    "    \n",
    "Could ypu please calculate the percentage of duplicates in our data before you dropped it?\n",
    "</div>"
   ]
  },
  {
   "cell_type": "markdown",
   "metadata": {},
   "source": [
    "### Replace missing values by mean (total_income)"
   ]
  },
  {
   "cell_type": "markdown",
   "metadata": {},
   "source": [
    "As we have already seen, the \"total_income\" values are missing for exactly those persons who also have missing values in the \"days_employed\" column. These are very likely related."
   ]
  },
  {
   "cell_type": "code",
   "execution_count": 25,
   "metadata": {},
   "outputs": [
    {
     "name": "stdout",
     "output_type": "stream",
     "text": [
      "children            1769\n",
      "days_employed          0\n",
      "dob_years           1769\n",
      "education           1769\n",
      "education_id        1769\n",
      "family_status       1769\n",
      "family_status_id    1769\n",
      "gender              1769\n",
      "income_type         1769\n",
      "debt                1769\n",
      "total_income           0\n",
      "purpose             1769\n",
      "dtype: int64\n"
     ]
    }
   ],
   "source": [
    "#calculating the number of missing values\n",
    "print(data.loc[data[\"total_income\"].isna()].count())\n"
   ]
  },
  {
   "cell_type": "markdown",
   "metadata": {},
   "source": [
    "Before replacing the missing values in \"total_income\", I will test whether there are large differences in average incomes as a function of educational attainment. If this is the case, I will calculate a separate income average for each educational attainment and replace the missing values in the column \"total_income\" with these."
   ]
  },
  {
   "cell_type": "code",
   "execution_count": 26,
   "metadata": {
    "scrolled": true
   },
   "outputs": [
    {
     "name": "stdout",
     "output_type": "stream",
     "text": [
      "education values:\n",
      "--------------\n",
      "secondary education    14876\n",
      "bachelor's degree       5212\n",
      "some college             744\n",
      "primary education        282\n",
      "graduate degree            6\n",
      "Name: education, dtype: int64\n",
      "\n",
      "total_income means in dependency of the education\n",
      "--------------\n",
      "Bachelor Degree: 33142.80\n",
      "Secondary Education: 24594.50\n",
      "Some College: 29045.44\n",
      "Primary Education: 21144.88\n",
      "Graduate Degree: 27960.02\n"
     ]
    }
   ],
   "source": [
    "# calculating the average of \"total_income\" in dependency of the education --> there is a dependency\n",
    "print(\"education values:\")\n",
    "print(\"--------------\")\n",
    "data[\"education\"].value_counts()\n",
    "print(data[\"education\"].value_counts())\n",
    "totInc_bacDeg_av = data.loc[data[\"education\"] == \"bachelor's degree\"][\"total_income\"].mean()\n",
    "totInc_secEdu_av = data.loc[(data[\"education\"] == \"secondary education\")][\"total_income\"].mean()\n",
    "totInc__col_av = data.loc[(data[\"education\"] == \"some college\")][\"total_income\"].mean()\n",
    "totInc_primEdu_av = data.loc[(data[\"education\"] == \"primary education\")][\"total_income\"].mean()\n",
    "totInc_gradDeg_av = data.loc[(data[\"education\"] == \"graduate degree\")][\"total_income\"].mean()\n",
    "\n",
    "print()\n",
    "print(\"total_income means in dependency of the education\")\n",
    "print(\"--------------\")\n",
    "print(\"Bachelor Degree: {:.2f}\".format(totInc_bacDeg_av))\n",
    "print(\"Secondary Education: {:.2f}\".format(totInc_secEdu_av))\n",
    "print(\"Some College: {:.2f}\".format(totInc__col_av))\n",
    "print(\"Primary Education: {:.2f}\".format(totInc_primEdu_av))\n",
    "print(\"Graduate Degree: {:.2f}\".format(totInc_gradDeg_av))\n"
   ]
  },
  {
   "cell_type": "code",
   "execution_count": 27,
   "metadata": {},
   "outputs": [
    {
     "name": "stderr",
     "output_type": "stream",
     "text": [
      "/opt/conda/lib/python3.7/site-packages/pandas/core/indexing.py:494: SettingWithCopyWarning: \n",
      "A value is trying to be set on a copy of a slice from a DataFrame.\n",
      "Try using .loc[row_indexer,col_indexer] = value instead\n",
      "\n",
      "See the caveats in the documentation: http://pandas.pydata.org/pandas-docs/stable/user_guide/indexing.html#returning-a-view-versus-a-copy\n",
      "  self.obj[item] = s\n"
     ]
    }
   ],
   "source": [
    "#replace the missing values by mean\n",
    "data.loc[(data[\"education\"] == \"bachelor's degree\") & (data[\"total_income\"].isna()), \"total_income\"] = totInc_bacDeg_av\n",
    "\n",
    "data.loc[(data[\"education\"] == \"secondary education\") & (data[\"total_income\"].isna()), \"total_income\"] = totInc_secEdu_av\n",
    "data.loc[(data[\"education\"] == \"some college\") & (data[\"total_income\"].isna()), \"total_income\"] = totInc__col_av\n",
    "data.loc[(data[\"education\"] == \"primary education\") & (data[\"total_income\"].isna()), \"total_income\"] = totInc_primEdu_av\n",
    "data.loc[(data[\"education\"] == \"graduate degree\") & (data[\"total_income\"].isna()), \"total_income\"] = totInc_gradDeg_av\n",
    "data.loc[(data[\"education\"] == \"bachelor's degree\") & (data[\"total_income\"].isna()), \"total_income\"] = totInc_bacDeg_av\n"
   ]
  },
  {
   "cell_type": "markdown",
   "metadata": {},
   "source": [
    "<div class=\"alert alert-warning\" role=\"alert\">\n",
    "Reviewer's comment v. 1:\n",
    "    \n",
    "Could you please explain why you filled a missing values by mean?\n",
    "    \n",
    "Great that you filled a missing values by mean. However please note that it's also possible to change a missing values to median, mode, 0 or other values. It depends on our data.\n",
    "    \n",
    "Additional links: https://jakevdp.github.io/PythonDataScienceHandbook/03.04-missing-values.html, https://thispointer.com/python-pandas-count-number-of-nan-or-missing-values-in-dataframe-also-row-column-wise/,\n",
    "https://www.geeksforgeeks.org/working-with-missing-data-in-pandas/\n",
    "</div>"
   ]
  },
  {
   "cell_type": "code",
   "execution_count": 28,
   "metadata": {
    "scrolled": true
   },
   "outputs": [
    {
     "name": "stdout",
     "output_type": "stream",
     "text": [
      "children            0\n",
      "days_employed       0\n",
      "dob_years           0\n",
      "education           0\n",
      "education_id        0\n",
      "family_status       0\n",
      "family_status_id    0\n",
      "gender              0\n",
      "income_type         0\n",
      "debt                0\n",
      "total_income        0\n",
      "purpose             0\n",
      "dtype: int64\n"
     ]
    }
   ],
   "source": [
    "#calculating the number of missing values again\n",
    "print(data.loc[data[\"total_income\"].isna()].count())"
   ]
  },
  {
   "cell_type": "markdown",
   "metadata": {},
   "source": [
    "### Replace wrong values by median (children, dob_years)"
   ]
  },
  {
   "cell_type": "markdown",
   "metadata": {},
   "source": [
    "In the column \"children\" the value 20 appears 76 times. This must be a mistake. I will replace these values by the median of the column."
   ]
  },
  {
   "cell_type": "markdown",
   "metadata": {},
   "source": [
    "<div class=\"alert alert-success\" role=\"alert\">\n",
    "Reviewer's comment v. 1:\n",
    "    \n",
    "You have made a really detailed analysis of the problems with data :)\n",
    "    \n",
    "Well done that you highlighted problems with \"days_employed\" column.\n",
    "</div>"
   ]
  },
  {
   "cell_type": "code",
   "execution_count": 29,
   "metadata": {},
   "outputs": [
    {
     "data": {
      "text/plain": [
       "0     13829\n",
       "1      4798\n",
       "2      2039\n",
       "3       329\n",
       "20       76\n",
       "4        40\n",
       "5         9\n",
       "Name: children, dtype: int64"
      ]
     },
     "execution_count": 29,
     "metadata": {},
     "output_type": "execute_result"
    }
   ],
   "source": [
    "data[\"children\"].value_counts()"
   ]
  },
  {
   "cell_type": "code",
   "execution_count": 30,
   "metadata": {},
   "outputs": [],
   "source": [
    "median_children = data.loc[data[\"children\"] < 20][\"children\"].median()\n",
    "data.loc[data[\"children\"] > 19, \"children\"] = median_children\n"
   ]
  },
  {
   "cell_type": "code",
   "execution_count": 31,
   "metadata": {},
   "outputs": [
    {
     "data": {
      "text/plain": [
       "0.0    13905\n",
       "1.0     4798\n",
       "2.0     2039\n",
       "3.0      329\n",
       "4.0       40\n",
       "5.0        9\n",
       "Name: children, dtype: int64"
      ]
     },
     "execution_count": 31,
     "metadata": {},
     "output_type": "execute_result"
    }
   ],
   "source": [
    "data[\"children\"].value_counts()"
   ]
  },
  {
   "cell_type": "markdown",
   "metadata": {},
   "source": [
    "In the column \"dob_years\" the value 0 appears 101 times. This also must be a mistake. I will also replace these values by the median of the column."
   ]
  },
  {
   "cell_type": "markdown",
   "metadata": {},
   "source": [
    "<div class=\"alert alert-warning\" role=\"alert\">\n",
    "Reviewer's comment v. 1:\n",
    "    \n",
    "Could you please explain why you filled a missing values in the column \"dob_years\" by median?\n",
    "</div>"
   ]
  },
  {
   "cell_type": "code",
   "execution_count": 32,
   "metadata": {},
   "outputs": [
    {
     "name": "stdout",
     "output_type": "stream",
     "text": [
      "0     100\n",
      "19     14\n",
      "20     51\n",
      "21    110\n",
      "22    183\n",
      "23    244\n",
      "24    264\n",
      "25    357\n",
      "26    403\n",
      "27    488\n",
      "28    498\n",
      "29    539\n",
      "30    530\n",
      "31    555\n",
      "32    506\n",
      "33    572\n",
      "34    599\n",
      "35    605\n",
      "36    547\n",
      "37    534\n",
      "38    592\n",
      "39    563\n",
      "40    600\n",
      "41    599\n",
      "42    583\n",
      "43    504\n",
      "44    538\n",
      "45    488\n",
      "46    468\n",
      "47    460\n",
      "48    529\n",
      "49    494\n",
      "50    504\n",
      "51    439\n",
      "52    473\n",
      "53    450\n",
      "54    464\n",
      "55    435\n",
      "56    471\n",
      "57    445\n",
      "58    442\n",
      "59    438\n",
      "60    363\n",
      "61    346\n",
      "62    340\n",
      "63    262\n",
      "64    250\n",
      "65    189\n",
      "66    177\n",
      "67    164\n",
      "68     98\n",
      "69     85\n",
      "70     65\n",
      "71     55\n",
      "72     33\n",
      "73      8\n",
      "74      6\n",
      "75      1\n",
      "Name: dob_years, dtype: int64\n"
     ]
    }
   ],
   "source": [
    "print(data[\"dob_years\"].value_counts().sort_index())"
   ]
  },
  {
   "cell_type": "code",
   "execution_count": 33,
   "metadata": {},
   "outputs": [],
   "source": [
    "median_dob_years = data.loc[data[\"dob_years\"] > 0][\"dob_years\"].median()\n",
    "\n",
    "\n",
    "data.loc[data[\"dob_years\"] == 0, \"dob_years\"] = median_dob_years"
   ]
  },
  {
   "cell_type": "code",
   "execution_count": 34,
   "metadata": {},
   "outputs": [
    {
     "name": "stdout",
     "output_type": "stream",
     "text": [
      "19.0     14\n",
      "20.0     51\n",
      "21.0    110\n",
      "22.0    183\n",
      "23.0    244\n",
      "24.0    264\n",
      "25.0    357\n",
      "26.0    403\n",
      "27.0    488\n",
      "28.0    498\n",
      "29.0    539\n",
      "30.0    530\n",
      "31.0    555\n",
      "32.0    506\n",
      "33.0    572\n",
      "34.0    599\n",
      "35.0    605\n",
      "36.0    547\n",
      "37.0    534\n",
      "38.0    592\n",
      "39.0    563\n",
      "40.0    600\n",
      "41.0    599\n",
      "42.0    683\n",
      "43.0    504\n",
      "44.0    538\n",
      "45.0    488\n",
      "46.0    468\n",
      "47.0    460\n",
      "48.0    529\n",
      "49.0    494\n",
      "50.0    504\n",
      "51.0    439\n",
      "52.0    473\n",
      "53.0    450\n",
      "54.0    464\n",
      "55.0    435\n",
      "56.0    471\n",
      "57.0    445\n",
      "58.0    442\n",
      "59.0    438\n",
      "60.0    363\n",
      "61.0    346\n",
      "62.0    340\n",
      "63.0    262\n",
      "64.0    250\n",
      "65.0    189\n",
      "66.0    177\n",
      "67.0    164\n",
      "68.0     98\n",
      "69.0     85\n",
      "70.0     65\n",
      "71.0     55\n",
      "72.0     33\n",
      "73.0      8\n",
      "74.0      6\n",
      "75.0      1\n",
      "Name: dob_years, dtype: int64\n"
     ]
    }
   ],
   "source": [
    "print(data[\"dob_years\"].value_counts().sort_index())"
   ]
  },
  {
   "cell_type": "markdown",
   "metadata": {},
   "source": [
    "### Categorizing Data (children, family_status, total_income, purpose)"
   ]
  },
  {
   "cell_type": "markdown",
   "metadata": {},
   "source": [
    "To answer one of the questions of the project, I will create the column \"at_least_one_child\" with the possible values \"True\" and \"False\", so evrybody who has at least one child gets the value \"True\" and the rest the value \"False\"."
   ]
  },
  {
   "cell_type": "code",
   "execution_count": 35,
   "metadata": {},
   "outputs": [
    {
     "name": "stdout",
     "output_type": "stream",
     "text": [
      "0.0    13905\n",
      "1.0     4798\n",
      "2.0     2039\n",
      "3.0      329\n",
      "4.0       40\n",
      "5.0        9\n",
      "Name: children, dtype: int64\n"
     ]
    }
   ],
   "source": [
    "print(data[\"children\"].value_counts())"
   ]
  },
  {
   "cell_type": "code",
   "execution_count": 36,
   "metadata": {},
   "outputs": [
    {
     "name": "stdout",
     "output_type": "stream",
     "text": [
      "   children  days_employed  dob_years            education  education_id  \\\n",
      "0       1.0    8437.673028       42.0    bachelor's degree             0   \n",
      "1       1.0    4024.803754       36.0  secondary education             1   \n",
      "2       0.0    5623.422610       33.0  secondary education             1   \n",
      "3       3.0    4124.747207       32.0  secondary education             1   \n",
      "4       0.0  340266.072047       53.0  secondary education             1   \n",
      "\n",
      "       family_status  family_status_id gender income_type  debt  total_income  \\\n",
      "0            married                 0      F    employee     0     40620.102   \n",
      "1            married                 0      F    employee     0     17932.802   \n",
      "2            married                 0      M    employee     0     23341.752   \n",
      "3            married                 0      M    employee     0     42820.568   \n",
      "4  civil partnership                 1      F     retiree     0     25378.572   \n",
      "\n",
      "     purpose has_child(ren)  \n",
      "0      house           True  \n",
      "1        car           True  \n",
      "2      house          False  \n",
      "3  education           True  \n",
      "4    wedding          False  \n"
     ]
    },
    {
     "name": "stderr",
     "output_type": "stream",
     "text": [
      "/opt/conda/lib/python3.7/site-packages/ipykernel_launcher.py:8: SettingWithCopyWarning: \n",
      "A value is trying to be set on a copy of a slice from a DataFrame.\n",
      "Try using .loc[row_indexer,col_indexer] = value instead\n",
      "\n",
      "See the caveats in the documentation: http://pandas.pydata.org/pandas-docs/stable/user_guide/indexing.html#returning-a-view-versus-a-copy\n",
      "  \n"
     ]
    }
   ],
   "source": [
    "def at_least_one_child(children):\n",
    "    if children > 0:\n",
    "        return \"True\"\n",
    "    else:\n",
    "        return \"False\"\n",
    "    \n",
    "    \n",
    "data[\"has_child(ren)\"] = data[\"children\"].apply(at_least_one_child)\n",
    "\n",
    "print(data.head())\n",
    "    "
   ]
  },
  {
   "cell_type": "markdown",
   "metadata": {},
   "source": [
    "<div class=\"alert alert-warning\" role=\"alert\">\n",
    "Reviewer's comment v. 1:\n",
    "    \n",
    "For more detailed analysis it will be better to divide into more than one cathegory (0, 1, 2, 3 and more children).\n",
    "</div>"
   ]
  },
  {
   "cell_type": "markdown",
   "metadata": {},
   "source": [
    "To answer one of the questions of the project, I will put \"unmarried\", \"divorced\" and \"widow / widower\" in one category because it means there was at least one marriage. The weakness of this model is that you don't know for sure if the late loan repaying was during the same time of the marriage, but it's possible."
   ]
  },
  {
   "cell_type": "code",
   "execution_count": 37,
   "metadata": {},
   "outputs": [
    {
     "name": "stdout",
     "output_type": "stream",
     "text": [
      "married              12076\n",
      "civil partnership     4124\n",
      "unmarried             2784\n",
      "divorced              1193\n",
      "widow / widower        943\n",
      "Name: family_status, dtype: int64\n"
     ]
    }
   ],
   "source": [
    "print(data[\"family_status\"].value_counts())"
   ]
  },
  {
   "cell_type": "code",
   "execution_count": 38,
   "metadata": {},
   "outputs": [
    {
     "name": "stdout",
     "output_type": "stream",
     "text": [
      "   children  days_employed  dob_years            education  education_id  \\\n",
      "0       1.0    8437.673028       42.0    bachelor's degree             0   \n",
      "1       1.0    4024.803754       36.0  secondary education             1   \n",
      "2       0.0    5623.422610       33.0  secondary education             1   \n",
      "3       3.0    4124.747207       32.0  secondary education             1   \n",
      "4       0.0  340266.072047       53.0  secondary education             1   \n",
      "\n",
      "       family_status  family_status_id gender income_type  debt  total_income  \\\n",
      "0            married                 0      F    employee     0     40620.102   \n",
      "1            married                 0      F    employee     0     17932.802   \n",
      "2            married                 0      M    employee     0     23341.752   \n",
      "3            married                 0      M    employee     0     42820.568   \n",
      "4  civil partnership                 1      F     retiree     0     25378.572   \n",
      "\n",
      "     purpose has_child(ren) married_or_onced_married  \n",
      "0      house           True                     True  \n",
      "1        car           True                     True  \n",
      "2      house          False                     True  \n",
      "3  education           True                     True  \n",
      "4    wedding          False                    False  \n"
     ]
    },
    {
     "name": "stderr",
     "output_type": "stream",
     "text": [
      "/opt/conda/lib/python3.7/site-packages/ipykernel_launcher.py:7: SettingWithCopyWarning: \n",
      "A value is trying to be set on a copy of a slice from a DataFrame.\n",
      "Try using .loc[row_indexer,col_indexer] = value instead\n",
      "\n",
      "See the caveats in the documentation: http://pandas.pydata.org/pandas-docs/stable/user_guide/indexing.html#returning-a-view-versus-a-copy\n",
      "  import sys\n"
     ]
    }
   ],
   "source": [
    "def married_or_onced_married(family_status):\n",
    "    if (family_status == \"married\") | (family_status == \"divorced\") | (family_status == \"widow / widower\"):\n",
    "        return \"True\"\n",
    "    else:\n",
    "        return \"False\"\n",
    "    \n",
    "data[\"married_or_onced_married\"] = data[\"family_status\"].apply(married_or_onced_married)\n",
    "print(data.head())"
   ]
  },
  {
   "cell_type": "markdown",
   "metadata": {},
   "source": [
    "To answer one of the questions of the project, I will add the coulmn \"income_level\" with the possible values \"low\", \"middle\", \"high\" and \"very high\" in dependency of the \"total_income\" values. Because there is no information about the country were this data come from, it's not easy to get the right levels, that's why i experminted a bit and came to the following levels:"
   ]
  },
  {
   "cell_type": "code",
   "execution_count": 39,
   "metadata": {},
   "outputs": [
    {
     "name": "stdout",
     "output_type": "stream",
     "text": [
      "people with very low income: 1865\n",
      "people with low income: 6970\n",
      "people with very middle income: 6723\n",
      "people with high income: 3203\n",
      "people with very high income: 2359\n"
     ]
    }
   ],
   "source": [
    "very_low_income = data.loc[data[\"total_income\"] < 12000][\"total_income\"].count()\n",
    "low_income = data.loc[(12000 <= data[\"total_income\"]) & (data[\"total_income\"] < 22000)][\"total_income\"].count()\n",
    "middle_income =data.loc[(22000 <= data[\"total_income\"]) & (data[\"total_income\"] < 32000)][\"total_income\"].count()\n",
    "high_income = data.loc[(32000 <= data[\"total_income\"]) & (data[\"total_income\"] < 42000)][\"total_income\"].count()\n",
    "very_high_income = data.loc[(42000 <= data[\"total_income\"])][\"total_income\"].count()\n",
    "\n",
    "print(\"people with very low income: {}\".format(very_low_income))\n",
    "print(\"people with low income: {}\".format(low_income))\n",
    "print(\"people with very middle income: {}\".format(middle_income))\n",
    "print(\"people with high income: {}\".format(high_income))\n",
    "print(\"people with very high income: {}\".format(very_high_income))\n",
    "\n"
   ]
  },
  {
   "cell_type": "markdown",
   "metadata": {},
   "source": [
    "<div class=\"alert alert-success\" role=\"alert\">\n",
    "Reviewer's comment v. 1:\n",
    "    \n",
    "Please note that you can avoid warnings (if necessary) by using the code below.\n",
    "</div>"
   ]
  },
  {
   "cell_type": "code",
   "execution_count": 46,
   "metadata": {},
   "outputs": [],
   "source": [
    "import sys\n",
    "import warnings\n",
    "if not sys.warnoptions:\n",
    "       warnings.simplefilter(\"ignore\")"
   ]
  },
  {
   "cell_type": "code",
   "execution_count": 47,
   "metadata": {},
   "outputs": [
    {
     "name": "stdout",
     "output_type": "stream",
     "text": [
      "   children  days_employed  dob_years            education  education_id  \\\n",
      "0       1.0    8437.673028       42.0    bachelor's degree             0   \n",
      "1       1.0    4024.803754       36.0  secondary education             1   \n",
      "2       0.0    5623.422610       33.0  secondary education             1   \n",
      "3       3.0    4124.747207       32.0  secondary education             1   \n",
      "4       0.0  340266.072047       53.0  secondary education             1   \n",
      "5       0.0     926.185831       27.0    bachelor's degree             0   \n",
      "6       0.0    2879.202052       43.0    bachelor's degree             0   \n",
      "7       0.0     152.779569       50.0  secondary education             1   \n",
      "8       2.0    6929.865299       35.0    bachelor's degree             0   \n",
      "9       0.0    2188.756445       41.0  secondary education             1   \n",
      "\n",
      "       family_status  family_status_id gender income_type  debt  total_income  \\\n",
      "0            married                 0      F    employee     0     40620.102   \n",
      "1            married                 0      F    employee     0     17932.802   \n",
      "2            married                 0      M    employee     0     23341.752   \n",
      "3            married                 0      M    employee     0     42820.568   \n",
      "4  civil partnership                 1      F     retiree     0     25378.572   \n",
      "5  civil partnership                 1      M    business     0     40922.170   \n",
      "6            married                 0      F    business     0     38484.156   \n",
      "7            married                 0      M    employee     0     21731.829   \n",
      "8  civil partnership                 1      F    employee     0     15337.093   \n",
      "9            married                 0      M    employee     0     23108.150   \n",
      "\n",
      "     purpose has_child(ren) married_or_onced_married income_level  \n",
      "0      house           True                     True         high  \n",
      "1        car           True                     True          low  \n",
      "2      house          False                     True       middle  \n",
      "3  education           True                     True    very high  \n",
      "4    wedding          False                    False       middle  \n",
      "5      house          False                    False         high  \n",
      "6      house          False                     True         high  \n",
      "7  education          False                     True          low  \n",
      "8    wedding           True                    False          low  \n",
      "9      house          False                     True       middle  \n"
     ]
    }
   ],
   "source": [
    "def income_level(total_income):\n",
    "    \n",
    "    if total_income < 12000:\n",
    "        return \"very low\"\n",
    "    elif 12000 <= total_income < 22000:\n",
    "        return \"low\"\n",
    "    elif 22000 <= total_income < 32000:\n",
    "        return \"middle\"\n",
    "    elif 32000 <= total_income < 42000:\n",
    "        return \"high\"\n",
    "    elif 42000 <= total_income:\n",
    "        return \"very high\"\n",
    "\n",
    "data[\"income_level\"] = data[\"total_income\"].apply(income_level)\n",
    "\n",
    "print(data.head(10))"
   ]
  },
  {
   "cell_type": "markdown",
   "metadata": {},
   "source": [
    "The \"purpose\"- column is already categorized because i summarized many values already as i removed duplicates."
   ]
  },
  {
   "cell_type": "markdown",
   "metadata": {},
   "source": [
    "<div class=\"alert alert-success\" role=\"alert\">\n",
    "Reviewer's comment v. 1:\n",
    "    \n",
    "You categorized the data correctly.\n",
    "</div>"
   ]
  },
  {
   "cell_type": "markdown",
   "metadata": {},
   "source": [
    "### Step 3. Answer these questions"
   ]
  },
  {
   "cell_type": "markdown",
   "metadata": {},
   "source": [
    "- Is there a relation between having kids and repaying a loan on time?"
   ]
  },
  {
   "cell_type": "markdown",
   "metadata": {},
   "source": [
    "To answer this, i devide the ammount of people, who have children and repaid a loan lately by the total number of people who have children (\"children\") and save it to the variable \"children_debt\". Analogous to this, i will create the variable \"no_children_debt\" and compare these two."
   ]
  },
  {
   "cell_type": "code",
   "execution_count": 41,
   "metadata": {},
   "outputs": [
    {
     "name": "stdout",
     "output_type": "stream",
     "text": [
      "The proportion of people, who repaid a loan lately and have children out of the people with children: 9.29%\n",
      "The proportion of people, who repaid a loan lately and have no children out of the people without children: 7.69%\n",
      "Someone who has children is 20.79% more likely to be in credit default than someone who does not have children.\n"
     ]
    }
   ],
   "source": [
    "children = len(data.loc[data[\"has_child(ren)\"] == \"True\"])\n",
    "\n",
    "\n",
    "no_children = len(data.loc[data[\"has_child(ren)\"] == \"False\"])\n",
    "\n",
    "\n",
    "\n",
    "children_debt = len(data.loc[(data[\"has_child(ren)\"] == \"True\") & (data[\"debt\"] == 1)]) / children\n",
    "\n",
    "no_children_debt = len(data.loc[(data[\"has_child(ren)\"] == \"False\") & (data[\"debt\"] == 1)]) / no_children\n",
    "\n",
    "print(\"The proportion of people, who repaid a loan lately and have children out of the people with children: {:.2%}\".format(children_debt))\n",
    "print(\"The proportion of people, who repaid a loan lately and have no children out of the people without children: {:.2%}\".format(no_children_debt))\n",
    "\n",
    "print(\"Someone who has children is {:.2%} more likely to be in credit default than someone who does not have children.\".format(children_debt/no_children_debt-1))\n"
   ]
  },
  {
   "cell_type": "markdown",
   "metadata": {},
   "source": [
    "<div class=\"alert alert-success\" role=\"alert\">\n",
    "Reviewer's comment v. 1:\n",
    "    \n",
    "An excellent analysis. However please note that you can also use a correlation function. The correlation function shows only linear dependecy between variables. Maybe this link will be interesting for you: https://machinelearningmastery.com/how-to-use-correlation-to-understand-the-relationship-between-variables/.\n",
    "</div>"
   ]
  },
  {
   "cell_type": "markdown",
   "metadata": {},
   "source": [
    "- Is there a relation between marital status and repaying a loan on time?"
   ]
  },
  {
   "cell_type": "markdown",
   "metadata": {},
   "source": [
    "To answer this, i devide the ammount of people, who are / were married and repaid a loan lately by the total number of people who are / were married and save it to the variable \"marriage_debt\". Analogous to this, i will create the variable \"not_married_debt\" and compare these two"
   ]
  },
  {
   "cell_type": "code",
   "execution_count": 42,
   "metadata": {},
   "outputs": [
    {
     "name": "stdout",
     "output_type": "stream",
     "text": [
      "The proportion of people, who repaid a loan lately and  are / were married out of the people, who are / were married: 7.58%\n",
      "The proportion of people, who repaid a loan lately and  were never married out of the people, who were never married: 9.58%\n",
      "Someone who has never been married is 26.46% more likely to have entered into a loan default than someone who has been or is married.\n"
     ]
    }
   ],
   "source": [
    "marriage = len(data.loc[data[\"married_or_onced_married\"] == \"True\"])\n",
    "\n",
    "\n",
    "no_marriage = len(data.loc[data[\"married_or_onced_married\"] == \"False\"])\n",
    "\n",
    "\n",
    "\n",
    "marriage_debt = len(data.loc[(data[\"married_or_onced_married\"] == \"True\") & (data[\"debt\"] == 1)]) / marriage\n",
    "\n",
    "no_marriage_debt = len(data.loc[(data[\"married_or_onced_married\"] == \"False\") & (data[\"debt\"] == 1)]) / no_marriage\n",
    "\n",
    "print(\"The proportion of people, who repaid a loan lately and  are / were married out of the people, who are / were married: {:.2%}\".format(marriage_debt))\n",
    "print(\"The proportion of people, who repaid a loan lately and  were never married out of the people, who were never married: {:.2%}\".format(no_marriage_debt))\n",
    "print(\"Someone who has never been married is {:.2%} more likely to have entered into a loan default than someone who has been or is married.\".format(no_marriage_debt/marriage_debt-1))\n"
   ]
  },
  {
   "cell_type": "markdown",
   "metadata": {},
   "source": [
    "<div class=\"alert alert-success\" role=\"alert\">\n",
    "Reviewer's comment v. 1:\n",
    "    \n",
    "Yes, it's interesting result.\n",
    "</div>"
   ]
  },
  {
   "cell_type": "markdown",
   "metadata": {},
   "source": [
    "- Is there a relation between income level and repaying a loan on time?"
   ]
  },
  {
   "cell_type": "markdown",
   "metadata": {},
   "source": [
    "To answer this, I divide the number of people who have a very low income and once fell into credit default by the total number of people who have a very low income and store this in the variable \"very_low_income_debt\"\n",
    "analogously, I create the variables \"low_income_debt\", \"middle_income_debt\", \"high_income_debt\" and \"very_high_income_debt\" and compare them with each other."
   ]
  },
  {
   "cell_type": "code",
   "execution_count": 43,
   "metadata": {},
   "outputs": [
    {
     "name": "stdout",
     "output_type": "stream",
     "text": [
      "people with very low income: 1865\n",
      "people with low income: 6970\n",
      "people with middle income: 6723\n",
      "people with high income: 3203\n",
      "people with very high income: 2359\n",
      "\n",
      "The percentage of people who have very low incomes and were once in credit default: 7.29%\n",
      "The percentage of people who have low incomes and were once in credit default: 8.51%\n",
      "The percentage of people who have middle incomes and were once in credit default: 9.31%\n",
      "The percentage of people who have high incomes and were once in credit default: 6.90%\n",
      "The percentage of people who have very high incomes and were once in credit default: 6.91%\n",
      "\n",
      "Compared to those with middle incomes, those with...\n",
      "very low incomes are -21.68% less likely to be in credit default.\n",
      "low incomes are -8.63% less likely to be in credit default.\n",
      "high incomes are -25.90% less likely to be in credit default.\n",
      "very high incomes are -25.79% less likely to be in credit default.\n"
     ]
    }
   ],
   "source": [
    "very_low_income = data.loc[data[\"total_income\"] < 12000][\"total_income\"].count()\n",
    "low_income = data.loc[(12000 <= data[\"total_income\"]) & (data[\"total_income\"] < 22000)][\"total_income\"].count()\n",
    "middle_income =data.loc[(22000 <= data[\"total_income\"]) & (data[\"total_income\"] < 32000)][\"total_income\"].count()\n",
    "high_income = data.loc[(32000 <= data[\"total_income\"]) & (data[\"total_income\"] < 42000)][\"total_income\"].count()\n",
    "very_high_income = data.loc[(42000 <= data[\"total_income\"])][\"total_income\"].count()\n",
    "\n",
    "very_low_income_debt = len(data.loc[(data[\"income_level\"] == \"very low\") & (data[\"debt\"] == 1)]) / very_low_income\n",
    "low_income_debt = len(data.loc[(data[\"income_level\"] == \"low\") & (data[\"debt\"] == 1)]) / low_income\n",
    "middle_income_debt = len(data.loc[(data[\"income_level\"] == \"middle\") & (data[\"debt\"] == 1)]) / middle_income\n",
    "high_income_debt = len(data.loc[(data[\"income_level\"] == \"high\") & (data[\"debt\"] == 1)]) / high_income\n",
    "very_high_income_debt = len(data.loc[(data[\"income_level\"] == \"very high\") & (data[\"debt\"] == 1)]) / very_high_income\n",
    "\n",
    "\n",
    "print(\"people with very low income: {}\".format(very_low_income))\n",
    "print(\"people with low income: {}\".format(low_income))\n",
    "print(\"people with middle income: {}\".format(middle_income))\n",
    "print(\"people with high income: {}\".format(high_income))\n",
    "print(\"people with very high income: {}\".format(very_high_income))\n",
    "print()\n",
    "print(\"The percentage of people who have very low incomes and were once in credit default: {:.2%}\".format(very_low_income_debt))\n",
    "print(\"The percentage of people who have low incomes and were once in credit default: {:.2%}\".format(low_income_debt))\n",
    "print(\"The percentage of people who have middle incomes and were once in credit default: {:.2%}\".format(middle_income_debt))\n",
    "print(\"The percentage of people who have high incomes and were once in credit default: {:.2%}\".format(high_income_debt))\n",
    "print(\"The percentage of people who have very high incomes and were once in credit default: {:.2%}\".format(very_high_income_debt))\n",
    "print()\n",
    "print(\"Compared to those with middle incomes, those with...\")\n",
    "print(\"very low incomes are {:.2%} less likely to be in credit default.\".format(very_low_income_debt / middle_income_debt-1))\n",
    "print(\"low incomes are {:.2%} less likely to be in credit default.\".format(low_income_debt / middle_income_debt-1))\n",
    "print(\"high incomes are {:.2%} less likely to be in credit default.\".format(high_income_debt / middle_income_debt-1))\n",
    "print(\"very high incomes are {:.2%} less likely to be in credit default.\".format(very_high_income_debt / middle_income_debt-1))\n",
    "\n"
   ]
  },
  {
   "cell_type": "markdown",
   "metadata": {},
   "source": [
    "This means that middle-income people are the most likely to default on their loans, followed by low-income people, very low-income people, high-income people and very high-income people. As we can see, there is no clear pattern."
   ]
  },
  {
   "cell_type": "markdown",
   "metadata": {},
   "source": [
    "<div class=\"alert alert-success\" role=\"alert\">\n",
    "Reviewer's comment v. 1:\n",
    "    \n",
    "Yes, it's interesting result that middle-income people are the most likely to default on their loans. Could you please try to explain it?\n",
    "</div>"
   ]
  },
  {
   "cell_type": "markdown",
   "metadata": {},
   "source": []
  },
  {
   "cell_type": "markdown",
   "metadata": {},
   "source": [
    "- How do different loan purposes affect on-time repayment of the loan?"
   ]
  },
  {
   "cell_type": "code",
   "execution_count": 44,
   "metadata": {},
   "outputs": [
    {
     "name": "stdout",
     "output_type": "stream",
     "text": [
      "house        10578\n",
      "car           4272\n",
      "education     3964\n",
      "wedding       2306\n",
      "Name: purpose, dtype: int64\n"
     ]
    }
   ],
   "source": [
    "print(data[\"purpose\"].value_counts())"
   ]
  },
  {
   "cell_type": "markdown",
   "metadata": {},
   "source": [
    "To answer this, I divide the number of people who have specified \"house\" as the purpose and have defaulted once by the total number of people who have specified \"marriage\" as the purpose and store the result in the variable \"wedding_debt\".\n",
    "Similarly, I create the variables \"car_debt\", \"education_debt\" and \"wedding\" and compare them with each other."
   ]
  },
  {
   "cell_type": "code",
   "execution_count": 45,
   "metadata": {},
   "outputs": [
    {
     "name": "stdout",
     "output_type": "stream",
     "text": [
      "The percentage of people who indicated 'house' as their purpose and were once in credit default: 7.38%\n",
      "The percentage of people who indicated 'car' as their purpose and were once in credit default: 9.41%\n",
      "The percentage of people who indicated 'education' as their purpose and were once in credit default: 9.33%\n",
      "The percentage of people who indicated 'wedding' as their purpose and were once in credit default: 8.07%\n",
      "\n",
      "Compared to those who indicated 'house' as their purpose, those who indicated...\n",
      "'car' as their purpose were 27.45% more likely to be in loan default.\n",
      "'education' as their purpose were 26.42% more likely to be in loan default.\n",
      "'wedding' as their purpose were 9.25% more likely to be in loan default.\n"
     ]
    }
   ],
   "source": [
    "house = len(data.loc[data[\"purpose\"] == \"house\"])\n",
    "car = len(data.loc[data[\"purpose\"] == \"car\"])\n",
    "education = len(data.loc[data[\"purpose\"] == \"education\"])\n",
    "wedding = len(data.loc[data[\"purpose\"] == \"wedding\"])\n",
    "\n",
    "house_debt = len(data.loc[(data[\"purpose\"] == \"house\") & (data[\"debt\"] == 1)]) / house\n",
    "car_debt = len(data.loc[(data[\"purpose\"] == \"car\") & (data[\"debt\"] == 1)]) / car\n",
    "education_debt = len(data.loc[(data[\"purpose\"] == \"education\") & (data[\"debt\"] == 1)]) / education\n",
    "wedding_debt = len(data.loc[(data[\"purpose\"] == \"wedding\") & (data[\"debt\"] == 1)]) / wedding\n",
    "\n",
    "\n",
    "print(\"The percentage of people who indicated 'house' as their purpose and were once in credit default: {:.2%}\".format(house_debt))\n",
    "print(\"The percentage of people who indicated 'car' as their purpose and were once in credit default: {:.2%}\".format(car_debt))\n",
    "print(\"The percentage of people who indicated 'education' as their purpose and were once in credit default: {:.2%}\".format(education_debt))\n",
    "print(\"The percentage of people who indicated 'wedding' as their purpose and were once in credit default: {:.2%}\".format(wedding_debt))\n",
    "\n",
    "print()\n",
    "\n",
    "print(\"Compared to those who indicated 'house' as their purpose, those who indicated...\")\n",
    "print(\"'car' as their purpose were {:.2%} more likely to be in loan default.\".format(car_debt / house_debt - 1))\n",
    "print(\"'education' as their purpose were {:.2%} more likely to be in loan default.\".format(education_debt / house_debt - 1))      \n",
    "print(\"'wedding' as their purpose were {:.2%} more likely to be in loan default.\".format(wedding_debt / house_debt - 1))\n"
   ]
  },
  {
   "cell_type": "markdown",
   "metadata": {},
   "source": [
    "People who listed \"car\" as their purpose were most likely to default on their loans, followed by \"education,\" \"wedding\" and \"house\"."
   ]
  },
  {
   "cell_type": "markdown",
   "metadata": {},
   "source": [
    "<div class=\"alert alert-success\" role=\"alert\">\n",
    "Reviewer's comment v. 1:\n",
    "    \n",
    "It's great that you analysed data in details :)\n",
    "</div>"
   ]
  },
  {
   "cell_type": "markdown",
   "metadata": {},
   "source": []
  },
  {
   "cell_type": "markdown",
   "metadata": {},
   "source": [
    "### Step 4. General conclusion"
   ]
  },
  {
   "cell_type": "markdown",
   "metadata": {},
   "source": [
    "In this dataset, there were missing values, duplicates and wrong values like negative or unrealistic values. Especially the column \"days_employed\" can only be evaluated very difficult, because of the unrealistic values already mentioned above.\n",
    "\n",
    "The questions of this task were whether there is a relationship between on-time repayment of a loan and certain variables.\n",
    "Summarizing you can say, that these properties were most closely related to credit default:\n",
    "\n",
    "having childs, not being married, middle-income level and car as purpose for the loan."
   ]
  },
  {
   "cell_type": "markdown",
   "metadata": {},
   "source": [
    "<div class=\"alert alert-success\" role=\"alert\">\n",
    "Reviewer's comment v. 1:\n",
    "    \n",
    "An excellent conclusion which highlights all the main results of the project. Definitely this information will be useful for a bank’s loan division.\n",
    "</div>"
   ]
  },
  {
   "cell_type": "markdown",
   "metadata": {},
   "source": [
    "### Project Readiness Checklist\n",
    "\n",
    "Put 'x' in the completed points. Then press Shift + Enter."
   ]
  },
  {
   "cell_type": "markdown",
   "metadata": {},
   "source": [
    "- [x]  file open;\n",
    "- [x]  file examined;\n",
    "- [x]  missing values defined;\n",
    "- [x]  missing values are filled;\n",
    "- [x]  an explanation of which missing value types were detected;\n",
    "- [x]  explanation for the possible causes of missing values;\n",
    "- [x]  an explanation of how the blanks are filled;\n",
    "- [ ]  replaced the real data type with an integer;\n",
    "- [ ]  an explanation of which method is used to change the data type and why;\n",
    "- [x]  duplicates deleted;\n",
    "- [x]  an explanation of which method is used to find and remove duplicates;\n",
    "- [x]  description of the possible reasons for the appearance of duplicates in the data;\n",
    "- [x]  data is categorized;\n",
    "- [x]  an explanation of the principle of data categorization;\n",
    "- [x]  an answer to the question \"Is there a relation between having kids and repaying a loan on time?\";\n",
    "- [x]  an answer to the question \" Is there a relation between marital status and repaying a loan on time?\";\n",
    "- [x]   an answer to the question \" Is there a relation between income level and repaying a loan on time?\";\n",
    "- [x]  an answer to the question \" How do different loan purposes affect on-time repayment of the loan?\"\n",
    "- [x]  conclusions are present on each stage;\n",
    "- [x]  a general conclusion is made."
   ]
  }
 ],
 "metadata": {
  "kernelspec": {
   "display_name": "Python 3 (ipykernel)",
   "language": "python",
   "name": "python3"
  },
  "language_info": {
   "codemirror_mode": {
    "name": "ipython",
    "version": 3
   },
   "file_extension": ".py",
   "mimetype": "text/x-python",
   "name": "python",
   "nbconvert_exporter": "python",
   "pygments_lexer": "ipython3",
   "version": "3.9.5"
  },
  "toc": {
   "base_numbering": 1,
   "nav_menu": {},
   "number_sections": true,
   "sideBar": true,
   "skip_h1_title": true,
   "title_cell": "Table of Contents",
   "title_sidebar": "Contents",
   "toc_cell": false,
   "toc_position": {},
   "toc_section_display": true,
   "toc_window_display": false
  }
 },
 "nbformat": 4,
 "nbformat_minor": 2
}
